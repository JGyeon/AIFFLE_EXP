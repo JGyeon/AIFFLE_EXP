{
 "cells": [
  {
   "cell_type": "markdown",
   "id": "8ab38bfa",
   "metadata": {},
   "source": [
    "# EXP6 네이버 영화 리뷰 감정 분석 도전하기! \n",
    "\n",
    "\n",
    "* exp도 어느새 6번으로 접어들었다. 이번시간에는 텍스트 데이터를 벡터화 해, 텍스트 데이터를 워드 임베딩이 무엇인가에 대해 배우고, IMDB 데이터셋과 구글의 Word2Vec 을 가져와 모델을 학습시켜보고, 제시한 단어와 비슷한 단어를 유추하는 모델을 만들어 보았다.   \n",
    "\n",
    "\n",
    "* 예제에서 했던 부분을 응용해, 네이버 영화 리뷰의 감성분석을 하는 모델을 만들어보자. "
   ]
  },
  {
   "cell_type": "markdown",
   "id": "b9059adb",
   "metadata": {},
   "source": [
    "----\n",
    "\n",
    "\n"
   ]
  },
  {
   "attachments": {
    "image.png": {
     "image/png": "[encoded data removed]"
    }
   },
   "cell_type": "markdown",
   "id": "6ee9e6a2",
   "metadata": {},
   "source": [
    "# 루브릭 평가 기준 \n",
    "\n",
    "![image.png](attachment:image.png)"
   ]
  },
  {
   "cell_type": "markdown",
   "id": "b02c6f58",
   "metadata": {},
   "source": [
    "\n",
    "\n",
    "----\n",
    "\n"
   ]
  },
  {
   "cell_type": "markdown",
   "id": "3c69e7a0",
   "metadata": {},
   "source": [
    "# 목차 \n",
    "\n",
    "## 1. 데이터 준비와 확인¶\n",
    "\n",
    "## 2. 데이터로더 구성\n",
    "\n",
    "## 3. 모델 구성을 위한 데이터\n",
    "\n",
    "## 4. 모델 구성 및 validation set 구성\n",
    "\n",
    "## 5. 모델 훈련 개시\n",
    "\n",
    "## 6. Loss, Accuracy 그래프 시각화\n",
    "\n",
    "## 7. 학습된 Embedding 레이어 분석\n",
    "\n",
    "## 8. 한국어 Word2Vec 임베딩 활용하여 성능 개선\n",
    "\n",
    "## Exp를 마무리 하며\n",
    "\n",
    "## 참고 페이지"
   ]
  },
  {
   "cell_type": "markdown",
   "id": "22cbf7ca",
   "metadata": {},
   "source": [
    "\n",
    "\n",
    "----\n",
    "\n",
    "\n"
   ]
  },
  {
   "cell_type": "markdown",
   "id": "0d71519e",
   "metadata": {},
   "source": [
    "# 1. 데이터 준비와 확인\n"
   ]
  },
  {
   "cell_type": "markdown",
   "id": "419f8a9d",
   "metadata": {},
   "source": [
    "* 이번 프로젝트에서 활용할 데이터셋은 네이버 영화의 댓글을 모아 구성된    [Naver sentiment movie corpus](https://github.com/e9t/nsmc) 입니다. \n",
    "\n",
    "\n",
    "* 파일 다운로드 필요 없이, ```cloud shell``` 에서 해당 파일의 심볼릭 링크를 연결합니다. "
   ]
  },
  {
   "cell_type": "code",
   "execution_count": 8,
   "id": "58f31ebc",
   "metadata": {},
   "outputs": [],
   "source": [
    "# 심볼릭 링크 연결 \n",
    "# $ ln -s ~/data/*.txt ~/aiffel/sentiment_classification/data"
   ]
  },
  {
   "cell_type": "code",
   "execution_count": 282,
   "id": "15377768",
   "metadata": {},
   "outputs": [],
   "source": [
    "# 필요한 모듈 모아보기! \n",
    "\n",
    "import pandas as pd\n",
    "from pandas import DataFrame as df \n",
    "import numpy as np\n",
    "import matplotlib.pyplot as plt\n",
    "\n",
    "from konlpy.tag import Mecab # 형태소 분석기 \n",
    "#문자열이나 list 요소를 카운팅하여 많은 순으로 딕셔너리 형태로 리턴하는 모듈 \n",
    "from collections import Counter  \n",
    "\n",
    "from gensim.models.keyedvectors import Word2VecKeyedVectors\n",
    "from gensim.models import KeyedVectors\n",
    "\n",
    "import tensorflow as tf\n",
    "import os \n",
    "\n",
    "from sklearn.metrics import accuracy_score\n",
    "from sklearn.metrics import classification_report\n",
    "\n",
    "from tensorflow.keras.initializers import Constant\n",
    "from tensorflow.keras.layers import Dropout, Dense"
   ]
  },
  {
   "cell_type": "code",
   "execution_count": 10,
   "id": "8c8f5fda",
   "metadata": {},
   "outputs": [
    {
     "data": {
      "text/html": [
       "<div>\n",
       "<style scoped>\n",
       "    .dataframe tbody tr th:only-of-type {\n",
       "        vertical-align: middle;\n",
       "    }\n",
       "\n",
       "    .dataframe tbody tr th {\n",
       "        vertical-align: top;\n",
       "    }\n",
       "\n",
       "    .dataframe thead th {\n",
       "        text-align: right;\n",
       "    }\n",
       "</style>\n",
       "<table border=\"1\" class=\"dataframe\">\n",
       "  <thead>\n",
       "    <tr style=\"text-align: right;\">\n",
       "      <th></th>\n",
       "      <th>id</th>\n",
       "      <th>document</th>\n",
       "      <th>label</th>\n",
       "    </tr>\n",
       "  </thead>\n",
       "  <tbody>\n",
       "    <tr>\n",
       "      <th>0</th>\n",
       "      <td>9976970</td>\n",
       "      <td>아 더빙.. 진짜 짜증나네요 목소리</td>\n",
       "      <td>0</td>\n",
       "    </tr>\n",
       "    <tr>\n",
       "      <th>1</th>\n",
       "      <td>3819312</td>\n",
       "      <td>흠...포스터보고 초딩영화줄....오버연기조차 가볍지 않구나</td>\n",
       "      <td>1</td>\n",
       "    </tr>\n",
       "    <tr>\n",
       "      <th>2</th>\n",
       "      <td>10265843</td>\n",
       "      <td>너무재밓었다그래서보는것을추천한다</td>\n",
       "      <td>0</td>\n",
       "    </tr>\n",
       "    <tr>\n",
       "      <th>3</th>\n",
       "      <td>9045019</td>\n",
       "      <td>교도소 이야기구먼 ..솔직히 재미는 없다..평점 조정</td>\n",
       "      <td>0</td>\n",
       "    </tr>\n",
       "    <tr>\n",
       "      <th>4</th>\n",
       "      <td>6483659</td>\n",
       "      <td>사이몬페그의 익살스런 연기가 돋보였던 영화!스파이더맨에서 늙어보이기만 했던 커스틴 ...</td>\n",
       "      <td>1</td>\n",
       "    </tr>\n",
       "    <tr>\n",
       "      <th>5</th>\n",
       "      <td>5403919</td>\n",
       "      <td>막 걸음마 뗀 3세부터 초등학교 1학년생인 8살용영화.ㅋㅋㅋ...별반개도 아까움.</td>\n",
       "      <td>0</td>\n",
       "    </tr>\n",
       "    <tr>\n",
       "      <th>6</th>\n",
       "      <td>7797314</td>\n",
       "      <td>원작의 긴장감을 제대로 살려내지못했다.</td>\n",
       "      <td>0</td>\n",
       "    </tr>\n",
       "    <tr>\n",
       "      <th>7</th>\n",
       "      <td>9443947</td>\n",
       "      <td>별 반개도 아깝다 욕나온다 이응경 길용우 연기생활이몇년인지..정말 발로해도 그것보단...</td>\n",
       "      <td>0</td>\n",
       "    </tr>\n",
       "    <tr>\n",
       "      <th>8</th>\n",
       "      <td>7156791</td>\n",
       "      <td>액션이 없는데도 재미 있는 몇안되는 영화</td>\n",
       "      <td>1</td>\n",
       "    </tr>\n",
       "    <tr>\n",
       "      <th>9</th>\n",
       "      <td>5912145</td>\n",
       "      <td>왜케 평점이 낮은건데? 꽤 볼만한데.. 헐리우드식 화려함에만 너무 길들여져 있나?</td>\n",
       "      <td>1</td>\n",
       "    </tr>\n",
       "    <tr>\n",
       "      <th>10</th>\n",
       "      <td>9008700</td>\n",
       "      <td>걍인피니트가짱이다.진짜짱이다♥</td>\n",
       "      <td>1</td>\n",
       "    </tr>\n",
       "    <tr>\n",
       "      <th>11</th>\n",
       "      <td>10217543</td>\n",
       "      <td>볼때마다 눈물나서 죽겠다90년대의 향수자극!!허진호는 감성절제멜로의 달인이다~</td>\n",
       "      <td>1</td>\n",
       "    </tr>\n",
       "    <tr>\n",
       "      <th>12</th>\n",
       "      <td>5957425</td>\n",
       "      <td>울면서 손들고 횡단보도 건널때 뛰쳐나올뻔 이범수 연기 드럽게못해</td>\n",
       "      <td>0</td>\n",
       "    </tr>\n",
       "    <tr>\n",
       "      <th>13</th>\n",
       "      <td>8628627</td>\n",
       "      <td>담백하고 깔끔해서 좋다. 신문기사로만 보다 보면 자꾸 잊어버린다. 그들도 사람이었다...</td>\n",
       "      <td>1</td>\n",
       "    </tr>\n",
       "    <tr>\n",
       "      <th>14</th>\n",
       "      <td>9864035</td>\n",
       "      <td>취향은 존중한다지만 진짜 내생에 극장에서 본 영화중 가장 노잼 노감동임 스토리도 어...</td>\n",
       "      <td>0</td>\n",
       "    </tr>\n",
       "    <tr>\n",
       "      <th>15</th>\n",
       "      <td>6852435</td>\n",
       "      <td>ㄱ냥 매번 긴장되고 재밋음ㅠㅠ</td>\n",
       "      <td>1</td>\n",
       "    </tr>\n",
       "    <tr>\n",
       "      <th>16</th>\n",
       "      <td>9143163</td>\n",
       "      <td>참 사람들 웃긴게 바스코가 이기면 락스코라고 까고바비가 이기면 아이돌이라고 깐다.그...</td>\n",
       "      <td>1</td>\n",
       "    </tr>\n",
       "    <tr>\n",
       "      <th>17</th>\n",
       "      <td>4891476</td>\n",
       "      <td>굿바이 레닌 표절인것은 이해하는데 왜 뒤로 갈수록 재미없어지냐</td>\n",
       "      <td>0</td>\n",
       "    </tr>\n",
       "    <tr>\n",
       "      <th>18</th>\n",
       "      <td>7465483</td>\n",
       "      <td>이건 정말 깨알 캐스팅과 질퍽하지않은 산뜻한 내용구성이 잘 버무러진 깨알일드!!♥</td>\n",
       "      <td>1</td>\n",
       "    </tr>\n",
       "    <tr>\n",
       "      <th>19</th>\n",
       "      <td>3989148</td>\n",
       "      <td>약탈자를 위한 변명, 이라. 저놈들은 착한놈들 절대 아닌걸요.</td>\n",
       "      <td>1</td>\n",
       "    </tr>\n",
       "  </tbody>\n",
       "</table>\n",
       "</div>"
      ],
      "text/plain": [
       "          id                                           document  label\n",
       "0    9976970                                아 더빙.. 진짜 짜증나네요 목소리      0\n",
       "1    3819312                  흠...포스터보고 초딩영화줄....오버연기조차 가볍지 않구나      1\n",
       "2   10265843                                  너무재밓었다그래서보는것을추천한다      0\n",
       "3    9045019                      교도소 이야기구먼 ..솔직히 재미는 없다..평점 조정      0\n",
       "4    6483659  사이몬페그의 익살스런 연기가 돋보였던 영화!스파이더맨에서 늙어보이기만 했던 커스틴 ...      1\n",
       "5    5403919      막 걸음마 뗀 3세부터 초등학교 1학년생인 8살용영화.ㅋㅋㅋ...별반개도 아까움.      0\n",
       "6    7797314                              원작의 긴장감을 제대로 살려내지못했다.      0\n",
       "7    9443947  별 반개도 아깝다 욕나온다 이응경 길용우 연기생활이몇년인지..정말 발로해도 그것보단...      0\n",
       "8    7156791                             액션이 없는데도 재미 있는 몇안되는 영화      1\n",
       "9    5912145      왜케 평점이 낮은건데? 꽤 볼만한데.. 헐리우드식 화려함에만 너무 길들여져 있나?      1\n",
       "10   9008700                                   걍인피니트가짱이다.진짜짱이다♥      1\n",
       "11  10217543        볼때마다 눈물나서 죽겠다90년대의 향수자극!!허진호는 감성절제멜로의 달인이다~      1\n",
       "12   5957425                울면서 손들고 횡단보도 건널때 뛰쳐나올뻔 이범수 연기 드럽게못해      0\n",
       "13   8628627  담백하고 깔끔해서 좋다. 신문기사로만 보다 보면 자꾸 잊어버린다. 그들도 사람이었다...      1\n",
       "14   9864035  취향은 존중한다지만 진짜 내생에 극장에서 본 영화중 가장 노잼 노감동임 스토리도 어...      0\n",
       "15   6852435                                   ㄱ냥 매번 긴장되고 재밋음ㅠㅠ      1\n",
       "16   9143163  참 사람들 웃긴게 바스코가 이기면 락스코라고 까고바비가 이기면 아이돌이라고 깐다.그...      1\n",
       "17   4891476                 굿바이 레닌 표절인것은 이해하는데 왜 뒤로 갈수록 재미없어지냐      0\n",
       "18   7465483      이건 정말 깨알 캐스팅과 질퍽하지않은 산뜻한 내용구성이 잘 버무러진 깨알일드!!♥      1\n",
       "19   3989148                 약탈자를 위한 변명, 이라. 저놈들은 착한놈들 절대 아닌걸요.      1"
      ]
     },
     "execution_count": 10,
     "metadata": {},
     "output_type": "execute_result"
    }
   ],
   "source": [
    "#연결이 잘 됬는지, 읽어와 봅시다!\n",
    "\n",
    "\n",
    "# 데이터를 읽어봅시다. \n",
    "train_data = pd.read_table('~/aiffel/sentiment_classification/data/ratings_train.txt')\n",
    "test_data = pd.read_table('~/aiffel/sentiment_classification/data/ratings_test.txt')\n",
    "\n",
    "train_data[:20]"
   ]
  },
  {
   "cell_type": "markdown",
   "id": "a65aa1e3",
   "metadata": {},
   "source": [
    "\n",
    "\n"
   ]
  },
  {
   "attachments": {
    "image-2.png": {
     "image/png": "[encoded data removed]"
    },
    "image.png": {
     "image/png": "[encoded data removed]"
    }
   },
   "cell_type": "markdown",
   "id": "03be52b2",
   "metadata": {},
   "source": [
    "## 1-2 데이터셋 정보 확인하기 \n",
    "\n",
    "![image.png](attachment:image.png)\n",
    "![image-2.png](attachment:image-2.png)"
   ]
  },
  {
   "cell_type": "markdown",
   "id": "c8b8ae82",
   "metadata": {},
   "source": [
    "* 특성은 ```id```, ```document```, ```label``` 총 3가지. \n",
    "    * id : 리뷰 쓴 사람의 id를 숫자로 적어둔 것 같음\n",
    "    * document : 리뷰 내용 \n",
    "    * label : target data, 리뷰에대한 라벨이 달려있음. (긍정 : 1, 부정 : 0) \n",
    "\n",
    "\n",
    "* NSMC 데이터셋은 총 200K, 20만개, test데이터 5만개, train data 15만개로 이루어졌다. \n",
    "    * 20만개의 총 데이터 셋 중 긍정 리뷰와 부정 리뷰의 데이터 비율은 1:1.  \n",
    "\n",
    "* document의 글자수는 140자보다 작다. \n"
   ]
  },
  {
   "cell_type": "markdown",
   "id": "c49f07f5",
   "metadata": {},
   "source": [
    "\n",
    "\n",
    "----\n",
    "\n",
    "\n"
   ]
  },
  {
   "cell_type": "markdown",
   "id": "0387b573",
   "metadata": {},
   "source": [
    "# 2. 데이터로더 구성\n",
    "\n",
    "* word_to_index 및 여러 편의 기능을 제공하던 IMDB 데이터셋과는 달리, NSMC 데이터셋은 전-혀 가공되지않은 텍스트 파일로 이루어져있기 때문에, LMS 안에서 했던 과정을 직접 해 줘야..합니다.. \n",
    "\n",
    "* 만, 하나하나 짜기엔 어려움이 있어, 예시 문항에 있는 코드를 빌려와서 무슨 역할을 하는지 주석 처리 해 보았습니다.\n",
    "\n",
    "\n",
    "    * 데이터의 중복 제거 v\n",
    "    * NaN 결측치 제거 v\n",
    "    * 한국어 토크나이저로 토큰화 v\n",
    "    * 불용어(Stopwords) 제거 v\n",
    "    * 사전word_to_index 구성 v\n",
    "    * 텍스트 스트링을 사전 인덱스 스트링으로 변환 v\n",
    "    * X_train, y_train, X_test, y_test, word_to_index 리턴 v"
   ]
  },
  {
   "cell_type": "code",
   "execution_count": 11,
   "id": "55b180f8",
   "metadata": {
    "scrolled": false
   },
   "outputs": [
    {
     "name": "stdout",
     "output_type": "stream",
     "text": [
      "아따 길구만!\n"
     ]
    }
   ],
   "source": [
    "tokenizer = Mecab()\n",
    "stopwords = ['의','가','이','은','들','는','좀','잘','걍','과','도','를','으로','자','에','와','한','하다']\n",
    "\n",
    "def load_data(train_data, test_data, num_words=10000):\n",
    "    # 단어 사전에 등재할 단어 개수 10,000개 \n",
    "    # drop_duplicates : 데이터의 중복 제거 , dropna : NaN 결측치 제거 \n",
    "    train_data.drop_duplicates(subset=['document'], inplace=True)\n",
    "    train_data = train_data.dropna(how = 'any') \n",
    "    test_data.drop_duplicates(subset=['document'], inplace=True)\n",
    "    test_data = test_data.dropna(how = 'any') \n",
    "    \n",
    "    X_train = []\n",
    "    for sentence in train_data['document']:\n",
    "        temp_X = tokenizer.morphs(sentence) # 토큰화\n",
    "        temp_X = [word for word in temp_X if not word in stopwords] # 불용어 제거\n",
    "        X_train.append(temp_X)\n",
    "\n",
    "    X_test = []\n",
    "    for sentence in test_data['document']:\n",
    "        temp_X = tokenizer.morphs(sentence) # 토큰화\n",
    "        temp_X = [word for word in temp_X if not word in stopwords] # 불용어 제거\n",
    "        X_test.append(temp_X)\n",
    "\n",
    "    #사전word_to_index 구성 \n",
    "    words = np.concatenate(X_train).tolist()\n",
    "    counter = Counter(words)\n",
    "    counter = counter.most_common(10000-4)\n",
    "    #vocab에 0 = 패딩용 단어, 1 = 문장의 시작지점, 2 = 사전에 없는 단어 라벨링. \n",
    "    vocab = ['<PAD>', '<BOS>', '<UNK>','<UNUSED>'] + [key for key, _ in counter]\n",
    "    word_to_index = {word:index for index, word in enumerate(vocab)}\n",
    "    \n",
    "    # word_to_index에 들어있는 단어가 아니라면 <UNK>를 붙여주세요 \n",
    "    def wordlist_to_indexlist(wordlist):\n",
    "        return [word_to_index[word] if word in word_to_index else word_to_index['<UNK>'] for word in wordlist]\n",
    "        \n",
    "    X_train = list(map(wordlist_to_indexlist, X_train))\n",
    "    X_test = list(map(wordlist_to_indexlist, X_test))\n",
    "        \n",
    "    return X_train, np.array(list(train_data['label'])), X_test, np.array(list(test_data['label'])), word_to_index\n",
    "\n",
    "# 학습용, test용 데이터 나누기    \n",
    "X_train, y_train, X_test, y_test, word_to_index = load_data(train_data, test_data) \n",
    "\n",
    "# 텍스트 스트링을 사전 인덱스 스트링으로 변환\n",
    "index_to_word = {index:word for word, index in word_to_index.items()}\n",
    "\n",
    "print('아따 길구만!')"
   ]
  },
  {
   "cell_type": "code",
   "execution_count": 12,
   "id": "73e22e89",
   "metadata": {},
   "outputs": [],
   "source": [
    "# 문장 1개를 활용할 딕셔너리와 함께 주면, 단어 인덱스 리스트 벡터로 변환해 주는 함수입니다. \n",
    "# 단, 모든 문장은 <BOS>로 시작하는 것으로 합니다. \n",
    "def get_encoded_sentence(sentence, word_to_index):\n",
    "    return [word_to_index['<BOS>']]+[word_to_index[word] if word in word_to_index else word_to_index['<UNK>'] for word in sentence.split()]\n",
    "\n",
    "# 여러 개의 문장 리스트를 한꺼번에 단어 인덱스 리스트 벡터로 encode해 주는 함수입니다. \n",
    "def get_encoded_sentences(sentences, word_to_index):\n",
    "    return [get_encoded_sentence(sentence, word_to_index) for sentence in sentences]\n",
    "\n",
    "# 숫자 벡터로 encode된 문장을 원래대로 decode하는 함수입니다. \n",
    "def get_decoded_sentence(encoded_sentence, index_to_word):\n",
    "    return ' '.join(index_to_word[index] if index in index_to_word else '<UNK>' for index in encoded_sentence[1:])  #[1:]를 통해 <BOS>를 제외\n",
    "\n",
    "# 여러 개의 숫자 벡터로 encode된 문장을 한꺼번에 원래대로 decode하는 함수입니다. \n",
    "def get_decoded_sentences(encoded_sentences, index_to_word):\n",
    "    return [get_decoded_sentence(encoded_sentence, index_to_word) for encoded_sentence in encoded_sentences]"
   ]
  },
  {
   "cell_type": "code",
   "execution_count": 13,
   "id": "bb62118d",
   "metadata": {},
   "outputs": [
    {
     "data": {
      "text/plain": [
       "{'<PAD>': 0,\n",
       " '<BOS>': 1,\n",
       " '<UNK>': 2,\n",
       " '<UNUSED>': 3,\n",
       " '.': 4,\n",
       " '영화': 5,\n",
       " '다': 6,\n",
       " '고': 7,\n",
       " '하': 8,\n",
       " '을': 9,\n",
       " '보': 10,\n",
       " '..': 11,\n",
       " '게': 12,\n",
       " ',': 13,\n",
       " '!': 14,\n",
       " '지': 15,\n",
       " '있': 16,\n",
       " '없': 17,\n",
       " '?': 18,\n",
       " '좋': 19,\n",
       " '나': 20,\n",
       " '었': 21,\n",
       " '만': 22,\n",
       " '는데': 23,\n",
       " '너무': 24,\n",
       " '봤': 25,\n",
       " '적': 26,\n",
       " '안': 27,\n",
       " '정말': 28,\n",
       " '로': 29,\n",
       " '음': 30,\n",
       " '것': 31,\n",
       " '아': 32,\n",
       " '네요': 33,\n",
       " '재밌': 34,\n",
       " '어': 35,\n",
       " '같': 36,\n",
       " '점': 37,\n",
       " '지만': 38,\n",
       " '진짜': 39,\n",
       " '했': 40,\n",
       " '에서': 41,\n",
       " '기': 42,\n",
       " '네': 43,\n",
       " '않': 44,\n",
       " '거': 45,\n",
       " '았': 46,\n",
       " '수': 47,\n",
       " '되': 48,\n",
       " '면': 49,\n",
       " 'ㅋㅋ': 50,\n",
       " '말': 51,\n",
       " '연기': 52,\n",
       " '인': 53,\n",
       " '주': 54,\n",
       " '내': 55,\n",
       " '최고': 56,\n",
       " '~': 57,\n",
       " '평점': 58,\n",
       " '이런': 59,\n",
       " '던': 60,\n",
       " '어요': 61,\n",
       " '할': 62,\n",
       " '왜': 63,\n",
       " '겠': 64,\n",
       " '1': 65,\n",
       " '스토리': 66,\n",
       " '해': 67,\n",
       " '습니다': 68,\n",
       " 'ㅋㅋㅋ': 69,\n",
       " '...': 70,\n",
       " '드라마': 71,\n",
       " '생각': 72,\n",
       " '아니': 73,\n",
       " '더': 74,\n",
       " '그': 75,\n",
       " '싶': 76,\n",
       " '사람': 77,\n",
       " '듯': 78,\n",
       " '때': 79,\n",
       " '감동': 80,\n",
       " '함': 81,\n",
       " '배우': 82,\n",
       " '본': 83,\n",
       " '까지': 84,\n",
       " '뭐': 85,\n",
       " '알': 86,\n",
       " '만들': 87,\n",
       " '내용': 88,\n",
       " '볼': 89,\n",
       " '감독': 90,\n",
       " '보다': 91,\n",
       " '라': 92,\n",
       " '그냥': 93,\n",
       " '재미': 94,\n",
       " '시간': 95,\n",
       " '지루': 96,\n",
       " '중': 97,\n",
       " '재미있': 98,\n",
       " '년': 99,\n",
       " '10': 100,\n",
       " '였': 101,\n",
       " '잼': 102,\n",
       " '사랑': 103,\n",
       " '못': 104,\n",
       " '냐': 105,\n",
       " '재미없': 106,\n",
       " '쓰레기': 107,\n",
       " '서': 108,\n",
       " '2': 109,\n",
       " '라고': 110,\n",
       " '야': 111,\n",
       " '니': 112,\n",
       " '면서': 113,\n",
       " '번': 114,\n",
       " '다시': 115,\n",
       " '나오': 116,\n",
       " '작품': 117,\n",
       " '이거': 118,\n",
       " '하나': 119,\n",
       " '줄': 120,\n",
       " '해서': 121,\n",
       " '개': 122,\n",
       " '남': 123,\n",
       " '정도': 124,\n",
       " '마지막': 125,\n",
       " '끝': 126,\n",
       " '이건': 127,\n",
       " '액션': 128,\n",
       " '임': 129,\n",
       " 'ㅋ': 130,\n",
       " '3': 131,\n",
       " '기대': 132,\n",
       " '입니다': 133,\n",
       " '건': 134,\n",
       " '라는': 135,\n",
       " '분': 136,\n",
       " '완전': 137,\n",
       " '다는': 138,\n",
       " '참': 139,\n",
       " '많': 140,\n",
       " '처음': 141,\n",
       " '장면': 142,\n",
       " '대': 143,\n",
       " '아깝': 144,\n",
       " '다가': 145,\n",
       " '으면': 146,\n",
       " '지금': 147,\n",
       " '모르': 148,\n",
       " '이렇게': 149,\n",
       " \"'\": 150,\n",
       " '편': 151,\n",
       " '일': 152,\n",
       " '돈': 153,\n",
       " '이게': 154,\n",
       " '성': 155,\n",
       " '느낌': 156,\n",
       " '시': 157,\n",
       " '이야기': 158,\n",
       " '최악': 159,\n",
       " '된': 160,\n",
       " '봐도': 161,\n",
       " '님': 162,\n",
       " '어서': 163,\n",
       " '애': 164,\n",
       " '전': 165,\n",
       " '넘': 166,\n",
       " 'ㅠㅠ': 167,\n",
       " '인데': 168,\n",
       " '다고': 169,\n",
       " '이해': 170,\n",
       " '별로': 171,\n",
       " '그리고': 172,\n",
       " '명작': 173,\n",
       " '여자': 174,\n",
       " '^^': 175,\n",
       " '역시': 176,\n",
       " '난': 177,\n",
       " '이상': 178,\n",
       " '또': 179,\n",
       " '걸': 180,\n",
       " '한국': 181,\n",
       " '는지': 182,\n",
       " '많이': 183,\n",
       " '에게': 184,\n",
       " '부터': 185,\n",
       " '만든': 186,\n",
       " '주인공': 187,\n",
       " '받': 188,\n",
       " '합니다': 189,\n",
       " '우리': 190,\n",
       " '두': 191,\n",
       " '살': 192,\n",
       " '!!': 193,\n",
       " '길': 194,\n",
       " '엔': 195,\n",
       " '괜찮': 196,\n",
       " '기억': 197,\n",
       " '연출': 198,\n",
       " '한다': 199,\n",
       " '때문': 200,\n",
       " '이나': 201,\n",
       " 'ㅎㅎ': 202,\n",
       " '요': 203,\n",
       " '저': 204,\n",
       " '재': 205,\n",
       " '꼭': 206,\n",
       " '랑': 207,\n",
       " '며': 208,\n",
       " '현실': 209,\n",
       " '긴': 210,\n",
       " 'ㅡㅡ': 211,\n",
       " '무슨': 212,\n",
       " '내내': 213,\n",
       " '결말': 214,\n",
       " '죽': 215,\n",
       " '남자': 216,\n",
       " '세요': 217,\n",
       " '전개': 218,\n",
       " '마음': 219,\n",
       " '소재': 220,\n",
       " '속': 221,\n",
       " '공포': 222,\n",
       " '아서': 223,\n",
       " '다른': 224,\n",
       " '씨': 225,\n",
       " '인생': 226,\n",
       " '~~': 227,\n",
       " '짜증': 228,\n",
       " '짱': 229,\n",
       " '뿐': 230,\n",
       " '은데': 231,\n",
       " '별': 232,\n",
       " '아요': 233,\n",
       " '유치': 234,\n",
       " '가장': 235,\n",
       " '필요': 236,\n",
       " '음악': 237,\n",
       " ')': 238,\n",
       " '일본': 239,\n",
       " '낮': 240,\n",
       " '아이': 241,\n",
       " ';;': 242,\n",
       " '오': 243,\n",
       " '반전': 244,\n",
       " '수준': 245,\n",
       " '다니': 246,\n",
       " '웃': 247,\n",
       " '매력': 248,\n",
       " '맞': 249,\n",
       " '인지': 250,\n",
       " '가슴': 251,\n",
       " '없이': 252,\n",
       " '원작': 253,\n",
       " 'ㄷ': 254,\n",
       " '인간': 255,\n",
       " '데': 256,\n",
       " '굿': 257,\n",
       " 'ㅠ': 258,\n",
       " '높': 259,\n",
       " '밋': 260,\n",
       " '(': 261,\n",
       " '만드': 262,\n",
       " '급': 263,\n",
       " '눈물': 264,\n",
       " '보여': 265,\n",
       " '준': 266,\n",
       " '찍': 267,\n",
       " '인가': 268,\n",
       " '노': 269,\n",
       " '을까': 270,\n",
       " '용': 271,\n",
       " '코미디': 272,\n",
       " '마': 273,\n",
       " '화': 274,\n",
       " '신': 275,\n",
       " '모든': 276,\n",
       " '쓰': 277,\n",
       " '여': 278,\n",
       " '5': 279,\n",
       " '아직': 280,\n",
       " '추천': 281,\n",
       " '처럼': 282,\n",
       " '눈': 283,\n",
       " '아닌': 284,\n",
       " '자체': 285,\n",
       " '울': 286,\n",
       " '몰입': 287,\n",
       " '4': 288,\n",
       " '대박': 289,\n",
       " '몇': 290,\n",
       " '스럽': 291,\n",
       " '실망': 292,\n",
       " '는다': 293,\n",
       " '대한': 294,\n",
       " '죠': 295,\n",
       " '란': 296,\n",
       " '그런': 297,\n",
       " '솔직히': 298,\n",
       " '캐릭터': 299,\n",
       " 'ㅎ': 300,\n",
       " '모두': 301,\n",
       " '아주': 302,\n",
       " '-': 303,\n",
       " '가족': 304,\n",
       " '여운': 305,\n",
       " '건지': 306,\n",
       " '전혀': 307,\n",
       " '연기력': 308,\n",
       " '나라': 309,\n",
       " '후': 310,\n",
       " '될': 311,\n",
       " '다면': 312,\n",
       " '뭔가': 313,\n",
       " '그래도': 314,\n",
       " ';': 315,\n",
       " '시리즈': 316,\n",
       " '근데': 317,\n",
       " '작': 318,\n",
       " '표현': 319,\n",
       " '모습': 320,\n",
       " '공감': 321,\n",
       " '계속': 322,\n",
       " '먹': 323,\n",
       " '\"\"': 324,\n",
       " '제목': 325,\n",
       " '7': 326,\n",
       " '이랑': 327,\n",
       " '극장': 328,\n",
       " '치': 329,\n",
       " '비': 330,\n",
       " '이걸': 331,\n",
       " '진': 332,\n",
       " '바': 333,\n",
       " '대사': 334,\n",
       " '부분': 335,\n",
       " '그렇': 336,\n",
       " '개봉': 337,\n",
       " '0': 338,\n",
       " 'OO': 339,\n",
       " '대단': 340,\n",
       " '어디': 341,\n",
       " '작가': 342,\n",
       " '된다': 343,\n",
       " '아쉽': 344,\n",
       " '기분': 345,\n",
       " '제': 346,\n",
       " '진심': 347,\n",
       " '타임': 348,\n",
       " '/': 349,\n",
       " '웃기': 350,\n",
       " '보이': 351,\n",
       " '놓': 352,\n",
       " '해도': 353,\n",
       " '이제': 354,\n",
       " '물': 355,\n",
       " '봐야': 356,\n",
       " '막장': 357,\n",
       " '삶': 358,\n",
       " '친구': 359,\n",
       " '잔잔': 360,\n",
       " '조금': 361,\n",
       " '씬': 362,\n",
       " '딱': 363,\n",
       " '영상': 364,\n",
       " '억지': 365,\n",
       " '찾': 366,\n",
       " '요즘': 367,\n",
       " '같이': 368,\n",
       " '중간': 369,\n",
       " '\"': 370,\n",
       " '구': 371,\n",
       " '라도': 372,\n",
       " '스릴러': 373,\n",
       " '가지': 374,\n",
       " '8': 375,\n",
       " '믿': 376,\n",
       " '싫': 377,\n",
       " '....': 378,\n",
       " '나왔': 379,\n",
       " '아까운': 380,\n",
       " '긴장감': 381,\n",
       " '점수': 382,\n",
       " '개인': 383,\n",
       " '제대로': 384,\n",
       " '부족': 385,\n",
       " '이유': 386,\n",
       " '노래': 387,\n",
       " '만큼': 388,\n",
       " '라면': 389,\n",
       " '시작': 390,\n",
       " '구나': 391,\n",
       " '잇': 392,\n",
       " '특히': 393,\n",
       " '한테': 394,\n",
       " '날': 395,\n",
       " '려고': 396,\n",
       " '제일': 397,\n",
       " '아름다운': 398,\n",
       " '시대': 399,\n",
       " 'ㅜㅜ': 400,\n",
       " '어떻게': 401,\n",
       " '엔딩': 402,\n",
       " '당시': 403,\n",
       " '하지만': 404,\n",
       " '나름': 405,\n",
       " '봐': 406,\n",
       " '무섭': 407,\n",
       " '나온': 408,\n",
       " '명': 409,\n",
       " '사': 410,\n",
       " '니까': 411,\n",
       " '오랜만': 412,\n",
       " '이것': 413,\n",
       " '해요': 414,\n",
       " '9': 415,\n",
       " '팬': 416,\n",
       " '차라리': 417,\n",
       " '절대': 418,\n",
       " '세상': 419,\n",
       " '세': 420,\n",
       " '못하': 421,\n",
       " '의미': 422,\n",
       " '던데': 423,\n",
       " '봄': 424,\n",
       " '욕': 425,\n",
       " '훌륭': 426,\n",
       " '너무나': 427,\n",
       " '강추': 428,\n",
       " '감': 429,\n",
       " '됨': 430,\n",
       " 'ㅡ': 431,\n",
       " '따뜻': 432,\n",
       " '빼': 433,\n",
       " '느끼': 434,\n",
       " '해야': 435,\n",
       " '드': 436,\n",
       " '도대체': 437,\n",
       " '어야': 438,\n",
       " '답답': 439,\n",
       " '마다': 440,\n",
       " '준다': 441,\n",
       " '글': 442,\n",
       " '전쟁': 443,\n",
       " '놈': 444,\n",
       " '설정': 445,\n",
       " '무엇': 446,\n",
       " '수작': 447,\n",
       " '만화': 448,\n",
       " '흥미': 449,\n",
       " '그저': 450,\n",
       " '감정': 451,\n",
       " '미국': 452,\n",
       " '신선': 453,\n",
       " '행복': 454,\n",
       " '뻔': 455,\n",
       " '형': 456,\n",
       " '앞': 457,\n",
       " '허접': 458,\n",
       " '어도': 459,\n",
       " '군': 460,\n",
       " '시절': 461,\n",
       " '관객': 462,\n",
       " '배경': 463,\n",
       " '6': 464,\n",
       " '초반': 465,\n",
       " '사실': 466,\n",
       " '웃음': 467,\n",
       " '답': 468,\n",
       " '엄청': 469,\n",
       " '더라': 470,\n",
       " '라니': 471,\n",
       " '질': 472,\n",
       " '자신': 473,\n",
       " '추억': 474,\n",
       " '캐스팅': 475,\n",
       " '첨': 476,\n",
       " '멋있': 477,\n",
       " '류': 478,\n",
       " '어색': 479,\n",
       " '시나리오': 480,\n",
       " '머': 481,\n",
       " '밖에': 482,\n",
       " 'OOO': 483,\n",
       " '슬프': 484,\n",
       " '정신': 485,\n",
       " '분위기': 486,\n",
       " '소름': 487,\n",
       " '멋진': 488,\n",
       " '힘들': 489,\n",
       " '오늘': 490,\n",
       " '어이없': 491,\n",
       " '봐서': 492,\n",
       " '잡': 493,\n",
       " '구성': 494,\n",
       " '엄마': 495,\n",
       " '함께': 496,\n",
       " '문제': 497,\n",
       " '위해': 498,\n",
       " '졸작': 499,\n",
       " '잊': 500,\n",
       " '이딴': 501,\n",
       " '등': 502,\n",
       " '집': 503,\n",
       " '유쾌': 504,\n",
       " '뻔한': 505,\n",
       " '킬링': 506,\n",
       " '스러운': 507,\n",
       " '결국': 508,\n",
       " '낫': 509,\n",
       " '한데': 510,\n",
       " '나요': 511,\n",
       " '뭘': 512,\n",
       " '소리': 513,\n",
       " '간': 514,\n",
       " '20': 515,\n",
       " '역사': 516,\n",
       " '뭔': 517,\n",
       " '제발': 518,\n",
       " '포스터': 519,\n",
       " '아무리': 520,\n",
       " '코믹': 521,\n",
       " '어떤': 522,\n",
       " '완벽': 523,\n",
       " '~~~': 524,\n",
       " '맘': 525,\n",
       " '얼마나': 526,\n",
       " '애니메이션': 527,\n",
       " '!!!': 528,\n",
       " '러': 529,\n",
       " '주연': 530,\n",
       " '원': 531,\n",
       " '난다': 532,\n",
       " '버리': 533,\n",
       " '어릴': 534,\n",
       " '♥': 535,\n",
       " '후회': 536,\n",
       " '진부': 537,\n",
       " '나올': 538,\n",
       " '됐': 539,\n",
       " '보단': 540,\n",
       " '책': 541,\n",
       " '장난': 542,\n",
       " '더니': 543,\n",
       " '영화관': 544,\n",
       " '큰': 545,\n",
       " '개연': 546,\n",
       " '둘': 547,\n",
       " '출연': 548,\n",
       " '보고': 549,\n",
       " '극': 550,\n",
       " 'ㅅ': 551,\n",
       " '밖': 552,\n",
       " '충격': 553,\n",
       " '여기': 554,\n",
       " '엇': 555,\n",
       " '잔인': 556,\n",
       " '아름답': 557,\n",
       " '얘기': 558,\n",
       " '줬': 559,\n",
       " '평가': 560,\n",
       " '꺼': 561,\n",
       " '예술': 562,\n",
       " '갈수록': 563,\n",
       " '매우': 564,\n",
       " '든': 565,\n",
       " '자기': 566,\n",
       " '위한': 567,\n",
       " '이리': 568,\n",
       " '봐라': 569,\n",
       " '이후': 570,\n",
       " '읽': 571,\n",
       " '반': 572,\n",
       " '얼굴': 573,\n",
       " '꽤': 574,\n",
       " '티비': 575,\n",
       " '이쁘': 576,\n",
       " '으나': 577,\n",
       " '별점': 578,\n",
       " '깊': 579,\n",
       " '옛날': 580,\n",
       " '불쌍': 581,\n",
       " '못한': 582,\n",
       " '겟': 583,\n",
       " '불': 584,\n",
       " '시청': 585,\n",
       " '순수': 586,\n",
       " '라서': 587,\n",
       " '낭비': 588,\n",
       " '언제': 589,\n",
       " '건가': 590,\n",
       " '비디오': 591,\n",
       " '애니': 592,\n",
       " '머리': 593,\n",
       " '장르': 594,\n",
       " '생각나': 595,\n",
       " '텐데': 596,\n",
       " '+': 597,\n",
       " '미': 598,\n",
       " '배': 599,\n",
       " '그래서': 600,\n",
       " ':': 601,\n",
       " '다운': 602,\n",
       " '주제': 603,\n",
       " '다큐': 604,\n",
       " '다음': 605,\n",
       " '궁금': 606,\n",
       " '아님': 607,\n",
       " '시키': 608,\n",
       " '누구': 609,\n",
       " '예전': 610,\n",
       " '그렇게': 611,\n",
       " '크': 612,\n",
       " '동안': 613,\n",
       " '뒤': 614,\n",
       " '그만': 615,\n",
       " '인상': 616,\n",
       " '상황': 617,\n",
       " '??': 618,\n",
       " '이름': 619,\n",
       " '미친': 620,\n",
       " '스릴': 621,\n",
       " '감사': 622,\n",
       " '시즌': 623,\n",
       " '아무': 624,\n",
       " '너': 625,\n",
       " '오래': 626,\n",
       " 'B': 627,\n",
       " '집중': 628,\n",
       " '힘': 629,\n",
       " '어느': 630,\n",
       " '본다': 631,\n",
       " '그러': 632,\n",
       " '로맨스': 633,\n",
       " '약간': 634,\n",
       " '나와서': 635,\n",
       " '진정': 636,\n",
       " '식': 637,\n",
       " '방송': 638,\n",
       " '그나마': 639,\n",
       " '까': 640,\n",
       " '짜리': 641,\n",
       " '마세요': 642,\n",
       " '소설': 643,\n",
       " '여주인공': 644,\n",
       " '몰': 645,\n",
       " '걸작': 646,\n",
       " '존나': 647,\n",
       " '그대로': 648,\n",
       " '죽이': 649,\n",
       " '인물': 650,\n",
       " '났': 651,\n",
       " '그것': 652,\n",
       " '회': 653,\n",
       " '떨어지': 654,\n",
       " '평': 655,\n",
       " '케': 656,\n",
       " '왔': 657,\n",
       " '에요': 658,\n",
       " '실화': 659,\n",
       " '꿈': 660,\n",
       " '대체': 661,\n",
       " '해라': 662,\n",
       " '훨씬': 663,\n",
       " '짓': 664,\n",
       " '무': 665,\n",
       " '사회': 666,\n",
       " '만점': 667,\n",
       " '발연기': 668,\n",
       " '구만': 669,\n",
       " '~!': 670,\n",
       " '전체': 671,\n",
       " 'ㅜ': 672,\n",
       " '비슷': 673,\n",
       " '누가': 674,\n",
       " '막': 675,\n",
       " '30': 676,\n",
       " '햇': 677,\n",
       " '끝나': 678,\n",
       " 'CG': 679,\n",
       " '엉성': 680,\n",
       " '귀엽': 681,\n",
       " '여주': 682,\n",
       " '단': 683,\n",
       " '영상미': 684,\n",
       " '중국': 685,\n",
       " '비교': 686,\n",
       " '초딩': 687,\n",
       " '감성': 688,\n",
       " '네이버': 689,\n",
       " '세계': 690,\n",
       " '여배우': 691,\n",
       " '는가': 692,\n",
       " 'ㅎㅎㅎ': 693,\n",
       " '순간': 694,\n",
       " '망': 695,\n",
       " '느껴': 696,\n",
       " '려는': 697,\n",
       " '나이': 698,\n",
       " ';;;': 699,\n",
       " '대해': 700,\n",
       " '상': 701,\n",
       " '첫': 702,\n",
       " '어렸': 703,\n",
       " '쯤': 704,\n",
       " '판': 705,\n",
       " '입': 706,\n",
       " '꿀': 707,\n",
       " '갔': 708,\n",
       " '어설픈': 709,\n",
       " '돋': 710,\n",
       " '셨': 711,\n",
       " '학교': 712,\n",
       " '더럽': 713,\n",
       " '타': 714,\n",
       " '생': 715,\n",
       " '100': 716,\n",
       " '혼자': 717,\n",
       " '아들': 718,\n",
       " '느낄': 719,\n",
       " '성룡': 720,\n",
       " '아야': 721,\n",
       " '가능': 722,\n",
       " '졸': 723,\n",
       " '어린': 724,\n",
       " '교훈': 725,\n",
       " '멋지': 726,\n",
       " '바로': 727,\n",
       " '나가': 728,\n",
       " '잘못': 729,\n",
       " '맛': 730,\n",
       " '.....': 731,\n",
       " '한마디': 732,\n",
       " '존': 733,\n",
       " '딸': 734,\n",
       " '당신': 735,\n",
       " '화려': 736,\n",
       " '길래': 737,\n",
       " '끌': 738,\n",
       " '티': 739,\n",
       " '판타지': 740,\n",
       " '삼류': 741,\n",
       " '잠': 742,\n",
       " '땜': 743,\n",
       " '든다': 744,\n",
       " '달': 745,\n",
       " '빨리': 746,\n",
       " '맨': 747,\n",
       " '목소리': 748,\n",
       " '똥': 749,\n",
       " '아까움': 750,\n",
       " '영': 751,\n",
       " '당': 752,\n",
       " '거의': 753,\n",
       " '듣': 754,\n",
       " '봤었': 755,\n",
       " '나온다': 756,\n",
       " '전부': 757,\n",
       " '차': 758,\n",
       " '독특': 759,\n",
       " '건데': 760,\n",
       " '다르': 761,\n",
       " '초': 762,\n",
       " 'ㅉㅉ': 763,\n",
       " '어른': 764,\n",
       " '가치': 765,\n",
       " '위': 766,\n",
       " '률': 767,\n",
       " '상당히': 768,\n",
       " '씩': 769,\n",
       " '90': 770,\n",
       " '다만': 771,\n",
       " '질질': 772,\n",
       " '아버지': 773,\n",
       " '넣': 774,\n",
       " '평론가': 775,\n",
       " '줄거리': 776,\n",
       " '한번': 777,\n",
       " '이번': 778,\n",
       " '갑자기': 779,\n",
       " '스타일': 780,\n",
       " '이러': 781,\n",
       " '그러나': 782,\n",
       " '여러': 783,\n",
       " '군요': 784,\n",
       " 'ㅂ': 785,\n",
       " '의도': 786,\n",
       " '저런': 787,\n",
       " '존재': 788,\n",
       " '허무': 789,\n",
       " '밑': 790,\n",
       " '%': 791,\n",
       " '부': 792,\n",
       " '대로': 793,\n",
       " '에선': 794,\n",
       " '째': 795,\n",
       " '각본': 796,\n",
       " '예상': 797,\n",
       " '성우': 798,\n",
       " '으면서': 799,\n",
       " '그녀': 800,\n",
       " '버린': 801,\n",
       " '화면': 802,\n",
       " '너무너무': 803,\n",
       " 'ㄱ': 804,\n",
       " '떠나': 805,\n",
       " '예쁘': 806,\n",
       " '비해': 807,\n",
       " '자연': 808,\n",
       " '담': 809,\n",
       " '그런지': 810,\n",
       " '뻔하': 811,\n",
       " '평범': 812,\n",
       " '굉장히': 813,\n",
       " '만나': 814,\n",
       " '슬픈': 815,\n",
       " '돼': 816,\n",
       " '못했': 817,\n",
       " '지루함': 818,\n",
       " '복수': 819,\n",
       " '관람': 820,\n",
       " '스': 821,\n",
       " '단순': 822,\n",
       " '댓글': 823,\n",
       " '중요': 824,\n",
       " '낸': 825,\n",
       " '새로운': 826,\n",
       " '피': 827,\n",
       " '앗': 828,\n",
       " '극장판': 829,\n",
       " '줌': 830,\n",
       " '갖': 831,\n",
       " '굳': 832,\n",
       " '제작': 833,\n",
       " '버렸': 834,\n",
       " '일단': 835,\n",
       " '만족': 836,\n",
       " '쉽': 837,\n",
       " '선택': 838,\n",
       " '아빠': 839,\n",
       " '쓴': 840,\n",
       " 'TV': 841,\n",
       " '요소': 842,\n",
       " '한편': 843,\n",
       " '불편': 844,\n",
       " '항상': 845,\n",
       " '거기': 846,\n",
       " '연출력': 847,\n",
       " '그때': 848,\n",
       " '롭': 849,\n",
       " '에로': 850,\n",
       " '산': 851,\n",
       " '탄탄': 852,\n",
       " '잃': 853,\n",
       " '한다는': 854,\n",
       " '발': 855,\n",
       " '나옴': 856,\n",
       " '예요': 857,\n",
       " '한심': 858,\n",
       " '흥행': 859,\n",
       " '물론': 860,\n",
       " '려': 861,\n",
       " '지나': 862,\n",
       " '따라': 863,\n",
       " '진행': 864,\n",
       " '점점': 865,\n",
       " '관계': 866,\n",
       " '전형': 867,\n",
       " '역대': 868,\n",
       " '편집': 869,\n",
       " '조': 870,\n",
       " '거나': 871,\n",
       " '아까워': 872,\n",
       " '법': 873,\n",
       " '던가': 874,\n",
       " '총': 875,\n",
       " '짧': 876,\n",
       " '이하': 877,\n",
       " '충분히': 878,\n",
       " '따': 879,\n",
       " '안타깝': 880,\n",
       " '에겐': 881,\n",
       " '아닌가': 882,\n",
       " '식상': 883,\n",
       " '몰랐': 884,\n",
       " '자꾸': 885,\n",
       " '훈훈': 886,\n",
       " '80': 887,\n",
       " '미안': 888,\n",
       " '김': 889,\n",
       " '화이팅': 890,\n",
       " '도록': 891,\n",
       " '게임': 892,\n",
       " '-_-': 893,\n",
       " '멜': 894,\n",
       " '원래': 895,\n",
       " '곳': 896,\n",
       " '그게': 897,\n",
       " '자극': 898,\n",
       " '몸': 899,\n",
       " '삼': 900,\n",
       " '손': 901,\n",
       " '장': 902,\n",
       " '구요': 903,\n",
       " '~!!': 904,\n",
       " '어쩔': 905,\n",
       " '팔': 906,\n",
       " '똑같': 907,\n",
       " '간다': 908,\n",
       " '나쁜': 909,\n",
       " '뭔지': 910,\n",
       " '사건': 911,\n",
       " '풀': 912,\n",
       " '설명': 913,\n",
       " '어울리': 914,\n",
       " '짜': 915,\n",
       " '귀신': 916,\n",
       " '잖아': 917,\n",
       " '과거': 918,\n",
       " '빙': 919,\n",
       " '노력': 920,\n",
       " '짐': 921,\n",
       " '그래픽': 922,\n",
       " '도저히': 923,\n",
       " '황당': 924,\n",
       " '조차': 925,\n",
       " '닿': 926,\n",
       " '됬': 927,\n",
       " '아프': 928,\n",
       " '중반': 929,\n",
       " '개그': 930,\n",
       " '듬': 931,\n",
       " '프랑스': 932,\n",
       " '코메디': 933,\n",
       " '홍콩': 934,\n",
       " '취향': 935,\n",
       " '빠져': 936,\n",
       " '죽음': 937,\n",
       " '했었': 938,\n",
       " '미치': 939,\n",
       " '역': 940,\n",
       " '속편': 941,\n",
       " '무조건': 942,\n",
       " '소중': 943,\n",
       " '프로': 944,\n",
       " '빠': 945,\n",
       " '무비': 946,\n",
       " '참신': 947,\n",
       " '이란': 948,\n",
       " '쳐': 949,\n",
       " '나쁘': 950,\n",
       " '멋': 951,\n",
       " '좋아하': 952,\n",
       " '아쉬운': 953,\n",
       " '더욱': 954,\n",
       " '넘치': 955,\n",
       " '병맛': 956,\n",
       " '괜히': 957,\n",
       " '진지': 958,\n",
       " '빠지': 959,\n",
       " '척': 960,\n",
       " '특유': 961,\n",
       " '또한': 962,\n",
       " '상상': 963,\n",
       " '숨': 964,\n",
       " '상영': 965,\n",
       " '결혼': 966,\n",
       " '리': 967,\n",
       " '짱짱': 968,\n",
       " '유명': 969,\n",
       " 'ost': 970,\n",
       " '심리': 971,\n",
       " '전설': 972,\n",
       " '무서운': 973,\n",
       " '헐': 974,\n",
       " '엄청난': 975,\n",
       " '오히려': 976,\n",
       " '인듯': 977,\n",
       " '비추': 978,\n",
       " '예고편': 979,\n",
       " '후반부': 980,\n",
       " '틀': 981,\n",
       " '더빙': 982,\n",
       " '아저씨': 983,\n",
       " '으니': 984,\n",
       " '고자': 985,\n",
       " '심하': 986,\n",
       " '바보': 987,\n",
       " '왕': 988,\n",
       " '연기자': 989,\n",
       " '촬영': 990,\n",
       " '그리': 991,\n",
       " '소녀': 992,\n",
       " '느꼈': 993,\n",
       " '끝내': 994,\n",
       " '로맨틱': 995,\n",
       " '조연': 996,\n",
       " '천재': 997,\n",
       " '아도': 998,\n",
       " '쩔': 999,\n",
       " ...}"
      ]
     },
     "execution_count": 13,
     "metadata": {},
     "output_type": "execute_result"
    }
   ],
   "source": [
    "word_to_index"
   ]
  },
  {
   "cell_type": "code",
   "execution_count": 14,
   "id": "3820bc65",
   "metadata": {},
   "outputs": [
    {
     "name": "stdout",
     "output_type": "stream",
     "text": [
      "훈련 샘플 개수: 146182, 테스트 개수: 49157\n"
     ]
    }
   ],
   "source": [
    "print(\"훈련 샘플 개수: {}, 테스트 개수: {}\".format(len(X_train), len(X_test)))"
   ]
  },
  {
   "cell_type": "code",
   "execution_count": 15,
   "id": "e0d4e3fb",
   "metadata": {},
   "outputs": [
    {
     "data": {
      "text/plain": [
       "'더 빙 . . 진짜 짜증 나 네요 목소리'"
      ]
     },
     "execution_count": 15,
     "metadata": {},
     "output_type": "execute_result"
    }
   ],
   "source": [
    "get_decoded_sentence(X_train[0], index_to_word)"
   ]
  },
  {
   "cell_type": "code",
   "execution_count": 16,
   "id": "83fea9f4",
   "metadata": {},
   "outputs": [
    {
     "data": {
      "text/plain": [
       "[32, 74, 919, 4, 4, 39, 228, 20, 33, 748]"
      ]
     },
     "execution_count": 16,
     "metadata": {},
     "output_type": "execute_result"
    }
   ],
   "source": [
    "X_train[0]"
   ]
  },
  {
   "cell_type": "code",
   "execution_count": 17,
   "id": "456b8493",
   "metadata": {},
   "outputs": [
    {
     "name": "stdout",
     "output_type": "stream",
     "text": [
      "'더' 의 인덱스 번호 : 74\n",
      "'빙' 의 인덱스 번호 : 919\n",
      "'더빙' 의 인덱스 번호 : 982\n"
     ]
    }
   ],
   "source": [
    "print('\\'더\\' 의 인덱스 번호 :',word_to_index['더'])\n",
    "print('\\'빙\\' 의 인덱스 번호 :',word_to_index['빙'])\n",
    "print('\\'더빙\\' 의 인덱스 번호 :',word_to_index['더빙'])"
   ]
  },
  {
   "cell_type": "markdown",
   "id": "230aeb3d",
   "metadata": {},
   "source": [
    "* <의문점> 더빙 이라는 단어가 사전에 982 번으로 있는데, 왜 더랑 빙이랑 나눠진걸까? \n",
    "\n",
    "내 생각 -> index 번호를 확인 해 봤을 때, '더' 와 '빙' 이 '더빙' 보다 사전에 먼저 등재가 됬기 때문에 train data 0번째를 출력했을 때, 따로 출력된게 아닐까? "
   ]
  },
  {
   "cell_type": "markdown",
   "id": "f7e2d017",
   "metadata": {},
   "source": [
    "\n",
    "\n",
    "\n",
    "----\n",
    "\n",
    "\n",
    "\n"
   ]
  },
  {
   "cell_type": "markdown",
   "id": "d9eefe48",
   "metadata": {},
   "source": [
    "# 3. 모델 구성을 위한 데이터\n",
    "\n",
    "\n",
    "###  &nbsp; &nbsp;해야 할 것!\n",
    "* 데이터셋 내 문장 길이 분포 확인 \n",
    "* 확인 된 길이 분포로 적절한 최대 문장 길이 지정\n",
    "* pad_sequences 패딩 추가 "
   ]
  },
  {
   "cell_type": "markdown",
   "id": "42442514",
   "metadata": {},
   "source": [
    "## 3-1 데이터셋 내 문장 길이 분포 확인 및 문장길이 지정\n",
    "\n",
    "\n",
    "\n",
    "* 문장 길이의 적절한 값을 찾아주기 위해, 데이터셋 분포를 확인 해 봅시다. \n",
    "* 적절한 문장길이를 찾아주지 못 한다면, 짧은 문장에 패딩이 너무 많이   \n",
    "  들어갈 수 있기 때문에 문장 길이의 적당한 값을 찾아줘야한다. "
   ]
  },
  {
   "cell_type": "code",
   "execution_count": 18,
   "id": "20fe64d9",
   "metadata": {},
   "outputs": [
    {
     "name": "stdout",
     "output_type": "stream",
     "text": [
      "문장길이 평균 :  15.96940191154864\n",
      "문장길이 최대 :  116\n",
      "문장길이 표준편차 :  12.843571191092\n",
      "pad_sequences maxlen :  41\n",
      "전체 문장의 0.9342988343341575%가 maxlen 설정값 이내에 포함됩니다. \n"
     ]
    }
   ],
   "source": [
    "total_data_text = list(X_train) + list(X_test)\n",
    "\n",
    "# 텍스트데이터 문장길이의 리스트를 생성한 후\n",
    "num_tokens = [len(tokens) for tokens in total_data_text]\n",
    "num_tokens = np.array(num_tokens)\n",
    "# 문장길이의 평균값, 최대값, 표준편차를 계산해 본다. \n",
    "print('문장길이 평균 : ', np.mean(num_tokens))\n",
    "print('문장길이 최대 : ', np.max(num_tokens))\n",
    "print('문장길이 표준편차 : ', np.std(num_tokens))\n",
    "\n",
    "# 예를들어, 최대 길이를 (평균 + 2*표준편차)로 한다면,  \n",
    "max_tokens = np.mean(num_tokens) + 2 * np.std(num_tokens)\n",
    "maxlen = int(max_tokens)\n",
    "print('pad_sequences maxlen : ', maxlen)\n",
    "print('전체 문장의 {}%가 maxlen 설정값 이내에 포함됩니다. '.format(np.sum(num_tokens < max_tokens) / len(num_tokens)))\n"
   ]
  },
  {
   "cell_type": "markdown",
   "id": "68322163",
   "metadata": {},
   "source": [
    "## 3-2 문장 길이 조정하고, 패딩 설정하기 \n",
    "\n",
    "\n",
    "*  ```pad_sequences``` 를 이용해 문장 길이를 3-1에서 찾은 maxlen 값으로 맞춰주고, padding도 넣어주자.  \n",
    "* RNN의 경우, 입력 데이터가 순차적으로 처리되기 때문에, 가장 마지막 입력이 최종 state 값에 가장 영향을 많이 주기 때문에, 앞쪽에 적용해야한다. \n",
    "* padding은 모델 설정값 줄 때 변수로 따로 빼면..? 모델 2개 만들 필요가 없겠지?"
   ]
  },
  {
   "cell_type": "code",
   "execution_count": 19,
   "id": "b2b0362d",
   "metadata": {},
   "outputs": [
    {
     "name": "stdout",
     "output_type": "stream",
     "text": [
      "padding 적용 완료!\n"
     ]
    }
   ],
   "source": [
    "# 문장 길이와 패딩 적용하기 \n",
    "# 모델 적용시, padding_where 변수로 앞쪽 - 'pre', 뒤쪽 - 'post' 을 결정할 수 있게. \n",
    "# 일단 default값으로 'pre' \n",
    "padding_where = 'pre'\n",
    "\n",
    "X_train = tf.keras.preprocessing.sequence.pad_sequences(X_train,\n",
    "       value=word_to_index[\"<PAD>\"],padding=padding_where, maxlen=maxlen)\n",
    "\n",
    "X_test = tf.keras.preprocessing.sequence.pad_sequences(X_test,\n",
    "       value=word_to_index[\"<PAD>\"],padding=padding_where, maxlen=maxlen)\n",
    "\n",
    "print('padding 적용 완료!')"
   ]
  },
  {
   "cell_type": "markdown",
   "id": "2d213039",
   "metadata": {},
   "source": [
    "\n",
    "\n",
    "----\n",
    "\n"
   ]
  },
  {
   "cell_type": "markdown",
   "id": "9a683a85",
   "metadata": {},
   "source": [
    "# 4. 모델 구성 및 validation set 구성"
   ]
  },
  {
   "cell_type": "markdown",
   "id": "8c4d80f7",
   "metadata": {},
   "source": [
    "* 우선 EXP에서 소개된 세 모델을 가지고 와서 모델 구성 및 validation set을 구성해보기로 합니다. "
   ]
  },
  {
   "cell_type": "markdown",
   "id": "2d15a821",
   "metadata": {},
   "source": [
    "##  &nbsp; &nbsp; 4-1 모델 구성 "
   ]
  },
  {
   "cell_type": "code",
   "execution_count": 20,
   "id": "9d0fec83",
   "metadata": {},
   "outputs": [
    {
     "name": "stdout",
     "output_type": "stream",
     "text": [
      "Model: \"sequential\"\n",
      "_________________________________________________________________\n",
      "Layer (type)                 Output Shape              Param #   \n",
      "=================================================================\n",
      "embedding (Embedding)        (None, None, 16)          160000    \n",
      "_________________________________________________________________\n",
      "lstm (LSTM)                  (None, 8)                 800       \n",
      "_________________________________________________________________\n",
      "dense (Dense)                (None, 8)                 72        \n",
      "_________________________________________________________________\n",
      "dense_1 (Dense)              (None, 1)                 9         \n",
      "=================================================================\n",
      "Total params: 160,881\n",
      "Trainable params: 160,881\n",
      "Non-trainable params: 0\n",
      "_________________________________________________________________\n"
     ]
    }
   ],
   "source": [
    "# RNN 모델 \n",
    "# padding_where = 'pre'\n",
    "\n",
    "rnn_vocab_size = 10000    # 어휘 사전의 크기입니다(10,000개의 단어)\n",
    "rnn_word_vector_dim = 16  # 워드 벡터의 차원 수 (변경 가능한 하이퍼파라미터)\n",
    "\n",
    "rnn_model = tf.keras.Sequential()\n",
    "rnn_model.add(tf.keras.layers.Embedding(rnn_vocab_size, rnn_word_vector_dim, input_shape=(None,)))\n",
    "# 가장 널리 쓰이는 RNN인 LSTM 레이어를 사용하였습니다. 이때 LSTM state 벡터의 차원수는 8로 하였습니다. (변경 가능)\n",
    "rnn_model.add(tf.keras.layers.LSTM(8))   \n",
    "rnn_model.add(tf.keras.layers.Dense(8, activation='relu'))\n",
    "rnn_model.add(tf.keras.layers.Dense(1, activation='sigmoid'))  # 최종 출력은 긍정/부정을 나타내는 1dim 입니다.\n",
    "\n",
    "rnn_model.summary()"
   ]
  },
  {
   "cell_type": "markdown",
   "id": "b3b1796e",
   "metadata": {},
   "source": [
    "  \n",
    "  \n",
    "  \n",
    "  "
   ]
  },
  {
   "cell_type": "code",
   "execution_count": 21,
   "id": "93fd09c1",
   "metadata": {},
   "outputs": [
    {
     "name": "stdout",
     "output_type": "stream",
     "text": [
      "Model: \"sequential_1\"\n",
      "_________________________________________________________________\n",
      "Layer (type)                 Output Shape              Param #   \n",
      "=================================================================\n",
      "embedding_1 (Embedding)      (None, None, 16)          160000    \n",
      "_________________________________________________________________\n",
      "conv1d (Conv1D)              (None, None, 16)          1808      \n",
      "_________________________________________________________________\n",
      "max_pooling1d (MaxPooling1D) (None, None, 16)          0         \n",
      "_________________________________________________________________\n",
      "conv1d_1 (Conv1D)            (None, None, 16)          1808      \n",
      "_________________________________________________________________\n",
      "global_max_pooling1d (Global (None, 16)                0         \n",
      "_________________________________________________________________\n",
      "dense_2 (Dense)              (None, 8)                 136       \n",
      "_________________________________________________________________\n",
      "dense_3 (Dense)              (None, 1)                 9         \n",
      "=================================================================\n",
      "Total params: 163,761\n",
      "Trainable params: 163,761\n",
      "Non-trainable params: 0\n",
      "_________________________________________________________________\n"
     ]
    }
   ],
   "source": [
    "# 1-D CNN 모델\n",
    "# padding_where = 'post'\n",
    "\n",
    "cnn1d_vocab_size = 10000  # 어휘 사전의 크기입니다\n",
    "cnn1d_word_vector_dim = 16   # 단어 하나를 표현하는 임베딩 벡터의 차원 수입니다. \n",
    "\n",
    "cnn1d_model = tf.keras.Sequential()\n",
    "cnn1d_model.add(tf.keras.layers.Embedding(cnn1d_vocab_size, cnn1d_word_vector_dim, input_shape=(None,)))\n",
    "cnn1d_model.add(tf.keras.layers.Conv1D(16, 7, activation='relu'))\n",
    "cnn1d_model.add(tf.keras.layers.MaxPooling1D(5))\n",
    "cnn1d_model.add(tf.keras.layers.Conv1D(16, 7, activation='relu'))\n",
    "cnn1d_model.add(tf.keras.layers.GlobalMaxPooling1D())\n",
    "cnn1d_model.add(tf.keras.layers.Dense(8, activation='relu'))\n",
    "cnn1d_model.add(tf.keras.layers.Dense(1, activation='sigmoid'))  # 최종 출력은 긍정/부정을 나타내는 1dim 입니다.\n",
    "\n",
    "cnn1d_model.summary()\n"
   ]
  },
  {
   "cell_type": "markdown",
   "id": "f5eac24b",
   "metadata": {},
   "source": [
    "\n",
    "\n"
   ]
  },
  {
   "cell_type": "code",
   "execution_count": 22,
   "id": "f9f976b6",
   "metadata": {},
   "outputs": [
    {
     "name": "stdout",
     "output_type": "stream",
     "text": [
      "Model: \"sequential_2\"\n",
      "_________________________________________________________________\n",
      "Layer (type)                 Output Shape              Param #   \n",
      "=================================================================\n",
      "embedding_2 (Embedding)      (None, None, 16)          160000    \n",
      "_________________________________________________________________\n",
      "global_max_pooling1d_1 (Glob (None, 16)                0         \n",
      "_________________________________________________________________\n",
      "dense_4 (Dense)              (None, 8)                 136       \n",
      "_________________________________________________________________\n",
      "dense_5 (Dense)              (None, 1)                 9         \n",
      "=================================================================\n",
      "Total params: 160,145\n",
      "Trainable params: 160,145\n",
      "Non-trainable params: 0\n",
      "_________________________________________________________________\n"
     ]
    }
   ],
   "source": [
    "# GlobalMaxPooling1D 모델 / 대문자를 따서 gmp 라 칭하겠습니다 :) \n",
    "# padding_where = 'post'\n",
    "\n",
    "gmp_vocab_size = 10000  # 어휘 사전의 크기입니다\n",
    "gmp_word_vector_dim = 16   # 단어 하나를 표현하는 임베딩 벡터의 차원 수입니다. \n",
    "\n",
    "gmp_model = tf.keras.Sequential()\n",
    "gmp_model.add(tf.keras.layers.Embedding(gmp_vocab_size, gmp_word_vector_dim, input_shape=(None,)))\n",
    "gmp_model.add(tf.keras.layers.GlobalMaxPooling1D())\n",
    "gmp_model.add(tf.keras.layers.Dense(8, activation='relu'))\n",
    "gmp_model.add(tf.keras.layers.Dense(1, activation='sigmoid'))  # 최종 출력은 긍정/부정을 나타내는 1dim 입니다.\n",
    "\n",
    "gmp_model.summary()"
   ]
  },
  {
   "cell_type": "markdown",
   "id": "c4b0c8e7",
   "metadata": {},
   "source": [
    "\n",
    "\n"
   ]
  },
  {
   "cell_type": "markdown",
   "id": "8fc93374",
   "metadata": {},
   "source": [
    "##  &nbsp; &nbsp; 4-2 데이터셋 나누기\n",
    "\n",
    "\n",
    "* Numpy 슬라이싱 기능을 이용해 데이터를 나눠줍니다.\n",
    "* 훈련 데이터 146,182 개 중, 49,157 개를 validation set으로 사용합니다."
   ]
  },
  {
   "cell_type": "code",
   "execution_count": 23,
   "id": "00bd5ce2",
   "metadata": {},
   "outputs": [
    {
     "name": "stdout",
     "output_type": "stream",
     "text": [
      "훈련용 데이터 :  (97025, 41)\n",
      "훈련용 정답 데이터 :  (97025,)\n",
      "\n",
      "검증용 데이터 :  (49157, 41)\n",
      "검증용  정답 데이터 :  (49157,)\n"
     ]
    }
   ],
   "source": [
    "# validation set 49157건 분리\n",
    "X_val = X_train[:49157]   \n",
    "y_val = y_train[:49157]\n",
    "\n",
    "# validation set을 제외한 나머지 = train data \n",
    "partial_X_train = X_train[49157:]  \n",
    "partial_y_train = y_train[49157:]\n",
    "\n",
    "print('훈련용 데이터 : ', partial_X_train.shape)\n",
    "print('훈련용 정답 데이터 : ', partial_y_train.shape)\n",
    "print()\n",
    "print('검증용 데이터 : ', X_val.shape)\n",
    "print('검증용  정답 데이터 : ', y_val.shape)"
   ]
  },
  {
   "cell_type": "code",
   "execution_count": 24,
   "id": "1c895436",
   "metadata": {},
   "outputs": [
    {
     "name": "stdout",
     "output_type": "stream",
     "text": [
      "<class 'numpy.ndarray'>\n",
      "<class 'numpy.ndarray'>\n",
      "<class 'numpy.ndarray'>\n",
      "<class 'numpy.ndarray'>\n"
     ]
    }
   ],
   "source": [
    "# 데이터 타입 확인 \n",
    "\n",
    "print(type(X_train))\n",
    "print(type(y_train))\n",
    "print(type(X_test))\n",
    "print(type(y_test))"
   ]
  },
  {
   "cell_type": "markdown",
   "id": "3a49e036",
   "metadata": {},
   "source": [
    "\n",
    "\n",
    "----\n",
    "\n"
   ]
  },
  {
   "cell_type": "markdown",
   "id": "a36cfab3",
   "metadata": {},
   "source": [
    "# 5. 모델 훈련 개시"
   ]
  },
  {
   "cell_type": "markdown",
   "id": "e8ebf2d1",
   "metadata": {},
   "source": [
    "##  &nbsp; &nbsp; 5-1 모델 훈련하기"
   ]
  },
  {
   "cell_type": "code",
   "execution_count": 25,
   "id": "e7653af1",
   "metadata": {},
   "outputs": [
    {
     "name": "stdout",
     "output_type": "stream",
     "text": [
      "Epoch 1/20\n",
      "190/190 [==============================] - 5s 8ms/step - loss: 0.5378 - accuracy: 0.7476 - val_loss: 0.3791 - val_accuracy: 0.8410\n",
      "Epoch 2/20\n",
      "190/190 [==============================] - 1s 6ms/step - loss: 0.3502 - accuracy: 0.8532 - val_loss: 0.3505 - val_accuracy: 0.8485\n",
      "Epoch 3/20\n",
      "190/190 [==============================] - 1s 6ms/step - loss: 0.3186 - accuracy: 0.8683 - val_loss: 0.3501 - val_accuracy: 0.8495\n",
      "Epoch 4/20\n",
      "190/190 [==============================] - 1s 6ms/step - loss: 0.3014 - accuracy: 0.8782 - val_loss: 0.3491 - val_accuracy: 0.8510\n",
      "Epoch 5/20\n",
      "190/190 [==============================] - 1s 6ms/step - loss: 0.2865 - accuracy: 0.8854 - val_loss: 0.3527 - val_accuracy: 0.8496\n",
      "Epoch 6/20\n",
      "190/190 [==============================] - 1s 6ms/step - loss: 0.2741 - accuracy: 0.8916 - val_loss: 0.3553 - val_accuracy: 0.8500\n",
      "Epoch 7/20\n",
      "190/190 [==============================] - 1s 6ms/step - loss: 0.2616 - accuracy: 0.8980 - val_loss: 0.3659 - val_accuracy: 0.8466\n",
      "Epoch 8/20\n",
      "190/190 [==============================] - 1s 6ms/step - loss: 0.2508 - accuracy: 0.9034 - val_loss: 0.3715 - val_accuracy: 0.8464\n",
      "Epoch 9/20\n",
      "190/190 [==============================] - 1s 6ms/step - loss: 0.2410 - accuracy: 0.9072 - val_loss: 0.3792 - val_accuracy: 0.8470\n",
      "Epoch 10/20\n",
      "190/190 [==============================] - 1s 6ms/step - loss: 0.2308 - accuracy: 0.9117 - val_loss: 0.3916 - val_accuracy: 0.8441\n",
      "Epoch 11/20\n",
      "190/190 [==============================] - 1s 6ms/step - loss: 0.2222 - accuracy: 0.9159 - val_loss: 0.3972 - val_accuracy: 0.8441\n",
      "Epoch 12/20\n",
      "190/190 [==============================] - 1s 6ms/step - loss: 0.2134 - accuracy: 0.9195 - val_loss: 0.4098 - val_accuracy: 0.8433\n",
      "Epoch 13/20\n",
      "190/190 [==============================] - 1s 6ms/step - loss: 0.2048 - accuracy: 0.9234 - val_loss: 0.4128 - val_accuracy: 0.8431\n",
      "Epoch 14/20\n",
      "190/190 [==============================] - 1s 6ms/step - loss: 0.1988 - accuracy: 0.9248 - val_loss: 0.4436 - val_accuracy: 0.8418\n",
      "Epoch 15/20\n",
      "190/190 [==============================] - 1s 6ms/step - loss: 0.1894 - accuracy: 0.9297 - val_loss: 0.4586 - val_accuracy: 0.8407\n",
      "Epoch 16/20\n",
      "190/190 [==============================] - 1s 7ms/step - loss: 0.1813 - accuracy: 0.9333 - val_loss: 0.4658 - val_accuracy: 0.8411\n",
      "Epoch 17/20\n",
      "190/190 [==============================] - 1s 6ms/step - loss: 0.1758 - accuracy: 0.9356 - val_loss: 0.4814 - val_accuracy: 0.8388\n",
      "Epoch 18/20\n",
      "190/190 [==============================] - 1s 6ms/step - loss: 0.1685 - accuracy: 0.9381 - val_loss: 0.5051 - val_accuracy: 0.8375\n",
      "Epoch 19/20\n",
      "190/190 [==============================] - 1s 6ms/step - loss: 0.1632 - accuracy: 0.9407 - val_loss: 0.5188 - val_accuracy: 0.8370\n",
      "Epoch 20/20\n",
      "190/190 [==============================] - 1s 6ms/step - loss: 0.1554 - accuracy: 0.9443 - val_loss: 0.5585 - val_accuracy: 0.8333\n"
     ]
    }
   ],
   "source": [
    "# RNN 모델 훈련하기 \n",
    "padding_where = 'pre'\n",
    "\n",
    "rnn_model.compile(optimizer='adam', loss='binary_crossentropy', metrics=['accuracy'])\n",
    "\n",
    "epochs = 20\n",
    "\n",
    "rnn_history = rnn_model.fit(partial_X_train,partial_y_train,epochs=epochs,\n",
    "                    batch_size=512,validation_data=(X_val, y_val),verbose=1)"
   ]
  },
  {
   "cell_type": "markdown",
   "id": "f715990d",
   "metadata": {},
   "source": [
    "\n",
    "\n"
   ]
  },
  {
   "cell_type": "code",
   "execution_count": 26,
   "id": "3cb8446b",
   "metadata": {},
   "outputs": [
    {
     "name": "stdout",
     "output_type": "stream",
     "text": [
      "Epoch 1/20\n",
      "190/190 [==============================] - 3s 6ms/step - loss: 0.5416 - accuracy: 0.7176 - val_loss: 0.3755 - val_accuracy: 0.8346\n",
      "Epoch 2/20\n",
      "190/190 [==============================] - 1s 5ms/step - loss: 0.3397 - accuracy: 0.8555 - val_loss: 0.3471 - val_accuracy: 0.8496\n",
      "Epoch 3/20\n",
      "190/190 [==============================] - 1s 5ms/step - loss: 0.3020 - accuracy: 0.8739 - val_loss: 0.3478 - val_accuracy: 0.8473\n",
      "Epoch 4/20\n",
      "190/190 [==============================] - 1s 5ms/step - loss: 0.2767 - accuracy: 0.8863 - val_loss: 0.3470 - val_accuracy: 0.8511\n",
      "Epoch 5/20\n",
      "190/190 [==============================] - 1s 5ms/step - loss: 0.2511 - accuracy: 0.8984 - val_loss: 0.3554 - val_accuracy: 0.8498\n",
      "Epoch 6/20\n",
      "190/190 [==============================] - 1s 5ms/step - loss: 0.2244 - accuracy: 0.9135 - val_loss: 0.3745 - val_accuracy: 0.8462\n",
      "Epoch 7/20\n",
      "190/190 [==============================] - 1s 5ms/step - loss: 0.1934 - accuracy: 0.9275 - val_loss: 0.3983 - val_accuracy: 0.8469\n",
      "Epoch 8/20\n",
      "190/190 [==============================] - 1s 5ms/step - loss: 0.1631 - accuracy: 0.9418 - val_loss: 0.4330 - val_accuracy: 0.8401\n",
      "Epoch 9/20\n",
      "190/190 [==============================] - 1s 5ms/step - loss: 0.1349 - accuracy: 0.9541 - val_loss: 0.4771 - val_accuracy: 0.8398\n",
      "Epoch 10/20\n",
      "190/190 [==============================] - 1s 5ms/step - loss: 0.1113 - accuracy: 0.9639 - val_loss: 0.5291 - val_accuracy: 0.8367\n",
      "Epoch 11/20\n",
      "190/190 [==============================] - 1s 5ms/step - loss: 0.0939 - accuracy: 0.9703 - val_loss: 0.5983 - val_accuracy: 0.8344\n",
      "Epoch 12/20\n",
      "190/190 [==============================] - 1s 5ms/step - loss: 0.0797 - accuracy: 0.9762 - val_loss: 0.6377 - val_accuracy: 0.8324\n",
      "Epoch 13/20\n",
      "190/190 [==============================] - 1s 5ms/step - loss: 0.0683 - accuracy: 0.9800 - val_loss: 0.7002 - val_accuracy: 0.8284\n",
      "Epoch 14/20\n",
      "190/190 [==============================] - 1s 5ms/step - loss: 0.0604 - accuracy: 0.9826 - val_loss: 0.7676 - val_accuracy: 0.8273\n",
      "Epoch 15/20\n",
      "190/190 [==============================] - 1s 5ms/step - loss: 0.0531 - accuracy: 0.9851 - val_loss: 0.7819 - val_accuracy: 0.8280\n",
      "Epoch 16/20\n",
      "190/190 [==============================] - 1s 5ms/step - loss: 0.0476 - accuracy: 0.9872 - val_loss: 0.8503 - val_accuracy: 0.8247\n",
      "Epoch 17/20\n",
      "190/190 [==============================] - 1s 5ms/step - loss: 0.0441 - accuracy: 0.9878 - val_loss: 0.8650 - val_accuracy: 0.8231\n",
      "Epoch 18/20\n",
      "190/190 [==============================] - 1s 5ms/step - loss: 0.0393 - accuracy: 0.9897 - val_loss: 0.9137 - val_accuracy: 0.8229\n",
      "Epoch 19/20\n",
      "190/190 [==============================] - 1s 5ms/step - loss: 0.0375 - accuracy: 0.9902 - val_loss: 0.9634 - val_accuracy: 0.8207\n",
      "Epoch 20/20\n",
      "190/190 [==============================] - 1s 5ms/step - loss: 0.0356 - accuracy: 0.9908 - val_loss: 1.0370 - val_accuracy: 0.8226\n"
     ]
    }
   ],
   "source": [
    "# 1-D CNN 모델 훈련하기 \n",
    "padding_where = 'post'\n",
    "\n",
    "cnn1d_model.compile(optimizer='adam', loss='binary_crossentropy', metrics=['accuracy'])\n",
    "\n",
    "epochs = 20\n",
    "\n",
    "cnn1d_history = cnn1d_model.fit(partial_X_train,partial_y_train,epochs=epochs,\n",
    "                    batch_size=512,validation_data=(X_val, y_val),verbose=1)"
   ]
  },
  {
   "cell_type": "markdown",
   "id": "30b727eb",
   "metadata": {},
   "source": [
    "\n",
    "\n"
   ]
  },
  {
   "cell_type": "code",
   "execution_count": 27,
   "id": "f06b478b",
   "metadata": {},
   "outputs": [
    {
     "name": "stdout",
     "output_type": "stream",
     "text": [
      "Epoch 1/20\n",
      "190/190 [==============================] - 1s 4ms/step - loss: 0.6395 - accuracy: 0.6694 - val_loss: 0.5359 - val_accuracy: 0.7955\n",
      "Epoch 2/20\n",
      "190/190 [==============================] - 1s 4ms/step - loss: 0.4459 - accuracy: 0.8272 - val_loss: 0.3913 - val_accuracy: 0.8337\n",
      "Epoch 3/20\n",
      "190/190 [==============================] - 1s 4ms/step - loss: 0.3495 - accuracy: 0.8562 - val_loss: 0.3606 - val_accuracy: 0.8422\n",
      "Epoch 4/20\n",
      "190/190 [==============================] - 1s 4ms/step - loss: 0.3106 - accuracy: 0.8737 - val_loss: 0.3548 - val_accuracy: 0.8450\n",
      "Epoch 5/20\n",
      "190/190 [==============================] - 1s 4ms/step - loss: 0.2847 - accuracy: 0.8856 - val_loss: 0.3560 - val_accuracy: 0.8457\n",
      "Epoch 6/20\n",
      "190/190 [==============================] - 1s 4ms/step - loss: 0.2639 - accuracy: 0.8959 - val_loss: 0.3619 - val_accuracy: 0.8460\n",
      "Epoch 7/20\n",
      "190/190 [==============================] - 1s 4ms/step - loss: 0.2466 - accuracy: 0.9045 - val_loss: 0.3710 - val_accuracy: 0.8456\n",
      "Epoch 8/20\n",
      "190/190 [==============================] - 1s 4ms/step - loss: 0.2310 - accuracy: 0.9113 - val_loss: 0.3799 - val_accuracy: 0.8439\n",
      "Epoch 9/20\n",
      "190/190 [==============================] - 1s 4ms/step - loss: 0.2173 - accuracy: 0.9179 - val_loss: 0.3914 - val_accuracy: 0.8426\n",
      "Epoch 10/20\n",
      "190/190 [==============================] - 1s 4ms/step - loss: 0.2046 - accuracy: 0.9239 - val_loss: 0.4046 - val_accuracy: 0.8404\n",
      "Epoch 11/20\n",
      "190/190 [==============================] - 1s 4ms/step - loss: 0.1930 - accuracy: 0.9294 - val_loss: 0.4179 - val_accuracy: 0.8392\n",
      "Epoch 12/20\n",
      "190/190 [==============================] - 1s 4ms/step - loss: 0.1822 - accuracy: 0.9342 - val_loss: 0.4330 - val_accuracy: 0.8370\n",
      "Epoch 13/20\n",
      "190/190 [==============================] - 1s 4ms/step - loss: 0.1725 - accuracy: 0.9385 - val_loss: 0.4467 - val_accuracy: 0.8361\n",
      "Epoch 14/20\n",
      "190/190 [==============================] - 1s 4ms/step - loss: 0.1636 - accuracy: 0.9425 - val_loss: 0.4634 - val_accuracy: 0.8337\n",
      "Epoch 15/20\n",
      "190/190 [==============================] - 1s 4ms/step - loss: 0.1554 - accuracy: 0.9465 - val_loss: 0.4789 - val_accuracy: 0.8319\n",
      "Epoch 16/20\n",
      "190/190 [==============================] - 1s 4ms/step - loss: 0.1481 - accuracy: 0.9496 - val_loss: 0.4962 - val_accuracy: 0.8314\n",
      "Epoch 17/20\n",
      "190/190 [==============================] - 1s 4ms/step - loss: 0.1409 - accuracy: 0.9527 - val_loss: 0.5111 - val_accuracy: 0.8293\n",
      "Epoch 18/20\n",
      "190/190 [==============================] - 1s 4ms/step - loss: 0.1350 - accuracy: 0.9553 - val_loss: 0.5289 - val_accuracy: 0.8280\n",
      "Epoch 19/20\n",
      "190/190 [==============================] - 1s 4ms/step - loss: 0.1290 - accuracy: 0.9577 - val_loss: 0.5477 - val_accuracy: 0.8262\n",
      "Epoch 20/20\n",
      "190/190 [==============================] - 1s 4ms/step - loss: 0.1240 - accuracy: 0.9598 - val_loss: 0.5640 - val_accuracy: 0.8257\n"
     ]
    }
   ],
   "source": [
    "# GlobalMaxPooling1D 모델 훈련하기 \n",
    "padding_where = 'post'\n",
    "\n",
    "gmp_model.compile(optimizer='adam', loss='binary_crossentropy', metrics=['accuracy'])\n",
    "\n",
    "epochs = 20\n",
    "\n",
    "gmp_history = gmp_model.fit(partial_X_train,partial_y_train,epochs=epochs,\n",
    "                    batch_size=512,validation_data=(X_val, y_val),verbose=1)"
   ]
  },
  {
   "cell_type": "markdown",
   "id": "dd5e5656",
   "metadata": {},
   "source": [
    "\n",
    "\n"
   ]
  },
  {
   "cell_type": "markdown",
   "id": "0f9b1a10",
   "metadata": {},
   "source": [
    "##  &nbsp; &nbsp; 5-2 훈련한 모델 test set으로 평가하기  "
   ]
  },
  {
   "cell_type": "code",
   "execution_count": 28,
   "id": "d1aa84ed",
   "metadata": {},
   "outputs": [
    {
     "name": "stdout",
     "output_type": "stream",
     "text": [
      "--------------------\n",
      "\n",
      "1537/1537 - 3s - loss: 0.5683 - accuracy: 0.8274\n",
      "RNN 모델 결과 : [0.5682597756385803, 0.8274304866790771]\n",
      "\n",
      "--------------------\n",
      "\n",
      "1537/1537 - 2s - loss: 1.0694 - accuracy: 0.8171\n",
      "cnn1d 모델 결과 : [1.069355845451355, 0.8170759081840515]\n",
      "\n",
      "--------------------\n",
      "\n",
      "1537/1537 - 2s - loss: 0.5786 - accuracy: 0.8192\n",
      "gmp 모델 결과 : [0.57858806848526, 0.8191508650779724]\n",
      "\n"
     ]
    }
   ],
   "source": [
    "print('-'*20)\n",
    "print()\n",
    "rnn_results = rnn_model.evaluate(X_test, y_test, verbose=2)\n",
    "print('RNN 모델 결과 :', rnn_results)\n",
    "print()\n",
    "\n",
    "print('-'*20)\n",
    "print()\n",
    "cnn1d_results = cnn1d_model.evaluate(X_test, y_test, verbose=2)\n",
    "print('cnn1d 모델 결과 :', cnn1d_results)\n",
    "print()\n",
    "\n",
    "print('-'*20)\n",
    "print()\n",
    "gmp_results = gmp_model.evaluate(X_test, y_test, verbose=2)\n",
    "print('gmp 모델 결과 :', gmp_results)\n",
    "print()\n"
   ]
  },
  {
   "cell_type": "markdown",
   "id": "867be137",
   "metadata": {},
   "source": [
    "\n",
    "\n",
    "\n",
    "----\n",
    "\n",
    "\n"
   ]
  },
  {
   "cell_type": "markdown",
   "id": "c5d7d347",
   "metadata": {},
   "source": [
    "# 6. Loss, Accuracy 그래프 시각화"
   ]
  },
  {
   "cell_type": "markdown",
   "id": "ac5dfd02",
   "metadata": {},
   "source": [
    "##  &nbsp; &nbsp; 6-1 RNN 모델 Loss, Accuracy 시각화"
   ]
  },
  {
   "cell_type": "code",
   "execution_count": 29,
   "id": "8ffd0c9e",
   "metadata": {},
   "outputs": [
    {
     "data": {
      "image/png": "[encoded data removed]",
      "text/plain": [
       "<Figure size 432x288 with 1 Axes>"
      ]
     },
     "metadata": {
      "needs_background": "light"
     },
     "output_type": "display_data"
    }
   ],
   "source": [
    "rnn_hidi = rnn_history.history\n",
    "\n",
    "# Loss 그래프 시각화 \n",
    "rnn_acc = rnn_hidi['accuracy']\n",
    "rnn_val_acc = rnn_hidi['val_accuracy']\n",
    "rnn_loss = rnn_hidi['loss']\n",
    "rnn_val_loss = rnn_hidi['val_loss']\n",
    "\n",
    "epochs = range(1, len(rnn_acc) + 1)\n",
    "\n",
    "# 'bo' =  파란색 점 \n",
    "plt.plot(epochs, rnn_loss, 'bo', label='Training loss')\n",
    "\n",
    "#'b' = 파란 실선\n",
    "plt.plot(epochs, rnn_val_loss, 'b', label='Validation loss')\n",
    "plt.title('Training and validation loss')\n",
    "plt.xlabel('Epochs')\n",
    "plt.ylabel('Loss')\n",
    "plt.legend()\n",
    "\n",
    "plt.show()"
   ]
  },
  {
   "cell_type": "code",
   "execution_count": 30,
   "id": "aff09b15",
   "metadata": {},
   "outputs": [
    {
     "data": {
      "image/png": "[encoded data removed]",
      "text/plain": [
       "<Figure size 432x288 with 1 Axes>"
      ]
     },
     "metadata": {
      "needs_background": "light"
     },
     "output_type": "display_data"
    }
   ],
   "source": [
    "# Accuracy 그래프 시각화 \n",
    "\n",
    "plt.clf() # 그림을 초기화 합니다.\n",
    "\n",
    "plt.plot(epochs, rnn_acc, 'bo', label='Training acc')\n",
    "plt.plot(epochs, rnn_val_acc, 'b', label='Validation acc')\n",
    "plt.title('Training and Validation accuracy')\n",
    "plt.xlabel('Epochs')\n",
    "plt.ylabel('Accuracy')\n",
    "plt.legend()\n",
    "\n",
    "plt.show()"
   ]
  },
  {
   "cell_type": "markdown",
   "id": "bb7b5413",
   "metadata": {},
   "source": [
    "##  &nbsp; &nbsp; 6-2 1-D CNN 모델 Loss, Accuracy 시각화"
   ]
  },
  {
   "cell_type": "code",
   "execution_count": 31,
   "id": "0c3f2247",
   "metadata": {},
   "outputs": [
    {
     "data": {
      "image/png": "[encoded data removed]",
      "text/plain": [
       "<Figure size 432x288 with 1 Axes>"
      ]
     },
     "metadata": {
      "needs_background": "light"
     },
     "output_type": "display_data"
    }
   ],
   "source": [
    "cnn_hidi = cnn1d_history.history\n",
    "\n",
    "# Loss 그래프 시각화 \n",
    "cnn_acc = cnn_hidi['accuracy']\n",
    "cnn_val_acc = cnn_hidi['val_accuracy']\n",
    "cnn_loss = cnn_hidi['loss']\n",
    "cnn_val_loss = cnn_hidi['val_loss']\n",
    "\n",
    "epochs = range(1, len(cnn_acc) + 1)\n",
    "\n",
    "# 'bo' =  파란색 점 \n",
    "plt.plot(epochs, cnn_loss, 'bo', label='Training loss')\n",
    "\n",
    "#'b' = 파란 실선\n",
    "plt.plot(epochs, cnn_val_loss, 'b', label='Validation loss')\n",
    "plt.title('Training and validation loss')\n",
    "plt.xlabel('Epochs')\n",
    "plt.ylabel('Loss')\n",
    "plt.legend()\n",
    "\n",
    "plt.show()"
   ]
  },
  {
   "cell_type": "code",
   "execution_count": 32,
   "id": "df527d76",
   "metadata": {},
   "outputs": [
    {
     "data": {
      "image/png": "[encoded data removed]",
      "text/plain": [
       "<Figure size 432x288 with 1 Axes>"
      ]
     },
     "metadata": {
      "needs_background": "light"
     },
     "output_type": "display_data"
    }
   ],
   "source": [
    "# Accuracy 그래프 시각화 \n",
    "\n",
    "plt.clf() # 그림을 초기화 합니다.\n",
    "\n",
    "plt.plot(epochs, cnn_acc, 'bo', label='Training acc')\n",
    "plt.plot(epochs, cnn_val_acc, 'b', label='Validation acc')\n",
    "plt.title('Training and Validation accuracy')\n",
    "plt.xlabel('Epochs')\n",
    "plt.ylabel('Accuracy')\n",
    "plt.legend()\n",
    "\n",
    "plt.show()"
   ]
  },
  {
   "cell_type": "markdown",
   "id": "22364688",
   "metadata": {},
   "source": [
    "##  &nbsp; &nbsp; 6-3 GlobalMaxPooling1D 모델 Loss, Accuracy 시각화"
   ]
  },
  {
   "cell_type": "code",
   "execution_count": 33,
   "id": "61160501",
   "metadata": {},
   "outputs": [
    {
     "data": {
      "image/png": "[encoded data removed]",
      "text/plain": [
       "<Figure size 432x288 with 1 Axes>"
      ]
     },
     "metadata": {
      "needs_background": "light"
     },
     "output_type": "display_data"
    }
   ],
   "source": [
    "gmp_hidi = gmp_history.history\n",
    "\n",
    "# Loss 그래프 시각화 \n",
    "gmp_acc = gmp_hidi['accuracy']\n",
    "gmp_val_acc = gmp_hidi['val_accuracy']\n",
    "gmp_loss = gmp_hidi['loss']\n",
    "gmp_val_loss = gmp_hidi['val_loss']\n",
    "\n",
    "epochs = range(1, len(gmp_acc) + 1)\n",
    "\n",
    "# 'bo' =  파란색 점 \n",
    "plt.plot(epochs, gmp_loss, 'bo', label='Training loss')\n",
    "\n",
    "#'b' = 파란 실선\n",
    "plt.plot(epochs, gmp_val_loss, 'b', label='Validation loss')\n",
    "plt.title('Training and validation loss')\n",
    "plt.xlabel('Epochs')\n",
    "plt.ylabel('Loss')\n",
    "plt.legend()\n",
    "\n",
    "plt.show()"
   ]
  },
  {
   "cell_type": "code",
   "execution_count": 34,
   "id": "2788c238",
   "metadata": {},
   "outputs": [
    {
     "data": {
      "image/png": "[encoded data removed]",
      "text/plain": [
       "<Figure size 432x288 with 1 Axes>"
      ]
     },
     "metadata": {
      "needs_background": "light"
     },
     "output_type": "display_data"
    }
   ],
   "source": [
    "# Accuracy 그래프 시각화 \n",
    "\n",
    "plt.clf() # 그림을 초기화 합니다.\n",
    "\n",
    "plt.plot(epochs, gmp_acc, 'bo', label='Training acc')\n",
    "plt.plot(epochs, gmp_val_acc, 'b', label='Validation acc')\n",
    "plt.title('Training and Validation accuracy')\n",
    "plt.xlabel('Epochs')\n",
    "plt.ylabel('Accuracy')\n",
    "plt.legend()\n",
    "\n",
    "plt.show()"
   ]
  },
  {
   "cell_type": "markdown",
   "id": "4ac63bc3",
   "metadata": {},
   "source": [
    "# 7. 학습된 Embedding 레이어 분석"
   ]
  },
  {
   "cell_type": "markdown",
   "id": "9f3fc5f6",
   "metadata": {},
   "source": [
    "##  &nbsp; &nbsp; 7-1 rnn_model\n",
    "\n",
    "* embedding 파라미터 저장하기 \n",
    "* word vector 활용하기 - feat.gensim"
   ]
  },
  {
   "cell_type": "code",
   "execution_count": 35,
   "id": "dd7d8710",
   "metadata": {},
   "outputs": [
    {
     "name": "stdout",
     "output_type": "stream",
     "text": [
      "(10000, 16)\n"
     ]
    }
   ],
   "source": [
    "# rnn_model\n",
    "rnn_embedding_layer = rnn_model.layers[0]\n",
    "rnn_weights = rnn_embedding_layer.get_weights()[0]\n",
    "print(rnn_weights.shape)    # shape: (vocab_size, embedding_dim)"
   ]
  },
  {
   "cell_type": "code",
   "execution_count": 36,
   "id": "768f6c2e",
   "metadata": {},
   "outputs": [
    {
     "name": "stdout",
     "output_type": "stream",
     "text": [
      "저장 완료!\n"
     ]
    }
   ],
   "source": [
    "# 학습한 Embedding 파라미터를 파일에 써서 저장합니다. \n",
    "rnn_word2vec_file_path = os.getenv('HOME')+'/aiffel/sentiment_classification/data/rnn_word2vec.txt'\n",
    "f = open(rnn_word2vec_file_path, 'w')\n",
    "f.write('{} {}\\n'.format(rnn_vocab_size-4, rnn_word_vector_dim))  # 몇개의 벡터를 얼마 사이즈로 기재할지 타이틀을 씁니다.\n",
    "\n",
    "# 단어 개수(에서 특수문자 4개는 제외하고)만큼의 워드 벡터를 파일에 기록합니다. \n",
    "rnn_vectors = rnn_model.get_weights()[0]\n",
    "for i in range(4,rnn_vocab_size):\n",
    "    f.write('{} {}\\n'.format(index_to_word[i], ' '.join(map(str, list(rnn_vectors[i, :])))))\n",
    "f.close()\n",
    "\n",
    "print('저장 완료!')"
   ]
  },
  {
   "cell_type": "code",
   "execution_count": 37,
   "id": "6aed639a",
   "metadata": {},
   "outputs": [
    {
     "data": {
      "text/plain": [
       "array([ 0.13893843,  0.10172984, -0.10479816,  0.12529384,  0.07645668,\n",
       "        0.03261885, -0.1904207 , -0.10765701, -0.14463808, -0.13200027,\n",
       "        0.0719085 , -0.12817329, -0.114555  , -0.14036271,  0.11575121,\n",
       "       -0.0028344 ], dtype=float32)"
      ]
     },
     "execution_count": 37,
     "metadata": {},
     "output_type": "execute_result"
    }
   ],
   "source": [
    "# 임베딩 파라미터 활용하기 \n",
    "\n",
    "rnn_word_vectors = Word2VecKeyedVectors.load_word2vec_format(rnn_word2vec_file_path, binary=False)\n",
    "rnn_vector = rnn_word_vectors['대박'] # 영어가 없기 때문에 한글로 입력 해 줘야함! \n",
    "rnn_vector"
   ]
  },
  {
   "cell_type": "code",
   "execution_count": 38,
   "id": "dd573653",
   "metadata": {},
   "outputs": [
    {
     "data": {
      "text/plain": [
       "[('깎아내리', 0.9752744436264038),\n",
       " ('짙', 0.9685516953468323),\n",
       " ('히스', 0.9662830233573914),\n",
       " ('한층', 0.9590405225753784),\n",
       " ('케미', 0.958183765411377),\n",
       " ('아키라', 0.9569090008735657),\n",
       " ('감탄', 0.9567035436630249),\n",
       " ('슬펐', 0.9566165208816528),\n",
       " ('완벽', 0.9545639157295227),\n",
       " ('명복', 0.9543865919113159)]"
      ]
     },
     "execution_count": 38,
     "metadata": {},
     "output_type": "execute_result"
    }
   ],
   "source": [
    "# gensim 을 이용한 유사도 체크 \n",
    "rnn_word_vectors.similar_by_word(\"대박\")"
   ]
  },
  {
   "cell_type": "markdown",
   "id": "9722240c",
   "metadata": {},
   "source": [
    "\n",
    "\n"
   ]
  },
  {
   "cell_type": "markdown",
   "id": "c523b477",
   "metadata": {},
   "source": [
    "##  &nbsp; &nbsp; 7-2 1-D CNN 모델\n",
    "\n",
    "* embedding 파라미터 저장하기 \n",
    "* word vector 활용하기 - feat.gensim"
   ]
  },
  {
   "cell_type": "code",
   "execution_count": 39,
   "id": "70d7d9d2",
   "metadata": {},
   "outputs": [
    {
     "name": "stdout",
     "output_type": "stream",
     "text": [
      "(10000, 16)\n"
     ]
    }
   ],
   "source": [
    "# cnn1d_model\n",
    "cnn1d_embedding_layer = cnn1d_model.layers[0]\n",
    "cnn1d_weights = cnn1d_embedding_layer.get_weights()[0]\n",
    "print(cnn1d_weights.shape)    # shape: (vocab_size, embedding_dim)"
   ]
  },
  {
   "cell_type": "code",
   "execution_count": 40,
   "id": "b2b26665",
   "metadata": {},
   "outputs": [
    {
     "name": "stdout",
     "output_type": "stream",
     "text": [
      "저장 완료!\n"
     ]
    }
   ],
   "source": [
    "# 학습한 Embedding 파라미터를 파일에 써서 저장합니다. \n",
    "cnn1d_word2vec_file_path = os.getenv('HOME')+'/aiffel/sentiment_classification/data/cnn1d_word2vec.txt'\n",
    "f = open(cnn1d_word2vec_file_path, 'w')\n",
    "f.write('{} {}\\n'.format(cnn1d_vocab_size-4, cnn1d_word_vector_dim))  # 몇개의 벡터를 얼마 사이즈로 기재할지 타이틀을 씁니다.\n",
    "\n",
    "# 단어 개수(에서 특수문자 4개는 제외하고)만큼의 워드 벡터를 파일에 기록합니다. \n",
    "cnn1d_vectors = cnn1d_model.get_weights()[0]\n",
    "for i in range(4,cnn1d_vocab_size):\n",
    "    f.write('{} {}\\n'.format(index_to_word[i], ' '.join(map(str, list(cnn1d_vectors[i, :])))))\n",
    "f.close()\n",
    "\n",
    "print('저장 완료!')"
   ]
  },
  {
   "cell_type": "code",
   "execution_count": 41,
   "id": "02b3c61c",
   "metadata": {},
   "outputs": [
    {
     "data": {
      "text/plain": [
       "array([ 0.039374  ,  0.16920497,  0.16574742,  0.00164253,  0.1127745 ,\n",
       "       -0.1004431 , -0.0995655 , -0.03992726, -0.04233261,  0.15461425,\n",
       "       -0.07021619, -0.20820665, -0.0929801 ,  0.12385007,  0.04156624,\n",
       "        0.0048484 ], dtype=float32)"
      ]
     },
     "execution_count": 41,
     "metadata": {},
     "output_type": "execute_result"
    }
   ],
   "source": [
    "# 임베딩 파라미터 활용하기 \n",
    "\n",
    "cnn1d_word_vectors = Word2VecKeyedVectors.load_word2vec_format(cnn1d_word2vec_file_path, binary=False)\n",
    "cnn1d_vector = cnn1d_word_vectors['대박'] # 영어가 없기 때문에 한글로 입력 해 줘야함! \n",
    "cnn1d_vector"
   ]
  },
  {
   "cell_type": "code",
   "execution_count": 42,
   "id": "81ae9a90",
   "metadata": {},
   "outputs": [
    {
     "data": {
      "text/plain": [
       "[('저격', 0.9000811576843262),\n",
       " ('갑시다', 0.8983970284461975),\n",
       " ('후속', 0.8923985958099365),\n",
       " ('보듬', 0.8796246647834778),\n",
       " ('서민', 0.8790039420127869),\n",
       " ('엉엉', 0.8786578178405762),\n",
       " ('원본', 0.8741585612297058),\n",
       " ('예민', 0.8737156391143799),\n",
       " ('꺄', 0.8735411167144775),\n",
       " ('사자', 0.8665894269943237)]"
      ]
     },
     "execution_count": 42,
     "metadata": {},
     "output_type": "execute_result"
    }
   ],
   "source": [
    "# gensim 을 이용한 유사도 체크 \n",
    "cnn1d_word_vectors.similar_by_word(\"대박\")"
   ]
  },
  {
   "cell_type": "markdown",
   "id": "4b83b8cb",
   "metadata": {},
   "source": [
    "##  &nbsp; &nbsp; 7-3 GlobalMaxPooling1D 모델\n",
    "\n",
    "* embedding 파라미터 저장하기 \n",
    "* word vector 활용하기 - feat.gensim"
   ]
  },
  {
   "cell_type": "code",
   "execution_count": 43,
   "id": "9556c69c",
   "metadata": {},
   "outputs": [
    {
     "name": "stdout",
     "output_type": "stream",
     "text": [
      "(10000, 16)\n"
     ]
    }
   ],
   "source": [
    "# gmp_model \n",
    "\n",
    "gmp_embedding_layer = gmp_model.layers[0]\n",
    "gmp_weights = gmp_embedding_layer.get_weights()[0]\n",
    "print(gmp_weights.shape)    # shape: (vocab_size, embedding_dim)"
   ]
  },
  {
   "cell_type": "code",
   "execution_count": 44,
   "id": "283b899d",
   "metadata": {},
   "outputs": [
    {
     "name": "stdout",
     "output_type": "stream",
     "text": [
      "저장 완료!\n"
     ]
    }
   ],
   "source": [
    "# 학습한 Embedding 파라미터를 파일에 써서 저장합니다. \n",
    "gmp_word2vec_file_path = os.getenv('HOME')+'/aiffel/sentiment_classification/data/gmp_word2vec.txt'\n",
    "f = open(gmp_word2vec_file_path, 'w')\n",
    "f.write('{} {}\\n'.format(gmp_vocab_size-4, gmp_word_vector_dim))  # 몇개의 벡터를 얼마 사이즈로 기재할지 타이틀을 씁니다.\n",
    "\n",
    "# 단어 개수(에서 특수문자 4개는 제외하고)만큼의 워드 벡터를 파일에 기록합니다. \n",
    "gmp_vectors = gmp_model.get_weights()[0]\n",
    "for i in range(4,gmp_vocab_size):\n",
    "    f.write('{} {}\\n'.format(index_to_word[i], ' '.join(map(str, list(gmp_vectors[i, :])))))\n",
    "f.close()\n",
    "\n",
    "print('저장 완료!')"
   ]
  },
  {
   "cell_type": "code",
   "execution_count": 45,
   "id": "ac9978f8",
   "metadata": {},
   "outputs": [
    {
     "data": {
      "text/plain": [
       "array([-0.2740265 ,  0.03088474, -0.2976206 , -0.03994615, -0.05391282,\n",
       "        0.00619487,  0.1064515 , -0.03698393, -0.03348894, -0.05702455,\n",
       "        0.03400817,  0.13802676, -0.22855347,  0.16400017, -0.20134625,\n",
       "       -0.19959547], dtype=float32)"
      ]
     },
     "execution_count": 45,
     "metadata": {},
     "output_type": "execute_result"
    }
   ],
   "source": [
    "# 임베딩 파라미터 활용하기 \n",
    "\n",
    "gmp_word_vectors = Word2VecKeyedVectors.load_word2vec_format(gmp_word2vec_file_path, binary=False)\n",
    "gmp_vector = gmp_word_vectors['대박'] # 영어가 없기 때문에 한글로 입력 해 줘야함! \n",
    "gmp_vector"
   ]
  },
  {
   "cell_type": "code",
   "execution_count": 46,
   "id": "a6141d52",
   "metadata": {},
   "outputs": [
    {
     "data": {
      "text/plain": [
       "[('미치', 0.7993509769439697),\n",
       " ('영화사', 0.7653915882110596),\n",
       " ('먼가', 0.754611611366272),\n",
       " ('마녀', 0.7409251928329468),\n",
       " ('였으면', 0.716974675655365),\n",
       " ('이야말로', 0.6937915086746216),\n",
       " ('감사', 0.6902768611907959),\n",
       " ('기동대', 0.6879042983055115),\n",
       " ('모자르', 0.6818786263465881),\n",
       " ('남녀', 0.6810275912284851)]"
      ]
     },
     "execution_count": 46,
     "metadata": {},
     "output_type": "execute_result"
    }
   ],
   "source": [
    "# gensim 을 이용한 유사도 체크 \n",
    "gmp_word_vectors.similar_by_word(\"대박\")"
   ]
  },
  {
   "cell_type": "markdown",
   "id": "657b9e7c",
   "metadata": {},
   "source": [
    "\n",
    "\n"
   ]
  },
  {
   "cell_type": "markdown",
   "id": "067d84ca",
   "metadata": {},
   "source": [
    "##  &nbsp; &nbsp; 7-4 gensim 을 이용한 유사도 체크 "
   ]
  },
  {
   "cell_type": "code",
   "execution_count": 106,
   "id": "695d1d64",
   "metadata": {},
   "outputs": [
    {
     "name": "stdout",
     "output_type": "stream",
     "text": [
      "\n",
      "RNN 모델의 경우\n",
      "--------------------\n"
     ]
    },
    {
     "data": {
      "text/plain": [
       "[('가능', 0.8562612533569336),\n",
       " ('무엇', 0.8547843098640442),\n",
       " ('그것', 0.8510684967041016),\n",
       " ('드라마', 0.8479664921760559),\n",
       " ('드', 0.8293106555938721),\n",
       " ('던데', 0.8284571170806885),\n",
       " ('개취', 0.8210386633872986),\n",
       " ('헤헤', 0.8206375241279602),\n",
       " ('싶', 0.8168586492538452),\n",
       " ('도입부', 0.8165989518165588)]"
      ]
     },
     "execution_count": 106,
     "metadata": {},
     "output_type": "execute_result"
    }
   ],
   "source": [
    "print()\n",
    "print('RNN 모델의 경우')\n",
    "print('-'*20)\n",
    "rnn_word_vectors.similar_by_word(\"영화\")"
   ]
  },
  {
   "cell_type": "code",
   "execution_count": 105,
   "id": "d732b9e2",
   "metadata": {},
   "outputs": [
    {
     "name": "stdout",
     "output_type": "stream",
     "text": [
      "\n",
      "1-D CNN 모델의 경우 \n",
      "--------------------\n"
     ]
    },
    {
     "data": {
      "text/plain": [
       "[('학년', 0.7735331654548645),\n",
       " ('중요', 0.7191006541252136),\n",
       " ('안전', 0.7190299034118652),\n",
       " ('블', 0.7175517082214355),\n",
       " ('고', 0.7161295413970947),\n",
       " ('힘겹', 0.7054141759872437),\n",
       " ('간접', 0.6997145414352417),\n",
       " ('서영희', 0.697860598564148),\n",
       " ('다', 0.680226743221283),\n",
       " ('라디오스타', 0.6761251091957092)]"
      ]
     },
     "execution_count": 105,
     "metadata": {},
     "output_type": "execute_result"
    }
   ],
   "source": [
    "print()\n",
    "print('1-D CNN 모델의 경우 ')\n",
    "print('-'*20)\n",
    "cnn1d_word_vectors.similar_by_word(\"영화\")"
   ]
  },
  {
   "cell_type": "code",
   "execution_count": 104,
   "id": "97fdb57e",
   "metadata": {},
   "outputs": [
    {
     "name": "stdout",
     "output_type": "stream",
     "text": [
      "\n",
      "--------------------\n",
      "GlobalMaxPooling1D 모델의 경우\n"
     ]
    },
    {
     "data": {
      "text/plain": [
       "[('다', 0.994683027267456),\n",
       " ('.', 0.9911369681358337),\n",
       " ('하', 0.9845334887504578),\n",
       " ('음', 0.9832894802093506),\n",
       " ('보', 0.9777811765670776),\n",
       " ('을', 0.977500855922699),\n",
       " ('만드', 0.972870945930481),\n",
       " ('이런', 0.972858190536499),\n",
       " ('했', 0.9705963134765625),\n",
       " ('많이', 0.9695299863815308)]"
      ]
     },
     "execution_count": 104,
     "metadata": {},
     "output_type": "execute_result"
    }
   ],
   "source": [
    "print()\n",
    "print('-'*20)\n",
    "print('GlobalMaxPooling1D 모델의 경우')\n",
    "gmp_word_vectors.similar_by_word(\"영화\")"
   ]
  },
  {
   "cell_type": "markdown",
   "id": "5812c23c",
   "metadata": {},
   "source": [
    "\n",
    "\n",
    "\n",
    "----\n",
    "\n",
    "\n"
   ]
  },
  {
   "cell_type": "markdown",
   "id": "19fdd5a8",
   "metadata": {},
   "source": [
    "# 8. 한국어 Word2Vec 임베딩 활용하여 성능 개선"
   ]
  },
  {
   "cell_type": "markdown",
   "id": "e277a9b6",
   "metadata": {},
   "source": [
    "\n",
    "##  &nbsp; &nbsp; 8-1 gensim 버전 다운그레이드 \n"
   ]
  },
  {
   "cell_type": "markdown",
   "id": "0005d0c0",
   "metadata": {},
   "source": [
    "* 한국어 Word2Vec의 버전이, lms 노드의 버전과 달라 버전을 다운그레이드 해 줘야한다.\n",
    "* 우선, 현재 gensim의 버전은 '4.1.2' \n",
    "* 3.X.X 대로 낮춰줘야 오류가 없기 때문에 다운그레이드 해 줍시다! "
   ]
  },
  {
   "cell_type": "code",
   "execution_count": 50,
   "id": "f4b6a2c0",
   "metadata": {},
   "outputs": [
    {
     "data": {
      "text/plain": [
       "'3.8.3'"
      ]
     },
     "execution_count": 50,
     "metadata": {},
     "output_type": "execute_result"
    }
   ],
   "source": [
    "import gensim\n",
    "gensim.__version__ "
   ]
  },
  {
   "cell_type": "code",
   "execution_count": 51,
   "id": "bceb62fe",
   "metadata": {
    "scrolled": true
   },
   "outputs": [
    {
     "name": "stdout",
     "output_type": "stream",
     "text": [
      "Requirement already satisfied: gensim in /opt/conda/lib/python3.9/site-packages (3.8.3)\n",
      "Requirement already satisfied: scipy>=0.18.1 in /opt/conda/lib/python3.9/site-packages (from gensim) (1.7.1)\n",
      "Requirement already satisfied: six>=1.5.0 in /opt/conda/lib/python3.9/site-packages (from gensim) (1.16.0)\n",
      "Requirement already satisfied: smart-open>=1.8.1 in /opt/conda/lib/python3.9/site-packages (from gensim) (5.2.1)\n",
      "Requirement already satisfied: numpy>=1.11.3 in /opt/conda/lib/python3.9/site-packages (from gensim) (1.21.4)\n",
      "\u001b[33mWARNING: Running pip as the 'root' user can result in broken permissions and conflicting behaviour with the system package manager. It is recommended to use a virtual environment instead: https://pip.pypa.io/warnings/venv\u001b[0m\n",
      "Requirement already satisfied: gensim==3.8.3 in /opt/conda/lib/python3.9/site-packages (3.8.3)\n",
      "Requirement already satisfied: six>=1.5.0 in /opt/conda/lib/python3.9/site-packages (from gensim==3.8.3) (1.16.0)\n",
      "Requirement already satisfied: scipy>=0.18.1 in /opt/conda/lib/python3.9/site-packages (from gensim==3.8.3) (1.7.1)\n",
      "Requirement already satisfied: numpy>=1.11.3 in /opt/conda/lib/python3.9/site-packages (from gensim==3.8.3) (1.21.4)\n",
      "Requirement already satisfied: smart-open>=1.8.1 in /opt/conda/lib/python3.9/site-packages (from gensim==3.8.3) (5.2.1)\n",
      "\u001b[33mWARNING: Running pip as the 'root' user can result in broken permissions and conflicting behaviour with the system package manager. It is recommended to use a virtual environment instead: https://pip.pypa.io/warnings/venv\u001b[0m\n"
     ]
    }
   ],
   "source": [
    "!pip install gensim  \n",
    "!pip install --upgrade gensim==3.8.3 #[버전 다운그레이드 하는 코드]"
   ]
  },
  {
   "cell_type": "code",
   "execution_count": 52,
   "id": "4b43040c",
   "metadata": {
    "scrolled": true
   },
   "outputs": [
    {
     "name": "stdout",
     "output_type": "stream",
     "text": [
      "gensim                        3.8.3\r\n"
     ]
    }
   ],
   "source": [
    "!pip list | grep gensim"
   ]
  },
  {
   "cell_type": "code",
   "execution_count": 53,
   "id": "cf6e07ab",
   "metadata": {},
   "outputs": [
    {
     "data": {
      "text/plain": [
       "'3.8.3'"
      ]
     },
     "execution_count": 53,
     "metadata": {},
     "output_type": "execute_result"
    }
   ],
   "source": [
    "gensim.__version__ "
   ]
  },
  {
   "cell_type": "markdown",
   "id": "ac75a067",
   "metadata": {},
   "source": [
    "##  &nbsp; &nbsp; 8-2  한국어 Word2Vec 불러오기\n",
    "\n",
    "* [한국어 Word2Vec 다운로드 경로](https://github.com/Kyubyong/wordvectors) 에서 word2vec용 ko.bin 파일을 다운받아 가져왔다 "
   ]
  },
  {
   "cell_type": "code",
   "execution_count": 56,
   "id": "293ec239",
   "metadata": {},
   "outputs": [],
   "source": [
    "word2vec_path = os.getenv('HOME')+'/aiffel/sentiment_classification/data/ko.bin'"
   ]
  },
  {
   "cell_type": "code",
   "execution_count": 61,
   "id": "273bcb6b",
   "metadata": {},
   "outputs": [],
   "source": [
    "word2vec = gensim.models.Word2Vec.load(word2vec_path)"
   ]
  },
  {
   "cell_type": "code",
   "execution_count": 62,
   "id": "a010a03c",
   "metadata": {},
   "outputs": [
    {
     "name": "stderr",
     "output_type": "stream",
     "text": [
      "/tmp/ipykernel_2592/2012081322.py:1: DeprecationWarning: Call to deprecated `__getitem__` (Method will be removed in 4.0.0, use self.wv.__getitem__() instead).\n",
      "  vector = word2vec['한글']\n"
     ]
    },
    {
     "data": {
      "text/plain": [
       "array([ 1.6128085 , -1.1544337 , -0.5932879 ,  1.0139976 ,  0.14398324,\n",
       "        0.06146022, -1.2307618 ,  1.246725  , -0.36126938, -0.58117795,\n",
       "       -1.7926406 ,  1.1809887 ,  0.09327681, -2.1807477 , -0.61531913,\n",
       "        0.8726902 , -1.0970036 ,  1.3963151 ,  1.0671253 , -1.8440446 ,\n",
       "        0.8027888 ,  0.29326743, -0.9776343 , -0.2296304 ,  1.3892593 ,\n",
       "        0.6026744 , -1.0210171 , -1.1725664 ,  0.6729586 , -0.23679246,\n",
       "        0.8755139 ,  1.3650341 ,  0.55645025,  0.09423062, -1.202211  ,\n",
       "        0.17125276,  0.68014663,  2.7045243 ,  2.2534132 , -0.40493518,\n",
       "        0.1276657 , -2.671103  ,  2.6819725 , -0.7603048 , -2.144086  ,\n",
       "        2.8544457 , -0.33210874, -1.9362477 , -0.77313316, -0.7834715 ,\n",
       "        1.4361358 , -1.2351226 ,  0.07767043, -0.15594688,  0.12987676,\n",
       "       -0.0743077 , -0.24870954, -1.8310938 , -0.98321086, -1.469205  ,\n",
       "        0.5321793 , -1.3140066 , -1.1456997 ,  2.8354068 ,  0.19710186,\n",
       "        0.63099426,  1.2202299 , -1.2086796 , -0.85067475,  0.7593816 ,\n",
       "        0.9705132 ,  1.8259476 , -0.54955995,  0.5789742 ,  0.9653833 ,\n",
       "        0.45097315,  1.0555303 , -0.71573704,  0.506164  , -0.9095789 ,\n",
       "        0.7870693 ,  0.842119  ,  0.4562458 , -1.9266844 , -0.9313583 ,\n",
       "       -0.28440422, -0.30032527, -0.40123662, -1.370312  , -1.9152071 ,\n",
       "       -0.13808692, -0.5636473 ,  0.74652493,  1.1422127 ,  1.4295055 ,\n",
       "        0.9839306 , -1.1871864 , -0.63372326,  0.8062951 , -0.06602068,\n",
       "        0.92066985, -0.08537491, -0.45479375, -0.17416571,  1.8781422 ,\n",
       "       -0.65846086, -0.4671977 ,  1.669423  ,  0.50819105, -0.09349135,\n",
       "        1.2363751 , -1.3103062 ,  0.41835168,  0.73918766,  0.47540528,\n",
       "       -1.798618  , -2.8838928 , -0.18904181,  1.3377451 ,  0.634244  ,\n",
       "        0.10872389,  0.01598469,  0.5772155 , -2.5229485 ,  0.38646892,\n",
       "       -1.3386947 ,  1.5613937 , -0.05148903,  1.6195302 ,  0.12066105,\n",
       "        0.29661143, -1.072869  , -0.8857779 , -0.40223166, -0.03964465,\n",
       "        1.1299219 , -0.3270903 ,  1.4745278 ,  1.7464423 ,  1.0056263 ,\n",
       "       -0.0557272 , -0.5598403 ,  1.9507554 ,  0.99081326, -0.40549636,\n",
       "       -1.2629977 , -1.1606399 , -0.36650214,  0.14337738, -3.2541401 ,\n",
       "       -0.46796575,  0.4456011 , -0.9228994 , -1.366442  ,  0.39670816,\n",
       "       -1.3685828 , -1.1121981 , -0.07972217,  0.55967706, -1.2107358 ,\n",
       "       -1.7678034 , -1.1087395 , -2.6895509 , -1.2816322 , -3.254796  ,\n",
       "        2.2909484 , -1.1935155 ,  1.0399684 ,  0.05242679,  2.5917294 ,\n",
       "       -1.5880809 ,  0.05620534,  2.400527  ,  0.33642232,  0.46199137,\n",
       "       -0.69544584, -0.9550689 ,  1.2248093 ,  0.94407374, -0.1749091 ,\n",
       "        0.9531888 ,  0.67863375,  1.1852541 , -0.4842661 , -0.05052509,\n",
       "       -1.5156362 ,  0.18238036,  2.978726  ,  0.12318379, -1.1091132 ,\n",
       "       -1.439733  ,  0.24881394,  3.6425436 ,  0.432245  , -0.20115452,\n",
       "        0.65655786, -0.25236914, -0.46067324,  1.074757  ,  0.7694843 ],\n",
       "      dtype=float32)"
      ]
     },
     "execution_count": 62,
     "metadata": {},
     "output_type": "execute_result"
    }
   ],
   "source": [
    "vector = word2vec['한글']\n",
    "vector "
   ]
  },
  {
   "cell_type": "code",
   "execution_count": 65,
   "id": "3e983452",
   "metadata": {},
   "outputs": [
    {
     "name": "stderr",
     "output_type": "stream",
     "text": [
      "/tmp/ipykernel_2592/2903394802.py:2: DeprecationWarning: Call to deprecated `similar_by_word` (Method will be removed in 4.0.0, use self.wv.similar_by_word() instead).\n",
      "  word2vec.similar_by_word(\"밥\")\n"
     ]
    },
    {
     "data": {
      "text/plain": [
       "[('스폰지', 0.6359171867370605),\n",
       " ('반찬', 0.6288836002349854),\n",
       " ('떡', 0.6208181381225586),\n",
       " ('계란', 0.6053064465522766),\n",
       " ('시럽', 0.6036492586135864),\n",
       " ('초콜릿', 0.6027452349662781),\n",
       " ('푸딩', 0.5942443609237671),\n",
       " ('국물', 0.5894560813903809),\n",
       " ('치킨', 0.589329719543457),\n",
       " ('비스킷', 0.5666051506996155)]"
      ]
     },
     "execution_count": 65,
     "metadata": {},
     "output_type": "execute_result"
    }
   ],
   "source": [
    "# 제시한 단어와 연관 단어를 찾아볼까나\n",
    "word2vec.similar_by_word(\"밥\")"
   ]
  },
  {
   "cell_type": "markdown",
   "id": "879b0c64",
   "metadata": {},
   "source": [
    "~~아 스폰지밥이라서 밥에 나온거야?~~"
   ]
  },
  {
   "cell_type": "code",
   "execution_count": 103,
   "id": "17512a59",
   "metadata": {},
   "outputs": [
    {
     "name": "stderr",
     "output_type": "stream",
     "text": [
      "/tmp/ipykernel_2592/695650924.py:2: DeprecationWarning: Call to deprecated `similar_by_word` (Method will be removed in 4.0.0, use self.wv.similar_by_word() instead).\n",
      "  word2vec.similar_by_word(\"영화\")\n"
     ]
    },
    {
     "data": {
      "text/plain": [
       "[('다큐멘터리', 0.7265259027481079),\n",
       " ('영화사', 0.715214192867279),\n",
       " ('드라마', 0.705294132232666),\n",
       " ('뮤지컬', 0.6947016716003418),\n",
       " ('코미디', 0.69093257188797),\n",
       " ('영화인', 0.6702202558517456),\n",
       " ('서부극', 0.6571458578109741),\n",
       " ('스릴러', 0.6533164978027344),\n",
       " ('로맨스', 0.6428799629211426),\n",
       " ('애니메이션', 0.6425570249557495)]"
      ]
     },
     "execution_count": 103,
     "metadata": {},
     "output_type": "execute_result"
    }
   ],
   "source": [
    "# 제시한 단어와 연관 단어를 찾아볼까나\n",
    "word2vec.similar_by_word(\"영화\")"
   ]
  },
  {
   "cell_type": "markdown",
   "id": "00347e22",
   "metadata": {},
   "source": [
    "* 7-4 에서 했던 유사도 체크 결과 보다 훨씬 유사한 단어, 연관있는 단어를 찾았다. \n",
    "    (밥 을 입력했을때 스폰지가 나온건 정말 생각도 못했는데) \n",
    "    \n",
    "* 임베딩 레이어를 한국어 Word2Vec 으로 변경해 준다면, 위에 보다 훨신 더 좋은 결과를 얻을 수 있지 않을까?! "
   ]
  },
  {
   "cell_type": "markdown",
   "id": "37df789d",
   "metadata": {},
   "source": [
    "##  &nbsp; &nbsp; 8-3  모델의 enbedding layer 교체하기"
   ]
  },
  {
   "cell_type": "code",
   "execution_count": 67,
   "id": "7ae01932",
   "metadata": {},
   "outputs": [
    {
     "name": "stderr",
     "output_type": "stream",
     "text": [
      "/tmp/ipykernel_2592/1828759073.py:8: DeprecationWarning: Call to deprecated `__contains__` (Method will be removed in 4.0.0, use self.wv.__contains__() instead).\n",
      "  if index_to_word[i] in word2vec:\n",
      "/tmp/ipykernel_2592/1828759073.py:9: DeprecationWarning: Call to deprecated `__getitem__` (Method will be removed in 4.0.0, use self.wv.__getitem__() instead).\n",
      "  embedding_matrix[i] = word2vec[index_to_word[i]]\n"
     ]
    },
    {
     "ename": "ValueError",
     "evalue": "could not broadcast input array from shape (200,) into shape (300,)",
     "output_type": "error",
     "traceback": [
      "\u001b[0;31m---------------------------------------------------------------------------\u001b[0m",
      "\u001b[0;31mValueError\u001b[0m                                Traceback (most recent call last)",
      "\u001b[0;32m/tmp/ipykernel_2592/1828759073.py\u001b[0m in \u001b[0;36m<module>\u001b[0;34m\u001b[0m\n\u001b[1;32m      7\u001b[0m \u001b[0;32mfor\u001b[0m \u001b[0mi\u001b[0m \u001b[0;32min\u001b[0m \u001b[0mrange\u001b[0m\u001b[0;34m(\u001b[0m\u001b[0;36m4\u001b[0m\u001b[0;34m,\u001b[0m \u001b[0mvocab_size\u001b[0m\u001b[0;34m)\u001b[0m\u001b[0;34m:\u001b[0m\u001b[0;34m\u001b[0m\u001b[0;34m\u001b[0m\u001b[0m\n\u001b[1;32m      8\u001b[0m     \u001b[0;32mif\u001b[0m \u001b[0mindex_to_word\u001b[0m\u001b[0;34m[\u001b[0m\u001b[0mi\u001b[0m\u001b[0;34m]\u001b[0m \u001b[0;32min\u001b[0m \u001b[0mword2vec\u001b[0m\u001b[0;34m:\u001b[0m\u001b[0;34m\u001b[0m\u001b[0;34m\u001b[0m\u001b[0m\n\u001b[0;32m----> 9\u001b[0;31m         \u001b[0membedding_matrix\u001b[0m\u001b[0;34m[\u001b[0m\u001b[0mi\u001b[0m\u001b[0;34m]\u001b[0m \u001b[0;34m=\u001b[0m \u001b[0mword2vec\u001b[0m\u001b[0;34m[\u001b[0m\u001b[0mindex_to_word\u001b[0m\u001b[0;34m[\u001b[0m\u001b[0mi\u001b[0m\u001b[0;34m]\u001b[0m\u001b[0;34m]\u001b[0m\u001b[0;34m\u001b[0m\u001b[0;34m\u001b[0m\u001b[0m\n\u001b[0m",
      "\u001b[0;31mValueError\u001b[0m: could not broadcast input array from shape (200,) into shape (300,)"
     ]
    }
   ],
   "source": [
    "# #임베딩 레이어 교체! 오류가 있어 주석 처리 하였습니다. \n",
    "# vocab_size = 10000\n",
    "# word_vector_dim = 300 #워드 벡터의 차원 수\n",
    "# embedding_matrix = np.random.rand(vocab_size, word_vector_dim)\n",
    "\n",
    "# embedding_matrix에 Word2Vec 워드 벡터를 단어 하나씩마다 차례차례 카피한다.\n",
    "# for i in range(4, vocab_size):\n",
    "#     if index_to_word[i] in word2vec:\n",
    "#         embedding_matrix[i] = word2vec[index_to_word[i]]"
   ]
  },
  {
   "attachments": {
    "image-2.png": {
     "image/png": "[encoded data removed]"
    },
    "image.png": {
     "image/png": "[encoded data removed]"
    }
   },
   "cell_type": "markdown",
   "id": "e09fcef0",
   "metadata": {},
   "source": [
    "![image-2.png](attachment:image-2.png)\n",
    "\n",
    "\n",
    "\n",
    "* LMS에서 했던 파라미터를 그대로 가져왔더니, could not broadcast input array from shape (200,) into shape (300,) 라는 오류가 발생하였다. 300 을 200에 집어넣을 수 없다 라는 말 같은데, 300은 ```word_vector_dim = 300``` 인것 같은데, 200은 어디서 왔느냐.. \n",
    "\n",
    "\n",
    "* 정답은 ko.bin을 다운받았던 사이트에 있었다. \n",
    "![image.png](attachment:image.png)\n",
    "\n",
    "    ko.bin의 벡터 사이즈는 200, vocab_size도 30185 라고 명시되어 있다.  \n",
    "    vocab_size는 문제가 없을 걸로 생각하고, word_vector_dim 만 200으로 바꿔서 해보자."
   ]
  },
  {
   "cell_type": "code",
   "execution_count": 70,
   "id": "3b4de7ae",
   "metadata": {},
   "outputs": [
    {
     "name": "stdout",
     "output_type": "stream",
     "text": [
      "워드 벡터 카피 완료!\n"
     ]
    },
    {
     "name": "stderr",
     "output_type": "stream",
     "text": [
      "/tmp/ipykernel_2592/2322596148.py:8: DeprecationWarning: Call to deprecated `__contains__` (Method will be removed in 4.0.0, use self.wv.__contains__() instead).\n",
      "  if index_to_word[i] in word2vec:\n",
      "/tmp/ipykernel_2592/2322596148.py:9: DeprecationWarning: Call to deprecated `__getitem__` (Method will be removed in 4.0.0, use self.wv.__getitem__() instead).\n",
      "  embedding_matrix[i] = word2vec[index_to_word[i]]\n"
     ]
    }
   ],
   "source": [
    "#임베딩 레이어 교체 \n",
    "vocab_size = 10000\n",
    "word_vector_dim = 200 #워드 벡터의 차원 수\n",
    "embedding_matrix = np.random.rand(vocab_size, word_vector_dim)\n",
    "\n",
    "# embedding_matrix에 Word2Vec 워드 벡터를 단어 하나씩마다 차례차례 카피한다.\n",
    "for i in range(4, vocab_size):\n",
    "    if index_to_word[i] in word2vec:\n",
    "        embedding_matrix[i] = word2vec[index_to_word[i]]\n",
    "\n",
    "print('워드 벡터 카피 완료!')"
   ]
  },
  {
   "cell_type": "markdown",
   "id": "d7529427",
   "metadata": {},
   "source": [
    "\n",
    "\n",
    "\n"
   ]
  },
  {
   "cell_type": "markdown",
   "id": "a2056bd7",
   "metadata": {},
   "source": [
    "\n",
    "\n"
   ]
  },
  {
   "cell_type": "markdown",
   "id": "bfb7d2f0",
   "metadata": {},
   "source": [
    "##  &nbsp; &nbsp; 8-4 한국어 Word2Vec 로 모델 구성, 학습, 예측하기\n",
    "\n",
    "* RNN 모델 , 1-D CNN 모델, GlobalMaxPooling1D 모델 세 모델을 구성해보겠습니다.\n",
    "\n",
    "\n",
    "* 구형, 신형 구분을 위해 naming 적용. ( 구형 -> 신형)  \n",
    "    * RNN 모델 : rnn_ -> rn2_\n",
    "    * 1-D CNN 모델 : cnn1d_ -> cn2_\n",
    "    * GlobalMaxPooling1D 모델 : gmp_ -> gp2_ \n",
    "\n",
    "\n",
    "* vocab_size, word_vector_dim 은 ```#임베딩 레이어 교체``` 시 썼던 값을 그대로 사용합니다. \n",
    "\n",
    "* 모델의 epoch 값은 5로 설정. "
   ]
  },
  {
   "cell_type": "code",
   "execution_count": 185,
   "id": "717f83c7",
   "metadata": {},
   "outputs": [],
   "source": [
    "# 파라미터 설정 \n",
    "\n",
    "epochs = 10\n",
    "dense = 64"
   ]
  },
  {
   "cell_type": "markdown",
   "id": "06129ce4",
   "metadata": {},
   "source": [
    "###  &nbsp; &nbsp; &nbsp; &nbsp; 8-4-1 RNN 모델"
   ]
  },
  {
   "cell_type": "code",
   "execution_count": 186,
   "id": "894680d2",
   "metadata": {},
   "outputs": [
    {
     "name": "stdout",
     "output_type": "stream",
     "text": [
      "Model: \"sequential_31\"\n",
      "_________________________________________________________________\n",
      "Layer (type)                 Output Shape              Param #   \n",
      "=================================================================\n",
      "embedding_30 (Embedding)     (None, 41, 200)           2000000   \n",
      "_________________________________________________________________\n",
      "lstm_14 (LSTM)               (None, 128)               168448    \n",
      "_________________________________________________________________\n",
      "dropout_8 (Dropout)          (None, 128)               0         \n",
      "_________________________________________________________________\n",
      "dense_58 (Dense)             (None, 64)                8256      \n",
      "_________________________________________________________________\n",
      "dense_59 (Dense)             (None, 1)                 65        \n",
      "=================================================================\n",
      "Total params: 2,176,769\n",
      "Trainable params: 2,176,769\n",
      "Non-trainable params: 0\n",
      "_________________________________________________________________\n"
     ]
    }
   ],
   "source": [
    "# RNN 모델 \n",
    "# padding_where = 'pre'\n",
    "\n",
    "rn2_model = tf.keras.Sequential()\n",
    "rn2_model.add(tf.keras.layers.Embedding(vocab_size, word_vector_dim, \n",
    "                                        embeddings_initializer=Constant(embedding_matrix), \n",
    "                                        input_length=maxlen, trainable=True))\n",
    "\n",
    "\n",
    "\n",
    "# 가장 널리 쓰이는 RNN인 LSTM 레이어를 사용하였습니다.\n",
    "rn2_model.add(tf.keras.layers.LSTM(128))   \n",
    "rn2_model.add(Dropout(0.5))\n",
    "rn2_model.add(tf.keras.layers.Dense(dense, activation='relu'))\n",
    "rn2_model.add(tf.keras.layers.Dense(1, activation='sigmoid'))  # 최종 출력은 긍정/부정을 나타내는 1dim 입니다.\n",
    "\n",
    "rn2_model.summary()"
   ]
  },
  {
   "cell_type": "code",
   "execution_count": 187,
   "id": "bae07408",
   "metadata": {
    "scrolled": false
   },
   "outputs": [
    {
     "name": "stdout",
     "output_type": "stream",
     "text": [
      "Epoch 1/10\n",
      "1517/1517 [==============================] - 12s 7ms/step - loss: 0.4214 - accuracy: 0.8041 - val_loss: 0.3367 - val_accuracy: 0.8549\n",
      "Epoch 2/10\n",
      "1517/1517 [==============================] - 10s 7ms/step - loss: 0.3133 - accuracy: 0.8669 - val_loss: 0.3204 - val_accuracy: 0.8619\n",
      "Epoch 3/10\n",
      "1517/1517 [==============================] - 10s 7ms/step - loss: 0.2720 - accuracy: 0.8876 - val_loss: 0.3177 - val_accuracy: 0.8645\n",
      "Epoch 4/10\n",
      "1517/1517 [==============================] - 10s 7ms/step - loss: 0.2383 - accuracy: 0.9022 - val_loss: 0.3202 - val_accuracy: 0.8634\n",
      "Epoch 5/10\n",
      "1517/1517 [==============================] - 10s 7ms/step - loss: 0.2073 - accuracy: 0.9178 - val_loss: 0.3463 - val_accuracy: 0.8644\n",
      "Epoch 6/10\n",
      "1517/1517 [==============================] - 10s 7ms/step - loss: 0.1775 - accuracy: 0.9292 - val_loss: 0.3576 - val_accuracy: 0.8609\n",
      "Epoch 7/10\n",
      "1517/1517 [==============================] - 10s 7ms/step - loss: 0.1508 - accuracy: 0.9427 - val_loss: 0.3834 - val_accuracy: 0.8628\n",
      "Epoch 8/10\n",
      "1517/1517 [==============================] - 10s 7ms/step - loss: 0.1305 - accuracy: 0.9503 - val_loss: 0.4464 - val_accuracy: 0.8573\n",
      "Epoch 9/10\n",
      "1517/1517 [==============================] - 10s 7ms/step - loss: 0.1101 - accuracy: 0.9590 - val_loss: 0.4700 - val_accuracy: 0.8601\n",
      "Epoch 10/10\n",
      "1517/1517 [==============================] - 10s 7ms/step - loss: 0.0948 - accuracy: 0.9652 - val_loss: 0.4843 - val_accuracy: 0.8535\n"
     ]
    }
   ],
   "source": [
    "#\n",
    "rn2_model.compile(optimizer='adam',\n",
    "              loss='binary_crossentropy',\n",
    "              metrics=['accuracy'])\n",
    "              \n",
    "epochs=epochs  # 몇 epoch를 훈련하면 좋을지 결과를 보면서 바꾸어 봅시다. \n",
    "\n",
    "rn2_history = rn2_model.fit(partial_X_train,\n",
    "                    partial_y_train,\n",
    "                    epochs=epochs,\n",
    "                    batch_size=64,\n",
    "                    validation_data=(X_val, y_val),\n",
    "                    verbose=1)"
   ]
  },
  {
   "cell_type": "code",
   "execution_count": 188,
   "id": "b8d06927",
   "metadata": {},
   "outputs": [
    {
     "name": "stdout",
     "output_type": "stream",
     "text": [
      "--------------------\n",
      "\n",
      "1537/1537 - 3s - loss: 0.4921 - accuracy: 0.8520\n",
      "RNN 모델 결과 : [0.4920971393585205, 0.8520251512527466]\n",
      "\n"
     ]
    }
   ],
   "source": [
    "# 평가하기 \n",
    "\n",
    "print('-'*20)\n",
    "print()\n",
    "rn2_results = rn2_model.evaluate(X_test, y_test, verbose=2)\n",
    "print('RNN 모델 결과 :', rn2_results)\n",
    "print()"
   ]
  },
  {
   "cell_type": "markdown",
   "id": "7282581f",
   "metadata": {},
   "source": [
    "\n",
    "\n"
   ]
  },
  {
   "cell_type": "markdown",
   "id": "f00d84ed",
   "metadata": {},
   "source": [
    "###  &nbsp; &nbsp; &nbsp; &nbsp; 8-4-2 1-D CNN 모델"
   ]
  },
  {
   "cell_type": "code",
   "execution_count": 202,
   "id": "90ad5261",
   "metadata": {},
   "outputs": [
    {
     "name": "stdout",
     "output_type": "stream",
     "text": [
      "Model: \"sequential_36\"\n",
      "_________________________________________________________________\n",
      "Layer (type)                 Output Shape              Param #   \n",
      "=================================================================\n",
      "embedding_35 (Embedding)     (None, 41, 200)           2000000   \n",
      "_________________________________________________________________\n",
      "conv1d_28 (Conv1D)           (None, 35, 32)            44832     \n",
      "_________________________________________________________________\n",
      "max_pooling1d_14 (MaxPooling (None, 7, 32)             0         \n",
      "_________________________________________________________________\n",
      "dropout_14 (Dropout)         (None, 7, 32)             0         \n",
      "_________________________________________________________________\n",
      "conv1d_29 (Conv1D)           (None, 1, 32)             7200      \n",
      "_________________________________________________________________\n",
      "dropout_15 (Dropout)         (None, 1, 32)             0         \n",
      "_________________________________________________________________\n",
      "global_max_pooling1d_20 (Glo (None, 32)                0         \n",
      "_________________________________________________________________\n",
      "dense_68 (Dense)             (None, 64)                2112      \n",
      "_________________________________________________________________\n",
      "dense_69 (Dense)             (None, 1)                 65        \n",
      "=================================================================\n",
      "Total params: 2,054,209\n",
      "Trainable params: 2,054,209\n",
      "Non-trainable params: 0\n",
      "_________________________________________________________________\n"
     ]
    }
   ],
   "source": [
    "# 1-D CNN 모델\n",
    "# 패딩 위치 \n",
    "padding_where = 'post'\n",
    "\n",
    "cn2_model = tf.keras.Sequential()\n",
    "cn2_model.add(tf.keras.layers.Embedding(vocab_size, word_vector_dim, \n",
    "                                        embeddings_initializer=Constant(embedding_matrix),# 임베딜 적용 \n",
    "                                        input_length=maxlen,\n",
    "                                        trainable=True))\n",
    "cn2_model.add(tf.keras.layers.Conv1D(32, 7, activation='relu')) \n",
    "cn2_model.add(tf.keras.layers.MaxPooling1D(5))\n",
    "cn2_model.add(Dropout(0.5))\n",
    "cn2_model.add(tf.keras.layers.Conv1D(32, 7, activation='relu'))\n",
    "cn2_model.add(Dropout(0.5))\n",
    "cn2_model.add(tf.keras.layers.GlobalMaxPooling1D())\n",
    "cn2_model.add(tf.keras.layers.Dense(dense, activation='relu'))\n",
    "cn2_model.add(tf.keras.layers.Dense(1, activation='sigmoid'))  # 최종 출력은 긍정/부정을 나타내는 1dim 입니다.\n",
    "\n",
    "cn2_model.summary()\n"
   ]
  },
  {
   "cell_type": "code",
   "execution_count": 203,
   "id": "303e60bb",
   "metadata": {},
   "outputs": [
    {
     "name": "stdout",
     "output_type": "stream",
     "text": [
      "Epoch 1/10\n",
      "3033/3033 [==============================] - 17s 6ms/step - loss: 0.5610 - accuracy: 0.6926 - val_loss: 0.4060 - val_accuracy: 0.8262\n",
      "Epoch 2/10\n",
      "3033/3033 [==============================] - 17s 5ms/step - loss: 0.3971 - accuracy: 0.8264 - val_loss: 0.3970 - val_accuracy: 0.8447\n",
      "Epoch 3/10\n",
      "3033/3033 [==============================] - 17s 5ms/step - loss: 0.3537 - accuracy: 0.8491 - val_loss: 0.3623 - val_accuracy: 0.8515\n",
      "Epoch 4/10\n",
      "3033/3033 [==============================] - 17s 5ms/step - loss: 0.3285 - accuracy: 0.8610 - val_loss: 0.3469 - val_accuracy: 0.8544\n",
      "Epoch 5/10\n",
      "3033/3033 [==============================] - 17s 5ms/step - loss: 0.3115 - accuracy: 0.8693 - val_loss: 0.3476 - val_accuracy: 0.8535\n",
      "Epoch 6/10\n",
      "3033/3033 [==============================] - 17s 5ms/step - loss: 0.2966 - accuracy: 0.8755 - val_loss: 0.3452 - val_accuracy: 0.8551\n",
      "Epoch 7/10\n",
      "3033/3033 [==============================] - 17s 5ms/step - loss: 0.2831 - accuracy: 0.8819 - val_loss: 0.3404 - val_accuracy: 0.8550\n",
      "Epoch 8/10\n",
      "3033/3033 [==============================] - 17s 6ms/step - loss: 0.2688 - accuracy: 0.8882 - val_loss: 0.3342 - val_accuracy: 0.8557\n",
      "Epoch 9/10\n",
      "3033/3033 [==============================] - 17s 5ms/step - loss: 0.2564 - accuracy: 0.8935 - val_loss: 0.3385 - val_accuracy: 0.8539\n",
      "Epoch 10/10\n",
      "3033/3033 [==============================] - 17s 6ms/step - loss: 0.2443 - accuracy: 0.8994 - val_loss: 0.3394 - val_accuracy: 0.8556\n"
     ]
    }
   ],
   "source": [
    "# 모델 학습 및 예측 \n",
    "\n",
    "cn2_model.compile(optimizer='adam',\n",
    "              loss='binary_crossentropy',\n",
    "              metrics=['accuracy'])\n",
    "              \n",
    "epochs=epochs  # 몇 epoch를 훈련하면 좋을지 결과를 보면서 바꾸어 봅시다. \n",
    "\n",
    "cn2_history = cn2_model.fit(partial_X_train, partial_y_train,\n",
    "                            epochs=epochs,batch_size=32,validation_data=(X_val, y_val),verbose=1)\n"
   ]
  },
  {
   "cell_type": "code",
   "execution_count": 204,
   "id": "aa99a5f0",
   "metadata": {
    "scrolled": true
   },
   "outputs": [
    {
     "name": "stdout",
     "output_type": "stream",
     "text": [
      "--------------------\n",
      "\n",
      "1537/1537 - 3s - loss: 0.3476 - accuracy: 0.8501\n",
      "1-D CNN 모델 결과 : [0.3475893437862396, 0.8500925898551941]\n",
      "\n"
     ]
    }
   ],
   "source": [
    "# 평가하기 \n",
    "\n",
    "print('-'*20)\n",
    "print()\n",
    "cn2_results = cn2_model.evaluate(X_test, y_test, verbose=2)\n",
    "print('1-D CNN 모델 결과 : ', cn2_results)\n",
    "print()"
   ]
  },
  {
   "cell_type": "markdown",
   "id": "e058b983",
   "metadata": {},
   "source": [
    "\n",
    "\n"
   ]
  },
  {
   "cell_type": "markdown",
   "id": "05edc991",
   "metadata": {},
   "source": [
    "\n",
    "\n"
   ]
  },
  {
   "cell_type": "markdown",
   "id": "549f2672",
   "metadata": {},
   "source": [
    "###  &nbsp; &nbsp; &nbsp; &nbsp; 8-4-3 GlobalMaxPooling1D 모델"
   ]
  },
  {
   "cell_type": "code",
   "execution_count": 328,
   "id": "7d5f02a5",
   "metadata": {},
   "outputs": [
    {
     "name": "stdout",
     "output_type": "stream",
     "text": [
      "Model: \"sequential_62\"\n",
      "_________________________________________________________________\n",
      "Layer (type)                 Output Shape              Param #   \n",
      "=================================================================\n",
      "embedding_61 (Embedding)     (None, 41, 200)           2000000   \n",
      "_________________________________________________________________\n",
      "dropout_40 (Dropout)         (None, 41, 200)           0         \n",
      "_________________________________________________________________\n",
      "global_max_pooling1d_47 (Glo (None, 200)               0         \n",
      "_________________________________________________________________\n",
      "dense_118 (Dense)            (None, 64)                12864     \n",
      "_________________________________________________________________\n",
      "dense_119 (Dense)            (None, 1)                 65        \n",
      "=================================================================\n",
      "Total params: 2,012,929\n",
      "Trainable params: 2,012,929\n",
      "Non-trainable params: 0\n",
      "_________________________________________________________________\n"
     ]
    }
   ],
   "source": [
    "padding_where = 'post'\n",
    "\n",
    "gp2_model = tf.keras.Sequential()\n",
    "gp2_model.add(tf.keras.layers.Embedding(vocab_size, word_vector_dim, \n",
    "                                        embeddings_initializer=Constant(embedding_matrix), \n",
    "                                        input_length=maxlen, trainable=True))\n",
    "gp2_model.add(Dropout(0.5))\n",
    "gp2_model.add(tf.keras.layers.GlobalMaxPooling1D())\n",
    "gp2_model.add(tf.keras.layers.Dense(dense, activation='relu'))\n",
    "gp2_model.add(tf.keras.layers.Dense(1, activation='sigmoid'))  # 최종 출력은 긍정/부정을 나타내는 1dim 입니다.\n",
    "\n",
    "gp2_model.summary()"
   ]
  },
  {
   "cell_type": "code",
   "execution_count": 331,
   "id": "d3563241",
   "metadata": {},
   "outputs": [
    {
     "name": "stdout",
     "output_type": "stream",
     "text": [
      "Epoch 1/20\n",
      "1517/1517 [==============================] - 6s 4ms/step - loss: 0.3110 - accuracy: 0.8668 - val_loss: 0.3580 - val_accuracy: 0.8457\n",
      "Epoch 2/20\n",
      "1517/1517 [==============================] - 6s 4ms/step - loss: 0.3086 - accuracy: 0.8665 - val_loss: 0.3563 - val_accuracy: 0.8441\n",
      "Epoch 3/20\n",
      "1517/1517 [==============================] - 6s 4ms/step - loss: 0.3055 - accuracy: 0.8691 - val_loss: 0.3590 - val_accuracy: 0.8466\n",
      "Epoch 4/20\n",
      "1517/1517 [==============================] - 6s 4ms/step - loss: 0.3011 - accuracy: 0.8710 - val_loss: 0.3614 - val_accuracy: 0.8457\n",
      "Epoch 5/20\n",
      "1517/1517 [==============================] - 6s 4ms/step - loss: 0.2996 - accuracy: 0.8710 - val_loss: 0.3575 - val_accuracy: 0.8450\n",
      "Epoch 6/20\n",
      "1517/1517 [==============================] - 6s 4ms/step - loss: 0.2964 - accuracy: 0.8737 - val_loss: 0.3593 - val_accuracy: 0.8470\n",
      "Epoch 7/20\n",
      "1517/1517 [==============================] - 6s 4ms/step - loss: 0.2937 - accuracy: 0.8745 - val_loss: 0.3522 - val_accuracy: 0.8483\n",
      "Epoch 8/20\n",
      "1517/1517 [==============================] - 6s 4ms/step - loss: 0.2906 - accuracy: 0.8760 - val_loss: 0.3568 - val_accuracy: 0.8482\n",
      "Epoch 9/20\n",
      "1517/1517 [==============================] - 6s 4ms/step - loss: 0.2876 - accuracy: 0.8781 - val_loss: 0.3541 - val_accuracy: 0.8469\n",
      "Epoch 10/20\n",
      "1517/1517 [==============================] - 6s 4ms/step - loss: 0.2858 - accuracy: 0.8778 - val_loss: 0.3506 - val_accuracy: 0.8478\n",
      "Epoch 11/20\n",
      "1517/1517 [==============================] - 6s 4ms/step - loss: 0.2833 - accuracy: 0.8796 - val_loss: 0.3617 - val_accuracy: 0.8446\n",
      "Epoch 12/20\n",
      "1517/1517 [==============================] - 6s 4ms/step - loss: 0.2808 - accuracy: 0.8805 - val_loss: 0.3535 - val_accuracy: 0.8475\n",
      "Epoch 13/20\n",
      "1517/1517 [==============================] - 6s 4ms/step - loss: 0.2790 - accuracy: 0.8813 - val_loss: 0.3548 - val_accuracy: 0.8471\n",
      "Epoch 14/20\n",
      "1517/1517 [==============================] - 6s 4ms/step - loss: 0.2757 - accuracy: 0.8819 - val_loss: 0.3527 - val_accuracy: 0.8480\n",
      "Epoch 15/20\n",
      "1517/1517 [==============================] - 6s 4ms/step - loss: 0.2751 - accuracy: 0.8828 - val_loss: 0.3602 - val_accuracy: 0.8468\n",
      "Epoch 16/20\n",
      "1517/1517 [==============================] - 6s 4ms/step - loss: 0.2712 - accuracy: 0.8845 - val_loss: 0.3506 - val_accuracy: 0.8483\n",
      "Epoch 17/20\n",
      "1517/1517 [==============================] - 6s 4ms/step - loss: 0.2698 - accuracy: 0.8863 - val_loss: 0.3612 - val_accuracy: 0.8474\n",
      "Epoch 18/20\n",
      "1517/1517 [==============================] - 6s 4ms/step - loss: 0.2678 - accuracy: 0.8872 - val_loss: 0.3507 - val_accuracy: 0.8483\n",
      "Epoch 19/20\n",
      "1517/1517 [==============================] - 6s 4ms/step - loss: 0.2669 - accuracy: 0.8865 - val_loss: 0.3598 - val_accuracy: 0.8471\n",
      "Epoch 20/20\n",
      "1517/1517 [==============================] - 6s 4ms/step - loss: 0.2636 - accuracy: 0.8870 - val_loss: 0.3552 - val_accuracy: 0.8485\n"
     ]
    }
   ],
   "source": [
    "# 모델 학습 \n",
    "gp2_model.compile(optimizer='adam',\n",
    "              loss='binary_crossentropy',\n",
    "              metrics=['accuracy'])\n",
    "              \n",
    "epochs=epochs  # 몇 epoch를 훈련하면 좋을지 결과를 보면서 바꾸어 봅시다. \n",
    "\n",
    "gp2_history = gp2_model.fit(partial_X_train,\n",
    "                    partial_y_train,\n",
    "                    epochs=20,\n",
    "                    batch_size=64,\n",
    "                    validation_data=(X_val, y_val),\n",
    "                    verbose=1)"
   ]
  },
  {
   "cell_type": "code",
   "execution_count": 332,
   "id": "87378ecf",
   "metadata": {},
   "outputs": [
    {
     "name": "stdout",
     "output_type": "stream",
     "text": [
      "--------------------\n",
      "\n",
      "1537/1537 - 2s - loss: 0.3608 - accuracy: 0.8448\n",
      "GlobalMaxPooling1D 모델 결과 : [0.3607630133628845, 0.8448237180709839]\n",
      "\n"
     ]
    }
   ],
   "source": [
    "# 평가하기 \n",
    "\n",
    "print('-'*20)\n",
    "print()\n",
    "gp2_results = gp2_model.evaluate(X_test, y_test, verbose=2)\n",
    "print('GlobalMaxPooling1D 모델 결과 :', gp2_results)\n",
    "print()"
   ]
  },
  {
   "cell_type": "markdown",
   "id": "583ed556",
   "metadata": {},
   "source": [
    "\n",
    "\n"
   ]
  },
  {
   "cell_type": "markdown",
   "id": "b96ff973",
   "metadata": {},
   "source": [
    "###  &nbsp; &nbsp; &nbsp; &nbsp; 8-5 embedding 적용 전, 후 비교 해 보기! "
   ]
  },
  {
   "cell_type": "code",
   "execution_count": 333,
   "id": "b059e762",
   "metadata": {},
   "outputs": [
    {
     "data": {
      "text/html": [
       "<div>\n",
       "<style scoped>\n",
       "    .dataframe tbody tr th:only-of-type {\n",
       "        vertical-align: middle;\n",
       "    }\n",
       "\n",
       "    .dataframe tbody tr th {\n",
       "        vertical-align: top;\n",
       "    }\n",
       "\n",
       "    .dataframe thead th {\n",
       "        text-align: right;\n",
       "    }\n",
       "</style>\n",
       "<table border=\"1\" class=\"dataframe\">\n",
       "  <thead>\n",
       "    <tr style=\"text-align: right;\">\n",
       "      <th></th>\n",
       "      <th>모델명</th>\n",
       "      <th>임베딩 적용전</th>\n",
       "      <th>임베딩 적용후</th>\n",
       "    </tr>\n",
       "  </thead>\n",
       "  <tbody>\n",
       "    <tr>\n",
       "      <th>0</th>\n",
       "      <td>RNN</td>\n",
       "      <td>0.8274</td>\n",
       "      <td>0.8520</td>\n",
       "    </tr>\n",
       "    <tr>\n",
       "      <th>1</th>\n",
       "      <td>1-D CNN</td>\n",
       "      <td>0.8171</td>\n",
       "      <td>0.8501</td>\n",
       "    </tr>\n",
       "    <tr>\n",
       "      <th>2</th>\n",
       "      <td>GlobalMaxPooling</td>\n",
       "      <td>0.8192</td>\n",
       "      <td>0.8448</td>\n",
       "    </tr>\n",
       "  </tbody>\n",
       "</table>\n",
       "</div>"
      ],
      "text/plain": [
       "                모델명 임베딩 적용전 임베딩 적용후\n",
       "0               RNN  0.8274  0.8520\n",
       "1           1-D CNN  0.8171  0.8501\n",
       "2  GlobalMaxPooling  0.8192  0.8448"
      ]
     },
     "execution_count": 333,
     "metadata": {},
     "output_type": "execute_result"
    }
   ],
   "source": [
    "compare = df(data = {'모델명':['RNN', '1-D CNN', 'GlobalMaxPooling'],\n",
    "                    '임베딩 적용전':['0.8274', '0.8171', '0.8192'],\n",
    "                    '임베딩 적용후':['0.8520', '0.8501', '0.8448']})\n",
    "compare"
   ]
  },
  {
   "cell_type": "markdown",
   "id": "834d5895",
   "metadata": {},
   "source": [
    "###  &nbsp; &nbsp; &nbsp; &nbsp; 8-6 모델 저장하기 "
   ]
  },
  {
   "cell_type": "code",
   "execution_count": 334,
   "id": "ff6849bb",
   "metadata": {},
   "outputs": [],
   "source": [
    "rn2_model.save(\"EXP6_kr_rn2.h5\")\n",
    "cn2_model.save(\"EXP6_kr_cn2.h5\")\n",
    "gp2_model.save(\"EXP6_kr_gp2.h5\")"
   ]
  },
  {
   "cell_type": "markdown",
   "id": "733b30ed",
   "metadata": {},
   "source": [
    "\n",
    "\n",
    "-----\n",
    "\n",
    "\n"
   ]
  },
  {
   "cell_type": "markdown",
   "id": "cde8a6eb",
   "metadata": {},
   "source": [
    "# Exp를 마무리 하며"
   ]
  },
  {
   "cell_type": "markdown",
   "id": "20ee36a8",
   "metadata": {},
   "source": [
    "## 1. 오류 해결 \n",
    "\n",
    "\n",
    "* 막 코드를 어찌어찌 해서 고친게 아니라, 이번 익스를 진행 하면서 봤던 에러 상황, 그리고 해결 했던 방법을 적어보았다. 완벽하지 않으니 꼼꼼히 봐야겠고, 정말 모르겠다 싶으면 팀원분과 상의하는 습관을 들이자. \n",
    "\n",
    "\n",
    "* 3-2 패딩 적용하기 부분에서 train data와 test data에 동일하게 패딩을 적용 해 줘야했는데, 노션에 정리 하면서도 변수 이름을 보지 않고, 코드만 보고 같은 데이터다! 라고 판단해, 코드를 지웠었다. 변수 이름만 잘 봤어도 X_test 변수를 Numpy 형식 배열로 바꾸려는 방법은 찾아보지 않았을 것이다. 노션 필기도, 공부도, 익스도, ```왜 이게 이렇게 적혀있을까?``` 라는 의문을 가지면서 해야겠다고 생각했다.\n",
    "\n",
    "\n",
    "* 8-2, 가져온 한국어 Word2Vec 파일을 적용해 주기위해, lms 상에 있던 코드를 그대로 가져왔었다. gensim 다운그레이드를 미리 해 줬기때문에 다른 부분은 문제가 없었으나,   \n",
    "```word2vec = KeyedVectors.load_word2vec_format(word2vec_path, binary=True,limit=3000000)``` \n",
    "부분을 실행하면 ```utf-8' codec can't decode byte 0x80 in position 0: invalid start byte```\n",
    "라는 오류가 발생하였다.   \n",
    "오류 코드로 검색 해 본 결과, [해결방법](https://stackoverflow.com/questions/27659985/error-utf8-codec-cant-decode-byte-0x80-in-position-0-invalid-start-byte) 을 통해 ```load_word2vec_format()``` 대신 ```load()``` 를 사용해야 한다는 점을 배웠다. "
   ]
  },
  {
   "attachments": {
    "image-2.png": {
     "image/png": "[encoded data removed]"
    },
    "image.png": {
     "image/png": "[encoded data removed]"
    }
   },
   "cell_type": "markdown",
   "id": "52e47dde",
   "metadata": {},
   "source": [
    "## 2. 이번 노드를 진행하면서 아쉬웠던 점\n",
    "\n",
    "* 노트북엔 없지만 한국어 word2vec 적용하고 적합도 그래프를 그려봤었는데, 영화분석 데이터의 그래프(4번)와 별반 달라진게 없어서 지웠다. 조금 더 여유로웠다면, 이유도 분석해보고 원인도 파악해서 개선 해 봤을텐데 정말정말 아쉽다.  \n",
    "![image.png](attachment:image.png)    \n",
    "\n",
    "\n",
    "* 4.loss, Accuracy 시각화 부분. 그래프 그리는 부분이 중복되길래, exp5에서 했던 자주 쓰는 기능 함수화를 도전해 봤었는데, loss 그래프 그릴땐 문제 없이 되서 엄청 기뻤다. 와 내가 이걸 한방에 함수화 했다! 라는 기분에.. 그치만 그렇게 녹록치않았죠.. Accuracy 그래프 그리는 코드는, loss 그래프를 그린 다음에 그릴 수 있게 되어있었는데, 정확도 그래프에 필요한 변수가 함수안에 들어가니 호출을 할 수 없었다.. 분명 배웠던 부분이지만, 했을 당시엔 생각이 나지 않아 왜 안될까 하고 30분은 고민했었던것 같다. 그래프 2개를 나타내는 법을 찾아서 적용 했더라면, 이렇게 고민하지도 않았을테고, 함수화로 코드가 조금 더 깔끔했을텐데.. 너무나도 아쉬운부분.. \n",
    "\n",
    "\n",
    "* 그래도 이전 노드에서 봤었던, epoch와 dense 값을 변수로 지정해, 한꺼번에 바꿔줬던건 내가 생각해도 정말 대견하다 느꼈다. Pandas DataFrame 생각해서, 정확도 표 그린것도 정말 대단하다고 생각한다. 비록 값을 불러와 한게 아니라, 내가 일일이 붙여넣었지만.. 그래도 1,2주 전까지만 해도, 따라가는거에 바빠서 어떻게 해 볼 생각조차 못 하고 복사하고 붙여넣은 다음 지나가기 일쑤였는데.. 노드를 점점 거치고, exp를 하나하나 헤쳐나가다 보니 조금씩 발전하는것 같아 보여 조금은 기뻤다. \n",
    "\n",
    "\n",
    "* 제시한 문장이 긍정인지 부정인지 분석하는 부분을 적용하지 못했다. \n",
    "![image-2.png](attachment:image-2.png)  \n",
    " &nbsp; &nbsp; 적용하는 방법은 검색하다보니 찾았다. (참고페이지 - 데이터셋 관련 부분) 하지만 적용하지 못했다. 사진처럼 어떻게 하면 되겠다! 라고 생각해 놓고선.. 이번 노드 하면서 내가 빼먹어서 오류가 났던 부분이 한두군데가 아니라, 이번에도 시도하다가 오류나고, 고치다보면 시간에 맞춰서 제출 할 수 없을 것 같아 다음 기회로 미뤘다. 정확도로 판단하는 것이 아니라 정말 잘 표현 됬는지 확인 해 볼 수 있었을텐데.. 좀 더 공부해서 적용 해 보는걸로.."
   ]
  },
  {
   "cell_type": "markdown",
   "id": "6cc9133b",
   "metadata": {},
   "source": [
    "* 노드 제목을 봤을땐, 어떤식으로 감성을 분석하는걸까.. 했지만 역시 n번의 처리 후에 분석. 세상에 쉬운건 없었다. 그치만 만화 주인공 처럼 말을 걸어서 기계에게 일을 하라고 명령하면 내가 원하는대로 척척! 할 수 있는것이 아니니, 내가 열심히 기계어를 배울 수 밖에.. \n",
    "* 좋아하는 다른 나라 사람과 대화하고 싶단 마음이 있다면 열심히 그 나라 언어를 공부하고, 관심사를 공부하게된다. 컴퓨터와 막 대화를 하거나 친구처럼 친해지려는 것은 아니지만, 이 공부를 통해 내 앞으로의 생활들에 도움이 될 수 있도록, 더 많은 것을 시도 해 볼 수 있도록 열심히 배워나가야겠다. 하다보면 ```'오늘은 날이 좋지 않으니 로또는 안사시는게 좋을 것 같습니다.'``` 라고 비슷하게라도 얘기해 주는 인공지능 구상 정돈 할 수 있지않을까? 🤣"
   ]
  },
  {
   "cell_type": "markdown",
   "id": "2b4f6464",
   "metadata": {},
   "source": [
    "# 참고 페이지 "
   ]
  },
  {
   "cell_type": "markdown",
   "id": "672a3b0a",
   "metadata": {},
   "source": [
    "* 모듈 관련  \n",
    "[collections 모듈 counter 사용법](https://gorokke.tistory.com/126)    \n",
    "\n",
    "\n",
    "\n",
    "* 데이터셋 관련  \n",
    "[딥 러닝을 이용한 자연어 처리 입문](https://wikidocs.net/44249)  \n",
    "\n",
    "\n",
    "\n",
    "* 기타 의문  \n",
    "[200K가 도대체 얼마란 얘기야..?](https://hanpuri.com/204)  "
   ]
  }
 ],
 "metadata": {
  "kernelspec": {
   "display_name": "Python 3 (ipykernel)",
   "language": "python",
   "name": "python3"
  },
  "language_info": {
   "codemirror_mode": {
    "name": "ipython",
    "version": 3
   },
   "file_extension": ".py",
   "mimetype": "text/x-python",
   "name": "python",
   "nbconvert_exporter": "python",
   "pygments_lexer": "ipython3",
   "version": "3.9.7"
  }
 },
 "nbformat": 4,
 "nbformat_minor": 5
}
