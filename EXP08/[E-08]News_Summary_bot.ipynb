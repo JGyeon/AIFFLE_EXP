{
 "cells": [
  {
   "cell_type": "markdown",
   "id": "415d16b7",
   "metadata": {},
   "source": [
    "# 📰 EXP 08. 뉴스 요약 봇 만들기 \n",
    "\n",
    "\n",
    "* 이번 시간엔 아마존 리뷰 데이터셋을 가져와 자연어 처리 라이브러리 NLTK(Natural Language Toolkit)를 이용해 데이터셋에서 불용어를 제거하고, 데이터셋을 전처리 해 자연어 생성 모델 seq2seq를 구축하여 원문을 추상적 요약, 추출적 요약 2가지로 요약 해 보았다. \n",
    "* 이전에 했던 자연어 처리 모델과는 다른점은 많았지만, 과정 자체는 변함 없었다. \n",
    "* 노드에서 진행했던 내용을 토대로 뉴스 기사 데이터를 요약해 보는 봇을 만들어 보겠습니다. "
   ]
  },
  {
   "cell_type": "markdown",
   "id": "63a6b73e",
   "metadata": {},
   "source": [
    "\n",
    "\n",
    "----\n",
    "\n",
    "\n"
   ]
  },
  {
   "cell_type": "markdown",
   "id": "b5239dea",
   "metadata": {},
   "source": [
    "# 📋 루브릭 평가 기준"
   ]
  },
  {
   "cell_type": "markdown",
   "id": "fa399448",
   "metadata": {},
   "source": [
    "\n",
    "| 평가문항 | 상세기준 |\n",
    "| :---: | :---: |\n",
    "| 1. Abstractive 모델 구성을 위한 텍스트 전처리 단계가 체계적으로 진행되었다. | 분석단계, 정제단계, 정규화와 불용어 제거, 데이터셋 분리, 인코딩 과정이 빠짐없이 체계적으로 진행되었다. |\n",
    "| 2. 텍스트 요약모델이 성공적으로 학습되었음을 확인하였다. | 모델학습이 안정적으로 수렴되었음을 그래프를 통해 확인하였으며, 실제 요약문과 유사한 요약문장을 얻을 수 있었다. |\n",
    "| 3. Extractive 요약을 시도해 보고 Abstractive 요약 결과과 함께 비교해 보았다. | 두 요약 결과를 문법완성도 측면과 핵심단어 포함 측면으로 나누어 비교분석 결과를 제시하였다. |"
   ]
  },
  {
   "cell_type": "markdown",
   "id": "9440988b",
   "metadata": {},
   "source": [
    "\n",
    "\n",
    "----\n",
    "\n",
    "\n"
   ]
  },
  {
   "cell_type": "markdown",
   "id": "58de287f",
   "metadata": {},
   "source": [
    "# 목차\n",
    "\n",
    "\n",
    "## 1. 데이터 수집하기 \n",
    "\n",
    "## 2. 데이터 전처리 하기\n",
    "\n",
    "## 3. 모델 설계하기 \n",
    "\n",
    "## 4. 어텐션 메커니즘 사용하기\n",
    "\n",
    "## 5. 모델 훈련 및 예측\n",
    "\n",
    "## 6. 실제 결과와 요약문 비교하기\n",
    "\n",
    "## 7. Summa를 이용해서  추출적 요약 해 보기\n",
    "\n",
    "## 회고!\n",
    "\n",
    "## 🖇️ 참고 페이지\n",
    "\n",
    "\n",
    "### ※ 참고 : 2~4번에선 추상적 요약으로 이루어져야 합니다. "
   ]
  },
  {
   "cell_type": "markdown",
   "id": "ea374bc5",
   "metadata": {},
   "source": [
    "\n",
    "\n",
    "---\n",
    "\n"
   ]
  },
  {
   "cell_type": "markdown",
   "id": "0515ce0c",
   "metadata": {},
   "source": [
    "# 1. 데이터 수집하기   \n",
    "\n",
    "\n",
    "\n",
    "* 이번 EXP에선 [뉴스기사 데이터](https://github.com/sunnysai12345/News_Summary)를 사용합니다. \n",
    "\n",
    "\n",
    "* 우선 필요한 모듈을 불러와 준 후, 데이터를 수집해 보겠습니다. "
   ]
  },
  {
   "cell_type": "markdown",
   "id": "248bac64",
   "metadata": {},
   "source": [
    "## &nbsp;&nbsp; 1-1 필요한 라이브러리 불러오기"
   ]
  },
  {
   "cell_type": "code",
   "execution_count": 86,
   "id": "2a92b115",
   "metadata": {},
   "outputs": [
    {
     "name": "stdout",
     "output_type": "stream",
     "text": [
      "~🎵🎶\n"
     ]
    },
    {
     "name": "stderr",
     "output_type": "stream",
     "text": [
      "[nltk_data] Downloading package stopwords to /aiffel/nltk_data...\n",
      "[nltk_data]   Package stopwords is already up-to-date!\n"
     ]
    }
   ],
   "source": [
    "import nltk\n",
    "nltk.download('stopwords')\n",
    "\n",
    "import numpy as np\n",
    "import pandas as pd\n",
    "import os\n",
    "import re\n",
    "import matplotlib.pyplot as plt\n",
    "from nltk.corpus import stopwords\n",
    "from bs4 import BeautifulSoup \n",
    "from tensorflow.keras.preprocessing.text import Tokenizer \n",
    "from tensorflow.keras.preprocessing.sequence import pad_sequences\n",
    "import urllib.request\n",
    "import warnings\n",
    "warnings.filterwarnings(\"ignore\", category=UserWarning, module='bs4')\n",
    "\n",
    "import matplotlib.pyplot as plt\n",
    "\n",
    "from tensorflow.keras.layers import Input, LSTM, Embedding, Dense, Concatenate, TimeDistributed\n",
    "from tensorflow.keras.models import Model\n",
    "from tensorflow.keras.callbacks import EarlyStopping, ModelCheckpoint\n",
    "\n",
    "from tensorflow.keras.layers import AdditiveAttention\n",
    "#추출적 요약 summa 패키지 \n",
    "import requests\n",
    "from summa.summarizer import summarize\n",
    "\n",
    "\n",
    "print('~🎵🎶')\n"
   ]
  },
  {
   "cell_type": "markdown",
   "id": "22dc49df",
   "metadata": {},
   "source": [
    "\n",
    "\n"
   ]
  },
  {
   "cell_type": "markdown",
   "id": "bc71cff3",
   "metadata": {},
   "source": [
    "## &nbsp;&nbsp; 1-2 데이터 다운로드"
   ]
  },
  {
   "cell_type": "code",
   "execution_count": 2,
   "id": "1c12cb7b",
   "metadata": {},
   "outputs": [
    {
     "name": "stdout",
     "output_type": "stream",
     "text": [
      "뉴스기사 데이터 다운로드 완료!\n"
     ]
    }
   ],
   "source": [
    "urllib.request.urlretrieve(\"https://raw.githubusercontent.com/sunnysai12345/News_Summary/master/news_summary_more.csv\", filename=\"news_summary_more.csv\")\n",
    "data = pd.read_csv('news_summary_more.csv', encoding='iso-8859-1')\n",
    "\n",
    "print('뉴스기사 데이터 다운로드 완료!')"
   ]
  },
  {
   "cell_type": "code",
   "execution_count": 3,
   "id": "b4f40097",
   "metadata": {},
   "outputs": [
    {
     "data": {
      "text/html": [
       "<div>\n",
       "<style scoped>\n",
       "    .dataframe tbody tr th:only-of-type {\n",
       "        vertical-align: middle;\n",
       "    }\n",
       "\n",
       "    .dataframe tbody tr th {\n",
       "        vertical-align: top;\n",
       "    }\n",
       "\n",
       "    .dataframe thead th {\n",
       "        text-align: right;\n",
       "    }\n",
       "</style>\n",
       "<table border=\"1\" class=\"dataframe\">\n",
       "  <thead>\n",
       "    <tr style=\"text-align: right;\">\n",
       "      <th></th>\n",
       "      <th>headlines</th>\n",
       "      <th>text</th>\n",
       "    </tr>\n",
       "  </thead>\n",
       "  <tbody>\n",
       "    <tr>\n",
       "      <th>0</th>\n",
       "      <td>upGrad learner switches to career in ML &amp; Al w...</td>\n",
       "      <td>Saurav Kant, an alumnus of upGrad and IIIT-B's...</td>\n",
       "    </tr>\n",
       "    <tr>\n",
       "      <th>1</th>\n",
       "      <td>Delhi techie wins free food from Swiggy for on...</td>\n",
       "      <td>Kunal Shah's credit card bill payment platform...</td>\n",
       "    </tr>\n",
       "    <tr>\n",
       "      <th>2</th>\n",
       "      <td>New Zealand end Rohit Sharma-led India's 12-ma...</td>\n",
       "      <td>New Zealand defeated India by 8 wickets in the...</td>\n",
       "    </tr>\n",
       "    <tr>\n",
       "      <th>3</th>\n",
       "      <td>Aegon life iTerm insurance plan helps customer...</td>\n",
       "      <td>With Aegon Life iTerm Insurance plan, customer...</td>\n",
       "    </tr>\n",
       "    <tr>\n",
       "      <th>4</th>\n",
       "      <td>Have known Hirani for yrs, what if MeToo claim...</td>\n",
       "      <td>Speaking about the sexual harassment allegatio...</td>\n",
       "    </tr>\n",
       "  </tbody>\n",
       "</table>\n",
       "</div>"
      ],
      "text/plain": [
       "                                           headlines  \\\n",
       "0  upGrad learner switches to career in ML & Al w...   \n",
       "1  Delhi techie wins free food from Swiggy for on...   \n",
       "2  New Zealand end Rohit Sharma-led India's 12-ma...   \n",
       "3  Aegon life iTerm insurance plan helps customer...   \n",
       "4  Have known Hirani for yrs, what if MeToo claim...   \n",
       "\n",
       "                                                text  \n",
       "0  Saurav Kant, an alumnus of upGrad and IIIT-B's...  \n",
       "1  Kunal Shah's credit card bill payment platform...  \n",
       "2  New Zealand defeated India by 8 wickets in the...  \n",
       "3  With Aegon Life iTerm Insurance plan, customer...  \n",
       "4  Speaking about the sexual harassment allegatio...  "
      ]
     },
     "execution_count": 3,
     "metadata": {},
     "output_type": "execute_result"
    }
   ],
   "source": [
    "# 데이터가 잘 다운로드 됬나 확인 해 봅시다!\n",
    "data.head()"
   ]
  },
  {
   "cell_type": "code",
   "execution_count": 4,
   "id": "2fb8cf3d",
   "metadata": {},
   "outputs": [
    {
     "data": {
      "text/plain": [
       "'upGrad learner switches to career in ML & Al with 90% salary hike'"
      ]
     },
     "execution_count": 4,
     "metadata": {},
     "output_type": "execute_result"
    }
   ],
   "source": [
    "# 0번째 행 headline 내용 확인해보기 \n",
    "data.iloc[0,0]"
   ]
  },
  {
   "cell_type": "code",
   "execution_count": 5,
   "id": "17f4e87e",
   "metadata": {},
   "outputs": [
    {
     "data": {
      "text/plain": [
       "\"Saurav Kant, an alumnus of upGrad and IIIT-B's PG Program in Machine learning and Artificial Intelligence, was a Sr Systems Engineer at Infosys with almost 5 years of work experience. The program and upGrad's 360-degree career support helped him transition to a Data Scientist at Tech Mahindra with 90% salary hike. upGrad's Online Power Learning has powered 3 lakh+ careers.\""
      ]
     },
     "execution_count": 5,
     "metadata": {},
     "output_type": "execute_result"
    }
   ],
   "source": [
    "# 0번째 행 text 내용 확인해보기 \n",
    "data.iloc[0,1]"
   ]
  },
  {
   "cell_type": "markdown",
   "id": "a6d5a716",
   "metadata": {},
   "source": [
    "* 이 데이터는 기사의 본문에 해당되는 text와 headline 두 가지 열로 구성되어있다. 아마존 리뷰 데이터에선 userID, iD 등 불필요한 부분이 있었기에 data에서 Text 와 Summary 부분을 따로 빼 와 줬지만, 이번 데이터셋은 그대로 써도 되니 편하다 😊 \n",
    "\n",
    "\n",
    "* **추상적 요약을 하는 경우** : _text를 본문, headline을 이미 요약된 데이터_ 로 삼아서 모델을 학습합니다. \n",
    "* **추출적 요약을 하는경우** : 오직 _text 열만_ 사용 \n",
    "\n",
    "\n",
    "* 먼저 추상적 요약을 해 볼것이기 때문에, text는 본문, headline을 summary로 보면 되겠죠?"
   ]
  },
  {
   "cell_type": "markdown",
   "id": "89107f56",
   "metadata": {},
   "source": [
    "\n",
    "\n",
    "---\n",
    "\n"
   ]
  },
  {
   "cell_type": "markdown",
   "id": "49032760",
   "metadata": {},
   "source": [
    "# 2. 데이터 전처리 하기\n",
    "\n",
    "\n",
    "* 우선 중복 샘플이 존재하는 지 확인 해 보고 중복 샘플을 제거합니다.\n",
    "* 그 후, Null 값이 존재하는지 확인 해 보고 Null값이 있다면 제거합니다."
   ]
  },
  {
   "cell_type": "markdown",
   "id": "318d81dc",
   "metadata": {},
   "source": [
    "## &nbsp;&nbsp; 2-1 중복 샘플 유무를 확인합니다."
   ]
  },
  {
   "cell_type": "code",
   "execution_count": 6,
   "id": "3713e182",
   "metadata": {},
   "outputs": [
    {
     "name": "stdout",
     "output_type": "stream",
     "text": [
      "중복 제거 전 총 샘플의 수 :  98401\n",
      "text 열에서 중복을 배제한 유일한 샘플의 수 : 98360\n",
      "headlines 열에서 중복을 배제한 유일한 샘플의 수 : 98280\n",
      "------------------------------\n",
      "text 열의 중복 개수 : 41\n",
      "headlines 열의 중복 개수 : 121\n"
     ]
    }
   ],
   "source": [
    "# 확인 과정에서 데이터의 열 이름을 확인 해 줍니다. \n",
    "\n",
    "total_data_len = len(data) # 중복 제거 전 총 샘플의 수 \n",
    "text_nunique_count = data['text'].nunique() # text 열에서 중복을 배제한 유일한 샘플 수 \n",
    "head_nunique_count = data['headlines'].nunique()\n",
    "\n",
    "\n",
    "print('중복 제거 전 총 샘플의 수 : ', total_data_len) \n",
    "print('text 열에서 중복을 배제한 유일한 샘플의 수 :', text_nunique_count)\n",
    "print('headlines 열에서 중복을 배제한 유일한 샘플의 수 :', head_nunique_count)\n",
    "print('-'*30)\n",
    "print('text 열의 중복 개수 :',total_data_len-text_nunique_count)\n",
    "print('headlines 열의 중복 개수 :',total_data_len-head_nunique_count)\n"
   ]
  },
  {
   "cell_type": "markdown",
   "id": "360ef8bb",
   "metadata": {},
   "source": [
    "  \n",
    "  \n",
    "  "
   ]
  },
  {
   "cell_type": "markdown",
   "id": "72b3b1e0",
   "metadata": {},
   "source": [
    "## &nbsp;&nbsp; 2-2 중복 샘플 제거하기\n",
    "\n",
    "\n",
    "* ```drop_duplicates()```을 이용해 중복 샘플을 제거해줍니다."
   ]
  },
  {
   "cell_type": "code",
   "execution_count": 7,
   "id": "172ac602",
   "metadata": {},
   "outputs": [
    {
     "name": "stdout",
     "output_type": "stream",
     "text": [
      "중복이 제거된 전체 샘플의 수 :  98360\n"
     ]
    }
   ],
   "source": [
    "# inplace=True를 설정하면 DataFrame 타입 값을 return하지 않고 data 내부를 직접적으로 바꿈.\n",
    "data.drop_duplicates(subset = ['text'], inplace=True)\n",
    "print('중복이 제거된 전체 샘플의 수 : ',len(data))"
   ]
  },
  {
   "cell_type": "code",
   "execution_count": 8,
   "id": "5cff3374",
   "metadata": {},
   "outputs": [
    {
     "data": {
      "text/plain": [
       "0        Saurav Kant, an alumnus of upGrad and IIIT-B's...\n",
       "1        Kunal Shah's credit card bill payment platform...\n",
       "2        New Zealand defeated India by 8 wickets in the...\n",
       "3        With Aegon Life iTerm Insurance plan, customer...\n",
       "4        Speaking about the sexual harassment allegatio...\n",
       "                               ...                        \n",
       "98396    A CRPF jawan was on Tuesday axed to death with...\n",
       "98397    'Uff Yeh', the first song from the Sonakshi Si...\n",
       "98398    According to reports, a new version of the 199...\n",
       "98399    A new music video shows rapper Snoop Dogg aimi...\n",
       "98400    Madhesi Morcha, an alliance of seven political...\n",
       "Name: text, Length: 98360, dtype: object"
      ]
     },
     "execution_count": 8,
     "metadata": {},
     "output_type": "execute_result"
    }
   ],
   "source": [
    "data['text']"
   ]
  },
  {
   "cell_type": "code",
   "execution_count": 9,
   "id": "f36efb56",
   "metadata": {},
   "outputs": [
    {
     "data": {
      "text/plain": [
       "0        upGrad learner switches to career in ML & Al w...\n",
       "1        Delhi techie wins free food from Swiggy for on...\n",
       "2        New Zealand end Rohit Sharma-led India's 12-ma...\n",
       "3        Aegon life iTerm insurance plan helps customer...\n",
       "4        Have known Hirani for yrs, what if MeToo claim...\n",
       "                               ...                        \n",
       "98396    CRPF jawan axed to death by Maoists in Chhatti...\n",
       "98397    First song from Sonakshi Sinha's 'Noor' titled...\n",
       "98398           'The Matrix' film to get a reboot: Reports\n",
       "98399    Snoop Dogg aims gun at clown dressed as Trump ...\n",
       "98400    Madhesi Morcha withdraws support to Nepalese g...\n",
       "Name: headlines, Length: 98360, dtype: object"
      ]
     },
     "execution_count": 9,
     "metadata": {},
     "output_type": "execute_result"
    }
   ],
   "source": [
    "data['headlines']"
   ]
  },
  {
   "cell_type": "code",
   "execution_count": 11,
   "id": "4a8c1fdf",
   "metadata": {},
   "outputs": [
    {
     "name": "stdout",
     "output_type": "stream",
     "text": [
      "text 열에서 중복을 배제한 유일한 샘플의 수 : 98360\n",
      "headlines 열에서 중복을 배제한 유일한 샘플의 수 : 98280\n"
     ]
    }
   ],
   "source": [
    "print('text 열에서 중복을 배제한 유일한 샘플의 수 :', text_nunique_count)\n",
    "print('headlines 열에서 중복을 배제한 유일한 샘플의 수 :', head_nunique_count)"
   ]
  },
  {
   "cell_type": "markdown",
   "id": "42bacc43",
   "metadata": {},
   "source": [
    "* 두 열의 숫자가 98360 으로 같은걸로 보아, text열 뿐만 아니라 headlines의 중복 데이터도 함께 제거된걸 확인할 수 있다.\n",
    "\n",
    "* 하지만, headline에서 중복을 배제한 유일한 샘플 수가 98,280개 인걸 보니 아직 더 해줘야 하는게 남은것 같다. headlines의 내용은 같지만 text 내용이 다른 샘플이 있는걸까?"
   ]
  },
  {
   "cell_type": "markdown",
   "id": "91d4a1c5",
   "metadata": {},
   "source": [
    "\n",
    "\n",
    "\n"
   ]
  },
  {
   "cell_type": "markdown",
   "id": "5a82ef2c",
   "metadata": {},
   "source": [
    "## &nbsp;&nbsp; 2-3 Null 값 확인하기"
   ]
  },
  {
   "cell_type": "code",
   "execution_count": 12,
   "id": "895e183c",
   "metadata": {},
   "outputs": [
    {
     "name": "stdout",
     "output_type": "stream",
     "text": [
      "headlines    0\n",
      "text         0\n",
      "dtype: int64\n"
     ]
    }
   ],
   "source": [
    "print(data.isnull().sum())"
   ]
  },
  {
   "cell_type": "markdown",
   "id": "83658d6e",
   "metadata": {},
   "source": [
    "* null값은 없으니, dropna()로 제거 해 줄 필욘 없는것같다."
   ]
  },
  {
   "cell_type": "markdown",
   "id": "c3f8ca88",
   "metadata": {},
   "source": [
    "\n",
    "\n"
   ]
  },
  {
   "cell_type": "markdown",
   "id": "00783f69",
   "metadata": {},
   "source": [
    "## &nbsp;&nbsp; 2-4 텍스트 정규화 (text normalization)\n",
    "\n",
    "\n",
    "* 살아남은 샘플 갯수 98,360개 중에서 같은 뜻이지만 다른 단어로 간주되는 경우를 한 단어로 통일해 주는 작업을 진행합니다. \n",
    "    * ```it'll```은 ```it will```과 같고, ```mustn't```과 ```must not```은 같은 표현\n",
    "    * 이런 경우, 기계가 굳이 이들을 다른 단어로 간주해서 연산량을 늘리는 것 보단, \n",
    "        학습 전에 미리 같은 표현으로 통일 해 주는게 좋습니다.\n",
    "    * [텍스트 정규화 참고 링크](https://stackoverflow.com/questions/19790188/expanding-english-language-contractions-in-python)"
   ]
  },
  {
   "cell_type": "code",
   "execution_count": 13,
   "id": "f04fb401",
   "metadata": {},
   "outputs": [
    {
     "name": "stdout",
     "output_type": "stream",
     "text": [
      "정규화 사전의 수:  120\n"
     ]
    }
   ],
   "source": [
    "# 텍스트 정규화를 위한 사전을 구성합니다. \n",
    "\n",
    "contractions = {\"ain't\": \"is not\", \"aren't\": \"are not\",\"can't\": \"cannot\", \"'cause\": \"because\", \"could've\": \"could have\", \"couldn't\": \"could not\",\n",
    "                           \"didn't\": \"did not\",  \"doesn't\": \"does not\", \"don't\": \"do not\", \"hadn't\": \"had not\", \"hasn't\": \"has not\", \"haven't\": \"have not\",\n",
    "                           \"he'd\": \"he would\",\"he'll\": \"he will\", \"he's\": \"he is\", \"how'd\": \"how did\", \"how'd'y\": \"how do you\", \"how'll\": \"how will\", \"how's\": \"how is\",\n",
    "                           \"I'd\": \"I would\", \"I'd've\": \"I would have\", \"I'll\": \"I will\", \"I'll've\": \"I will have\",\"I'm\": \"I am\", \"I've\": \"I have\", \"i'd\": \"i would\",\n",
    "                           \"i'd've\": \"i would have\", \"i'll\": \"i will\",  \"i'll've\": \"i will have\",\"i'm\": \"i am\", \"i've\": \"i have\", \"isn't\": \"is not\", \"it'd\": \"it would\",\n",
    "                           \"it'd've\": \"it would have\", \"it'll\": \"it will\", \"it'll've\": \"it will have\",\"it's\": \"it is\", \"let's\": \"let us\", \"ma'am\": \"madam\",\n",
    "                           \"mayn't\": \"may not\", \"might've\": \"might have\",\"mightn't\": \"might not\",\"mightn't've\": \"might not have\", \"must've\": \"must have\",\n",
    "                           \"mustn't\": \"must not\", \"mustn't've\": \"must not have\", \"needn't\": \"need not\", \"needn't've\": \"need not have\",\"o'clock\": \"of the clock\",\n",
    "                           \"oughtn't\": \"ought not\", \"oughtn't've\": \"ought not have\", \"shan't\": \"shall not\", \"sha'n't\": \"shall not\", \"shan't've\": \"shall not have\",\n",
    "                           \"she'd\": \"she would\", \"she'd've\": \"she would have\", \"she'll\": \"she will\", \"she'll've\": \"she will have\", \"she's\": \"she is\",\n",
    "                           \"should've\": \"should have\", \"shouldn't\": \"should not\", \"shouldn't've\": \"should not have\", \"so've\": \"so have\",\"so's\": \"so as\",\n",
    "                           \"this's\": \"this is\",\"that'd\": \"that would\", \"that'd've\": \"that would have\", \"that's\": \"that is\", \"there'd\": \"there would\",\n",
    "                           \"there'd've\": \"there would have\", \"there's\": \"there is\", \"here's\": \"here is\",\"they'd\": \"they would\", \"they'd've\": \"they would have\",\n",
    "                           \"they'll\": \"they will\", \"they'll've\": \"they will have\", \"they're\": \"they are\", \"they've\": \"they have\", \"to've\": \"to have\",\n",
    "                           \"wasn't\": \"was not\", \"we'd\": \"we would\", \"we'd've\": \"we would have\", \"we'll\": \"we will\", \"we'll've\": \"we will have\", \"we're\": \"we are\",\n",
    "                           \"we've\": \"we have\", \"weren't\": \"were not\", \"what'll\": \"what will\", \"what'll've\": \"what will have\", \"what're\": \"what are\",\n",
    "                           \"what's\": \"what is\", \"what've\": \"what have\", \"when's\": \"when is\", \"when've\": \"when have\", \"where'd\": \"where did\", \"where's\": \"where is\",\n",
    "                           \"where've\": \"where have\", \"who'll\": \"who will\", \"who'll've\": \"who will have\", \"who's\": \"who is\", \"who've\": \"who have\",\n",
    "                           \"why's\": \"why is\", \"why've\": \"why have\", \"will've\": \"will have\", \"won't\": \"will not\", \"won't've\": \"will not have\",\n",
    "                           \"would've\": \"would have\", \"wouldn't\": \"would not\", \"wouldn't've\": \"would not have\", \"y'all\": \"you all\",\n",
    "                           \"y'all'd\": \"you all would\",\"y'all'd've\": \"you all would have\",\"y'all're\": \"you all are\",\"y'all've\": \"you all have\",\n",
    "                           \"you'd\": \"you would\", \"you'd've\": \"you would have\", \"you'll\": \"you will\", \"you'll've\": \"you will have\",\n",
    "                           \"you're\": \"you are\", \"you've\": \"you have\"}\n",
    "\n",
    "print(\"정규화 사전의 수: \", len(contractions))"
   ]
  },
  {
   "cell_type": "markdown",
   "id": "92a2a3a5",
   "metadata": {},
   "source": [
    "\n",
    "\n"
   ]
  },
  {
   "cell_type": "markdown",
   "id": "eb476d23",
   "metadata": {},
   "source": [
    "## &nbsp;&nbsp; 2-5 불용어 리스트 \n",
    "\n",
    "\n",
    "* NLTK에서 미리 정의하여 제공하는 불용어 리스트를 이용해 불용어를 제거 해 줍니다. \n",
    "* 우선 불용어를 확인 합니다."
   ]
  },
  {
   "cell_type": "code",
   "execution_count": 14,
   "id": "551d5c84",
   "metadata": {},
   "outputs": [
    {
     "name": "stdout",
     "output_type": "stream",
     "text": [
      "불용어 개수 : 179\n",
      "['i', 'me', 'my', 'myself', 'we', 'our', 'ours', 'ourselves', 'you', \"you're\", \"you've\", \"you'll\", \"you'd\", 'your', 'yours', 'yourself', 'yourselves', 'he', 'him', 'his', 'himself', 'she', \"she's\", 'her', 'hers', 'herself', 'it', \"it's\", 'its', 'itself', 'they', 'them', 'their', 'theirs', 'themselves', 'what', 'which', 'who', 'whom', 'this', 'that', \"that'll\", 'these', 'those', 'am', 'is', 'are', 'was', 'were', 'be', 'been', 'being', 'have', 'has', 'had', 'having', 'do', 'does', 'did', 'doing', 'a', 'an', 'the', 'and', 'but', 'if', 'or', 'because', 'as', 'until', 'while', 'of', 'at', 'by', 'for', 'with', 'about', 'against', 'between', 'into', 'through', 'during', 'before', 'after', 'above', 'below', 'to', 'from', 'up', 'down', 'in', 'out', 'on', 'off', 'over', 'under', 'again', 'further', 'then', 'once', 'here', 'there', 'when', 'where', 'why', 'how', 'all', 'any', 'both', 'each', 'few', 'more', 'most', 'other', 'some', 'such', 'no', 'nor', 'not', 'only', 'own', 'same', 'so', 'than', 'too', 'very', 's', 't', 'can', 'will', 'just', 'don', \"don't\", 'should', \"should've\", 'now', 'd', 'll', 'm', 'o', 're', 've', 'y', 'ain', 'aren', \"aren't\", 'couldn', \"couldn't\", 'didn', \"didn't\", 'doesn', \"doesn't\", 'hadn', \"hadn't\", 'hasn', \"hasn't\", 'haven', \"haven't\", 'isn', \"isn't\", 'ma', 'mightn', \"mightn't\", 'mustn', \"mustn't\", 'needn', \"needn't\", 'shan', \"shan't\", 'shouldn', \"shouldn't\", 'wasn', \"wasn't\", 'weren', \"weren't\", 'won', \"won't\", 'wouldn', \"wouldn't\"]\n"
     ]
    }
   ],
   "source": [
    "print('불용어 개수 :', len(stopwords.words('english') ))\n",
    "print(stopwords.words('english'))"
   ]
  },
  {
   "cell_type": "markdown",
   "id": "8a7b4794",
   "metadata": {},
   "source": [
    "\n",
    "\n"
   ]
  },
  {
   "cell_type": "markdown",
   "id": "17c9acb8",
   "metadata": {},
   "source": [
    "## &nbsp;&nbsp; 2-6 데이터 전처리 함수 만들기\n",
    "\n",
    "\n",
    "* 데이터 전처리를 위한 함수를 만들었습니다. \n",
    "* 추상적인 문장 요약 결과문이 자연스러운 문장이 되려면 불용어가 Headline엔 남아있는게 더 좋다고 생각하기 때문에 headline에는 불용어를 사용하지 않습니다."
   ]
  },
  {
   "cell_type": "code",
   "execution_count": 17,
   "id": "ac7c0f38",
   "metadata": {},
   "outputs": [
    {
     "name": "stdout",
     "output_type": "stream",
     "text": [
      "=3\n"
     ]
    }
   ],
   "source": [
    "# 데이터 전처리 함수\n",
    "def preprocess_sentence(sentence, remove_stopwords=True):\n",
    "    sentence = sentence.lower() # 텍스트 소문자화\n",
    "    sentence = BeautifulSoup(sentence, \"lxml\").text # <br />, <a href = ...> 등의 html 태그 제거\n",
    "    sentence = re.sub(r'\\([^)]*\\)', '', sentence) # 괄호로 닫힌 문자열 (...) 제거 Ex) my husband (and myself!) for => my husband for\n",
    "    sentence = re.sub('\"','', sentence) # 쌍따옴표 \" 제거\n",
    "    sentence = ' '.join([contractions[t] if t in contractions else t for t in sentence.split(\" \")]) # 약어 정규화\n",
    "    sentence = re.sub(r\"'s\\b\",\"\", sentence) # 소유격 제거. Ex) roland's -> roland\n",
    "    sentence = re.sub(\"[^a-zA-Z]\", \" \", sentence) # 영어 외 문자(숫자, 특수문자 등) 공백으로 변환\n",
    "    sentence = re.sub('[m]{2,}', 'mm', sentence) # m이 3개 이상이면 2개로 변경. Ex) ummmmmmm yeah -> umm yeah\n",
    "    \n",
    "    # 불용어 제거 (Text)\n",
    "    if remove_stopwords:\n",
    "        tokens = ' '.join(word for word in sentence.split() if not word in stopwords.words('english') if len(word) > 1)\n",
    "    # 불용어 미제거 (Summary)\n",
    "    else:\n",
    "        tokens = ' '.join(word for word in sentence.split() if len(word) > 1)\n",
    "    return tokens\n",
    "print('=3')"
   ]
  },
  {
   "cell_type": "code",
   "execution_count": 18,
   "id": "5b986072",
   "metadata": {},
   "outputs": [
    {
     "name": "stdout",
     "output_type": "stream",
     "text": [
      "text:  everything bought great infact ordered twice third ordered wasfor mother father\n",
      "headline: great way to start the day\n"
     ]
    }
   ],
   "source": [
    "# 만든 전처리 함수를 사용해서 잘 걸러지는지 확인 해봅시다. \n",
    "\n",
    "temp_text = 'Everything I bought was great, infact I ordered twice and the third ordered was<br />for my mother and father.'\n",
    "temp_headlines = 'Great way to start (or finish) the day!!!'\n",
    "\n",
    "print(\"text: \", preprocess_sentence(temp_text))\n",
    "print(\"headline:\", preprocess_sentence(temp_headlines, False))  \n",
    "# headline은 불용어를 제거하지 않습니다."
   ]
  },
  {
   "cell_type": "markdown",
   "id": "c34f4b50",
   "metadata": {},
   "source": [
    "\n",
    "\n"
   ]
  },
  {
   "cell_type": "markdown",
   "id": "1c49e50e",
   "metadata": {},
   "source": [
    "## &nbsp;&nbsp; 2-7 데이터 전체에 전처리 수행하기\n",
    "\n",
    "* Headline에는 불용어를 제거하지 않기 때문에, 데이터 전처리는 text와 headline을 따로 처리 해줍니다. \n"
   ]
  },
  {
   "cell_type": "markdown",
   "id": "62d6ed79",
   "metadata": {},
   "source": [
    "\n",
    "\n",
    "\n",
    "### &nbsp;&nbsp;&nbsp;&nbsp; 2-7-1 text 데이터에 전처리 수행하기"
   ]
  },
  {
   "cell_type": "code",
   "execution_count": 19,
   "id": "ecf1c805",
   "metadata": {},
   "outputs": [
    {
     "name": "stdout",
     "output_type": "stream",
     "text": [
      "Text 전처리 후 결과:  ['saurav kant alumnus upgrad iiit pg program machine learning artificial intelligence sr systems engineer infosys almost years work experience program upgrad degree career support helped transition data scientist tech mahindra salary hike upgrad online power learning powered lakh careers', 'kunal shah credit card bill payment platform cred gave users chance win free food swiggy one year pranav kaushik delhi techie bagged reward spending cred coins users get one cred coin per rupee bill paid used avail rewards brands like ixigo bookmyshow ubereats cult fit', 'new zealand defeated india wickets fourth odi hamilton thursday win first match five match odi series india lost international match rohit sharma captaincy consecutive victories dating back march match witnessed india getting seventh lowest total odi cricket history', 'aegon life iterm insurance plan customers enjoy tax benefits premiums paid save taxes plan provides life cover age years also customers options insure critical illnesses disability accidental death benefit rider life cover age years', 'speaking sexual harassment allegations rajkumar hirani sonam kapoor said known hirani many years true metoo movement get derailed metoo movement always believe woman case need reserve judgment added hirani accused assistant worked sanju']\n"
     ]
    }
   ],
   "source": [
    "clean_text = []\n",
    "# 전체 Text 데이터에 대한 전처리 : 10분 이상 시간이 걸릴 수 있습니다. \n",
    "for s in data['text']:\n",
    "    clean_text.append(preprocess_sentence(s))\n",
    "\n",
    "# 전처리 후 출력\n",
    "print(\"Text 전처리 후 결과: \", clean_text[:5])\n"
   ]
  },
  {
   "cell_type": "markdown",
   "id": "617e8732",
   "metadata": {},
   "source": [
    "\n",
    "\n"
   ]
  },
  {
   "cell_type": "markdown",
   "id": "43eecfa5",
   "metadata": {},
   "source": [
    "\n",
    "\n",
    "\n",
    "### &nbsp;&nbsp;&nbsp;&nbsp; 2-7-2 headline 데이터에 전처리 수행하기\n",
    "\n",
    "* 불용어를 제거하지 않기 때문에, false를 추가합니다. "
   ]
  },
  {
   "cell_type": "code",
   "execution_count": 20,
   "id": "514cf104",
   "metadata": {},
   "outputs": [
    {
     "name": "stdout",
     "output_type": "stream",
     "text": [
      "headlines 전처리 후 결과:  ['upgrad learner switches to career in ml al with salary hike', 'delhi techie wins free food from swiggy for one year on cred', 'new zealand end rohit sharma led india match winning streak', 'aegon life iterm insurance plan helps customers save tax', 'have known hirani for yrs what if metoo claims are not true sonam']\n"
     ]
    }
   ],
   "source": [
    "clean_headlines = []\n",
    "# 전체 headlines 데이터에 대한 전처리 : 5분 이상 시간이 걸릴 수 있습니다. \n",
    "for s in data['headlines']:\n",
    "    clean_headlines.append(preprocess_sentence(s, False))\n",
    "\n",
    "print(\"headlines 전처리 후 결과: \", clean_headlines[:5])"
   ]
  },
  {
   "cell_type": "markdown",
   "id": "9dc9c39b",
   "metadata": {},
   "source": [
    "\n",
    "\n"
   ]
  },
  {
   "cell_type": "markdown",
   "id": "f36432ae",
   "metadata": {},
   "source": [
    "## &nbsp;&nbsp; 2-8 빈 샘플 확인\n",
    "\n",
    "\n",
    "* 텍스트 정제 과정을 거친 후엔 정제 전엔 데이터가 있던 부분도 없어졌을 수도 있기 때문에 꼭 한번씩 확인 해 보는것이 좋습니다."
   ]
  },
  {
   "cell_type": "markdown",
   "id": "224030d0",
   "metadata": {},
   "source": [
    "\n",
    "\n",
    "\n",
    "### &nbsp;&nbsp;&nbsp;&nbsp; 2-8-1 정제 후 빈 값을 Null로 변환"
   ]
  },
  {
   "cell_type": "code",
   "execution_count": 21,
   "id": "e9b59e15",
   "metadata": {},
   "outputs": [
    {
     "name": "stdout",
     "output_type": "stream",
     "text": [
      "Null 값 변환 완료~!\n"
     ]
    }
   ],
   "source": [
    "# 보다 쉽게 확인 하기 위해 데이터들을 데이터 프레임에 재 저장. \n",
    "data['text'] = clean_text\n",
    "data['headlines'] = clean_headlines\n",
    "\n",
    "# 빈 값을 Null 값으로 변환\n",
    "data.replace('', np.nan, inplace=True)\n",
    "print('Null 값 변환 완료~!')"
   ]
  },
  {
   "cell_type": "markdown",
   "id": "f3330840",
   "metadata": {},
   "source": [
    "\n",
    "\n",
    "\n"
   ]
  },
  {
   "cell_type": "markdown",
   "id": "ab18f3a9",
   "metadata": {},
   "source": [
    "\n",
    "\n",
    "\n",
    "### &nbsp;&nbsp;&nbsp;&nbsp; 2-8-2 Null 값이 생겼는지 확인 "
   ]
  },
  {
   "cell_type": "code",
   "execution_count": 22,
   "id": "33798992",
   "metadata": {},
   "outputs": [
    {
     "data": {
      "text/plain": [
       "headlines    0\n",
       "text         0\n",
       "dtype: int64"
      ]
     },
     "execution_count": 22,
     "metadata": {},
     "output_type": "execute_result"
    }
   ],
   "source": [
    "data.isnull().sum()"
   ]
  },
  {
   "cell_type": "markdown",
   "id": "1369a990",
   "metadata": {},
   "source": [
    "\n",
    "\n"
   ]
  },
  {
   "cell_type": "markdown",
   "id": "111c6fbb",
   "metadata": {},
   "source": [
    "\n",
    "\n"
   ]
  },
  {
   "cell_type": "markdown",
   "id": "2dff2a7e",
   "metadata": {},
   "source": [
    "## &nbsp;&nbsp; 2-9 샘플의 최대 길이 정하기 \n",
    "\n",
    "\n",
    "* 훈련에 사용할 샘플의 최대 길이를 정해줍니다. "
   ]
  },
  {
   "cell_type": "markdown",
   "id": "65130d84",
   "metadata": {},
   "source": [
    "\n",
    "\n",
    "\n",
    "### &nbsp;&nbsp;&nbsp;&nbsp; 2-9-1 text와 headlines 의 최소, 최대, 평균 길이를 구하고, 길이 분포를 시각화."
   ]
  },
  {
   "cell_type": "code",
   "execution_count": 23,
   "id": "9f30ce89",
   "metadata": {},
   "outputs": [
    {
     "name": "stdout",
     "output_type": "stream",
     "text": [
      "텍스트의 최소 길이 : 1\n",
      "텍스트의 최대 길이 : 60\n",
      "텍스트의 평균 길이 : 35.09968483123221\n",
      "요약의 최소 길이 : 1\n",
      "요약의 최대 길이 : 16\n",
      "요약의 평균 길이 : 9.299532330215534\n"
     ]
    },
    {
     "data": {
      "image/png": "[encoded data removed]",
      "text/plain": [
       "<Figure size 432x288 with 2 Axes>"
      ]
     },
     "metadata": {
      "needs_background": "light"
     },
     "output_type": "display_data"
    },
    {
     "data": {
      "image/png": "[encoded data removed]",
      "text/plain": [
       "<Figure size 432x288 with 1 Axes>"
      ]
     },
     "metadata": {
      "needs_background": "light"
     },
     "output_type": "display_data"
    },
    {
     "data": {
      "image/png": "[encoded data removed]",
      "text/plain": [
       "<Figure size 432x288 with 1 Axes>"
      ]
     },
     "metadata": {
      "needs_background": "light"
     },
     "output_type": "display_data"
    }
   ],
   "source": [
    "# 길이 분포 출력\n",
    "\n",
    "text_len = [len(s.split()) for s in data['text']]\n",
    "headlines_len = [len(s.split()) for s in data['headlines']]\n",
    "\n",
    "print('텍스트의 최소 길이 : {}'.format(np.min(text_len)))\n",
    "print('텍스트의 최대 길이 : {}'.format(np.max(text_len)))\n",
    "print('텍스트의 평균 길이 : {}'.format(np.mean(text_len)))\n",
    "print('요약의 최소 길이 : {}'.format(np.min(headlines_len)))\n",
    "print('요약의 최대 길이 : {}'.format(np.max(headlines_len)))\n",
    "print('요약의 평균 길이 : {}'.format(np.mean(headlines_len)))\n",
    "\n",
    "plt.subplot(1,2,1)\n",
    "plt.boxplot(text_len)\n",
    "plt.title('text')\n",
    "plt.subplot(1,2,2)\n",
    "plt.boxplot(headlines_len)\n",
    "plt.title('headlines')\n",
    "plt.tight_layout()\n",
    "plt.show()\n",
    "\n",
    "plt.title('text')\n",
    "plt.hist(text_len, bins = 40)\n",
    "plt.xlabel('length of samples')\n",
    "plt.ylabel('number of samples')\n",
    "plt.show()\n",
    "\n",
    "plt.title('headlines')\n",
    "plt.hist(headlines_len, bins = 40)\n",
    "plt.xlabel('length of samples')\n",
    "plt.ylabel('number of samples')\n",
    "plt.show()"
   ]
  },
  {
   "cell_type": "markdown",
   "id": "5f37560b",
   "metadata": {},
   "source": [
    "* 짧은 뉴스라 그런가 문장 길이가 리뷰만큼 길지 않다. 대체적으로 적당히 긴 문장 들로 구성 되어 있는 것 같은데..? \n",
    "~~~ 짧...은가..? ~~~ \n",
    "\n",
    "> text 내용   \n",
    "\"Saurav Kant, an alumnus of upGrad and IIIT-B's PG Program in Machine learning and Artificial Intelligence, was a Sr Systems Engineer at Infosys with almost 5 years of work experience. The program and upGrad's 360-degree career support helped him transition to a Data Scientist at Tech Mahindra with 90% salary hike. upGrad's Online Power Learning has powered 3 lakh+ careers.\""
   ]
  },
  {
   "cell_type": "markdown",
   "id": "bfe6d386",
   "metadata": {},
   "source": [
    "\n",
    "\n"
   ]
  },
  {
   "cell_type": "markdown",
   "id": "72b29fba",
   "metadata": {},
   "source": [
    "\n",
    "\n",
    "\n",
    "### &nbsp;&nbsp;&nbsp;&nbsp; 2-9-2 Text의 최대 길이와 Summary의 적절한 최대 길이 설정\n",
    "\n",
    "* 아래 설정한 최대길이 대비 데이터 비율을 확인 해 보고, 얼마만큼 날릴건지 생각 해 보자.\n",
    "* 길이가 너무 길면 패딩이 많이 들어가야하니까 잘 생각해 보자\n",
    "* 최대 길이보다 길이가 긴 문장들은 길이만큼 잘린다.\n",
    "* 시각화 해 봤을 때, 데이터의 분포가 고른걸 보아 데이터를 구지 솎아 줄 필요가 없는것 같아 최대 길이로 설정해주었다. "
   ]
  },
  {
   "cell_type": "code",
   "execution_count": 27,
   "id": "f4d1889e",
   "metadata": {},
   "outputs": [
    {
     "name": "stdout",
     "output_type": "stream",
     "text": [
      "최대길이 설정 완료! \n"
     ]
    }
   ],
   "source": [
    "text_max_len = 42\n",
    "headline_max_len = 11\n",
    "\n",
    "print('최대길이 설정 완료! ')"
   ]
  },
  {
   "cell_type": "markdown",
   "id": "5dc3dc54",
   "metadata": {},
   "source": [
    "\n",
    "\n",
    "* 그렇다면 내가 설정했던 최대 길이들이 데이터 상에 얼마나 되는지 비율을 한번 확인 해보자."
   ]
  },
  {
   "cell_type": "code",
   "execution_count": 28,
   "id": "ea819ca6",
   "metadata": {},
   "outputs": [
    {
     "name": "stdout",
     "output_type": "stream",
     "text": [
      "전체 샘플 중 길이가 42 이하인 샘플의 비율: 1.0\n",
      "전체 샘플 중 길이가 11 이하인 샘플의 비율: 1.0\n"
     ]
    }
   ],
   "source": [
    "# 데이터의 비율을 계산 하는 함수! \n",
    "def below_threshold_len(max_len, nested_list):\n",
    "  cnt = 0\n",
    "  for s in nested_list:\n",
    "    if(len(s.split()) <= max_len):\n",
    "        cnt = cnt + 1\n",
    "  print('전체 샘플 중 길이가 %s 이하인 샘플의 비율: %s'%(max_len, (cnt / len(nested_list))))\n",
    "\n",
    "# text와 headlines에 적용해봅시다. \n",
    "below_threshold_len(text_max_len, data['text'])\n",
    "below_threshold_len(headline_max_len,  data['headlines'])"
   ]
  },
  {
   "cell_type": "markdown",
   "id": "14f89cae",
   "metadata": {},
   "source": [
    "\n",
    "\n"
   ]
  },
  {
   "cell_type": "markdown",
   "id": "16d2c343",
   "metadata": {},
   "source": [
    "\n",
    "\n",
    "\n",
    "### &nbsp;&nbsp;&nbsp;&nbsp; 2-9-3 데이터가 최대 길이보다 길면 제외하는 방법으로 정제합니다.\n"
   ]
  },
  {
   "cell_type": "code",
   "execution_count": 29,
   "id": "127bf91d",
   "metadata": {},
   "outputs": [
    {
     "name": "stdout",
     "output_type": "stream",
     "text": [
      "전체 샘플수 : 74102\n"
     ]
    }
   ],
   "source": [
    "data = data[data['text'].apply(lambda x: len(x.split()) <= text_max_len)]\n",
    "data = data[data['headlines'].apply(lambda x: len(x.split()) <= headline_max_len)]\n",
    "print('전체 샘플수 :', (len(data)))"
   ]
  },
  {
   "cell_type": "markdown",
   "id": "2a34949a",
   "metadata": {},
   "source": [
    "* 최대길이를 30, 8 로 설정했을 때 65295개였던 샘플이, 약 8000개 가량 더 추가되었다. \n",
    "* 너무 길다 싶은 문장만 솎아줄 것이기 때문에, 샘플 길이는 길이 분포를 참조해 적당히 맞춰주었다."
   ]
  },
  {
   "cell_type": "markdown",
   "id": "b63e3afe",
   "metadata": {},
   "source": [
    "\n",
    "\n"
   ]
  },
  {
   "cell_type": "markdown",
   "id": "c6cf6cd5",
   "metadata": {},
   "source": [
    "## &nbsp;&nbsp; 2-10 시작 토큰과 종료 토큰 추가하기!\n",
    "\n",
    "\n",
    "1. 디코더의 입력\n",
    "    1. 디코더의 입력에 해당되면서 시작 토큰이 맨 앞에 있는 문장 이름 = `decoder_input`\n",
    "    2. 디코더의 출력에 해당되면서 종료 토큰이 맨 뒤에 붙는 문장 이름 = `decoder_target`\n",
    "2. 레이블에 시작 토큰과 종료 토큰을 추가\n",
    "    1. 시작 토큰 : `sostoken ` . 문장 앞에 추가 <start>\n",
    "    2. 종료 토큰 : `eostoken` . 문장 뒤에 추가 <end>\n",
    "    \n",
    "* 토큰 이름을 임의로 정의해 주셨다고 봤던 것 같아, sostoken 라는 말만 있는건 좀.. 한번에 봤을 때 표가 잘 안나는 것 같아, exp4에서 해 줬던 이름으로 바꿔보았다.\n",
    "    (문제 생길 시 원복 예정)"
   ]
  },
  {
   "cell_type": "code",
   "execution_count": 30,
   "id": "61e8de61",
   "metadata": {},
   "outputs": [
    {
     "data": {
      "text/html": [
       "<div>\n",
       "<style scoped>\n",
       "    .dataframe tbody tr th:only-of-type {\n",
       "        vertical-align: middle;\n",
       "    }\n",
       "\n",
       "    .dataframe tbody tr th {\n",
       "        vertical-align: top;\n",
       "    }\n",
       "\n",
       "    .dataframe thead th {\n",
       "        text-align: right;\n",
       "    }\n",
       "</style>\n",
       "<table border=\"1\" class=\"dataframe\">\n",
       "  <thead>\n",
       "    <tr style=\"text-align: right;\">\n",
       "      <th></th>\n",
       "      <th>headlines</th>\n",
       "      <th>text</th>\n",
       "      <th>decoder_input</th>\n",
       "      <th>decoder_target</th>\n",
       "    </tr>\n",
       "  </thead>\n",
       "  <tbody>\n",
       "    <tr>\n",
       "      <th>2</th>\n",
       "      <td>new zealand end rohit sharma led india match w...</td>\n",
       "      <td>new zealand defeated india wickets fourth odi ...</td>\n",
       "      <td>sostoken new zealand end rohit sharma led indi...</td>\n",
       "      <td>new zealand end rohit sharma led india match w...</td>\n",
       "    </tr>\n",
       "    <tr>\n",
       "      <th>3</th>\n",
       "      <td>aegon life iterm insurance plan helps customer...</td>\n",
       "      <td>aegon life iterm insurance plan customers enjo...</td>\n",
       "      <td>sostoken aegon life iterm insurance plan helps...</td>\n",
       "      <td>aegon life iterm insurance plan helps customer...</td>\n",
       "    </tr>\n",
       "    <tr>\n",
       "      <th>5</th>\n",
       "      <td>rahat fateh ali khan denies getting notice for...</td>\n",
       "      <td>pakistani singer rahat fateh ali khan denied r...</td>\n",
       "      <td>sostoken rahat fateh ali khan denies getting n...</td>\n",
       "      <td>rahat fateh ali khan denies getting notice for...</td>\n",
       "    </tr>\n",
       "    <tr>\n",
       "      <th>9</th>\n",
       "      <td>cong wins ramgarh bypoll in rajasthan takes to...</td>\n",
       "      <td>congress candidate shafia zubair ramgarh assem...</td>\n",
       "      <td>sostoken cong wins ramgarh bypoll in rajasthan...</td>\n",
       "      <td>cong wins ramgarh bypoll in rajasthan takes to...</td>\n",
       "    </tr>\n",
       "    <tr>\n",
       "      <th>10</th>\n",
       "      <td>up cousins fed human excreta for friendship wi...</td>\n",
       "      <td>two minor cousins uttar pradesh gorakhpur alle...</td>\n",
       "      <td>sostoken up cousins fed human excreta for frie...</td>\n",
       "      <td>up cousins fed human excreta for friendship wi...</td>\n",
       "    </tr>\n",
       "  </tbody>\n",
       "</table>\n",
       "</div>"
      ],
      "text/plain": [
       "                                            headlines  \\\n",
       "2   new zealand end rohit sharma led india match w...   \n",
       "3   aegon life iterm insurance plan helps customer...   \n",
       "5   rahat fateh ali khan denies getting notice for...   \n",
       "9   cong wins ramgarh bypoll in rajasthan takes to...   \n",
       "10  up cousins fed human excreta for friendship wi...   \n",
       "\n",
       "                                                 text  \\\n",
       "2   new zealand defeated india wickets fourth odi ...   \n",
       "3   aegon life iterm insurance plan customers enjo...   \n",
       "5   pakistani singer rahat fateh ali khan denied r...   \n",
       "9   congress candidate shafia zubair ramgarh assem...   \n",
       "10  two minor cousins uttar pradesh gorakhpur alle...   \n",
       "\n",
       "                                        decoder_input  \\\n",
       "2   sostoken new zealand end rohit sharma led indi...   \n",
       "3   sostoken aegon life iterm insurance plan helps...   \n",
       "5   sostoken rahat fateh ali khan denies getting n...   \n",
       "9   sostoken cong wins ramgarh bypoll in rajasthan...   \n",
       "10  sostoken up cousins fed human excreta for frie...   \n",
       "\n",
       "                                       decoder_target  \n",
       "2   new zealand end rohit sharma led india match w...  \n",
       "3   aegon life iterm insurance plan helps customer...  \n",
       "5   rahat fateh ali khan denies getting notice for...  \n",
       "9   cong wins ramgarh bypoll in rajasthan takes to...  \n",
       "10  up cousins fed human excreta for friendship wi...  "
      ]
     },
     "execution_count": 30,
     "metadata": {},
     "output_type": "execute_result"
    }
   ],
   "source": [
    "# 요약 데이터에는 시작 토큰과 종료 토큰을 추가한다.\n",
    "data['decoder_input'] = data['headlines'].apply(lambda x : 'sostoken '+ x)\n",
    "data['decoder_target'] = data['headlines'].apply(lambda x : x + ' eostoken')\n",
    "data.head()"
   ]
  },
  {
   "cell_type": "markdown",
   "id": "eba2fafc",
   "metadata": {},
   "source": [
    "* 토큰이 잘 추가 됬는지, 하나하나 따 와서 확인 해봤습니다."
   ]
  },
  {
   "cell_type": "code",
   "execution_count": 31,
   "id": "ee35a9ec",
   "metadata": {},
   "outputs": [
    {
     "data": {
      "text/plain": [
       "'sostoken aegon life iterm insurance plan helps customers save tax'"
      ]
     },
     "execution_count": 31,
     "metadata": {},
     "output_type": "execute_result"
    }
   ],
   "source": [
    "data.iloc[1,2]"
   ]
  },
  {
   "cell_type": "code",
   "execution_count": 32,
   "id": "05ee8f9b",
   "metadata": {},
   "outputs": [
    {
     "data": {
      "text/plain": [
       "'aegon life iterm insurance plan helps customers save tax eostoken'"
      ]
     },
     "execution_count": 32,
     "metadata": {},
     "output_type": "execute_result"
    }
   ],
   "source": [
    "data.iloc[1,3]"
   ]
  },
  {
   "cell_type": "markdown",
   "id": "b8d50b96",
   "metadata": {},
   "source": [
    "\n",
    "\n"
   ]
  },
  {
   "cell_type": "markdown",
   "id": "dfbdd60b",
   "metadata": {},
   "source": [
    "\n",
    "\n",
    "\n",
    "### &nbsp;&nbsp;&nbsp;&nbsp; 2-10-1 토큰을 추가한 데이터들을 numpy 타입으로 변경합니다\n"
   ]
  },
  {
   "cell_type": "code",
   "execution_count": 33,
   "id": "20415747",
   "metadata": {},
   "outputs": [
    {
     "name": "stdout",
     "output_type": "stream",
     "text": [
      "Numpy 타입 변환 완료!\n"
     ]
    }
   ],
   "source": [
    "encoder_input = np.array(data['text']) # 인코더의 입력\n",
    "decoder_input = np.array(data['decoder_input']) # 디코더의 입력\n",
    "decoder_target = np.array(data['decoder_target']) # 디코더의 레이블\n",
    "\n",
    "print('Numpy 타입 변환 완료!')"
   ]
  },
  {
   "cell_type": "markdown",
   "id": "e6fcb3dd",
   "metadata": {},
   "source": [
    "\n",
    "\n"
   ]
  },
  {
   "cell_type": "markdown",
   "id": "0d89595a",
   "metadata": {},
   "source": [
    "## &nbsp;&nbsp; 2-11 훈련 데이터와 테스트 데이터 분리하기"
   ]
  },
  {
   "cell_type": "markdown",
   "id": "f117b8b4",
   "metadata": {},
   "source": [
    "\n",
    "\n",
    "\n",
    "### &nbsp;&nbsp;&nbsp;&nbsp; 2-11-1 정수 시퀀스 만들기\n",
    "\n",
    "* encoder_input과 크기와 형태가 같은 순서가 섞인 정수 시퀀스를 만듭니다"
   ]
  },
  {
   "cell_type": "code",
   "execution_count": 34,
   "id": "2de2cd82",
   "metadata": {},
   "outputs": [
    {
     "name": "stdout",
     "output_type": "stream",
     "text": [
      "[21453 49848 37204 ... 63421 50245  7289]\n"
     ]
    }
   ],
   "source": [
    "indices = np.arange(encoder_input.shape[0])\n",
    "np.random.shuffle(indices)\n",
    "print(indices)"
   ]
  },
  {
   "cell_type": "markdown",
   "id": "93a7c422",
   "metadata": {},
   "source": [
    "\n",
    "\n",
    "\n",
    "### &nbsp;&nbsp;&nbsp;&nbsp; 2-11-2 정수 시퀀스의 데이터 샘플 재정의\n"
   ]
  },
  {
   "cell_type": "code",
   "execution_count": 35,
   "id": "39d59e83",
   "metadata": {},
   "outputs": [
    {
     "name": "stdout",
     "output_type": "stream",
     "text": [
      "Everyday I'm Shuffling.\n"
     ]
    }
   ],
   "source": [
    "encoder_input = encoder_input[indices]\n",
    "decoder_input = decoder_input[indices]\n",
    "decoder_target = decoder_target[indices]\n",
    "\n",
    "print('Everyday I\\'m Shuffling.')"
   ]
  },
  {
   "cell_type": "markdown",
   "id": "314e0a85",
   "metadata": {},
   "source": [
    "\n",
    "\n"
   ]
  },
  {
   "cell_type": "markdown",
   "id": "f0bb0cba",
   "metadata": {},
   "source": [
    "\n",
    "\n",
    "\n",
    "### &nbsp;&nbsp;&nbsp;&nbsp; 2-11-3 test data 크기 정의하기  \n",
    "- 전체 데이터의 크기에서 0.2를 곱해 test 데이터의 크기를 정의합니다.\n"
   ]
  },
  {
   "cell_type": "code",
   "execution_count": 36,
   "id": "7bd19e39",
   "metadata": {},
   "outputs": [
    {
     "name": "stdout",
     "output_type": "stream",
     "text": [
      "테스트 데이터의 수: 14820\n"
     ]
    }
   ],
   "source": [
    "n_of_val = int(len(encoder_input)*0.2)\n",
    "print('테스트 데이터의 수:', n_of_val)"
   ]
  },
  {
   "cell_type": "markdown",
   "id": "690a5869",
   "metadata": {},
   "source": [
    "\n",
    "\n"
   ]
  },
  {
   "cell_type": "markdown",
   "id": "36b2bedd",
   "metadata": {},
   "source": [
    "\n",
    "\n",
    "\n",
    "### &nbsp;&nbsp;&nbsp;&nbsp; 2-11-4 데이터 나누기\n",
    "- 정의한 테스트 데이터의 개수를 이용해 전체 데이터를 나눠줍니다.\n",
    "- : 표시의 위치에 주의!"
   ]
  },
  {
   "cell_type": "code",
   "execution_count": 53,
   "id": "24d72652",
   "metadata": {},
   "outputs": [
    {
     "name": "stdout",
     "output_type": "stream",
     "text": [
      "훈련 데이터의 개수 : 59282\n",
      "훈련 레이블의 개수 : 59282\n",
      "테스트 데이터의 개수 : 14820\n",
      "테스트 레이블의 개수 : 14820\n"
     ]
    }
   ],
   "source": [
    "# train data \n",
    "encoder_input_train = encoder_input[:-n_of_val]\n",
    "decoder_input_train = decoder_input[:-n_of_val]\n",
    "decoder_target_train = decoder_target[:-n_of_val]\n",
    "\n",
    "#test data\n",
    "encoder_input_test = encoder_input[-n_of_val:]\n",
    "decoder_input_test = decoder_input[-n_of_val:]\n",
    "decoder_target_test = decoder_target[-n_of_val:]\n",
    "\n",
    "print('훈련 데이터의 개수 :', len(encoder_input_train))\n",
    "print('훈련 레이블의 개수 :', len(decoder_input_train))\n",
    "print('테스트 데이터의 개수 :', len(encoder_input_test))\n",
    "print('테스트 레이블의 개수 :', len(decoder_input_test))"
   ]
  },
  {
   "cell_type": "markdown",
   "id": "3bcfe299",
   "metadata": {},
   "source": [
    "\n",
    "\n"
   ]
  },
  {
   "cell_type": "markdown",
   "id": "1176bafb",
   "metadata": {},
   "source": [
    "## &nbsp;&nbsp; 2-12 단어 집합(Vocabulary) 만들기\n",
    "\n",
    "\n",
    "### 단어 집합 = 각 단어에 고유한 정수를 맵핑하는 작업시 만들어지는 집합\n",
    "\n",
    "* keras의 토크나이저를 사용해서 단어집합을 만듭니다. \n",
    "    * 토크나이저를 통해 만들면 좋은점 : 입력된 훈련 데이터로부터 단어집합을 만들 수 있다! "
   ]
  },
  {
   "cell_type": "code",
   "execution_count": 54,
   "id": "39c81e69",
   "metadata": {},
   "outputs": [
    {
     "name": "stdout",
     "output_type": "stream",
     "text": [
      "train data 단어 집합 생성 완료!\n"
     ]
    }
   ],
   "source": [
    "# train data에 대한 단어집합을 만듭니다. \n",
    "src_tokenizer = Tokenizer() # 토크나이저 정의\n",
    "src_tokenizer.fit_on_texts(encoder_input_train)\n",
    "# 입력된 데이터로부터 단어 집합 생성\n",
    "print('train data 단어 집합 생성 완료!')"
   ]
  },
  {
   "cell_type": "markdown",
   "id": "8af80095",
   "metadata": {},
   "source": [
    "\n",
    "\n"
   ]
  },
  {
   "cell_type": "code",
   "execution_count": 55,
   "id": "f40873db",
   "metadata": {},
   "outputs": [
    {
     "name": "stdout",
     "output_type": "stream",
     "text": [
      "test data 단어 집합 생성 완료!\n"
     ]
    }
   ],
   "source": [
    "# test data에도 단어 집합 생성 + 각 단어에 고유한 정수를 부여합니다. \n",
    "tar_tokenizer = Tokenizer()\n",
    "tar_tokenizer.fit_on_texts(decoder_input_train)\n",
    "print('test data 단어 집합 생성 완료!')"
   ]
  },
  {
   "cell_type": "markdown",
   "id": "b5ff22ea",
   "metadata": {},
   "source": [
    "\n",
    "\n",
    "\n",
    "### &nbsp;&nbsp;&nbsp;&nbsp; 2-12-1 훈련 데이터 내 단어 빈도수 확인\n",
    "\n",
    "* 사용 빈도가 낮은 단어들을 훈련에서 제외할 것이기 때문에, 우선 단어의 빈도수를 확인 하는 작업을 거칩니다. "
   ]
  },
  {
   "cell_type": "code",
   "execution_count": 56,
   "id": "d69b9fe9",
   "metadata": {},
   "outputs": [
    {
     "name": "stdout",
     "output_type": "stream",
     "text": [
      "단어 집합(vocabulary)의 크기 : 61398\n",
      "등장 빈도가 3번 이하인 희귀 단어의 수: 35371\n",
      "단어 집합에서 희귀 단어를 제외시킬 경우의 단어 집합의 크기 26027\n",
      "단어 집합에서 희귀 단어의 비율: 57.60936838333496\n",
      "전체 등장 빈도에서 희귀 단어 등장 빈도 비율: 2.6094246519726108\n"
     ]
    }
   ],
   "source": [
    "threshold = 4 # 등장 빈도 \n",
    "total_cnt = len(src_tokenizer.word_index) # 단어의 수\n",
    "rare_cnt = 0 # 등장 빈도수가 threshold보다 작은 단어의 개수를 카운트\n",
    "total_freq = 0 # 훈련 데이터의 전체 단어 빈도수 총 합\n",
    "rare_freq = 0 # 등장 빈도수가 threshold보다 작은 단어의 등장 빈도수의 총 합\n",
    "\n",
    "# 단어와 빈도수의 쌍(pair)을 key와 value로 받는다.\n",
    "for key, value in src_tokenizer.word_counts.items():\n",
    "    total_freq = total_freq + value\n",
    "\n",
    "    # 단어의 등장 빈도수가 threshold보다 작으면\n",
    "    if(value < threshold):\n",
    "        rare_cnt = rare_cnt + 1\n",
    "        rare_freq = rare_freq + value\n",
    "\n",
    "print('단어 집합(vocabulary)의 크기 :', total_cnt)\n",
    "print('등장 빈도가 %s번 이하인 희귀 단어의 수: %s'%(threshold - 1, rare_cnt))\n",
    "print('단어 집합에서 희귀 단어를 제외시킬 경우의 단어 집합의 크기 %s'%(total_cnt - rare_cnt))\n",
    "print(\"단어 집합에서 희귀 단어의 비율:\", (rare_cnt / total_cnt)*100)\n",
    "print(\"전체 등장 빈도에서 희귀 단어 등장 빈도 비율:\", (rare_freq / total_freq)*100)"
   ]
  },
  {
   "cell_type": "markdown",
   "id": "2a81910b",
   "metadata": {},
   "source": [
    "* 지금 우리가 사용하는 데이터셋은 뉴스의 데이터셋. 보도자료 이기 때문에, 중복되는 단어가 그렇게 많이 없을거라 생각해서,. 등장 빈도를 4로 줬습니다. 등장 빈도가 3 이하인 희귀 단어들은 정수 인코딩 과정에서 빼고, 훈련 데이터에서 제거하겠습니다."
   ]
  },
  {
   "cell_type": "markdown",
   "id": "9fd1045e",
   "metadata": {},
   "source": [
    "\n",
    "\n",
    "\n",
    "### &nbsp;&nbsp;&nbsp;&nbsp; 2-12-2 확인한 빈도수를 토대로 집합 크기를 제한. \n",
    "\n",
    "* 희귀단어를 제외시킬 경우 단어집합 크기가 24250, 24000개로 해보자 "
   ]
  },
  {
   "cell_type": "code",
   "execution_count": 57,
   "id": "05f69100",
   "metadata": {},
   "outputs": [
    {
     "name": "stdout",
     "output_type": "stream",
     "text": [
      "단어집합 재 생성이 완료! 되었! 습니다! ! \n"
     ]
    }
   ],
   "source": [
    "src_vocab = 25000\n",
    "\n",
    "# 단어 집합의 크기를 26000개로 제한합니다. \n",
    "src_tokenizer = Tokenizer(num_words=src_vocab)\n",
    "\n",
    "# 단어 집합을 재생성합니다. \n",
    "src_tokenizer.fit_on_texts(encoder_input_train)\n",
    "\n",
    "print('단어집합 재 생성이 완료! 되었! 습니다! ! ')"
   ]
  },
  {
   "cell_type": "markdown",
   "id": "9930fbc8",
   "metadata": {},
   "source": [
    "\n",
    "\n",
    "\n",
    "### &nbsp;&nbsp;&nbsp;&nbsp; 2-12-3 시퀀스를 정수 시퀀스로 변환\n",
    "\n",
    "* ```texts_to_sequences()``` : 생성된 단어 집합에 기반하여 입력으로 주어진 텍스트 데이터의 단어들을 모두 정수로 변환하는 함수. "
   ]
  },
  {
   "cell_type": "code",
   "execution_count": 58,
   "id": "a1c832f0",
   "metadata": {},
   "outputs": [
    {
     "name": "stdout",
     "output_type": "stream",
     "text": [
      "[[65, 423, 83, 1616, 157, 10626, 1700, 5682, 437, 1616, 162, 160, 82, 25, 354, 10, 155, 1100, 1700, 160, 11337, 3426, 224, 2473, 3749, 2660, 224, 540, 2460, 2238, 437, 950, 52, 19, 1520, 78, 23], [20912, 9286, 3627, 20913, 390, 10, 39, 301, 31, 22, 3972, 2252, 662, 909, 706, 3305, 3459, 244, 204, 480, 1200, 22, 2201, 4668, 20913, 384, 6457, 2564, 5336, 4668, 1823, 23140, 213, 662, 2217, 1079], [7398, 1020, 1348, 1545, 35, 32, 3, 121, 233, 2136, 144, 142, 993, 35, 1057, 107, 9075, 110, 1186, 360, 127, 671, 64, 1020, 1279, 5608, 5214, 144, 731, 2136, 74, 7941, 7134]]\n"
     ]
    }
   ],
   "source": [
    "# 텍스트 시퀀스를 정수 시퀀스로 변환\n",
    "encoder_input_train = src_tokenizer.texts_to_sequences(encoder_input_train) \n",
    "encoder_input_test = src_tokenizer.texts_to_sequences(encoder_input_test)\n",
    "\n",
    "# 잘 변환 되었나 확인 해볼까요? \n",
    "print(encoder_input_train[:3])"
   ]
  },
  {
   "cell_type": "markdown",
   "id": "21e39c9d",
   "metadata": {},
   "source": [
    "\n",
    "\n",
    "\n"
   ]
  },
  {
   "cell_type": "markdown",
   "id": "22d8ad14",
   "metadata": {},
   "source": [
    "\n",
    "\n",
    "\n",
    "### &nbsp;&nbsp;&nbsp;&nbsp; 2-12-4 test 데이터 내 단어 빈도수 확인\n",
    "\n",
    "* 입력으로 전체 단어 집합과 각 단어에 대한 빈도수를 계산합니다. "
   ]
  },
  {
   "cell_type": "code",
   "execution_count": 59,
   "id": "fb003896",
   "metadata": {},
   "outputs": [
    {
     "name": "stdout",
     "output_type": "stream",
     "text": [
      "test data 단어 집합(vocabulary)의 크기 : 27334\n",
      "등장 빈도가 3번 이하인 희귀 단어의 수: 15783\n",
      "단어 집합에서 희귀 단어를 제외시킬 경우의 단어 집합의 크기 11551\n",
      "단어 집합에서 희귀 단어의 비율: 57.74127460305846\n",
      "전체 등장 빈도에서 희귀 단어 등장 빈도 비율: 4.095013930252666\n"
     ]
    }
   ],
   "source": [
    "threshold = 4\n",
    "total_cnt = len(tar_tokenizer.word_index) # 단어의 수\n",
    "rare_cnt = 0 # 등장 빈도수가 threshold보다 작은 단어의 개수를 카운트\n",
    "total_freq = 0 # 훈련 데이터의 전체 단어 빈도수 총 합\n",
    "rare_freq = 0 # 등장 빈도수가 threshold보다 작은 단어의 등장 빈도수의 총 합\n",
    "\n",
    "# 단어와 빈도수의 쌍(pair)을 key와 value로 받는다.\n",
    "for key, value in tar_tokenizer.word_counts.items():\n",
    "    total_freq = total_freq + value\n",
    "\n",
    "    # 단어의 등장 빈도수가 threshold보다 작으면\n",
    "    if(value < threshold):\n",
    "        rare_cnt = rare_cnt + 1\n",
    "        rare_freq = rare_freq + value\n",
    "\n",
    "print('test data 단어 집합(vocabulary)의 크기 :', total_cnt)\n",
    "print('등장 빈도가 %s번 이하인 희귀 단어의 수: %s'%(threshold - 1, rare_cnt))\n",
    "print('단어 집합에서 희귀 단어를 제외시킬 경우의 단어 집합의 크기 %s'%(total_cnt - rare_cnt))\n",
    "print(\"단어 집합에서 희귀 단어의 비율:\", (rare_cnt / total_cnt)*100)\n",
    "print(\"전체 등장 빈도에서 희귀 단어 등장 빈도 비율:\", (rare_freq / total_freq)*100)"
   ]
  },
  {
   "cell_type": "markdown",
   "id": "9148ac34",
   "metadata": {},
   "source": [
    "\n",
    "\n",
    "\n",
    "### &nbsp;&nbsp;&nbsp;&nbsp; 2-12-5 test 데이터 단어 집합 크기를 제한, 정수 시퀀스로 변환하기 "
   ]
  },
  {
   "cell_type": "code",
   "execution_count": 60,
   "id": "b58d0604",
   "metadata": {},
   "outputs": [
    {
     "name": "stdout",
     "output_type": "stream",
     "text": [
      "input\n",
      "input  [[1, 3229, 793, 3, 1531, 76, 1556], [1, 6987, 166, 845, 1093, 24, 745, 10, 684, 3327], [1, 7544, 966, 5737, 18, 1322, 607, 7, 1374, 95, 53], [1, 626, 3, 706, 22, 3, 579, 767, 536, 1557], [1, 906, 3967, 3116, 1021, 3, 521, 337]]\n",
      "------------------------------\n",
      "target\n",
      "decoder  [[3229, 793, 3, 1531, 76, 1556, 2], [6987, 166, 845, 1093, 24, 745, 10, 684, 3327, 2], [7544, 966, 5737, 18, 1322, 607, 7, 1374, 95, 53, 2], [626, 3, 706, 22, 3, 579, 767, 536, 1557, 2], [906, 3967, 3116, 1021, 3, 521, 337, 2]]\n"
     ]
    }
   ],
   "source": [
    "tar_vocab = 11000 # test 단어 집합 제외 시키고 난 다음의 크기가 10826\n",
    "tar_tokenizer = Tokenizer(num_words=tar_vocab) \n",
    "tar_tokenizer.fit_on_texts(decoder_input_train)\n",
    "tar_tokenizer.fit_on_texts(decoder_target_train)\n",
    "\n",
    "# 텍스트 시퀀스를 정수 시퀀스로 변환\n",
    "decoder_input_train = tar_tokenizer.texts_to_sequences(decoder_input_train) \n",
    "decoder_target_train = tar_tokenizer.texts_to_sequences(decoder_target_train)\n",
    "decoder_input_test = tar_tokenizer.texts_to_sequences(decoder_input_test)\n",
    "decoder_target_test = tar_tokenizer.texts_to_sequences(decoder_target_test)\n",
    "\n",
    "# 잘 변환되었는지 확인\n",
    "print('input')\n",
    "print('input ',decoder_input_train[:5])\n",
    "print('-'*30)\n",
    "print('target')\n",
    "print('decoder ',decoder_target_train[:5])\n"
   ]
  },
  {
   "cell_type": "markdown",
   "id": "b5253ecc",
   "metadata": {},
   "source": [
    "\n",
    "\n"
   ]
  },
  {
   "cell_type": "markdown",
   "id": "0f911989",
   "metadata": {},
   "source": [
    "\n",
    "\n",
    "\n",
    "### &nbsp;&nbsp;&nbsp;&nbsp; 2-12-6 빈 샘플이 있는지 다시한번 점검!\n",
    "\n",
    "\n",
    "* 전체 데이터에서 빈도수가 낮은 단어가 삭제되었다. =  빈도수가 낮은 단어만으로 구성된 샘플은 빈 샘플이 되었을 가능성이 있다. (짧은 문장이면 더더욱 영향이 크겠죠?)       \n",
    "한번 확인 해 봅시다. "
   ]
  },
  {
   "cell_type": "code",
   "execution_count": 61,
   "id": "0d6dd00d",
   "metadata": {},
   "outputs": [
    {
     "name": "stdout",
     "output_type": "stream",
     "text": [
      "삭제할 훈련 데이터의 개수 : 0\n",
      "삭제할 테스트 데이터의 개수 : 0\n",
      "훈련 데이터의 개수 : 59282\n",
      "훈련 레이블의 개수 : 59282\n",
      "테스트 데이터의 개수 : 14820\n",
      "테스트 레이블의 개수 : 14820\n"
     ]
    }
   ],
   "source": [
    "# 요약문의 길이가 1인 경우의 인덱스를 저장. \n",
    "# train, test 두군데 다 해 줘야함. \n",
    "drop_train = [index for index, sentence in enumerate(decoder_input_train) if len(sentence) == 1]\n",
    "drop_test = [index for index, sentence in enumerate(decoder_input_test) if len(sentence) == 1]\n",
    "\n",
    "print('삭제할 훈련 데이터의 개수 :', len(drop_train))\n",
    "print('삭제할 테스트 데이터의 개수 :', len(drop_test))\n",
    "\n",
    "encoder_input_train = [sentence for index, sentence in enumerate(encoder_input_train) if index not in drop_train]\n",
    "decoder_input_train = [sentence for index, sentence in enumerate(decoder_input_train) if index not in drop_train]\n",
    "decoder_target_train = [sentence for index, sentence in enumerate(decoder_target_train) if index not in drop_train]\n",
    "\n",
    "encoder_input_test = [sentence for index, sentence in enumerate(encoder_input_test) if index not in drop_test]\n",
    "decoder_input_test = [sentence for index, sentence in enumerate(decoder_input_test) if index not in drop_test]\n",
    "decoder_target_test = [sentence for index, sentence in enumerate(decoder_target_test) if index not in drop_test]\n",
    "\n",
    "print('훈련 데이터의 개수 :', len(encoder_input_train))\n",
    "print('훈련 레이블의 개수 :', len(decoder_input_train))\n",
    "print('테스트 데이터의 개수 :', len(encoder_input_test))\n",
    "print('테스트 레이블의 개수 :', len(decoder_input_test))"
   ]
  },
  {
   "cell_type": "markdown",
   "id": "6a4b8e6c",
   "metadata": {},
   "source": [
    "\n",
    "\n"
   ]
  },
  {
   "cell_type": "markdown",
   "id": "c981842f",
   "metadata": {},
   "source": [
    "## &nbsp;&nbsp; 2-13 패딩하기!\n",
    "\n",
    "\n",
    "* 정말 긴.... 데이터 전처리 과정이였다. 이제 끝이보인다! \n",
    "\n",
    "\n",
    "* 서로 다른 길이의 샘플들을 병렬 처리하기 위해 같은 길이로 맞춰준다. \n",
    "\n",
    "\n",
    "* 최대 길이는 text_max_len 에서 정해준대로!"
   ]
  },
  {
   "cell_type": "code",
   "execution_count": 62,
   "id": "bda53863",
   "metadata": {},
   "outputs": [
    {
     "name": "stdout",
     "output_type": "stream",
     "text": [
      "padding~ 완료~ \n"
     ]
    }
   ],
   "source": [
    "encoder_input_train = pad_sequences(encoder_input_train, maxlen=text_max_len, padding='post')\n",
    "encoder_input_test = pad_sequences(encoder_input_test, maxlen=text_max_len, padding='post')\n",
    "decoder_input_train = pad_sequences(decoder_input_train, maxlen=headline_max_len, padding='post')\n",
    "decoder_target_train = pad_sequences(decoder_target_train, maxlen=headline_max_len, padding='post')\n",
    "decoder_input_test = pad_sequences(decoder_input_test, maxlen=headline_max_len, padding='post')\n",
    "decoder_target_test = pad_sequences(decoder_target_test, maxlen=headline_max_len, padding='post')\n",
    "print('padding~ 완료~ ')"
   ]
  },
  {
   "cell_type": "code",
   "execution_count": 63,
   "id": "9d87d7cb",
   "metadata": {},
   "outputs": [
    {
     "data": {
      "text/plain": [
       "array([   65,   423,    83,  1616,   157, 10626,  1700,  5682,   437,\n",
       "        1616,   162,   160,    82,    25,   354,    10,   155,  1100,\n",
       "        1700,   160, 11337,  3426,   224,  2473,  3749,  2660,   224,\n",
       "         540,  2460,  2238,   437,   950,    52,    19,  1520,    78,\n",
       "          23,     0,     0,     0,     0,     0], dtype=int32)"
      ]
     },
     "execution_count": 63,
     "metadata": {},
     "output_type": "execute_result"
    }
   ],
   "source": [
    "encoder_input_train[0]"
   ]
  },
  {
   "cell_type": "code",
   "execution_count": 64,
   "id": "cb1b6ae5",
   "metadata": {},
   "outputs": [
    {
     "data": {
      "text/plain": [
       "array([   12,   206,   441,   219,    24,   871,   722,   170,   339,\n",
       "          22,   715,  5182,  3650,    52,    76,   149,    73,     6,\n",
       "        4100,   170,   217,  6350,  1650,    95,   134,     8,    86,\n",
       "        1502,  1931,  5784, 16197,  2212,  3713,     0,     0,     0,\n",
       "           0,     0,     0,     0,     0,     0], dtype=int32)"
      ]
     },
     "execution_count": 64,
     "metadata": {},
     "output_type": "execute_result"
    }
   ],
   "source": [
    "encoder_input_test[0]"
   ]
  },
  {
   "cell_type": "code",
   "execution_count": 65,
   "id": "f9f2a4dc",
   "metadata": {},
   "outputs": [
    {
     "data": {
      "text/plain": [
       "array([   1, 3229,  793,    3, 1531,   76, 1556,    0,    0,    0,    0],\n",
       "      dtype=int32)"
      ]
     },
     "execution_count": 65,
     "metadata": {},
     "output_type": "execute_result"
    }
   ],
   "source": [
    "decoder_input_train[0]"
   ]
  },
  {
   "cell_type": "code",
   "execution_count": 66,
   "id": "c6123d2d",
   "metadata": {},
   "outputs": [
    {
     "data": {
      "text/plain": [
       "array([3229,  793,    3, 1531,   76, 1556,    2,    0,    0,    0,    0],\n",
       "      dtype=int32)"
      ]
     },
     "execution_count": 66,
     "metadata": {},
     "output_type": "execute_result"
    }
   ],
   "source": [
    "decoder_target_train[0]"
   ]
  },
  {
   "cell_type": "code",
   "execution_count": 67,
   "id": "90c4ef2a",
   "metadata": {},
   "outputs": [
    {
     "data": {
      "text/plain": [
       "array([   1,   51,   26,  187,    4,   36, 1384,  396,  102,    0,    0],\n",
       "      dtype=int32)"
      ]
     },
     "execution_count": 67,
     "metadata": {},
     "output_type": "execute_result"
    }
   ],
   "source": [
    "decoder_input_test[0]"
   ]
  },
  {
   "cell_type": "code",
   "execution_count": 68,
   "id": "a73c4987",
   "metadata": {},
   "outputs": [
    {
     "data": {
      "text/plain": [
       "array([  51,   26,  187,    4,   36, 1384,  396,  102,    2,    0,    0],\n",
       "      dtype=int32)"
      ]
     },
     "execution_count": 68,
     "metadata": {},
     "output_type": "execute_result"
    }
   ],
   "source": [
    "decoder_target_test[0]"
   ]
  },
  {
   "cell_type": "markdown",
   "id": "a18e39c0",
   "metadata": {},
   "source": [
    "\n",
    "\n",
    "\n",
    "----\n",
    "\n",
    "\n",
    "\n"
   ]
  },
  {
   "cell_type": "markdown",
   "id": "2b5b68a1",
   "metadata": {},
   "source": [
    "# 3. 모델 설계하기 "
   ]
  },
  {
   "cell_type": "markdown",
   "id": "38553a85",
   "metadata": {},
   "source": [
    "## &nbsp;&nbsp; 3-1 함수형 API를 이용해 인코더를 설계"
   ]
  },
  {
   "cell_type": "code",
   "execution_count": 69,
   "id": "d6253ad1",
   "metadata": {},
   "outputs": [
    {
     "name": "stdout",
     "output_type": "stream",
     "text": [
      "WARNING:tensorflow:Layer lstm will not use cuDNN kernels since it doesn't meet the criteria. It will use a generic GPU kernel as fallback when running on GPU.\n",
      "WARNING:tensorflow:Layer lstm_1 will not use cuDNN kernels since it doesn't meet the criteria. It will use a generic GPU kernel as fallback when running on GPU.\n",
      "WARNING:tensorflow:Layer lstm_2 will not use cuDNN kernels since it doesn't meet the criteria. It will use a generic GPU kernel as fallback when running on GPU.\n"
     ]
    }
   ],
   "source": [
    "# 인코더 설계 시작\n",
    "\n",
    "# 임베딩 벡터의 차원\n",
    "embedding_dim = 128 \n",
    "# LSTM에서 얼만큼 수용력을 가질지 정하는 파라미터 \n",
    "hidden_size = 256 \n",
    "\n",
    "# 인코더\n",
    "encoder_inputs = Input(shape=(text_max_len,))\n",
    "\n",
    "# 인코더의 임베딩 층\n",
    "enc_emb = Embedding(src_vocab, embedding_dim)(encoder_inputs)\n",
    "\n",
    "# 인코더의 LSTM 1\n",
    "encoder_lstm1 = LSTM(hidden_size, return_sequences=True, return_state=True ,dropout = 0.4, recurrent_dropout = 0.4)\n",
    "encoder_output1, state_h1, state_c1 = encoder_lstm1(enc_emb)\n",
    "\n",
    "# 인코더의 LSTM 2\n",
    "encoder_lstm2 = LSTM(hidden_size, return_sequences=True, return_state=True, dropout=0.4, recurrent_dropout=0.4)\n",
    "encoder_output2, state_h2, state_c2 = encoder_lstm2(encoder_output1)\n",
    "\n",
    "# 인코더의 LSTM 3\n",
    "encoder_lstm3 = LSTM(hidden_size, return_state=True, return_sequences=True, dropout=0.4, recurrent_dropout=0.4)\n",
    "encoder_outputs, state_h, state_c= encoder_lstm3(encoder_output2)"
   ]
  },
  {
   "cell_type": "markdown",
   "id": "414205fd",
   "metadata": {},
   "source": [
    "\n",
    "\n"
   ]
  },
  {
   "cell_type": "markdown",
   "id": "b7b94970",
   "metadata": {},
   "source": [
    "## &nbsp;&nbsp; 3-2 디코더의 입력층 설계하기 \n",
    "\n",
    "* 디코더 임베딩 층과 LSTM을 설계하는 것은 인코더와 거의 동일하나, 입력층을 정의할 때 ```initial_state```의 인자값으로 인코더의 hidden state와 cell state의 값을 넣어줘야 한다. "
   ]
  },
  {
   "cell_type": "code",
   "execution_count": 70,
   "id": "fb5c5067",
   "metadata": {},
   "outputs": [
    {
     "name": "stdout",
     "output_type": "stream",
     "text": [
      "WARNING:tensorflow:Layer lstm_3 will not use cuDNN kernels since it doesn't meet the criteria. It will use a generic GPU kernel as fallback when running on GPU.\n"
     ]
    }
   ],
   "source": [
    "# 디코더 설계\n",
    "decoder_inputs = Input(shape=(None,))\n",
    "\n",
    "# 디코더의 임베딩 층\n",
    "dec_emb_layer = Embedding(tar_vocab, embedding_dim)\n",
    "dec_emb = dec_emb_layer(decoder_inputs)\n",
    "\n",
    "# 디코더의 LSTM\n",
    "decoder_lstm = LSTM(hidden_size, return_sequences=True, return_state=True, dropout=0.4, recurrent_dropout=0.2)\n",
    "decoder_outputs, _, _ = decoder_lstm(dec_emb, initial_state=[state_h, state_c])"
   ]
  },
  {
   "cell_type": "markdown",
   "id": "2c5fd63f",
   "metadata": {},
   "source": [
    "\n",
    "\n"
   ]
  },
  {
   "cell_type": "markdown",
   "id": "b7590019",
   "metadata": {},
   "source": [
    "## &nbsp;&nbsp; 3-3 디코더의 출력층 설계하기 "
   ]
  },
  {
   "cell_type": "code",
   "execution_count": 71,
   "id": "ae10b244",
   "metadata": {},
   "outputs": [
    {
     "name": "stdout",
     "output_type": "stream",
     "text": [
      "Model: \"model\"\n",
      "__________________________________________________________________________________________________\n",
      "Layer (type)                    Output Shape         Param #     Connected to                     \n",
      "==================================================================================================\n",
      "input_1 (InputLayer)            [(None, 42)]         0                                            \n",
      "__________________________________________________________________________________________________\n",
      "embedding (Embedding)           (None, 42, 128)      3200000     input_1[0][0]                    \n",
      "__________________________________________________________________________________________________\n",
      "lstm (LSTM)                     [(None, 42, 256), (N 394240      embedding[0][0]                  \n",
      "__________________________________________________________________________________________________\n",
      "input_2 (InputLayer)            [(None, None)]       0                                            \n",
      "__________________________________________________________________________________________________\n",
      "lstm_1 (LSTM)                   [(None, 42, 256), (N 525312      lstm[0][0]                       \n",
      "__________________________________________________________________________________________________\n",
      "embedding_1 (Embedding)         (None, None, 128)    1408000     input_2[0][0]                    \n",
      "__________________________________________________________________________________________________\n",
      "lstm_2 (LSTM)                   [(None, 42, 256), (N 525312      lstm_1[0][0]                     \n",
      "__________________________________________________________________________________________________\n",
      "lstm_3 (LSTM)                   [(None, None, 256),  394240      embedding_1[0][0]                \n",
      "                                                                 lstm_2[0][1]                     \n",
      "                                                                 lstm_2[0][2]                     \n",
      "__________________________________________________________________________________________________\n",
      "dense (Dense)                   (None, None, 11000)  2827000     lstm_3[0][0]                     \n",
      "==================================================================================================\n",
      "Total params: 9,274,104\n",
      "Trainable params: 9,274,104\n",
      "Non-trainable params: 0\n",
      "__________________________________________________________________________________________________\n"
     ]
    }
   ],
   "source": [
    "# 디코더의 출력층\n",
    "decoder_softmax_layer = Dense(tar_vocab, activation='softmax')\n",
    "decoder_softmax_outputs = decoder_softmax_layer(decoder_outputs) \n",
    "\n",
    "# 모델 정의\n",
    "model = Model([encoder_inputs, decoder_inputs], decoder_softmax_outputs)\n",
    "model.summary()"
   ]
  },
  {
   "cell_type": "markdown",
   "id": "ba75ac4e",
   "metadata": {},
   "source": [
    "\n",
    "\n",
    "----\n",
    "\n",
    "\n"
   ]
  },
  {
   "cell_type": "markdown",
   "id": "7634bc89",
   "metadata": {},
   "source": [
    "# 4. 어텐션 메커니즘 사용하기\n",
    "\n",
    "\n",
    "\n",
    "\n",
    "* 어텐션 메커니즘은 디코더 출력층의 설계를 살짝 바꿔서 성능을 높일 수 있는 방법이다. \n",
    "* LMS 상에선 Tensorflow에 이미 구현된 어텐션 함수를 가져와 디코더의 출력층에 결합하는 방식으로 사용함. "
   ]
  },
  {
   "cell_type": "code",
   "execution_count": 72,
   "id": "410ec374",
   "metadata": {},
   "outputs": [
    {
     "name": "stdout",
     "output_type": "stream",
     "text": [
      "Model: \"model_1\"\n",
      "__________________________________________________________________________________________________\n",
      "Layer (type)                    Output Shape         Param #     Connected to                     \n",
      "==================================================================================================\n",
      "input_1 (InputLayer)            [(None, 42)]         0                                            \n",
      "__________________________________________________________________________________________________\n",
      "embedding (Embedding)           (None, 42, 128)      3200000     input_1[0][0]                    \n",
      "__________________________________________________________________________________________________\n",
      "lstm (LSTM)                     [(None, 42, 256), (N 394240      embedding[0][0]                  \n",
      "__________________________________________________________________________________________________\n",
      "input_2 (InputLayer)            [(None, None)]       0                                            \n",
      "__________________________________________________________________________________________________\n",
      "lstm_1 (LSTM)                   [(None, 42, 256), (N 525312      lstm[0][0]                       \n",
      "__________________________________________________________________________________________________\n",
      "embedding_1 (Embedding)         (None, None, 128)    1408000     input_2[0][0]                    \n",
      "__________________________________________________________________________________________________\n",
      "lstm_2 (LSTM)                   [(None, 42, 256), (N 525312      lstm_1[0][0]                     \n",
      "__________________________________________________________________________________________________\n",
      "lstm_3 (LSTM)                   [(None, None, 256),  394240      embedding_1[0][0]                \n",
      "                                                                 lstm_2[0][1]                     \n",
      "                                                                 lstm_2[0][2]                     \n",
      "__________________________________________________________________________________________________\n",
      "attention_layer (AdditiveAttent (None, None, 256)    256         lstm_3[0][0]                     \n",
      "                                                                 lstm_2[0][0]                     \n",
      "__________________________________________________________________________________________________\n",
      "concat_layer (Concatenate)      (None, None, 512)    0           lstm_3[0][0]                     \n",
      "                                                                 attention_layer[0][0]            \n",
      "__________________________________________________________________________________________________\n",
      "dense_1 (Dense)                 (None, None, 11000)  5643000     concat_layer[0][0]               \n",
      "==================================================================================================\n",
      "Total params: 12,090,360\n",
      "Trainable params: 12,090,360\n",
      "Non-trainable params: 0\n",
      "__________________________________________________________________________________________________\n"
     ]
    }
   ],
   "source": [
    "\n",
    "# 어텐션 층(어텐션 함수)\n",
    "attn_layer = AdditiveAttention(name='attention_layer')\n",
    "\n",
    "# 인코더와 디코더의 모든 time step의 hidden state를 어텐션 층에 전달하고 결과를 리턴\n",
    "attn_out = attn_layer([decoder_outputs, encoder_outputs])\n",
    "\n",
    "\n",
    "# 어텐션의 결과와 디코더의 hidden state들을 연결\n",
    "decoder_concat_input = Concatenate(axis=-1, name='concat_layer')([decoder_outputs, attn_out])\n",
    "\n",
    "# 디코더의 출력층\n",
    "decoder_softmax_layer = Dense(tar_vocab, activation='softmax')\n",
    "decoder_softmax_outputs = decoder_softmax_layer(decoder_concat_input)\n",
    "\n",
    "# 모델 정의\n",
    "model = Model([encoder_inputs, decoder_inputs], decoder_softmax_outputs)\n",
    "model.summary()"
   ]
  },
  {
   "cell_type": "markdown",
   "id": "0f413c97",
   "metadata": {},
   "source": [
    "\n",
    "\n"
   ]
  },
  {
   "cell_type": "markdown",
   "id": "373dc27b",
   "metadata": {},
   "source": [
    "# 5. 모델 훈련 및 예측 \n",
    "\n",
    "\n",
    "* 설계한 모델을 가지고와 훈련을 진행합니다.\n",
    "    * Earlystopping 을 사용해, 특정 조건이 충족(val_loss가 증가하는 현상이 2회 관측)되면 학습을 멈춥니다.\n",
    "* 훈련 데이터의 손실과 검증 데이터의 손실 과정도 시각화 해 봅니다. "
   ]
  },
  {
   "cell_type": "markdown",
   "id": "459b4d22",
   "metadata": {},
   "source": [
    "## &nbsp;&nbsp; 5-1 모델 훈련하기 "
   ]
  },
  {
   "cell_type": "code",
   "execution_count": 73,
   "id": "7d6cf2aa",
   "metadata": {},
   "outputs": [
    {
     "name": "stdout",
     "output_type": "stream",
     "text": [
      "Epoch 1/50\n",
      "116/116 [==============================] - 84s 640ms/step - loss: 6.2821 - val_loss: 5.8301\n",
      "Epoch 2/50\n",
      "116/116 [==============================] - 74s 638ms/step - loss: 5.7577 - val_loss: 5.5250\n",
      "Epoch 3/50\n",
      "116/116 [==============================] - 72s 624ms/step - loss: 5.4733 - val_loss: 5.2949\n",
      "Epoch 4/50\n",
      "116/116 [==============================] - 73s 628ms/step - loss: 5.2457 - val_loss: 5.1178\n",
      "Epoch 5/50\n",
      "116/116 [==============================] - 73s 626ms/step - loss: 5.0475 - val_loss: 4.9478\n",
      "Epoch 6/50\n",
      "116/116 [==============================] - 73s 629ms/step - loss: 4.8462 - val_loss: 4.8168\n",
      "Epoch 7/50\n",
      "116/116 [==============================] - 73s 628ms/step - loss: 4.6690 - val_loss: 4.6788\n",
      "Epoch 8/50\n",
      "116/116 [==============================] - 72s 622ms/step - loss: 4.5100 - val_loss: 4.5813\n",
      "Epoch 9/50\n",
      "116/116 [==============================] - 72s 621ms/step - loss: 4.3678 - val_loss: 4.5135\n",
      "Epoch 10/50\n",
      "116/116 [==============================] - 72s 620ms/step - loss: 4.2397 - val_loss: 4.4498\n",
      "Epoch 11/50\n",
      "116/116 [==============================] - 72s 625ms/step - loss: 4.1229 - val_loss: 4.3788\n",
      "Epoch 12/50\n",
      "116/116 [==============================] - 72s 624ms/step - loss: 4.0146 - val_loss: 4.3372\n",
      "Epoch 13/50\n",
      "116/116 [==============================] - 73s 628ms/step - loss: 3.9134 - val_loss: 4.2896\n",
      "Epoch 14/50\n",
      "116/116 [==============================] - 73s 633ms/step - loss: 3.8172 - val_loss: 4.2521\n",
      "Epoch 15/50\n",
      "116/116 [==============================] - 72s 623ms/step - loss: 3.7288 - val_loss: 4.2230\n",
      "Epoch 16/50\n",
      "116/116 [==============================] - 72s 624ms/step - loss: 3.6446 - val_loss: 4.1965\n",
      "Epoch 17/50\n",
      "116/116 [==============================] - 73s 633ms/step - loss: 3.5649 - val_loss: 4.1713\n",
      "Epoch 18/50\n",
      "116/116 [==============================] - 74s 634ms/step - loss: 3.4912 - val_loss: 4.1500\n",
      "Epoch 19/50\n",
      "116/116 [==============================] - 74s 635ms/step - loss: 3.4197 - val_loss: 4.1408\n",
      "Epoch 20/50\n",
      "116/116 [==============================] - 72s 619ms/step - loss: 3.3518 - val_loss: 4.1334\n",
      "Epoch 21/50\n",
      "116/116 [==============================] - 73s 630ms/step - loss: 3.2881 - val_loss: 4.1133\n",
      "Epoch 22/50\n",
      "116/116 [==============================] - 72s 621ms/step - loss: 3.2256 - val_loss: 4.0990\n",
      "Epoch 23/50\n",
      "116/116 [==============================] - 73s 627ms/step - loss: 3.1684 - val_loss: 4.1021\n",
      "Epoch 24/50\n",
      "116/116 [==============================] - 74s 635ms/step - loss: 3.1111 - val_loss: 4.0900\n",
      "Epoch 25/50\n",
      "116/116 [==============================] - 74s 634ms/step - loss: 3.0573 - val_loss: 4.0849\n",
      "Epoch 26/50\n",
      "116/116 [==============================] - 72s 619ms/step - loss: 3.0046 - val_loss: 4.0849\n",
      "Epoch 27/50\n",
      "116/116 [==============================] - 72s 625ms/step - loss: 2.9546 - val_loss: 4.0864\n",
      "Epoch 28/50\n",
      "116/116 [==============================] - 72s 622ms/step - loss: 2.9067 - val_loss: 4.0850\n",
      "Epoch 00028: early stopping\n"
     ]
    }
   ],
   "source": [
    "model.compile(optimizer='rmsprop', loss='sparse_categorical_crossentropy')\n",
    "es = EarlyStopping(monitor='val_loss', patience=2, verbose=1)\n",
    "history = model.fit(x=[encoder_input_train, decoder_input_train], y=decoder_target_train, \\\n",
    "          validation_data=([encoder_input_test, decoder_input_test], decoder_target_test), \\\n",
    "          batch_size=512, callbacks=[es], epochs=50)"
   ]
  },
  {
   "cell_type": "markdown",
   "id": "eaed3030",
   "metadata": {},
   "source": [
    "\n",
    "\n"
   ]
  },
  {
   "cell_type": "markdown",
   "id": "3d11b08f",
   "metadata": {},
   "source": [
    "## &nbsp;&nbsp; 5-2 훈련 데이터의 손실과 검증 데이터의 손실 과정 시각화"
   ]
  },
  {
   "cell_type": "code",
   "execution_count": 74,
   "id": "3fe45b9d",
   "metadata": {},
   "outputs": [
    {
     "data": {
      "image/png": "[encoded data removed]",
      "text/plain": [
       "<Figure size 432x288 with 1 Axes>"
      ]
     },
     "metadata": {
      "needs_background": "light"
     },
     "output_type": "display_data"
    }
   ],
   "source": [
    "plt.plot(history.history['loss'], label='train')\n",
    "plt.plot(history.history['val_loss'], label='test')\n",
    "plt.legend()\n",
    "plt.show()"
   ]
  },
  {
   "cell_type": "markdown",
   "id": "6921b7d1",
   "metadata": {},
   "source": [
    "\n",
    "\n",
    "\n",
    "-----\n",
    "\n",
    "\n",
    "\n"
   ]
  },
  {
   "cell_type": "markdown",
   "id": "767c5f0d",
   "metadata": {},
   "source": [
    "# 6. 실제 결과와 요약문 비교하기 "
   ]
  },
  {
   "cell_type": "markdown",
   "id": "063ccd93",
   "metadata": {},
   "source": [
    "## &nbsp;&nbsp; 6-1 복원에 필요한 사전 미리 준비하기 \n",
    "\n",
    "\n",
    "* 테스트 단계에선 정수 인덱스 행렬로 존재하던 텍스트 데이터를 실제 언어 데이터로 복원해야 하므로, 필요한 3개의 사전을 아래와 같이 미리 준비합니다."
   ]
  },
  {
   "cell_type": "code",
   "execution_count": 75,
   "id": "f16212fa",
   "metadata": {},
   "outputs": [
    {
     "name": "stdout",
     "output_type": "stream",
     "text": [
      "사전 준비 완료!\n"
     ]
    }
   ],
   "source": [
    "src_index_to_word = src_tokenizer.index_word # 원문 단어 집합에서 정수 -> 단어를 얻음\n",
    "tar_word_to_index = tar_tokenizer.word_index # 요약 단어 집합에서 단어 -> 정수를 얻음\n",
    "tar_index_to_word = tar_tokenizer.index_word # 요약 단어 집합에서 정수 -> 단어를 얻음\n",
    "\n",
    "print('사전 준비 완료!')"
   ]
  },
  {
   "cell_type": "markdown",
   "id": "7fe89501",
   "metadata": {},
   "source": [
    "\n",
    "\n"
   ]
  },
  {
   "cell_type": "markdown",
   "id": "c26e2079",
   "metadata": {},
   "source": [
    "## &nbsp;&nbsp; 6-2 인코더 설계"
   ]
  },
  {
   "cell_type": "code",
   "execution_count": 76,
   "id": "f88799dc",
   "metadata": {},
   "outputs": [
    {
     "name": "stdout",
     "output_type": "stream",
     "text": [
      "인코더 설계!\n"
     ]
    }
   ],
   "source": [
    "# 인코더 설계\n",
    "encoder_model = Model(inputs=encoder_inputs, outputs=[encoder_outputs, state_h, state_c])\n",
    "\n",
    "# 이전 시점의 상태들을 저장하는 텐서\n",
    "decoder_state_input_h = Input(shape=(hidden_size,))\n",
    "decoder_state_input_c = Input(shape=(hidden_size,))\n",
    "\n",
    "dec_emb2 = dec_emb_layer(decoder_inputs)\n",
    "\n",
    "# 문장의 다음 단어를 예측하기 위해서 초기 상태(initial_state)를 이전 시점의 상태로 사용. 이는 뒤의 함수 decode_sequence()에 구현\n",
    "# 훈련 과정에서와 달리 LSTM의 리턴하는 은닉 상태와 셀 상태인 state_h와 state_c를 버리지 않음.\n",
    "decoder_outputs2, state_h2, state_c2 = decoder_lstm(dec_emb2, initial_state=[decoder_state_input_h, decoder_state_input_c])\n",
    "\n",
    "print('인코더 설계!')"
   ]
  },
  {
   "cell_type": "markdown",
   "id": "e2904f9f",
   "metadata": {},
   "source": [
    "\n",
    "\n"
   ]
  },
  {
   "cell_type": "markdown",
   "id": "1083ce24",
   "metadata": {},
   "source": [
    "## &nbsp;&nbsp; 6-3 어텐션 메커니즘을 사용하는 출력층을 설계"
   ]
  },
  {
   "cell_type": "code",
   "execution_count": 77,
   "id": "869009f8",
   "metadata": {},
   "outputs": [
    {
     "name": "stdout",
     "output_type": "stream",
     "text": [
      "출력층 설계!\n"
     ]
    }
   ],
   "source": [
    "# 어텐션 함수\n",
    "decoder_hidden_state_input = Input(shape=(text_max_len, hidden_size))\n",
    "attn_out_inf = attn_layer([decoder_outputs2, decoder_hidden_state_input])\n",
    "decoder_inf_concat = Concatenate(axis=-1, name='concat')([decoder_outputs2, attn_out_inf])\n",
    "\n",
    "# 디코더의 출력층\n",
    "decoder_outputs2 = decoder_softmax_layer(decoder_inf_concat) \n",
    "\n",
    "# 최종 디코더 모델\n",
    "decoder_model = Model(\n",
    "    [decoder_inputs] + [decoder_hidden_state_input,decoder_state_input_h, decoder_state_input_c],\n",
    "    [decoder_outputs2] + [state_h2, state_c2])\n",
    "\n",
    "print('출력층 설계!')"
   ]
  },
  {
   "cell_type": "markdown",
   "id": "0af9ee81",
   "metadata": {},
   "source": [
    "\n",
    "\n"
   ]
  },
  {
   "cell_type": "markdown",
   "id": "40f5a460",
   "metadata": {},
   "source": [
    "## &nbsp;&nbsp; 6-4 인퍼런스 단계에서 단어 시퀀스를 완성하는 함수 만들기"
   ]
  },
  {
   "cell_type": "code",
   "execution_count": 81,
   "id": "70039a36",
   "metadata": {},
   "outputs": [
    {
     "name": "stdout",
     "output_type": "stream",
     "text": [
      "홤수! 만들었고!\n"
     ]
    }
   ],
   "source": [
    "def decode_sequence(input_seq):\n",
    "    # 입력으로부터 인코더의 상태를 얻음\n",
    "    e_out, e_h, e_c = encoder_model.predict(input_seq)\n",
    "\n",
    "     # <SOS>에 해당하는 토큰 생성\n",
    "    target_seq = np.zeros((1,1))\n",
    "    target_seq[0, 0] = tar_word_to_index['sostoken']\n",
    "\n",
    "    stop_condition = False\n",
    "    decoded_sentence = ''\n",
    "    while not stop_condition: # stop_condition이 True가 될 때까지 루프 반복\n",
    "\n",
    "        output_tokens, h, c = decoder_model.predict([target_seq] + [e_out, e_h, e_c])\n",
    "        sampled_token_index = np.argmax(output_tokens[0, -1, :])\n",
    "        sampled_token = tar_index_to_word[sampled_token_index]\n",
    "\n",
    "        if (sampled_token!='eostoken'):\n",
    "            decoded_sentence += ' '+sampled_token\n",
    "\n",
    "        #  <eos>에 도달하거나 최대 길이를 넘으면 중단.\n",
    "        if (sampled_token == 'eostoken'  or len(decoded_sentence.split()) >= (headline_max_len-1)):\n",
    "            stop_condition = True\n",
    "\n",
    "        # 길이가 1인 타겟 시퀀스를 업데이트\n",
    "        target_seq = np.zeros((1,1))\n",
    "        target_seq[0, 0] = sampled_token_index\n",
    "\n",
    "        # 상태를 업데이트 합니다.\n",
    "        e_h, e_c = h, c\n",
    "\n",
    "    return decoded_sentence\n",
    "\n",
    "print('홤수! 만들었고!')"
   ]
  },
  {
   "cell_type": "markdown",
   "id": "4e8513fa",
   "metadata": {},
   "source": [
    "\n",
    "\n"
   ]
  },
  {
   "cell_type": "markdown",
   "id": "b2320c56",
   "metadata": {},
   "source": [
    "## &nbsp;&nbsp; 6-5 모델 시험하기 \n",
    "\n",
    "\n",
    "* 테스트 단계에선 정수 시퀀스를 텍스트 시퀀스로 변환하여 결과를 확인해야합니다. \n",
    "* 우선, 정수 시퀀스를 텍스트 시퀀스로 변환하는 함수를 만들고, 실제 요약과 예측된 요약을 비교 해 봅시다. "
   ]
  },
  {
   "cell_type": "markdown",
   "id": "1bcc6b5e",
   "metadata": {},
   "source": [
    "\n",
    "\n"
   ]
  },
  {
   "cell_type": "markdown",
   "id": "cc012e02",
   "metadata": {},
   "source": [
    "### &nbsp;&nbsp; &nbsp;&nbsp; 6-5-1 주어진 정수 시퀀스를 텍스트 시퀀스로 변환하는 함수 만들기"
   ]
  },
  {
   "cell_type": "code",
   "execution_count": 82,
   "id": "e5c500d0",
   "metadata": {},
   "outputs": [
    {
     "name": "stdout",
     "output_type": "stream",
     "text": [
      "함수! \n"
     ]
    }
   ],
   "source": [
    "# 원문의 정수 시퀀스를 텍스트 시퀀스로 변환\n",
    "def seq2text(input_seq):\n",
    "    temp=''\n",
    "    for i in input_seq:\n",
    "        if (i!=0):\n",
    "            temp = temp + src_index_to_word[i]+' '\n",
    "    return temp\n",
    "\n",
    "# 요약문의 정수 시퀀스를 텍스트 시퀀스로 변환\n",
    "def seq2summary(input_seq):\n",
    "    temp=''\n",
    "    for i in input_seq:\n",
    "        if ((i!=0 and i!=tar_word_to_index['sostoken']) and i!=tar_word_to_index['eostoken']):\n",
    "            temp = temp + tar_index_to_word[i] + ' '\n",
    "    return temp\n",
    "\n",
    "print('함수! ')"
   ]
  },
  {
   "cell_type": "markdown",
   "id": "d9a318a6",
   "metadata": {},
   "source": [
    "\n",
    "\n"
   ]
  },
  {
   "cell_type": "markdown",
   "id": "c2bb453e",
   "metadata": {},
   "source": [
    "### &nbsp;&nbsp; &nbsp;&nbsp; 6-5-2 실제 요약과 예측된 요약을 비교하기 "
   ]
  },
  {
   "cell_type": "code",
   "execution_count": 144,
   "id": "b45b30a9",
   "metadata": {},
   "outputs": [],
   "source": [
    "# 하나하나 보기 위한 함수 \n",
    "def ExSu(i):\n",
    "    print(\"원문 :\", seq2text(encoder_input_test[i]))\n",
    "    print(\"실제 요약 :\", seq2summary(decoder_input_test[i]))\n",
    "    print(\"예측 요약 :\", decode_sequence(encoder_input_test[i].reshape(1, text_max_len)))\n",
    "    print(\"\\n\")"
   ]
  },
  {
   "cell_type": "code",
   "execution_count": 146,
   "id": "58c652b8",
   "metadata": {},
   "outputs": [
    {
     "name": "stdout",
     "output_type": "stream",
     "text": [
      "원문 : indian reported dead injured new york terror attack near world trade center memorial tuesday pm narendra modi also condemned attack shared condolences deceased notably least people killed truck ran pedestrians cyclists bike path \n",
      "실제 요약 : no indian injured in new york terror attack \n",
      "예측 요약 :  indian army kills militants in pakistan\n",
      "\n",
      "\n",
      "원문 : stepping delhi daredevils captain gautam gambhir said probably desperate turn things around bell started ringing last game sitting alone thinking could handle pressure good enough added delhi daredevils lost five first six matches indian premier league \n",
      "실제 요약 : was too desperate to turn things gambhir on stepping down \n",
      "예측 요약 :  need to see myself harbhajan on pandya selection row\n",
      "\n",
      "\n",
      "원문 : us fashion brand guess tuesday said co founder paul marciano resigned executive chairman allegations improper conduct including kissing groping special committee found marciano exercised poor judgement communications models photographers guess marciano also reached settlements five individuals amounting \n",
      "실제 요약 : guess co founder paul quits after kissing claims \n",
      "예측 요약 :  fortis co founder quits amid misconduct scandal\n",
      "\n",
      "\n",
      "원문 : former cricketer sachin tendulkar friday shared handwritten letter sent six year old fan named girl wrote sachin watching biopic sachin billion dreams said laughed saw naughty child hi really glad enjoyed movie keep smiling read sachin caption \n",
      "실제 요약 : year old writes letter to sachin after watching his biopic \n",
      "예측 요약 :  sachin shares video of his daughter with his son\n",
      "\n",
      "\n",
      "원문 : indian women cricket team underwent yo yo test mandatory selection criteria indian men team national cricket academy bengaluru news shared former indian captain jhulan goswami year old pacer posted photo teammates caption read yo yo done day \n",
      "실제 요약 : indian women team undergoes yo yo test at national academy \n",
      "예측 요약 :  bcci to play indian cricket team for women team\n",
      "\n",
      "\n",
      "원문 : union steel minister chaudhary singh friday said joint venture steel authority india arcelormittal signed soon technology keen sail added said proposed crore automotive steel plant come andhra pradesh \n",
      "실제 요약 : joint venture between sail arcelormittal soon minister \n",
      "예측 요약 :  govt to create new trade policy for years\n",
      "\n",
      "\n",
      "원문 : saudi arabia allocated million us president donald trump visit reportedly largest reception kingdom history trip begin may trump first foreign trip since took office notably saudi royal family known present world leaders everything watches golden \n",
      "실제 요약 : saudi to spend crore on trump first state visit \n",
      "예측 요약 :  saudi arabia to release trump on its day day\n",
      "\n",
      "\n",
      "원문 : implementation gst july cars become expensive cess charged top tax mid sized cars attract cess luxury cars may become cheaper tax cars come current full size sedans like honda city may become cheaper \n",
      "실제 요약 : how will gst affect the car prices in india \n",
      "예측 요약 :  gst council cess cess on items expensive cess\n",
      "\n",
      "\n",
      "원문 : white house communications director anthony scaramucci removed job within first days appointment comes scaramucci harvard law graduate former wall street financier launched foul two senior colleagues white house last week president felt comments inappropriate trump spokeswoman said \n",
      "실제 요약 : trump media chief sacked days after appointment \n",
      "예측 요약 :  ex trump chief calls his his firing\n",
      "\n",
      "\n",
      "원문 : pad man director balki said menstruation natural phenomenon growing beard adding natural process nothing hide added moment call adult topic whole purpose defeated balki said pad man children film must watched families \n",
      "실제 요약 : as natural as growing beard pad man director \n",
      "예측 요약 :  am not know of my time ex sunil grover\n",
      "\n",
      "\n"
     ]
    }
   ],
   "source": [
    "# 너무 많으니깐 10개만 가져와서 확인 해보겠습니다.\n",
    "\n",
    "for i in range(0, 10):\n",
    "    print(\"원문 :\", seq2text(encoder_input_test[i]))\n",
    "    print(\"실제 요약 :\", seq2summary(decoder_input_test[i]))\n",
    "    print(\"예측 요약 :\", decode_sequence(encoder_input_test[i].reshape(1, text_max_len)))\n",
    "    print(\"\\n\")"
   ]
  },
  {
   "cell_type": "markdown",
   "id": "63aae952",
   "metadata": {},
   "source": [
    "* 실제 요약과 비교해 봤을때, 비슷한 문장도 있었지만  \n",
    "\n",
    "    > 실제 요약 : no indian injured in new york terror attack  \n",
    "    예측 요약 :  indian army kills militants in pakistan\n",
    "\n",
    "\n",
    "* 아예 새로운 문장을 만들어내 원문을 예측할 수 없는 그런 문장들도 있었다.  \n",
    "    > 실제 요약 : year old writes letter to sachin after watching his biopic   \n",
    "     예측 요약 :  sachin shares video of his daughter with his son\n",
    "    \n",
    "    \n",
    "* 무의미하게 같은 단어가 2번씩 반복되는 문장도 있어서, 이 부분은 개선이 필요할 것 같다. \n",
    "\n",
    "    > 실제 요약 : trump media chief sacked days after appointment   \n",
    "    예측 요약 :  ex trump chief calls his his firing\n"
   ]
  },
  {
   "cell_type": "markdown",
   "id": "7ec00eb4",
   "metadata": {},
   "source": [
    "\n",
    "\n",
    "\n",
    "-----"
   ]
  },
  {
   "cell_type": "markdown",
   "id": "bbc83cba",
   "metadata": {},
   "source": [
    "# 7. Summa를 이용해서 추출적 요약 해 보기"
   ]
  },
  {
   "cell_type": "markdown",
   "id": "549ecd90",
   "metadata": {},
   "source": [
    "## &nbsp;&nbsp; 7-1 패키지 설치 \n",
    "\n",
    "\n",
    "* 추출적 요약에 필요한 패키지를 설치합니다. \n",
    "* 클라우드의 경우, 이미 설치되어 있기 때문에 summa의 설치 여부와 버전을 확인 해 볼겁니다. \n",
    "* 추출적 요약 data는 뉴스기사 데이터의 text 만을 사용합니다. "
   ]
  },
  {
   "cell_type": "code",
   "execution_count": 241,
   "id": "d82c76ae",
   "metadata": {},
   "outputs": [],
   "source": [
    "# pip list | grep summa"
   ]
  },
  {
   "cell_type": "markdown",
   "id": "d8174633",
   "metadata": {},
   "source": [
    "\n",
    "\n"
   ]
  },
  {
   "cell_type": "markdown",
   "id": "2b87330d",
   "metadata": {},
   "source": [
    "## &nbsp;&nbsp; 7-2 summarize 사용하기"
   ]
  },
  {
   "cell_type": "markdown",
   "id": "1d38d549",
   "metadata": {},
   "source": [
    "### Summa 의 summarize()의 인자로 사용되는 값들\n",
    "\n",
    "- **text (str)**\n",
    "    - 요약할 테스트.\n",
    "- **ratio (float, optional)**\n",
    "    - 요약문에서 원본에서 선택되는 문장 비율. 0~1 사이값\n",
    "- **words (int or None, optional)**\n",
    "    - 출력에 포함할 단어 수.\n",
    "    - 만약, ratio와 함께 두 파라미터가 모두 제공되는 경우 ratio는 무시한다.\n",
    "- **split (bool, optional)**\n",
    "    - True면 문장 list / False는 조인(join)된 문자열을 반환\n",
    " \n",
    " \n",
    "* 위 인자들을 사용해서 뉴스 text 데이터를 요약 해 봅시다:D "
   ]
  },
  {
   "attachments": {
    "image.png": {
     "image/png": "[encoded data removed]"
    }
   },
   "cell_type": "markdown",
   "id": "5c49b74d",
   "metadata": {},
   "source": [
    "* 정제된 문장이 아닌, 정제 되기 전의 쌩 데이터를 가져와야한다. \n",
    "* data\\['text']로 값을 출력하게 되면, text 데이터와, index가 함께 출력된다. \n",
    "* 하지만, str 타입이 아니기 때문에 그대로 summarize에선 사용할 수 없다. \n",
    "* 데이터를 새로 불러와 줘야할 것 같다. 쓰려고 출력 해보니 정제가 다 된 문장이다.   \n",
    "![image.png](attachment:image.png)  "
   ]
  },
  {
   "cell_type": "code",
   "execution_count": 111,
   "id": "721c8e5c",
   "metadata": {},
   "outputs": [
    {
     "data": {
      "text/html": [
       "<div>\n",
       "<style scoped>\n",
       "    .dataframe tbody tr th:only-of-type {\n",
       "        vertical-align: middle;\n",
       "    }\n",
       "\n",
       "    .dataframe tbody tr th {\n",
       "        vertical-align: top;\n",
       "    }\n",
       "\n",
       "    .dataframe thead th {\n",
       "        text-align: right;\n",
       "    }\n",
       "</style>\n",
       "<table border=\"1\" class=\"dataframe\">\n",
       "  <thead>\n",
       "    <tr style=\"text-align: right;\">\n",
       "      <th></th>\n",
       "      <th>text</th>\n",
       "    </tr>\n",
       "  </thead>\n",
       "  <tbody>\n",
       "    <tr>\n",
       "      <th>0</th>\n",
       "      <td>Saurav Kant, an alumnus of upGrad and IIIT-B's...</td>\n",
       "    </tr>\n",
       "    <tr>\n",
       "      <th>1</th>\n",
       "      <td>Kunal Shah's credit card bill payment platform...</td>\n",
       "    </tr>\n",
       "    <tr>\n",
       "      <th>2</th>\n",
       "      <td>New Zealand defeated India by 8 wickets in the...</td>\n",
       "    </tr>\n",
       "    <tr>\n",
       "      <th>3</th>\n",
       "      <td>With Aegon Life iTerm Insurance plan, customer...</td>\n",
       "    </tr>\n",
       "    <tr>\n",
       "      <th>4</th>\n",
       "      <td>Speaking about the sexual harassment allegatio...</td>\n",
       "    </tr>\n",
       "    <tr>\n",
       "      <th>...</th>\n",
       "      <td>...</td>\n",
       "    </tr>\n",
       "    <tr>\n",
       "      <th>98396</th>\n",
       "      <td>A CRPF jawan was on Tuesday axed to death with...</td>\n",
       "    </tr>\n",
       "    <tr>\n",
       "      <th>98397</th>\n",
       "      <td>'Uff Yeh', the first song from the Sonakshi Si...</td>\n",
       "    </tr>\n",
       "    <tr>\n",
       "      <th>98398</th>\n",
       "      <td>According to reports, a new version of the 199...</td>\n",
       "    </tr>\n",
       "    <tr>\n",
       "      <th>98399</th>\n",
       "      <td>A new music video shows rapper Snoop Dogg aimi...</td>\n",
       "    </tr>\n",
       "    <tr>\n",
       "      <th>98400</th>\n",
       "      <td>Madhesi Morcha, an alliance of seven political...</td>\n",
       "    </tr>\n",
       "  </tbody>\n",
       "</table>\n",
       "<p>98401 rows × 1 columns</p>\n",
       "</div>"
      ],
      "text/plain": [
       "                                                    text\n",
       "0      Saurav Kant, an alumnus of upGrad and IIIT-B's...\n",
       "1      Kunal Shah's credit card bill payment platform...\n",
       "2      New Zealand defeated India by 8 wickets in the...\n",
       "3      With Aegon Life iTerm Insurance plan, customer...\n",
       "4      Speaking about the sexual harassment allegatio...\n",
       "...                                                  ...\n",
       "98396  A CRPF jawan was on Tuesday axed to death with...\n",
       "98397  'Uff Yeh', the first song from the Sonakshi Si...\n",
       "98398  According to reports, a new version of the 199...\n",
       "98399  A new music video shows rapper Snoop Dogg aimi...\n",
       "98400  Madhesi Morcha, an alliance of seven political...\n",
       "\n",
       "[98401 rows x 1 columns]"
      ]
     },
     "execution_count": 111,
     "metadata": {},
     "output_type": "execute_result"
    }
   ],
   "source": [
    "# 가져오려는 행의 이름과 순서를 알고 있기 때문에 한번 써 봐도 되지않을까? \n",
    "# text는 0,1 1번째에 있기 때문에!\n",
    "# 불러온 moto_text의 type은 dataframe 이다. \n",
    "moto_text = pd.read_csv('news_summary_more.csv', encoding='iso-8859-1',usecols=[1])\n",
    "moto_text"
   ]
  },
  {
   "attachments": {
    "image.png": {
     "image/png": "[encoded data removed]"
    }
   },
   "cell_type": "markdown",
   "id": "39a2182e",
   "metadata": {},
   "source": [
    "\n",
    "* summrize에서 사용하려면 data가 반드시 ```<str> ```타입 형식의 문자열로 이루어져 있어야 한다.   \n",
    "![image.png](attachment:image.png)  "
   ]
  },
  {
   "cell_type": "markdown",
   "id": "278a3068",
   "metadata": {},
   "source": [
    "* 원문과 추상적 요약, 추출적 요약 문장을 비교해 봅시다.  \n"
   ]
  },
  {
   "cell_type": "markdown",
   "id": "1a90408b",
   "metadata": {},
   "source": [
    "### &nbsp;&nbsp; &nbsp;&nbsp; 7-2-1 원본 문장\n",
    "\n",
    "\n",
    "   1. 우선 추상적 요약 문장 하나를 기준으로 잡고, \n",
    "   2. 원본 문장에서 검색할 단어들을 선택 해 검색해서 추려보고\n",
    "   3. 검색 결과가 제일 적게 나왔을 때, 인덱스 번호를 참고해서 하나씩 출력해서 내용을 확인해 본다.\n",
    "    \n",
    "    라는 식으로 원본 문장을 찾아보았다. "
   ]
  },
  {
   "cell_type": "code",
   "execution_count": 209,
   "id": "e7fc419e",
   "metadata": {},
   "outputs": [
    {
     "data": {
      "text/html": [
       "<div>\n",
       "<style scoped>\n",
       "    .dataframe tbody tr th:only-of-type {\n",
       "        vertical-align: middle;\n",
       "    }\n",
       "\n",
       "    .dataframe tbody tr th {\n",
       "        vertical-align: top;\n",
       "    }\n",
       "\n",
       "    .dataframe thead th {\n",
       "        text-align: right;\n",
       "    }\n",
       "</style>\n",
       "<table border=\"1\" class=\"dataframe\">\n",
       "  <thead>\n",
       "    <tr style=\"text-align: right;\">\n",
       "      <th></th>\n",
       "      <th>text</th>\n",
       "    </tr>\n",
       "  </thead>\n",
       "  <tbody>\n",
       "    <tr>\n",
       "      <th>17896</th>\n",
       "      <td>Actor Abhishek Bachchan has said that his expe...</td>\n",
       "    </tr>\n",
       "    <tr>\n",
       "      <th>33878</th>\n",
       "      <td>After stepping down as Delhi Daredevils' capta...</td>\n",
       "    </tr>\n",
       "    <tr>\n",
       "      <th>41943</th>\n",
       "      <td>Australian cricket team members have reportedl...</td>\n",
       "    </tr>\n",
       "  </tbody>\n",
       "</table>\n",
       "</div>"
      ],
      "text/plain": [
       "                                                    text\n",
       "17896  Actor Abhishek Bachchan has said that his expe...\n",
       "33878  After stepping down as Delhi Daredevils' capta...\n",
       "41943  Australian cricket team members have reportedl..."
      ]
     },
     "execution_count": 209,
     "metadata": {},
     "output_type": "execute_result"
    }
   ],
   "source": [
    "moto_text[moto_text['text'].str.contains('sitting alone',case=False)]"
   ]
  },
  {
   "cell_type": "code",
   "execution_count": 217,
   "id": "c1f2f86f",
   "metadata": {},
   "outputs": [
    {
     "data": {
      "text/plain": [
       "'After stepping down as Delhi Daredevils\\' captain, Gautam Gambhir said he was probably \"too desperate to turn things around\". \"The bell started ringing after the last game...I was sitting alone and thinking, I couldn\\'t handle the pressure...I wasn\\'t good enough,\" he added. Delhi Daredevils have lost five of their first six matches in the Indian Premier League 2018.'"
      ]
     },
     "execution_count": 217,
     "metadata": {},
     "output_type": "execute_result"
    }
   ],
   "source": [
    "moto_text['text'][33878]"
   ]
  },
  {
   "cell_type": "markdown",
   "id": "ac77124c",
   "metadata": {},
   "source": [
    "### &nbsp;&nbsp; &nbsp;&nbsp; 7-2-2 추상적 요약 문장"
   ]
  },
  {
   "cell_type": "code",
   "execution_count": 214,
   "id": "8e6d4070",
   "metadata": {
    "scrolled": false
   },
   "outputs": [
    {
     "name": "stdout",
     "output_type": "stream",
     "text": [
      "원문 : stepping delhi daredevils captain gautam gambhir said probably desperate turn things around bell started ringing last game sitting alone thinking could handle pressure good enough added delhi daredevils lost five first six matches indian premier league \n",
      "실제 요약 : was too desperate to turn things gambhir on stepping down \n",
      "예측 요약 :  need to see myself harbhajan on pandya selection row\n",
      "\n",
      "\n"
     ]
    }
   ],
   "source": [
    "exsuma = ExSu(1)"
   ]
  },
  {
   "cell_type": "markdown",
   "id": "9ae972c3",
   "metadata": {},
   "source": [
    "### &nbsp;&nbsp; &nbsp;&nbsp; 7-2-3 추출적 요약 - ratio 사용"
   ]
  },
  {
   "cell_type": "code",
   "execution_count": 239,
   "id": "20851879",
   "metadata": {},
   "outputs": [
    {
     "name": "stdout",
     "output_type": "stream",
     "text": [
      "Summary:\n",
      "After stepping down as Delhi Daredevils' captain, Gautam Gambhir said he was probably \"too desperate to turn things around\".\n"
     ]
    }
   ],
   "source": [
    "print('Summary:')\n",
    "print(summarize(moto_text['text'][33878], ratio=0.5))"
   ]
  },
  {
   "cell_type": "markdown",
   "id": "896011ab",
   "metadata": {},
   "source": [
    "\n",
    "\n"
   ]
  },
  {
   "cell_type": "markdown",
   "id": "eef6c132",
   "metadata": {},
   "source": [
    "### &nbsp;&nbsp; &nbsp;&nbsp; 7-2-4 추출적 요약 -  출력 할 단어 수를 30개로 설정 \n",
    "\n",
    "\n",
    "* lms 내 갯수는 50 이였으나, 원문이 짧아 30 로 설정하였다. "
   ]
  },
  {
   "cell_type": "code",
   "execution_count": 240,
   "id": "04d1bbda",
   "metadata": {},
   "outputs": [
    {
     "name": "stdout",
     "output_type": "stream",
     "text": [
      "Summary:\n",
      "After stepping down as Delhi Daredevils' captain, Gautam Gambhir said he was probably \"too desperate to turn things around\".\n",
      "Delhi Daredevils have lost five of their first six matches in the Indian Premier League 2018.\n"
     ]
    }
   ],
   "source": [
    "print('Summary:')\n",
    "print(summarize(moto_text['text'][33878], words= 30))"
   ]
  },
  {
   "cell_type": "markdown",
   "id": "de717093",
   "metadata": {},
   "source": [
    "\n",
    "\n"
   ]
  },
  {
   "cell_type": "markdown",
   "id": "fc79d5ef",
   "metadata": {},
   "source": [
    "### &nbsp;&nbsp; &nbsp;&nbsp; 7-2-5 추출적 요약 -  출력 결과를 list로 받아볼까요? "
   ]
  },
  {
   "cell_type": "code",
   "execution_count": 224,
   "id": "89d83b8b",
   "metadata": {},
   "outputs": [
    {
     "name": "stdout",
     "output_type": "stream",
     "text": [
      "Summary:\n",
      "['After stepping down as Delhi Daredevils\\' captain, Gautam Gambhir said he was probably \"too desperate to turn things around\".']\n"
     ]
    }
   ],
   "source": [
    "print('Summary:')\n",
    "print(summarize(moto_text['text'][33878], ratio=0.5, split=True))"
   ]
  },
  {
   "cell_type": "markdown",
   "id": "68bf6696",
   "metadata": {},
   "source": [
    "\n",
    "\n"
   ]
  },
  {
   "attachments": {
    "image-3.png": {
     "image/png": "[encoded data removed]"
    }
   },
   "cell_type": "markdown",
   "id": "b0051248",
   "metadata": {},
   "source": [
    "### &nbsp;&nbsp; &nbsp;&nbsp; 7-2-6 비교 해 봅시다! \n",
    "\n",
    "\n",
    "![image-3.png](attachment:image-3.png)  \n"
   ]
  },
  {
   "cell_type": "markdown",
   "id": "8b6cd4b3",
   "metadata": {},
   "source": [
    "* 추출적 요약의 결과를 보면, 아무래도 문장에 있는 단어들을 그대로 가져와 조합한 것이기 때문에 추상적 요약보단 훨씬 자연스러워 보인다. word인자를 추가 해 주었더니 기사에서 정말 필요한 부분만을 요약 해 가져온 것 같다. \n",
    "* 다만 word를 25로 설정하고 출력했더니, ratio 0.5 로 한 것과 같은 결과가 나왔고, 25 이하로 설정하니 아예 문장자체가 나오지 않았다. \n",
    "* list로 만든 부분(7-2-5)은 출력 내용이 같고, list로 출력된것 말곤 다른게 없기 때문에 비교에선 적지 않았습니다. \n",
    "\n",
    "\n",
    "\n",
    "* 추상적 요약의 경우, 정제된 원문을 토대로 요약 한 것이기 때문에 요약만 보면 이게 뭘까? 할 수도 있겠다 싶기도 했지만 이 제목을 달고있는 뉴스 기사를 본다면, '뭘 잘못했길래 그랬을까?' 하고 한번쯤은 클릭 해 볼 것 같다. "
   ]
  },
  {
   "cell_type": "markdown",
   "id": "c7d74ada",
   "metadata": {},
   "source": [
    "\n",
    "\n",
    "----\n",
    "\n",
    "\n"
   ]
  },
  {
   "cell_type": "markdown",
   "id": "19c31b37",
   "metadata": {},
   "source": [
    "# 회고! "
   ]
  },
  {
   "cell_type": "markdown",
   "id": "2c805a89",
   "metadata": {},
   "source": [
    "* 이번노드.. 내가 글을 읽고 한 문장으로 요약하는건 참 어려운데, 이렇게 모델을 학습시켜 직접 요약해 보니 재밌었다. 재미는 있었지만, 전처리 과정이 너무나도 길었기 때문에 작사가 모델 만들었을 때 보다 복잡하고 길었기 때문에 어렵다고 느꼈던 것 같다. \n",
    "\n",
    "\n",
    "* text와 headline의 중복 제외한 샘플의 수를 알아보는 부분이 있었는데,\n",
    "    > text 열에서 중복을 배제한 유일한 샘플의 수 : 98360  \n",
    "    headlines 열에서 중복을 배제한 유일한 샘플의 수 : 98280\n",
    "    \n",
    "    로 출력됬던데, 결측치는 없었던걸 보면.. headline은 같은데, text가 다른 부분이 120개나 있었던것 같다. \n",
    "    이 부분을 확인 하긴 했지만, 학습 데이터가 줄어들지 않을까 싶어 그대로 진행 했었는데.. 좀 더 공부한 다음에 다시돌아와서 본다면 '아 이부분이 잘못됬는데 이래도 됬네..?' 하면서 신기해 하지않을까? ㅎㅎ.. "
   ]
  },
  {
   "cell_type": "markdown",
   "id": "afc13fd9",
   "metadata": {},
   "source": [
    "* 추출적 요약 부분을 시도할 때, 어떻게든 str로 된 문장을 가져와야하는데, 어떻게 해 볼까 하면서 고민했던 부분이 제일 재밌었던 부분이였다. 단순히 정제되지 않은 원본 데이터를 가져와서, 붙여넣기만 하면 되는 간단한 작업이였겠지만, 하고있을 당시엔.. \n",
    "    1. 원본 문장을 가져와야해!!! 근데 어떻게 가져오지..? -> 정제된걸 가져오면 안되잖아!? \n",
    "    2. 가져오긴 가져왔는데 ```<str>``` 로 출력해야 하는데 왜 안되지..?!!?\n",
    "    ..등등 내적으로 많이 고민해보고, 여러가지 시도를 해 봤던 부분이였다. \n",
    "    결국 해 냈지만 하는 과정이 너무 재밌었다 ㅎㅎ \n",
    "    \n",
    "    \n",
    "    \n",
    "* 추상적 요약과 추출적 요약을 같은 기사로 비교하고 싶어서 원본 기사를 찾는 과정도 순탄하진 않았다. 인터넷에서 str.contains 에 대한 글을 찾아 '이거라면 해결 해 볼 수 있겠다'라고 생각했지만, 추상적 요약의 원본 문장은 불용어 삭제와 전처리 과정을 거친 문장이라 단어 하나로 찾기엔 중복되는 줄이 100개 이상이였고, 2개 이상으로 찾자니 중간에 생략된 단어가 있어 검색결과가 나오지 않을 때도 있었다. 여러번의 시도를 거쳐 원본 기사를 찾았을때의 그 뿌듯함은 당분간은 잊을 수 없을 것 같다 ㅎㅎ (솔직히 고뇌하는 과정부터 해결 했을때까지가 너무 재밌었어..) "
   ]
  },
  {
   "attachments": {
    "image.png": {
     "image/png": "[encoded data removed]"
    }
   },
   "cell_type": "markdown",
   "id": "4d22dee0",
   "metadata": {},
   "source": [
    "* 토큰화 과정에서, 처음엔 내가 보기 힘들단 이유로 ```<start>, <end>``` 로 설정해 주고 진행했었는데, 실제 요약과 예측된 요약을 비교하는 과정에서 원인 모를 이유가 계속 발생하였다. 어차피 내가 확인하는게 아니고, 컴퓨터가 확인해서 처리해 주는 부분인데, 구지 바꿔서 시간만 더 지체했던것 같다.. 꺽쇄가 있었기때문에 뭔가 문장으로 처리하지 못해서 오류가 난게 아닐까 라고 생각은 했지만 원인은 역시 모르겠다..\n",
    "\n",
    "![image.png](attachment:image.png)"
   ]
  },
  {
   "cell_type": "markdown",
   "id": "92f109c3",
   "metadata": {},
   "source": [
    "* 별개로 이번 노드.. ```커널 연결중``` 이 역대급으로 떴던 노드라, lms 정리 할 때도 실행이 잘 안되서 로그아웃도 해보고, 클라우드도 꺼보고, 강제 리로드도 해봤었다.. 학습이 힘든거야 당연히 힘든 부분이지만, 기술적으로 안되니깐 어렵기도 해서 더 집중이 안된 부분이 있어 힘들었던 노드였다.... 힘내 서버야..ㅠㅠ "
   ]
  },
  {
   "cell_type": "markdown",
   "id": "601f9820",
   "metadata": {},
   "source": [
    "\n",
    "\n",
    "\n",
    "-----\n",
    "\n",
    "\n",
    "\n"
   ]
  },
  {
   "cell_type": "markdown",
   "id": "24600296",
   "metadata": {},
   "source": [
    "# 🖇️ 참고 페이지"
   ]
  },
  {
   "cell_type": "markdown",
   "id": "d4805c1f",
   "metadata": {},
   "source": [
    "### pandas 데이터 확인 관련\n",
    "\n",
    "* [pandas 기초 : csv 파일 불러오기/ 기술통계 / 특정 행과 열 추출하기](https://blog.naver.com/PostView.nhn?isHttpsRedirect=true&blogId=bosongmoon&logNo=221572727121)"
   ]
  },
  {
   "cell_type": "markdown",
   "id": "c4535823",
   "metadata": {},
   "source": [
    "### summarize 사용하기 \n",
    "\n",
    "* [파이썬 머신러닝 #7 - 문서 요약하기(TextRank Summariser)](https://steemit.com/dclick/@anpigon/-textrank-summariser-1540351206980)"
   ]
  },
  {
   "cell_type": "markdown",
   "id": "4c9a1d11",
   "metadata": {},
   "source": [
    "### DataFrame에서 원하는 문장 찾기\n",
    "\n",
    "* [pandas 특정 문자로 찾기 str.contains()](https://seong6496.tistory.com/127)"
   ]
  }
 ],
 "metadata": {
  "kernelspec": {
   "display_name": "Python 3 (ipykernel)",
   "language": "python",
   "name": "python3"
  },
  "language_info": {
   "codemirror_mode": {
    "name": "ipython",
    "version": 3
   },
   "file_extension": ".py",
   "mimetype": "text/x-python",
   "name": "python",
   "nbconvert_exporter": "python",
   "pygments_lexer": "ipython3",
   "version": "3.9.7"
  }
 },
 "nbformat": 4,
 "nbformat_minor": 5
}
