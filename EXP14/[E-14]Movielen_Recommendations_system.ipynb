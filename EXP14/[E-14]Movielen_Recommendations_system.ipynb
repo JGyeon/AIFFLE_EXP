{
 "cells": [
  {
   "cell_type": "markdown",
   "id": "a143ec72",
   "metadata": {},
   "source": [
    "# EXP 14 Movielens 영화 추천 실습 \n",
    "\n",
    "\n",
    "* 이번 시간엔 추천 시스템, CSR Matrix이 무엇인지 배워보고, MF 모델을 이용해 스포티파이에서 발생한 데이터를 가져와 전처리 해 보고, 유저가 좋아하는 특정 아티스트와 유사한 다른 아티스트를 추천하는 추천 시스템 모델을 만들어봤습니다. \n",
    "\n",
    "\n",
    "* 예제에서 배운걸 토대로 영화를 추천해 주는 모델을 만들어봅니다. "
   ]
  },
  {
   "cell_type": "markdown",
   "id": "015f4188",
   "metadata": {},
   "source": [
    "\n",
    "\n",
    "\n",
    "---\n",
    "\n"
   ]
  },
  {
   "cell_type": "markdown",
   "id": "758ae35d",
   "metadata": {},
   "source": [
    "# 루브릭 평가 기준 \n",
    "\n",
    "\n",
    "| 평가문항 | 상세기준 |\n",
    "| :---: | :---: |\n",
    "| 1. CSR matrix가 정상적으로 만들어졌다. | 사용자와 아이템 개수를 바탕으로 정확한 사이즈로 만들었다. |\n",
    "| 2. MF 모델이 정상적으로 훈련되어 그럴듯한 추천이 이루어졌다. | 사용자와 아이템 벡터 내적수치가 의미있게 형성되었다. |\n",
    "| 3. 비슷한 영화 찾기와 유저에게 추천하기의 과정이 정상적으로 진행되었다. | MF모델이 예측한 유저 선호도 및 아이템간 유사도, 기여도가 의미있게 측정되었다. |"
   ]
  },
  {
   "cell_type": "markdown",
   "id": "cafe425f",
   "metadata": {},
   "source": [
    "\n",
    "\n",
    "\n",
    "----\n",
    "\n",
    "\n"
   ]
  },
  {
   "cell_type": "markdown",
   "id": "d75da20e",
   "metadata": {},
   "source": [
    "# 목차 \n",
    "\n",
    "\n",
    "## 1. 데이터 및 모듈 불러오기\n",
    "\n",
    "\n",
    "## 2. 데이터 불러오기\n",
    "\n",
    "\n",
    "## 3. 데이터 전처리 \n",
    "\n",
    "\n",
    "## 4. CSR matrix 만들기 \n",
    "\n",
    "\n",
    "## 5. 모델 구성 및 학습 \n",
    "\n",
    "\n",
    "## 6. 모델 검증 \n",
    "\n",
    "\n",
    "## 후기! \n",
    "\n",
    "\n",
    "## 🖇️참고페이지 "
   ]
  },
  {
   "cell_type": "markdown",
   "id": "f9114c94",
   "metadata": {},
   "source": [
    "\n",
    "\n",
    "\n",
    "---\n",
    "\n",
    "\n"
   ]
  },
  {
   "cell_type": "markdown",
   "id": "74b7d6ec",
   "metadata": {},
   "source": [
    "# 1. 데이터 및 모듈 불러오기\n",
    "\n",
    "\n",
    "* 이번 프로젝트에 필요한 데이터와 모듈을 불러옵니다. \n",
    "* LMS 클라우드 이용시, Movielens 데이터를 따로 다운로드 받을 필요는 없습니다. "
   ]
  },
  {
   "cell_type": "markdown",
   "id": "7d4b2946",
   "metadata": {},
   "source": [
    "## &nbsp;&nbsp; 1-1 데이터 불러오기 \n",
    "\n",
    "\n",
    "* Cloud Storage에 미리 업로드된 ml-1m폴더 내 파일을 심볼릭 링크로 개인 storage에 연결해 줍니다. \n",
    "\n",
    "* 아래 코드를 셀에 입력해주면, 데이터 준비가 완료됩니다.\n"
   ]
  },
  {
   "cell_type": "code",
   "execution_count": 387,
   "id": "bd3d3c1b",
   "metadata": {},
   "outputs": [],
   "source": [
    "# $ mkdir -p ~/aiffel/recommendata_iu/data/ml-1m\n",
    "# $ ln -s ~/data/ml-1m/* ~/aiffel/recommendata_iu/data/ml-1m"
   ]
  },
  {
   "cell_type": "markdown",
   "id": "c813f6af",
   "metadata": {},
   "source": [
    "\n",
    "\n"
   ]
  },
  {
   "cell_type": "markdown",
   "id": "0ce23995",
   "metadata": {},
   "source": [
    "## &nbsp;&nbsp; 1-2 모듈 불러오기\n",
    "\n",
    "\n",
    "* 이번시간에 필요한 모듈을 가져옵니다. "
   ]
  },
  {
   "cell_type": "code",
   "execution_count": 388,
   "id": "a76433d1",
   "metadata": {},
   "outputs": [],
   "source": [
    "import os\n",
    "import numpy as np\n",
    "import pandas as pd\n",
    "from implicit.als import AlternatingLeastSquares\n",
    "\n",
    "# csr_matrix \n",
    "from scipy.sparse import csr_matrix\n",
    "# als 모델 \n",
    "from implicit.als import AlternatingLeastSquares"
   ]
  },
  {
   "cell_type": "markdown",
   "id": "a85eb177",
   "metadata": {},
   "source": [
    "\n",
    "\n",
    "\n",
    "---\n",
    "\n",
    "\n"
   ]
  },
  {
   "cell_type": "markdown",
   "id": "a94548d2",
   "metadata": {},
   "source": [
    "# 2. 데이터 불러오기\n",
    "\n",
    "\n",
    "* 데이터셋을 활용하기 전에, 데이터셋에 대해 알아봅니다. \n",
    "* pandas를 활용해 데이터를 열어봅니다. "
   ]
  },
  {
   "cell_type": "markdown",
   "id": "9499145f",
   "metadata": {},
   "source": [
    "\n",
    "\n"
   ]
  },
  {
   "attachments": {
    "image.png": {
     "image/png": "[encoded data removed]"
    }
   },
   "cell_type": "markdown",
   "id": "0cd65003",
   "metadata": {},
   "source": [
    "## &nbsp;&nbsp; 2-1 데이터셋에 대해 알아보기 \n",
    "\n",
    "\n",
    "* 이번시간에 사용해 볼 데이터셋은 [Movielens 데이터](https://grouplens.org/datasets/movielens/) 입니다. readme 파일을 통해 데이터셋에 대해 알아봅시다. 1-1 항목에서 폴더를 만들고, 데이터를 불러온 다음 폴더 안을 확인 해 봤습니다.   \n",
    "![image.png](attachment:image.png)"
   ]
  },
  {
   "cell_type": "markdown",
   "id": "e5256d93",
   "metadata": {},
   "source": [
    "* 이번 데이터셋에는 약 3,900편의 영화에 대한 1,000,209개의 익명으로 매겨진 등급이 포함되어있습니다. \n",
    "    2000년도에 MovieLens에 가입한 6,040명의 사용자에 대한 데이터셋 입니다. 미네소타 대학교에서 만들어졌다 하네요! \n",
    "    \n",
    "---\n",
    "\n",
    "### RATINGS FILE 설명\n",
    "\n",
    "* 영화 리뷰 별점이 포함되어있는 파일. \n",
    "* `::`를 기준으로 데이터가 나눠져 있고, 각 컬럼 명은 ``UserID::MovieID::Rating::Timestamp`` 로 구성되어 있습니다. \n",
    "* userId 는 1 에서 6040까지, Movie ID는 1에서 3952까지. \n",
    "* 등급은 별 5개 척도로 이루어집니다. (별점 등급만 해당됨)\n",
    "* 타임스탬프는 time(2)에 의해 반환된 에포크 이후 초 단위로 표시됩니다.\n",
    "* 각 사용자는 최소 20개의 평가를 가지고 있습니다. \n",
    "\n",
    "----\n",
    "\n",
    "### USERS FILE 설명 \n",
    "\n",
    "* 파일 그대로 사용자의 데이터가 담겨있는 파일. \n",
    "* `::`를 기준으로 데이터가 나눠져 있고, 각 컬럼 명은 `UserID::Gender::Age::Occupation::Zip-code` 로 구성되어 있습니다.\n",
    "* Gender : 남성은 \"M\", 여성은 \"F\"로 표기\n",
    "* Age : 연령의 범위는 다음과 같습니다.\n",
    "    *  1:  \"Under 18\"\n",
    "\t* 18:  \"18-24\"\n",
    "\t* 25:  \"25-34\"\n",
    "\t* 35:  \"35-44\"\n",
    "\t* 45:  \"45-49\"\n",
    "\t* 50:  \"50-55\"\n",
    "\t* 56:  \"56+\"\n",
    "    \n",
    "* Occupation : 직업..? 사용자의 직업 같은데, 번호와 분류 기준은 다음과 같습니다.\n",
    "    *  0:  \"other\" or not specified\n",
    "\t*  1:  \"academic/educator\"\n",
    "\t*  2:  \"artist\"\n",
    "\t*  3:  \"clerical/admin\"\n",
    "\t*  4:  \"college/grad student\"\n",
    "\t*  5:  \"customer service\"\n",
    "\t*  6:  \"doctor/health care\"\n",
    "\t*  7:  \"executive/managerial\"\n",
    "\t*  8:  \"farmer\"\n",
    "\t*  9:  \"homemaker\"\n",
    "\t* 10:  \"K-12 student\"\n",
    "\t* 11:  \"lawyer\"\n",
    "\t* 12:  \"programmer\"\n",
    "\t* 13:  \"retired\"\n",
    "\t* 14:  \"sales/marketing\"\n",
    "\t* 15:  \"scientist\"\n",
    "\t* 16:  \"self-employed\"\n",
    "\t* 17:  \"technician/engineer\"\n",
    "\t* 18:  \"tradesman/craftsman\"\n",
    "\t* 19:  \"unemployed\"\n",
    "\t* 20:  \"writer\"\n",
    "    \n",
    "\n",
    "---\n",
    "\n",
    "\n",
    "### MOVIES FILE  설명\n",
    "* `::`를 기준으로 데이터가 나눠져 있고, 각 컬럼 명은 `MovieID::Title::Genres` 로 구성되어 있습니다.\n",
    "* Title : IMDB에서 제공하는 제목과 동일합니다(출시 연도 포함)   \n",
    "        ex ) Toy Story (1995)\n",
    "* Genres : 영화의 장르. \n",
    "    * Action\n",
    "\t* Adventure\n",
    "\t* Animation\n",
    "\t* Children's\n",
    "\t* Comedy\n",
    "\t* Crime\n",
    "\t* Documentary\n",
    "\t* Drama\n",
    "\t* Fantasy\n",
    "\t* Film-Noir\n",
    "\t* Horror\n",
    "\t* Musical\n",
    "\t* Mystery\n",
    "\t* Romance\n",
    "\t* Sci-Fi\n",
    "\t* Thriller\n",
    "\t* War\n",
    "\t* Western\n",
    "    \n",
    "- 일부 MovieID는 실수로 중복되어 영화와 일치하지 않습니다.\n",
    "- 영화는 대부분 손으로 입력하기 때문에 오류 및 불일치가 있을 수 있습니다.\n",
    "\n",
    "- 파일을 불러와 확인 해 봅시다:D "
   ]
  },
  {
   "cell_type": "code",
   "execution_count": 389,
   "id": "460aae9f",
   "metadata": {},
   "outputs": [],
   "source": [
    "# 파일 경로 지정 \n",
    "\n",
    "movie_file = os.getenv('HOME') + '/aiffel/recommendata_iu/data/ml-1m/movies.dat'\n",
    "ratings_flie = os.getenv('HOME') + '/aiffel/recommendata_iu/data/ml-1m/ratings.dat'\n",
    "users_flie = os.getenv('HOME') + '/aiffel/recommendata_iu/data/ml-1m/users.dat'\n",
    "\n",
    "# col_names 지정 \n",
    "# readme의 설명대로 컬럼 이름을 정해줬습니다. \n",
    "movie_col = ['MovieID','Title','Genres']\n",
    "ratings_col = ['UserID','MovieID','Rating','Timestamp']\n",
    "users_col = ['UserID','Gender','Age','Occupation','Zip-code']"
   ]
  },
  {
   "cell_type": "code",
   "execution_count": 390,
   "id": "5ded417e",
   "metadata": {},
   "outputs": [
    {
     "data": {
      "text/html": [
       "<div>\n",
       "<style scoped>\n",
       "    .dataframe tbody tr th:only-of-type {\n",
       "        vertical-align: middle;\n",
       "    }\n",
       "\n",
       "    .dataframe tbody tr th {\n",
       "        vertical-align: top;\n",
       "    }\n",
       "\n",
       "    .dataframe thead th {\n",
       "        text-align: right;\n",
       "    }\n",
       "</style>\n",
       "<table border=\"1\" class=\"dataframe\">\n",
       "  <thead>\n",
       "    <tr style=\"text-align: right;\">\n",
       "      <th></th>\n",
       "      <th>MovieID</th>\n",
       "      <th>Title</th>\n",
       "      <th>Genres</th>\n",
       "    </tr>\n",
       "  </thead>\n",
       "  <tbody>\n",
       "    <tr>\n",
       "      <th>0</th>\n",
       "      <td>1</td>\n",
       "      <td>Toy Story (1995)</td>\n",
       "      <td>Animation|Children's|Comedy</td>\n",
       "    </tr>\n",
       "    <tr>\n",
       "      <th>1</th>\n",
       "      <td>2</td>\n",
       "      <td>Jumanji (1995)</td>\n",
       "      <td>Adventure|Children's|Fantasy</td>\n",
       "    </tr>\n",
       "    <tr>\n",
       "      <th>2</th>\n",
       "      <td>3</td>\n",
       "      <td>Grumpier Old Men (1995)</td>\n",
       "      <td>Comedy|Romance</td>\n",
       "    </tr>\n",
       "    <tr>\n",
       "      <th>3</th>\n",
       "      <td>4</td>\n",
       "      <td>Waiting to Exhale (1995)</td>\n",
       "      <td>Comedy|Drama</td>\n",
       "    </tr>\n",
       "    <tr>\n",
       "      <th>4</th>\n",
       "      <td>5</td>\n",
       "      <td>Father of the Bride Part II (1995)</td>\n",
       "      <td>Comedy</td>\n",
       "    </tr>\n",
       "    <tr>\n",
       "      <th>5</th>\n",
       "      <td>6</td>\n",
       "      <td>Heat (1995)</td>\n",
       "      <td>Action|Crime|Thriller</td>\n",
       "    </tr>\n",
       "    <tr>\n",
       "      <th>6</th>\n",
       "      <td>7</td>\n",
       "      <td>Sabrina (1995)</td>\n",
       "      <td>Comedy|Romance</td>\n",
       "    </tr>\n",
       "    <tr>\n",
       "      <th>7</th>\n",
       "      <td>8</td>\n",
       "      <td>Tom and Huck (1995)</td>\n",
       "      <td>Adventure|Children's</td>\n",
       "    </tr>\n",
       "    <tr>\n",
       "      <th>8</th>\n",
       "      <td>9</td>\n",
       "      <td>Sudden Death (1995)</td>\n",
       "      <td>Action</td>\n",
       "    </tr>\n",
       "    <tr>\n",
       "      <th>9</th>\n",
       "      <td>10</td>\n",
       "      <td>GoldenEye (1995)</td>\n",
       "      <td>Action|Adventure|Thriller</td>\n",
       "    </tr>\n",
       "  </tbody>\n",
       "</table>\n",
       "</div>"
      ],
      "text/plain": [
       "   MovieID                               Title                        Genres\n",
       "0        1                    Toy Story (1995)   Animation|Children's|Comedy\n",
       "1        2                      Jumanji (1995)  Adventure|Children's|Fantasy\n",
       "2        3             Grumpier Old Men (1995)                Comedy|Romance\n",
       "3        4            Waiting to Exhale (1995)                  Comedy|Drama\n",
       "4        5  Father of the Bride Part II (1995)                        Comedy\n",
       "5        6                         Heat (1995)         Action|Crime|Thriller\n",
       "6        7                      Sabrina (1995)                Comedy|Romance\n",
       "7        8                 Tom and Huck (1995)          Adventure|Children's\n",
       "8        9                 Sudden Death (1995)                        Action\n",
       "9       10                    GoldenEye (1995)     Action|Adventure|Thriller"
      ]
     },
     "execution_count": 390,
     "metadata": {},
     "output_type": "execute_result"
    }
   ],
   "source": [
    "# movies.dat 파일 불러오기 \n",
    "# 각 데이터가 :: 를 기준으로 나눠져 있기 때문에, sep='::'로 주어야 표에 잘 나타납니다. \n",
    "# encoding = 'ISO-8859-1' 을 이용해 타이틀이 출력되지 않는 부분을 해결하였다. \n",
    "movie = pd.read_csv(movie_file, sep='::', names= movie_col, engine='python', encoding = 'ISO-8859-1' )    \n",
    "\n",
    "movie.head(10)\n"
   ]
  },
  {
   "cell_type": "code",
   "execution_count": 391,
   "id": "abad27f0",
   "metadata": {},
   "outputs": [
    {
     "data": {
      "text/html": [
       "<div>\n",
       "<style scoped>\n",
       "    .dataframe tbody tr th:only-of-type {\n",
       "        vertical-align: middle;\n",
       "    }\n",
       "\n",
       "    .dataframe tbody tr th {\n",
       "        vertical-align: top;\n",
       "    }\n",
       "\n",
       "    .dataframe thead th {\n",
       "        text-align: right;\n",
       "    }\n",
       "</style>\n",
       "<table border=\"1\" class=\"dataframe\">\n",
       "  <thead>\n",
       "    <tr style=\"text-align: right;\">\n",
       "      <th></th>\n",
       "      <th>UserID</th>\n",
       "      <th>MovieID</th>\n",
       "      <th>Rating</th>\n",
       "      <th>Timestamp</th>\n",
       "    </tr>\n",
       "  </thead>\n",
       "  <tbody>\n",
       "    <tr>\n",
       "      <th>0</th>\n",
       "      <td>1</td>\n",
       "      <td>1193</td>\n",
       "      <td>5</td>\n",
       "      <td>978300760</td>\n",
       "    </tr>\n",
       "    <tr>\n",
       "      <th>1</th>\n",
       "      <td>1</td>\n",
       "      <td>661</td>\n",
       "      <td>3</td>\n",
       "      <td>978302109</td>\n",
       "    </tr>\n",
       "    <tr>\n",
       "      <th>2</th>\n",
       "      <td>1</td>\n",
       "      <td>914</td>\n",
       "      <td>3</td>\n",
       "      <td>978301968</td>\n",
       "    </tr>\n",
       "    <tr>\n",
       "      <th>3</th>\n",
       "      <td>1</td>\n",
       "      <td>3408</td>\n",
       "      <td>4</td>\n",
       "      <td>978300275</td>\n",
       "    </tr>\n",
       "    <tr>\n",
       "      <th>4</th>\n",
       "      <td>1</td>\n",
       "      <td>2355</td>\n",
       "      <td>5</td>\n",
       "      <td>978824291</td>\n",
       "    </tr>\n",
       "    <tr>\n",
       "      <th>5</th>\n",
       "      <td>1</td>\n",
       "      <td>1197</td>\n",
       "      <td>3</td>\n",
       "      <td>978302268</td>\n",
       "    </tr>\n",
       "    <tr>\n",
       "      <th>6</th>\n",
       "      <td>1</td>\n",
       "      <td>1287</td>\n",
       "      <td>5</td>\n",
       "      <td>978302039</td>\n",
       "    </tr>\n",
       "    <tr>\n",
       "      <th>7</th>\n",
       "      <td>1</td>\n",
       "      <td>2804</td>\n",
       "      <td>5</td>\n",
       "      <td>978300719</td>\n",
       "    </tr>\n",
       "    <tr>\n",
       "      <th>8</th>\n",
       "      <td>1</td>\n",
       "      <td>594</td>\n",
       "      <td>4</td>\n",
       "      <td>978302268</td>\n",
       "    </tr>\n",
       "    <tr>\n",
       "      <th>9</th>\n",
       "      <td>1</td>\n",
       "      <td>919</td>\n",
       "      <td>4</td>\n",
       "      <td>978301368</td>\n",
       "    </tr>\n",
       "  </tbody>\n",
       "</table>\n",
       "</div>"
      ],
      "text/plain": [
       "   UserID  MovieID  Rating  Timestamp\n",
       "0       1     1193       5  978300760\n",
       "1       1      661       3  978302109\n",
       "2       1      914       3  978301968\n",
       "3       1     3408       4  978300275\n",
       "4       1     2355       5  978824291\n",
       "5       1     1197       3  978302268\n",
       "6       1     1287       5  978302039\n",
       "7       1     2804       5  978300719\n",
       "8       1      594       4  978302268\n",
       "9       1      919       4  978301368"
      ]
     },
     "execution_count": 391,
     "metadata": {},
     "output_type": "execute_result"
    }
   ],
   "source": [
    "# ratings.dat 파일 불러오기 \n",
    "# 각 데이터가 :: 를 기준으로 나눠져 있기 때문에, sep='::'로 주어야 표에 잘 나타납니다. \n",
    "\n",
    "ratings = pd.read_csv(ratings_flie, sep='::', names= ratings_col,  engine='python')      \n",
    "ratings.head(10)\n"
   ]
  },
  {
   "cell_type": "code",
   "execution_count": 392,
   "id": "34bf0d52",
   "metadata": {},
   "outputs": [
    {
     "data": {
      "text/html": [
       "<div>\n",
       "<style scoped>\n",
       "    .dataframe tbody tr th:only-of-type {\n",
       "        vertical-align: middle;\n",
       "    }\n",
       "\n",
       "    .dataframe tbody tr th {\n",
       "        vertical-align: top;\n",
       "    }\n",
       "\n",
       "    .dataframe thead th {\n",
       "        text-align: right;\n",
       "    }\n",
       "</style>\n",
       "<table border=\"1\" class=\"dataframe\">\n",
       "  <thead>\n",
       "    <tr style=\"text-align: right;\">\n",
       "      <th></th>\n",
       "      <th>UserID</th>\n",
       "      <th>Gender</th>\n",
       "      <th>Age</th>\n",
       "      <th>Occupation</th>\n",
       "      <th>Zip-code</th>\n",
       "    </tr>\n",
       "  </thead>\n",
       "  <tbody>\n",
       "    <tr>\n",
       "      <th>0</th>\n",
       "      <td>1</td>\n",
       "      <td>F</td>\n",
       "      <td>1</td>\n",
       "      <td>10</td>\n",
       "      <td>48067</td>\n",
       "    </tr>\n",
       "    <tr>\n",
       "      <th>1</th>\n",
       "      <td>2</td>\n",
       "      <td>M</td>\n",
       "      <td>56</td>\n",
       "      <td>16</td>\n",
       "      <td>70072</td>\n",
       "    </tr>\n",
       "    <tr>\n",
       "      <th>2</th>\n",
       "      <td>3</td>\n",
       "      <td>M</td>\n",
       "      <td>25</td>\n",
       "      <td>15</td>\n",
       "      <td>55117</td>\n",
       "    </tr>\n",
       "    <tr>\n",
       "      <th>3</th>\n",
       "      <td>4</td>\n",
       "      <td>M</td>\n",
       "      <td>45</td>\n",
       "      <td>7</td>\n",
       "      <td>02460</td>\n",
       "    </tr>\n",
       "    <tr>\n",
       "      <th>4</th>\n",
       "      <td>5</td>\n",
       "      <td>M</td>\n",
       "      <td>25</td>\n",
       "      <td>20</td>\n",
       "      <td>55455</td>\n",
       "    </tr>\n",
       "    <tr>\n",
       "      <th>5</th>\n",
       "      <td>6</td>\n",
       "      <td>F</td>\n",
       "      <td>50</td>\n",
       "      <td>9</td>\n",
       "      <td>55117</td>\n",
       "    </tr>\n",
       "    <tr>\n",
       "      <th>6</th>\n",
       "      <td>7</td>\n",
       "      <td>M</td>\n",
       "      <td>35</td>\n",
       "      <td>1</td>\n",
       "      <td>06810</td>\n",
       "    </tr>\n",
       "    <tr>\n",
       "      <th>7</th>\n",
       "      <td>8</td>\n",
       "      <td>M</td>\n",
       "      <td>25</td>\n",
       "      <td>12</td>\n",
       "      <td>11413</td>\n",
       "    </tr>\n",
       "    <tr>\n",
       "      <th>8</th>\n",
       "      <td>9</td>\n",
       "      <td>M</td>\n",
       "      <td>25</td>\n",
       "      <td>17</td>\n",
       "      <td>61614</td>\n",
       "    </tr>\n",
       "    <tr>\n",
       "      <th>9</th>\n",
       "      <td>10</td>\n",
       "      <td>F</td>\n",
       "      <td>35</td>\n",
       "      <td>1</td>\n",
       "      <td>95370</td>\n",
       "    </tr>\n",
       "  </tbody>\n",
       "</table>\n",
       "</div>"
      ],
      "text/plain": [
       "   UserID Gender  Age  Occupation Zip-code\n",
       "0       1      F    1          10    48067\n",
       "1       2      M   56          16    70072\n",
       "2       3      M   25          15    55117\n",
       "3       4      M   45           7    02460\n",
       "4       5      M   25          20    55455\n",
       "5       6      F   50           9    55117\n",
       "6       7      M   35           1    06810\n",
       "7       8      M   25          12    11413\n",
       "8       9      M   25          17    61614\n",
       "9      10      F   35           1    95370"
      ]
     },
     "execution_count": 392,
     "metadata": {},
     "output_type": "execute_result"
    }
   ],
   "source": [
    "# users.dat 파일 불러오기 \n",
    "# 각 데이터가 :: 를 기준으로 나눠져 있기 때문에, sep='::'로 주어야 표에 잘 나타납니다. \n",
    "\n",
    "users = pd.read_csv(users_flie, sep='::', names= users_col,  engine='python')      \n",
    "users.head(10)\n"
   ]
  },
  {
   "cell_type": "markdown",
   "id": "96ca559c",
   "metadata": {},
   "source": [
    "* pandas를 이용해 각 파일의 내용을 확인 해 볼 수 있었습니다. \n",
    "* (전처리 과정에선 노드에 있던 코드를 이용하겠습니다.) "
   ]
  },
  {
   "cell_type": "markdown",
   "id": "0180953d",
   "metadata": {},
   "source": [
    "\n",
    "\n",
    "\n",
    "---\n",
    "\n",
    "\n"
   ]
  },
  {
   "cell_type": "markdown",
   "id": "734a0fa5",
   "metadata": {},
   "source": [
    "# 3. 데이터 전처리 및 분석, 추가 \n",
    "\n",
    "\n",
    "* Movielens 데이터는 rating.dat 안에 이미 인덱싱까지 완료된 사용자-영화-평점 데이터가 깔끔하게 정리되어 있습니다.\n",
    "\n",
    "* 데이터 전처리 과정을 따라가 봅시다. \n",
    "* 데이터를 조건에 맞게 분석 해 보고, 내가 선호하는 영화 5가지를 골라 rating에 추가합니다. "
   ]
  },
  {
   "cell_type": "markdown",
   "id": "67a99661",
   "metadata": {},
   "source": [
    "## &nbsp;&nbsp; 3-1 데이터 전처리 \n",
    "\n",
    "* 노드상의 데이터 전처리 방법을 따라가면서, 데이터를 전처리 해 줍니다. "
   ]
  },
  {
   "cell_type": "markdown",
   "id": "782a9dd9",
   "metadata": {},
   "source": [
    "\n",
    "\n"
   ]
  },
  {
   "cell_type": "code",
   "execution_count": 393,
   "id": "bf523288",
   "metadata": {},
   "outputs": [
    {
     "data": {
      "text/html": [
       "<div>\n",
       "<style scoped>\n",
       "    .dataframe tbody tr th:only-of-type {\n",
       "        vertical-align: middle;\n",
       "    }\n",
       "\n",
       "    .dataframe tbody tr th {\n",
       "        vertical-align: top;\n",
       "    }\n",
       "\n",
       "    .dataframe thead th {\n",
       "        text-align: right;\n",
       "    }\n",
       "</style>\n",
       "<table border=\"1\" class=\"dataframe\">\n",
       "  <thead>\n",
       "    <tr style=\"text-align: right;\">\n",
       "      <th></th>\n",
       "      <th>user_id</th>\n",
       "      <th>movie_id</th>\n",
       "      <th>ratings</th>\n",
       "      <th>timestamp</th>\n",
       "    </tr>\n",
       "  </thead>\n",
       "  <tbody>\n",
       "    <tr>\n",
       "      <th>0</th>\n",
       "      <td>1</td>\n",
       "      <td>1193</td>\n",
       "      <td>5</td>\n",
       "      <td>978300760</td>\n",
       "    </tr>\n",
       "    <tr>\n",
       "      <th>1</th>\n",
       "      <td>1</td>\n",
       "      <td>661</td>\n",
       "      <td>3</td>\n",
       "      <td>978302109</td>\n",
       "    </tr>\n",
       "    <tr>\n",
       "      <th>2</th>\n",
       "      <td>1</td>\n",
       "      <td>914</td>\n",
       "      <td>3</td>\n",
       "      <td>978301968</td>\n",
       "    </tr>\n",
       "    <tr>\n",
       "      <th>3</th>\n",
       "      <td>1</td>\n",
       "      <td>3408</td>\n",
       "      <td>4</td>\n",
       "      <td>978300275</td>\n",
       "    </tr>\n",
       "    <tr>\n",
       "      <th>4</th>\n",
       "      <td>1</td>\n",
       "      <td>2355</td>\n",
       "      <td>5</td>\n",
       "      <td>978824291</td>\n",
       "    </tr>\n",
       "  </tbody>\n",
       "</table>\n",
       "</div>"
      ],
      "text/plain": [
       "   user_id  movie_id  ratings  timestamp\n",
       "0        1      1193        5  978300760\n",
       "1        1       661        3  978302109\n",
       "2        1       914        3  978301968\n",
       "3        1      3408        4  978300275\n",
       "4        1      2355        5  978824291"
      ]
     },
     "execution_count": 393,
     "metadata": {},
     "output_type": "execute_result"
    }
   ],
   "source": [
    "#ratings.dat 파일 불러오기  \n",
    "\n",
    "rating_file_path=os.getenv('HOME') + '/aiffel/recommendata_iu/data/ml-1m/ratings.dat'\n",
    "ratings_cols = ['user_id', 'movie_id', 'ratings', 'timestamp']\n",
    "ratings = pd.read_csv(rating_file_path, sep='::', names=ratings_cols, engine='python', encoding = \"ISO-8859-1\")\n",
    "orginal_data_size = len(ratings)\n",
    "ratings.head()"
   ]
  },
  {
   "cell_type": "markdown",
   "id": "2a375177",
   "metadata": {},
   "source": [
    "\n",
    "\n"
   ]
  },
  {
   "cell_type": "code",
   "execution_count": 394,
   "id": "b672521a",
   "metadata": {},
   "outputs": [
    {
     "name": "stdout",
     "output_type": "stream",
     "text": [
      "orginal_data_size: 1000209, filtered_data_size: 836478\n",
      "Ratio of Remaining Data is 83.63%\n"
     ]
    }
   ],
   "source": [
    "# 3점 이상만 남깁니다.\n",
    "ratings = ratings[ratings['ratings']>=3]\n",
    "filtered_data_size = len(ratings)\n",
    "\n",
    "print(f'orginal_data_size: {orginal_data_size}, filtered_data_size: {filtered_data_size}')\n",
    "print(f'Ratio of Remaining Data is {filtered_data_size / orginal_data_size:.2%}')"
   ]
  },
  {
   "cell_type": "markdown",
   "id": "7c10c8ee",
   "metadata": {},
   "source": [
    "\n",
    "\n"
   ]
  },
  {
   "cell_type": "code",
   "execution_count": 395,
   "id": "45200fc8",
   "metadata": {},
   "outputs": [],
   "source": [
    "# 불필요한 timestamp 를 없앱니다. \n",
    "del ratings['timestamp']"
   ]
  },
  {
   "cell_type": "markdown",
   "id": "81df2d8b",
   "metadata": {},
   "source": [
    "\n",
    "\n"
   ]
  },
  {
   "cell_type": "code",
   "execution_count": 396,
   "id": "48687c83",
   "metadata": {},
   "outputs": [],
   "source": [
    "# ratings 컬럼의 이름을 counts로 바꿉니다.\n",
    "ratings.rename(columns={'ratings':'counts'}, inplace=True)"
   ]
  },
  {
   "cell_type": "markdown",
   "id": "26538865",
   "metadata": {},
   "source": [
    "\n",
    "\n"
   ]
  },
  {
   "cell_type": "code",
   "execution_count": 397,
   "id": "d3818d08",
   "metadata": {},
   "outputs": [
    {
     "data": {
      "text/plain": [
       "0          5\n",
       "1          3\n",
       "2          3\n",
       "3          4\n",
       "4          5\n",
       "          ..\n",
       "1000203    3\n",
       "1000205    5\n",
       "1000206    5\n",
       "1000207    4\n",
       "1000208    4\n",
       "Name: counts, Length: 836478, dtype: int64"
      ]
     },
     "execution_count": 397,
     "metadata": {},
     "output_type": "execute_result"
    }
   ],
   "source": [
    "ratings['counts']"
   ]
  },
  {
   "cell_type": "markdown",
   "id": "bad167a0",
   "metadata": {},
   "source": [
    "\n",
    "\n",
    "\n"
   ]
  },
  {
   "cell_type": "code",
   "execution_count": 398,
   "id": "bfa617c0",
   "metadata": {},
   "outputs": [
    {
     "data": {
      "text/html": [
       "<div>\n",
       "<style scoped>\n",
       "    .dataframe tbody tr th:only-of-type {\n",
       "        vertical-align: middle;\n",
       "    }\n",
       "\n",
       "    .dataframe tbody tr th {\n",
       "        vertical-align: top;\n",
       "    }\n",
       "\n",
       "    .dataframe thead th {\n",
       "        text-align: right;\n",
       "    }\n",
       "</style>\n",
       "<table border=\"1\" class=\"dataframe\">\n",
       "  <thead>\n",
       "    <tr style=\"text-align: right;\">\n",
       "      <th></th>\n",
       "      <th>movie_id</th>\n",
       "      <th>title</th>\n",
       "      <th>genre</th>\n",
       "    </tr>\n",
       "  </thead>\n",
       "  <tbody>\n",
       "    <tr>\n",
       "      <th>0</th>\n",
       "      <td>1</td>\n",
       "      <td>Toy Story (1995)</td>\n",
       "      <td>Animation|Children's|Comedy</td>\n",
       "    </tr>\n",
       "    <tr>\n",
       "      <th>1</th>\n",
       "      <td>2</td>\n",
       "      <td>Jumanji (1995)</td>\n",
       "      <td>Adventure|Children's|Fantasy</td>\n",
       "    </tr>\n",
       "    <tr>\n",
       "      <th>2</th>\n",
       "      <td>3</td>\n",
       "      <td>Grumpier Old Men (1995)</td>\n",
       "      <td>Comedy|Romance</td>\n",
       "    </tr>\n",
       "    <tr>\n",
       "      <th>3</th>\n",
       "      <td>4</td>\n",
       "      <td>Waiting to Exhale (1995)</td>\n",
       "      <td>Comedy|Drama</td>\n",
       "    </tr>\n",
       "    <tr>\n",
       "      <th>4</th>\n",
       "      <td>5</td>\n",
       "      <td>Father of the Bride Part II (1995)</td>\n",
       "      <td>Comedy</td>\n",
       "    </tr>\n",
       "    <tr>\n",
       "      <th>5</th>\n",
       "      <td>6</td>\n",
       "      <td>Heat (1995)</td>\n",
       "      <td>Action|Crime|Thriller</td>\n",
       "    </tr>\n",
       "    <tr>\n",
       "      <th>6</th>\n",
       "      <td>7</td>\n",
       "      <td>Sabrina (1995)</td>\n",
       "      <td>Comedy|Romance</td>\n",
       "    </tr>\n",
       "    <tr>\n",
       "      <th>7</th>\n",
       "      <td>8</td>\n",
       "      <td>Tom and Huck (1995)</td>\n",
       "      <td>Adventure|Children's</td>\n",
       "    </tr>\n",
       "    <tr>\n",
       "      <th>8</th>\n",
       "      <td>9</td>\n",
       "      <td>Sudden Death (1995)</td>\n",
       "      <td>Action</td>\n",
       "    </tr>\n",
       "    <tr>\n",
       "      <th>9</th>\n",
       "      <td>10</td>\n",
       "      <td>GoldenEye (1995)</td>\n",
       "      <td>Action|Adventure|Thriller</td>\n",
       "    </tr>\n",
       "  </tbody>\n",
       "</table>\n",
       "</div>"
      ],
      "text/plain": [
       "   movie_id                               title                         genre\n",
       "0         1                    Toy Story (1995)   Animation|Children's|Comedy\n",
       "1         2                      Jumanji (1995)  Adventure|Children's|Fantasy\n",
       "2         3             Grumpier Old Men (1995)                Comedy|Romance\n",
       "3         4            Waiting to Exhale (1995)                  Comedy|Drama\n",
       "4         5  Father of the Bride Part II (1995)                        Comedy\n",
       "5         6                         Heat (1995)         Action|Crime|Thriller\n",
       "6         7                      Sabrina (1995)                Comedy|Romance\n",
       "7         8                 Tom and Huck (1995)          Adventure|Children's\n",
       "8         9                 Sudden Death (1995)                        Action\n",
       "9        10                    GoldenEye (1995)     Action|Adventure|Thriller"
      ]
     },
     "execution_count": 398,
     "metadata": {},
     "output_type": "execute_result"
    }
   ],
   "source": [
    "# 영화 제목을 보기 위해 메타 데이터를 읽어옵니다.\n",
    "movie_file_path=os.getenv('HOME') + '/aiffel/recommendata_iu/data/ml-1m/movies.dat'\n",
    "cols = ['movie_id', 'title', 'genre'] \n",
    "movies = pd.read_csv(movie_file_path, sep='::', names=cols, engine='python', encoding='ISO-8859-1')\n",
    "movies.head(10)"
   ]
  },
  {
   "cell_type": "markdown",
   "id": "749c3a0e",
   "metadata": {},
   "source": [
    "\n",
    "\n"
   ]
  },
  {
   "cell_type": "code",
   "execution_count": 399,
   "id": "ffb92304",
   "metadata": {},
   "outputs": [
    {
     "data": {
      "text/html": [
       "<div>\n",
       "<style scoped>\n",
       "    .dataframe tbody tr th:only-of-type {\n",
       "        vertical-align: middle;\n",
       "    }\n",
       "\n",
       "    .dataframe tbody tr th {\n",
       "        vertical-align: top;\n",
       "    }\n",
       "\n",
       "    .dataframe thead th {\n",
       "        text-align: right;\n",
       "    }\n",
       "</style>\n",
       "<table border=\"1\" class=\"dataframe\">\n",
       "  <thead>\n",
       "    <tr style=\"text-align: right;\">\n",
       "      <th></th>\n",
       "      <th>movie_id</th>\n",
       "      <th>title</th>\n",
       "      <th>genre</th>\n",
       "    </tr>\n",
       "  </thead>\n",
       "  <tbody>\n",
       "    <tr>\n",
       "      <th>0</th>\n",
       "      <td>1</td>\n",
       "      <td>toy story (1995)</td>\n",
       "      <td>Animation|Children's|Comedy</td>\n",
       "    </tr>\n",
       "    <tr>\n",
       "      <th>1</th>\n",
       "      <td>2</td>\n",
       "      <td>jumanji (1995)</td>\n",
       "      <td>Adventure|Children's|Fantasy</td>\n",
       "    </tr>\n",
       "    <tr>\n",
       "      <th>2</th>\n",
       "      <td>3</td>\n",
       "      <td>grumpier old men (1995)</td>\n",
       "      <td>Comedy|Romance</td>\n",
       "    </tr>\n",
       "    <tr>\n",
       "      <th>3</th>\n",
       "      <td>4</td>\n",
       "      <td>waiting to exhale (1995)</td>\n",
       "      <td>Comedy|Drama</td>\n",
       "    </tr>\n",
       "    <tr>\n",
       "      <th>4</th>\n",
       "      <td>5</td>\n",
       "      <td>father of the bride part ii (1995)</td>\n",
       "      <td>Comedy</td>\n",
       "    </tr>\n",
       "  </tbody>\n",
       "</table>\n",
       "</div>"
      ],
      "text/plain": [
       "   movie_id                               title                         genre\n",
       "0         1                    toy story (1995)   Animation|Children's|Comedy\n",
       "1         2                      jumanji (1995)  Adventure|Children's|Fantasy\n",
       "2         3             grumpier old men (1995)                Comedy|Romance\n",
       "3         4            waiting to exhale (1995)                  Comedy|Drama\n",
       "4         5  father of the bride part ii (1995)                        Comedy"
      ]
     },
     "execution_count": 399,
     "metadata": {},
     "output_type": "execute_result"
    }
   ],
   "source": [
    "# 용이한 검색을 위해 제목 문자열을 소문자로 바꿔줍니다.\n",
    "movies['title'] = movies['title'].str.lower()\n",
    "movies.head()"
   ]
  },
  {
   "cell_type": "markdown",
   "id": "3688c2bf",
   "metadata": {},
   "source": [
    "\n",
    "\n"
   ]
  },
  {
   "cell_type": "markdown",
   "id": "119ee73b",
   "metadata": {},
   "source": [
    "# &nbsp;&nbsp; 3-2 내가 선호하는 영화 5가지 추가해보기 \n",
    "\n",
    "\n",
    "* 영화 제목과 장르를 ratings에 합쳐주기 전에 내 정보를 추가해 봅시다. \n",
    "* 우선, 영화 제목에 원하는 영화가 있는지 검색해 보겠습니다. \n",
    "* 그 다음, user_id를 만들어, ratings에 추가해 주겠습니다. "
   ]
  },
  {
   "cell_type": "markdown",
   "id": "6c4a0e1d",
   "metadata": {},
   "source": [
    "### &nbsp;&nbsp;&nbsp;&nbsp; 3-2-1 Movies 에서 영화 찾아보기!\n",
    "\n",
    "* 선호 영화가 데이터셋에 있는지 검색 해 봅시다. \n",
    "* `.str.contains` 를 사용해서 출력해보겠습니다. "
   ]
  },
  {
   "cell_type": "code",
   "execution_count": 400,
   "id": "e1d697bd",
   "metadata": {},
   "outputs": [
    {
     "data": {
      "text/html": [
       "<div>\n",
       "<style scoped>\n",
       "    .dataframe tbody tr th:only-of-type {\n",
       "        vertical-align: middle;\n",
       "    }\n",
       "\n",
       "    .dataframe tbody tr th {\n",
       "        vertical-align: top;\n",
       "    }\n",
       "\n",
       "    .dataframe thead th {\n",
       "        text-align: right;\n",
       "    }\n",
       "</style>\n",
       "<table border=\"1\" class=\"dataframe\">\n",
       "  <thead>\n",
       "    <tr style=\"text-align: right;\">\n",
       "      <th></th>\n",
       "      <th>movie_id</th>\n",
       "      <th>title</th>\n",
       "      <th>genre</th>\n",
       "    </tr>\n",
       "  </thead>\n",
       "  <tbody>\n",
       "    <tr>\n",
       "      <th>2166</th>\n",
       "      <td>2235</td>\n",
       "      <td>one man's hero (1999)</td>\n",
       "      <td>Drama|War</td>\n",
       "    </tr>\n",
       "    <tr>\n",
       "      <th>2367</th>\n",
       "      <td>2436</td>\n",
       "      <td>tea with mussolini (1999)</td>\n",
       "      <td>Comedy</td>\n",
       "    </tr>\n",
       "    <tr>\n",
       "      <th>2376</th>\n",
       "      <td>2445</td>\n",
       "      <td>at first sight (1999)</td>\n",
       "      <td>Drama</td>\n",
       "    </tr>\n",
       "    <tr>\n",
       "      <th>2377</th>\n",
       "      <td>2446</td>\n",
       "      <td>in dreams (1999)</td>\n",
       "      <td>Thriller</td>\n",
       "    </tr>\n",
       "    <tr>\n",
       "      <th>2378</th>\n",
       "      <td>2447</td>\n",
       "      <td>varsity blues (1999)</td>\n",
       "      <td>Comedy|Drama</td>\n",
       "    </tr>\n",
       "    <tr>\n",
       "      <th>...</th>\n",
       "      <td>...</td>\n",
       "      <td>...</td>\n",
       "      <td>...</td>\n",
       "    </tr>\n",
       "    <tr>\n",
       "      <th>3797</th>\n",
       "      <td>3867</td>\n",
       "      <td>all the rage (a.k.a. it's the rage) (1999)</td>\n",
       "      <td>Drama</td>\n",
       "    </tr>\n",
       "    <tr>\n",
       "      <th>3824</th>\n",
       "      <td>3894</td>\n",
       "      <td>solas (1999)</td>\n",
       "      <td>Drama</td>\n",
       "    </tr>\n",
       "    <tr>\n",
       "      <th>3832</th>\n",
       "      <td>3902</td>\n",
       "      <td>goya in bordeaux (goya en bodeos) (1999)</td>\n",
       "      <td>Drama</td>\n",
       "    </tr>\n",
       "    <tr>\n",
       "      <th>3837</th>\n",
       "      <td>3907</td>\n",
       "      <td>prince of central park, the (1999)</td>\n",
       "      <td>Drama</td>\n",
       "    </tr>\n",
       "    <tr>\n",
       "      <th>3843</th>\n",
       "      <td>3913</td>\n",
       "      <td>barenaked in america (1999)</td>\n",
       "      <td>Documentary</td>\n",
       "    </tr>\n",
       "  </tbody>\n",
       "</table>\n",
       "<p>283 rows × 3 columns</p>\n",
       "</div>"
      ],
      "text/plain": [
       "      movie_id                                       title         genre\n",
       "2166      2235                       one man's hero (1999)     Drama|War\n",
       "2367      2436                   tea with mussolini (1999)        Comedy\n",
       "2376      2445                       at first sight (1999)         Drama\n",
       "2377      2446                            in dreams (1999)      Thriller\n",
       "2378      2447                        varsity blues (1999)  Comedy|Drama\n",
       "...        ...                                         ...           ...\n",
       "3797      3867  all the rage (a.k.a. it's the rage) (1999)         Drama\n",
       "3824      3894                                solas (1999)         Drama\n",
       "3832      3902    goya in bordeaux (goya en bodeos) (1999)         Drama\n",
       "3837      3907          prince of central park, the (1999)         Drama\n",
       "3843      3913                 barenaked in america (1999)   Documentary\n",
       "\n",
       "[283 rows x 3 columns]"
      ]
     },
     "execution_count": 400,
     "metadata": {},
     "output_type": "execute_result"
    }
   ],
   "source": [
    "# 특정 년도의 영화를 찾아볼까요? \n",
    "# 2000 년대 이후의 영화는 없나봅니다 ㅎㅎ.. \n",
    "movies[movies['title'].str.contains('\\(1999\\)')]"
   ]
  },
  {
   "cell_type": "markdown",
   "id": "204c6a39",
   "metadata": {},
   "source": [
    "\n",
    "\n"
   ]
  },
  {
   "cell_type": "code",
   "execution_count": 401,
   "id": "2198b0da",
   "metadata": {},
   "outputs": [
    {
     "data": {
      "text/html": [
       "<div>\n",
       "<style scoped>\n",
       "    .dataframe tbody tr th:only-of-type {\n",
       "        vertical-align: middle;\n",
       "    }\n",
       "\n",
       "    .dataframe tbody tr th {\n",
       "        vertical-align: top;\n",
       "    }\n",
       "\n",
       "    .dataframe thead th {\n",
       "        text-align: right;\n",
       "    }\n",
       "</style>\n",
       "<table border=\"1\" class=\"dataframe\">\n",
       "  <thead>\n",
       "    <tr style=\"text-align: right;\">\n",
       "      <th></th>\n",
       "      <th>movie_id</th>\n",
       "      <th>title</th>\n",
       "      <th>genre</th>\n",
       "    </tr>\n",
       "  </thead>\n",
       "  <tbody>\n",
       "    <tr>\n",
       "      <th>358</th>\n",
       "      <td>362</td>\n",
       "      <td>jungle book, the (1994)</td>\n",
       "      <td>Adventure|Children's|Romance</td>\n",
       "    </tr>\n",
       "    <tr>\n",
       "      <th>1500</th>\n",
       "      <td>1538</td>\n",
       "      <td>second jungle book: mowgli &amp; baloo, the (1997)</td>\n",
       "      <td>Adventure|Children's</td>\n",
       "    </tr>\n",
       "    <tr>\n",
       "      <th>2009</th>\n",
       "      <td>2078</td>\n",
       "      <td>jungle book, the (1967)</td>\n",
       "      <td>Animation|Children's|Comedy|Musical</td>\n",
       "    </tr>\n",
       "  </tbody>\n",
       "</table>\n",
       "</div>"
      ],
      "text/plain": [
       "      movie_id                                           title  \\\n",
       "358        362                         jungle book, the (1994)   \n",
       "1500      1538  second jungle book: mowgli & baloo, the (1997)   \n",
       "2009      2078                         jungle book, the (1967)   \n",
       "\n",
       "                                    genre  \n",
       "358          Adventure|Children's|Romance  \n",
       "1500                 Adventure|Children's  \n",
       "2009  Animation|Children's|Comedy|Musical  "
      ]
     },
     "execution_count": 401,
     "metadata": {},
     "output_type": "execute_result"
    }
   ],
   "source": [
    "# 검색 조건에 영화 제목 말고도 장르도 함께 붙여 출력해봤습니다. \n",
    "# & = and \n",
    "\n",
    "movies[movies['title'].str.contains('jungle book')]"
   ]
  },
  {
   "cell_type": "code",
   "execution_count": 402,
   "id": "4f5c0236",
   "metadata": {},
   "outputs": [
    {
     "data": {
      "text/html": [
       "<div>\n",
       "<style scoped>\n",
       "    .dataframe tbody tr th:only-of-type {\n",
       "        vertical-align: middle;\n",
       "    }\n",
       "\n",
       "    .dataframe tbody tr th {\n",
       "        vertical-align: top;\n",
       "    }\n",
       "\n",
       "    .dataframe thead th {\n",
       "        text-align: right;\n",
       "    }\n",
       "</style>\n",
       "<table border=\"1\" class=\"dataframe\">\n",
       "  <thead>\n",
       "    <tr style=\"text-align: right;\">\n",
       "      <th></th>\n",
       "      <th>movie_id</th>\n",
       "      <th>title</th>\n",
       "      <th>genre</th>\n",
       "    </tr>\n",
       "  </thead>\n",
       "  <tbody>\n",
       "    <tr>\n",
       "      <th>1019</th>\n",
       "      <td>1032</td>\n",
       "      <td>alice in wonderland (1951)</td>\n",
       "      <td>Animation|Children's|Musical</td>\n",
       "    </tr>\n",
       "  </tbody>\n",
       "</table>\n",
       "</div>"
      ],
      "text/plain": [
       "      movie_id                       title                         genre\n",
       "1019      1032  alice in wonderland (1951)  Animation|Children's|Musical"
      ]
     },
     "execution_count": 402,
     "metadata": {},
     "output_type": "execute_result"
    }
   ],
   "source": [
    "movies[movies['title'].str.contains('alice') & movies['genre'].str.contains('Animation') ]"
   ]
  },
  {
   "cell_type": "markdown",
   "id": "5ca1dad6",
   "metadata": {},
   "source": [
    " \n",
    " \n",
    " "
   ]
  },
  {
   "cell_type": "code",
   "execution_count": 403,
   "id": "83fe8467",
   "metadata": {},
   "outputs": [
    {
     "data": {
      "text/html": [
       "<div>\n",
       "<style scoped>\n",
       "    .dataframe tbody tr th:only-of-type {\n",
       "        vertical-align: middle;\n",
       "    }\n",
       "\n",
       "    .dataframe tbody tr th {\n",
       "        vertical-align: top;\n",
       "    }\n",
       "\n",
       "    .dataframe thead th {\n",
       "        text-align: right;\n",
       "    }\n",
       "</style>\n",
       "<table border=\"1\" class=\"dataframe\">\n",
       "  <thead>\n",
       "    <tr style=\"text-align: right;\">\n",
       "      <th></th>\n",
       "      <th>movie_id</th>\n",
       "      <th>title</th>\n",
       "      <th>genre</th>\n",
       "    </tr>\n",
       "  </thead>\n",
       "  <tbody>\n",
       "    <tr>\n",
       "      <th>582</th>\n",
       "      <td>586</td>\n",
       "      <td>home alone (1990)</td>\n",
       "      <td>Children's|Comedy</td>\n",
       "    </tr>\n",
       "    <tr>\n",
       "      <th>1659</th>\n",
       "      <td>1707</td>\n",
       "      <td>home alone 3 (1997)</td>\n",
       "      <td>Children's|Comedy</td>\n",
       "    </tr>\n",
       "    <tr>\n",
       "      <th>2884</th>\n",
       "      <td>2953</td>\n",
       "      <td>home alone 2: lost in new york (1992)</td>\n",
       "      <td>Children's|Comedy</td>\n",
       "    </tr>\n",
       "  </tbody>\n",
       "</table>\n",
       "</div>"
      ],
      "text/plain": [
       "      movie_id                                  title              genre\n",
       "582        586                      home alone (1990)  Children's|Comedy\n",
       "1659      1707                    home alone 3 (1997)  Children's|Comedy\n",
       "2884      2953  home alone 2: lost in new york (1992)  Children's|Comedy"
      ]
     },
     "execution_count": 403,
     "metadata": {},
     "output_type": "execute_result"
    }
   ],
   "source": [
    "movies[movies['title'].str.contains('home alone') ]"
   ]
  },
  {
   "cell_type": "markdown",
   "id": "43845d60",
   "metadata": {},
   "source": [
    "\n",
    "\n"
   ]
  },
  {
   "cell_type": "code",
   "execution_count": 404,
   "id": "a3d5b2dd",
   "metadata": {
    "scrolled": true
   },
   "outputs": [
    {
     "data": {
      "text/html": [
       "<div>\n",
       "<style scoped>\n",
       "    .dataframe tbody tr th:only-of-type {\n",
       "        vertical-align: middle;\n",
       "    }\n",
       "\n",
       "    .dataframe tbody tr th {\n",
       "        vertical-align: top;\n",
       "    }\n",
       "\n",
       "    .dataframe thead th {\n",
       "        text-align: right;\n",
       "    }\n",
       "</style>\n",
       "<table border=\"1\" class=\"dataframe\">\n",
       "  <thead>\n",
       "    <tr style=\"text-align: right;\">\n",
       "      <th></th>\n",
       "      <th>movie_id</th>\n",
       "      <th>title</th>\n",
       "      <th>genre</th>\n",
       "    </tr>\n",
       "  </thead>\n",
       "  <tbody>\n",
       "    <tr>\n",
       "      <th>3178</th>\n",
       "      <td>3247</td>\n",
       "      <td>sister act (1992)</td>\n",
       "      <td>Comedy|Crime</td>\n",
       "    </tr>\n",
       "    <tr>\n",
       "      <th>3179</th>\n",
       "      <td>3248</td>\n",
       "      <td>sister act 2: back in the habit (1993)</td>\n",
       "      <td>Comedy</td>\n",
       "    </tr>\n",
       "  </tbody>\n",
       "</table>\n",
       "</div>"
      ],
      "text/plain": [
       "      movie_id                                   title         genre\n",
       "3178      3247                       sister act (1992)  Comedy|Crime\n",
       "3179      3248  sister act 2: back in the habit (1993)        Comedy"
      ]
     },
     "execution_count": 404,
     "metadata": {},
     "output_type": "execute_result"
    }
   ],
   "source": [
    "movies[movies['title'].str.contains('sister act') ]"
   ]
  },
  {
   "cell_type": "markdown",
   "id": "fb2dd612",
   "metadata": {},
   "source": [
    "\n",
    "\n"
   ]
  },
  {
   "cell_type": "markdown",
   "id": "fee8e521",
   "metadata": {},
   "source": [
    "\n",
    "\n"
   ]
  },
  {
   "cell_type": "markdown",
   "id": "d8d9dad7",
   "metadata": {},
   "source": [
    "### &nbsp;&nbsp;&nbsp;&nbsp; 3-2-2 사용자 초기 정보 셋팅!\n",
    "\n",
    "\n",
    "* movie 검색을 통해 원하는 선호하는 영화 5개를 찾았습니다. \n",
    "* user_id와 영화 리스트를 ratings에 추가해 주겠습니다. \n",
    "* 값을 넣어 추가 해야 할 컬럼은 `user_id, movie_id, counts` 입니다.\n"
   ]
  },
  {
   "cell_type": "code",
   "execution_count": 405,
   "id": "cc9dcbcb",
   "metadata": {},
   "outputs": [
    {
     "data": {
      "text/html": [
       "<div>\n",
       "<style scoped>\n",
       "    .dataframe tbody tr th:only-of-type {\n",
       "        vertical-align: middle;\n",
       "    }\n",
       "\n",
       "    .dataframe tbody tr th {\n",
       "        vertical-align: top;\n",
       "    }\n",
       "\n",
       "    .dataframe thead th {\n",
       "        text-align: right;\n",
       "    }\n",
       "</style>\n",
       "<table border=\"1\" class=\"dataframe\">\n",
       "  <thead>\n",
       "    <tr style=\"text-align: right;\">\n",
       "      <th></th>\n",
       "      <th>user_id</th>\n",
       "      <th>movie_id</th>\n",
       "      <th>counts</th>\n",
       "    </tr>\n",
       "  </thead>\n",
       "  <tbody>\n",
       "    <tr>\n",
       "      <th>1000203</th>\n",
       "      <td>6040</td>\n",
       "      <td>1090</td>\n",
       "      <td>3.0</td>\n",
       "    </tr>\n",
       "    <tr>\n",
       "      <th>1000205</th>\n",
       "      <td>6040</td>\n",
       "      <td>1094</td>\n",
       "      <td>5.0</td>\n",
       "    </tr>\n",
       "    <tr>\n",
       "      <th>1000206</th>\n",
       "      <td>6040</td>\n",
       "      <td>562</td>\n",
       "      <td>5.0</td>\n",
       "    </tr>\n",
       "    <tr>\n",
       "      <th>1000207</th>\n",
       "      <td>6040</td>\n",
       "      <td>1096</td>\n",
       "      <td>4.0</td>\n",
       "    </tr>\n",
       "    <tr>\n",
       "      <th>1000208</th>\n",
       "      <td>6040</td>\n",
       "      <td>1097</td>\n",
       "      <td>4.0</td>\n",
       "    </tr>\n",
       "    <tr>\n",
       "      <th>0</th>\n",
       "      <td>gy_jeong</td>\n",
       "      <td>2078</td>\n",
       "      <td>5.0</td>\n",
       "    </tr>\n",
       "    <tr>\n",
       "      <th>1</th>\n",
       "      <td>gy_jeong</td>\n",
       "      <td>586</td>\n",
       "      <td>5.0</td>\n",
       "    </tr>\n",
       "    <tr>\n",
       "      <th>2</th>\n",
       "      <td>gy_jeong</td>\n",
       "      <td>1032</td>\n",
       "      <td>5.0</td>\n",
       "    </tr>\n",
       "    <tr>\n",
       "      <th>3</th>\n",
       "      <td>gy_jeong</td>\n",
       "      <td>3247</td>\n",
       "      <td>5.0</td>\n",
       "    </tr>\n",
       "    <tr>\n",
       "      <th>4</th>\n",
       "      <td>gy_jeong</td>\n",
       "      <td>3248</td>\n",
       "      <td>5.0</td>\n",
       "    </tr>\n",
       "  </tbody>\n",
       "</table>\n",
       "</div>"
      ],
      "text/plain": [
       "          user_id  movie_id  counts\n",
       "1000203      6040      1090     3.0\n",
       "1000205      6040      1094     5.0\n",
       "1000206      6040       562     5.0\n",
       "1000207      6040      1096     4.0\n",
       "1000208      6040      1097     4.0\n",
       "0        gy_jeong      2078     5.0\n",
       "1        gy_jeong       586     5.0\n",
       "2        gy_jeong      1032     5.0\n",
       "3        gy_jeong      3247     5.0\n",
       "4        gy_jeong      3248     5.0"
      ]
     },
     "execution_count": 405,
     "metadata": {},
     "output_type": "execute_result"
    }
   ],
   "source": [
    "# 선호하는 영화의 id를 list에 저장해 주겠습니다. \n",
    "my_movie = [ 2078, 586, 1032, 3247, 3248 ]\n",
    "\n",
    "# user_id \n",
    "# 'gy_jeong'이라는 user_id가 좋아하는 영화와, 별점 값을 지정 해 주겠습니다. \n",
    "# 별점은 전부 좋아하는 값이므로 5점을 주겠습니다(사심)\n",
    "my_list = pd.DataFrame({'user_id': ['gy_jeong']*5, 'movie_id': my_movie, 'counts':[5.0]*5})\n",
    "\n",
    "if not ratings.isin({'user_id':['gy_jeong']})['user_id'].any():  # user_id에 'gy_jeong'이라는 데이터가 없다면\n",
    "    ratings = ratings.append(my_list)                           # 위에 임의로 만든 my_list 데이터를 추가해 줍니다. \n",
    "\n",
    "ratings.tail(10)       # 잘 추가되었는지 확인해 봅시다."
   ]
  },
  {
   "cell_type": "markdown",
   "id": "1c53607a",
   "metadata": {},
   "source": [
    "\n",
    "\n"
   ]
  },
  {
   "cell_type": "code",
   "execution_count": 406,
   "id": "8ad89cf7",
   "metadata": {},
   "outputs": [
    {
     "data": {
      "text/html": [
       "<div>\n",
       "<style scoped>\n",
       "    .dataframe tbody tr th:only-of-type {\n",
       "        vertical-align: middle;\n",
       "    }\n",
       "\n",
       "    .dataframe tbody tr th {\n",
       "        vertical-align: top;\n",
       "    }\n",
       "\n",
       "    .dataframe thead th {\n",
       "        text-align: right;\n",
       "    }\n",
       "</style>\n",
       "<table border=\"1\" class=\"dataframe\">\n",
       "  <thead>\n",
       "    <tr style=\"text-align: right;\">\n",
       "      <th></th>\n",
       "      <th>user_id</th>\n",
       "      <th>movie_id</th>\n",
       "      <th>counts</th>\n",
       "      <th>title</th>\n",
       "      <th>genre</th>\n",
       "    </tr>\n",
       "  </thead>\n",
       "  <tbody>\n",
       "    <tr>\n",
       "      <th>836473</th>\n",
       "      <td>5494</td>\n",
       "      <td>3530</td>\n",
       "      <td>4.0</td>\n",
       "      <td>smoking/no smoking (1993)</td>\n",
       "      <td>Comedy</td>\n",
       "    </tr>\n",
       "    <tr>\n",
       "      <th>836474</th>\n",
       "      <td>5556</td>\n",
       "      <td>2198</td>\n",
       "      <td>3.0</td>\n",
       "      <td>modulations (1998)</td>\n",
       "      <td>Documentary</td>\n",
       "    </tr>\n",
       "    <tr>\n",
       "      <th>836475</th>\n",
       "      <td>5949</td>\n",
       "      <td>2198</td>\n",
       "      <td>5.0</td>\n",
       "      <td>modulations (1998)</td>\n",
       "      <td>Documentary</td>\n",
       "    </tr>\n",
       "    <tr>\n",
       "      <th>836476</th>\n",
       "      <td>5675</td>\n",
       "      <td>2703</td>\n",
       "      <td>3.0</td>\n",
       "      <td>broken vessels (1998)</td>\n",
       "      <td>Drama</td>\n",
       "    </tr>\n",
       "    <tr>\n",
       "      <th>836477</th>\n",
       "      <td>5717</td>\n",
       "      <td>2258</td>\n",
       "      <td>4.0</td>\n",
       "      <td>master ninja i (1984)</td>\n",
       "      <td>Action</td>\n",
       "    </tr>\n",
       "    <tr>\n",
       "      <th>836478</th>\n",
       "      <td>5851</td>\n",
       "      <td>3607</td>\n",
       "      <td>5.0</td>\n",
       "      <td>one little indian (1973)</td>\n",
       "      <td>Comedy|Drama|Western</td>\n",
       "    </tr>\n",
       "    <tr>\n",
       "      <th>836479</th>\n",
       "      <td>5854</td>\n",
       "      <td>3026</td>\n",
       "      <td>4.0</td>\n",
       "      <td>slaughterhouse (1987)</td>\n",
       "      <td>Horror</td>\n",
       "    </tr>\n",
       "    <tr>\n",
       "      <th>836480</th>\n",
       "      <td>5854</td>\n",
       "      <td>690</td>\n",
       "      <td>3.0</td>\n",
       "      <td>promise, the (versprechen, das) (1994)</td>\n",
       "      <td>Romance</td>\n",
       "    </tr>\n",
       "    <tr>\n",
       "      <th>836481</th>\n",
       "      <td>5938</td>\n",
       "      <td>2909</td>\n",
       "      <td>4.0</td>\n",
       "      <td>five wives, three secretaries and me (1998)</td>\n",
       "      <td>Documentary</td>\n",
       "    </tr>\n",
       "    <tr>\n",
       "      <th>836482</th>\n",
       "      <td>5948</td>\n",
       "      <td>1360</td>\n",
       "      <td>5.0</td>\n",
       "      <td>identification of a woman (identificazione di ...</td>\n",
       "      <td>Drama</td>\n",
       "    </tr>\n",
       "  </tbody>\n",
       "</table>\n",
       "</div>"
      ],
      "text/plain": [
       "       user_id  movie_id  counts  \\\n",
       "836473    5494      3530     4.0   \n",
       "836474    5556      2198     3.0   \n",
       "836475    5949      2198     5.0   \n",
       "836476    5675      2703     3.0   \n",
       "836477    5717      2258     4.0   \n",
       "836478    5851      3607     5.0   \n",
       "836479    5854      3026     4.0   \n",
       "836480    5854       690     3.0   \n",
       "836481    5938      2909     4.0   \n",
       "836482    5948      1360     5.0   \n",
       "\n",
       "                                                    title  \\\n",
       "836473                          smoking/no smoking (1993)   \n",
       "836474                                 modulations (1998)   \n",
       "836475                                 modulations (1998)   \n",
       "836476                              broken vessels (1998)   \n",
       "836477                              master ninja i (1984)   \n",
       "836478                           one little indian (1973)   \n",
       "836479                              slaughterhouse (1987)   \n",
       "836480             promise, the (versprechen, das) (1994)   \n",
       "836481        five wives, three secretaries and me (1998)   \n",
       "836482  identification of a woman (identificazione di ...   \n",
       "\n",
       "                       genre  \n",
       "836473                Comedy  \n",
       "836474           Documentary  \n",
       "836475           Documentary  \n",
       "836476                 Drama  \n",
       "836477                Action  \n",
       "836478  Comedy|Drama|Western  \n",
       "836479                Horror  \n",
       "836480               Romance  \n",
       "836481           Documentary  \n",
       "836482                 Drama  "
      ]
     },
     "execution_count": 406,
     "metadata": {},
     "output_type": "execute_result"
    }
   ],
   "source": [
    "# 영화 제목을 보기 위해 영화 제목과 장르가 들어있는 movies를 ratings에 추가해줍니다. \n",
    "# pandas merge() 메소드를 사용해 합쳐주겠습니다. \n",
    "\n",
    "ratings = pd.merge(ratings, movies)\n",
    "ratings.tail(10)"
   ]
  },
  {
   "cell_type": "markdown",
   "id": "09cced89",
   "metadata": {},
   "source": [
    "* id에 맞게 잘 합쳐졌나 확인 해 보겠습니다."
   ]
  },
  {
   "cell_type": "code",
   "execution_count": 407,
   "id": "38bd0752",
   "metadata": {},
   "outputs": [
    {
     "data": {
      "text/html": [
       "<div>\n",
       "<style scoped>\n",
       "    .dataframe tbody tr th:only-of-type {\n",
       "        vertical-align: middle;\n",
       "    }\n",
       "\n",
       "    .dataframe tbody tr th {\n",
       "        vertical-align: top;\n",
       "    }\n",
       "\n",
       "    .dataframe thead th {\n",
       "        text-align: right;\n",
       "    }\n",
       "</style>\n",
       "<table border=\"1\" class=\"dataframe\">\n",
       "  <thead>\n",
       "    <tr style=\"text-align: right;\">\n",
       "      <th></th>\n",
       "      <th>user_id</th>\n",
       "      <th>movie_id</th>\n",
       "      <th>counts</th>\n",
       "      <th>title</th>\n",
       "      <th>genre</th>\n",
       "    </tr>\n",
       "  </thead>\n",
       "  <tbody>\n",
       "    <tr>\n",
       "      <th>38620</th>\n",
       "      <td>1</td>\n",
       "      <td>1</td>\n",
       "      <td>5.0</td>\n",
       "      <td>toy story (1995)</td>\n",
       "      <td>Animation|Children's|Comedy</td>\n",
       "    </tr>\n",
       "    <tr>\n",
       "      <th>38621</th>\n",
       "      <td>6</td>\n",
       "      <td>1</td>\n",
       "      <td>4.0</td>\n",
       "      <td>toy story (1995)</td>\n",
       "      <td>Animation|Children's|Comedy</td>\n",
       "    </tr>\n",
       "    <tr>\n",
       "      <th>38622</th>\n",
       "      <td>8</td>\n",
       "      <td>1</td>\n",
       "      <td>4.0</td>\n",
       "      <td>toy story (1995)</td>\n",
       "      <td>Animation|Children's|Comedy</td>\n",
       "    </tr>\n",
       "    <tr>\n",
       "      <th>38623</th>\n",
       "      <td>9</td>\n",
       "      <td>1</td>\n",
       "      <td>5.0</td>\n",
       "      <td>toy story (1995)</td>\n",
       "      <td>Animation|Children's|Comedy</td>\n",
       "    </tr>\n",
       "    <tr>\n",
       "      <th>38624</th>\n",
       "      <td>10</td>\n",
       "      <td>1</td>\n",
       "      <td>5.0</td>\n",
       "      <td>toy story (1995)</td>\n",
       "      <td>Animation|Children's|Comedy</td>\n",
       "    </tr>\n",
       "  </tbody>\n",
       "</table>\n",
       "</div>"
      ],
      "text/plain": [
       "      user_id  movie_id  counts             title                        genre\n",
       "38620       1         1     5.0  toy story (1995)  Animation|Children's|Comedy\n",
       "38621       6         1     4.0  toy story (1995)  Animation|Children's|Comedy\n",
       "38622       8         1     4.0  toy story (1995)  Animation|Children's|Comedy\n",
       "38623       9         1     5.0  toy story (1995)  Animation|Children's|Comedy\n",
       "38624      10         1     5.0  toy story (1995)  Animation|Children's|Comedy"
      ]
     },
     "execution_count": 407,
     "metadata": {},
     "output_type": "execute_result"
    }
   ],
   "source": [
    "# movie_id 1 은 Toy Story (1995) 입니다. \n",
    "\n",
    "test1 = ratings[ratings['movie_id'] == 1 ]\n",
    "test1.head(5)"
   ]
  },
  {
   "cell_type": "code",
   "execution_count": 408,
   "id": "f42540ee",
   "metadata": {},
   "outputs": [
    {
     "data": {
      "text/html": [
       "<div>\n",
       "<style scoped>\n",
       "    .dataframe tbody tr th:only-of-type {\n",
       "        vertical-align: middle;\n",
       "    }\n",
       "\n",
       "    .dataframe tbody tr th {\n",
       "        vertical-align: top;\n",
       "    }\n",
       "\n",
       "    .dataframe thead th {\n",
       "        text-align: right;\n",
       "    }\n",
       "</style>\n",
       "<table border=\"1\" class=\"dataframe\">\n",
       "  <thead>\n",
       "    <tr style=\"text-align: right;\">\n",
       "      <th></th>\n",
       "      <th>user_id</th>\n",
       "      <th>movie_id</th>\n",
       "      <th>counts</th>\n",
       "      <th>title</th>\n",
       "      <th>genre</th>\n",
       "    </tr>\n",
       "  </thead>\n",
       "  <tbody>\n",
       "    <tr>\n",
       "      <th>486274</th>\n",
       "      <td>13</td>\n",
       "      <td>10</td>\n",
       "      <td>3.0</td>\n",
       "      <td>goldeneye (1995)</td>\n",
       "      <td>Action|Adventure|Thriller</td>\n",
       "    </tr>\n",
       "    <tr>\n",
       "      <th>486275</th>\n",
       "      <td>18</td>\n",
       "      <td>10</td>\n",
       "      <td>5.0</td>\n",
       "      <td>goldeneye (1995)</td>\n",
       "      <td>Action|Adventure|Thriller</td>\n",
       "    </tr>\n",
       "    <tr>\n",
       "      <th>486276</th>\n",
       "      <td>19</td>\n",
       "      <td>10</td>\n",
       "      <td>5.0</td>\n",
       "      <td>goldeneye (1995)</td>\n",
       "      <td>Action|Adventure|Thriller</td>\n",
       "    </tr>\n",
       "    <tr>\n",
       "      <th>486277</th>\n",
       "      <td>22</td>\n",
       "      <td>10</td>\n",
       "      <td>3.0</td>\n",
       "      <td>goldeneye (1995)</td>\n",
       "      <td>Action|Adventure|Thriller</td>\n",
       "    </tr>\n",
       "    <tr>\n",
       "      <th>486278</th>\n",
       "      <td>36</td>\n",
       "      <td>10</td>\n",
       "      <td>4.0</td>\n",
       "      <td>goldeneye (1995)</td>\n",
       "      <td>Action|Adventure|Thriller</td>\n",
       "    </tr>\n",
       "  </tbody>\n",
       "</table>\n",
       "</div>"
      ],
      "text/plain": [
       "       user_id  movie_id  counts             title                      genre\n",
       "486274      13        10     3.0  goldeneye (1995)  Action|Adventure|Thriller\n",
       "486275      18        10     5.0  goldeneye (1995)  Action|Adventure|Thriller\n",
       "486276      19        10     5.0  goldeneye (1995)  Action|Adventure|Thriller\n",
       "486277      22        10     3.0  goldeneye (1995)  Action|Adventure|Thriller\n",
       "486278      36        10     4.0  goldeneye (1995)  Action|Adventure|Thriller"
      ]
     },
     "execution_count": 408,
     "metadata": {},
     "output_type": "execute_result"
    }
   ],
   "source": [
    "# movie_id 10 은 GoldenEye (1995) 입니다. \n",
    "\n",
    "test2 = ratings[ratings['movie_id'] == 10 ]\n",
    "test2.head(5)"
   ]
  },
  {
   "cell_type": "code",
   "execution_count": 409,
   "id": "3e818f91",
   "metadata": {},
   "outputs": [
    {
     "data": {
      "text/html": [
       "<div>\n",
       "<style scoped>\n",
       "    .dataframe tbody tr th:only-of-type {\n",
       "        vertical-align: middle;\n",
       "    }\n",
       "\n",
       "    .dataframe tbody tr th {\n",
       "        vertical-align: top;\n",
       "    }\n",
       "\n",
       "    .dataframe thead th {\n",
       "        text-align: right;\n",
       "    }\n",
       "</style>\n",
       "<table border=\"1\" class=\"dataframe\">\n",
       "  <thead>\n",
       "    <tr style=\"text-align: right;\">\n",
       "      <th></th>\n",
       "      <th>user_id</th>\n",
       "      <th>movie_id</th>\n",
       "      <th>counts</th>\n",
       "      <th>title</th>\n",
       "      <th>genre</th>\n",
       "    </tr>\n",
       "  </thead>\n",
       "  <tbody>\n",
       "    <tr>\n",
       "      <th>360523</th>\n",
       "      <td>gy_jeong</td>\n",
       "      <td>586</td>\n",
       "      <td>5.0</td>\n",
       "      <td>home alone (1990)</td>\n",
       "      <td>Children's|Comedy</td>\n",
       "    </tr>\n",
       "    <tr>\n",
       "      <th>373101</th>\n",
       "      <td>gy_jeong</td>\n",
       "      <td>2078</td>\n",
       "      <td>5.0</td>\n",
       "      <td>jungle book, the (1967)</td>\n",
       "      <td>Animation|Children's|Comedy|Musical</td>\n",
       "    </tr>\n",
       "    <tr>\n",
       "      <th>417674</th>\n",
       "      <td>gy_jeong</td>\n",
       "      <td>1032</td>\n",
       "      <td>5.0</td>\n",
       "      <td>alice in wonderland (1951)</td>\n",
       "      <td>Animation|Children's|Musical</td>\n",
       "    </tr>\n",
       "    <tr>\n",
       "      <th>442172</th>\n",
       "      <td>gy_jeong</td>\n",
       "      <td>3247</td>\n",
       "      <td>5.0</td>\n",
       "      <td>sister act (1992)</td>\n",
       "      <td>Comedy|Crime</td>\n",
       "    </tr>\n",
       "    <tr>\n",
       "      <th>716793</th>\n",
       "      <td>gy_jeong</td>\n",
       "      <td>3248</td>\n",
       "      <td>5.0</td>\n",
       "      <td>sister act 2: back in the habit (1993)</td>\n",
       "      <td>Comedy</td>\n",
       "    </tr>\n",
       "  </tbody>\n",
       "</table>\n",
       "</div>"
      ],
      "text/plain": [
       "         user_id  movie_id  counts                                   title  \\\n",
       "360523  gy_jeong       586     5.0                       home alone (1990)   \n",
       "373101  gy_jeong      2078     5.0                 jungle book, the (1967)   \n",
       "417674  gy_jeong      1032     5.0              alice in wonderland (1951)   \n",
       "442172  gy_jeong      3247     5.0                       sister act (1992)   \n",
       "716793  gy_jeong      3248     5.0  sister act 2: back in the habit (1993)   \n",
       "\n",
       "                                      genre  \n",
       "360523                    Children's|Comedy  \n",
       "373101  Animation|Children's|Comedy|Musical  \n",
       "417674         Animation|Children's|Musical  \n",
       "442172                         Comedy|Crime  \n",
       "716793                               Comedy  "
      ]
     },
     "execution_count": 409,
     "metadata": {},
     "output_type": "execute_result"
    }
   ],
   "source": [
    "# 내가 입력한 정보도 제대로 들어갔는지도 확인해봅시다:D \n",
    "test3 = ratings[ratings['user_id'] == 'gy_jeong' ]\n",
    "test3.tail(10)"
   ]
  },
  {
   "cell_type": "markdown",
   "id": "c7cbad46",
   "metadata": {},
   "source": [
    "\n",
    "\n"
   ]
  },
  {
   "cell_type": "markdown",
   "id": "71421c62",
   "metadata": {},
   "source": [
    "### &nbsp;&nbsp;&nbsp;&nbsp; 3-2-3 인덱싱!\n",
    "\n",
    "\n",
    "* 혼자만 눈에 띄는 user_id를 다른것과 동일하게 숫자로 바꿔주는 작업을 진행합니다.\n",
    "\n",
    "\n",
    "- `pandas.DataFrame.unique()`\n",
    "    - 특정 컬럼에 포함된 유니크한 데이터만 모아주는 메소드\n",
    "    - 인덱싱 작업에 매우매우 유용함!"
   ]
  },
  {
   "cell_type": "code",
   "execution_count": 410,
   "id": "9369fd3e",
   "metadata": {},
   "outputs": [],
   "source": [
    "# user_unique -> 유저 수 \n",
    "# movie_unique -> 영화 수량 \n",
    "user_unique = ratings['user_id'].unique()\n",
    "movie_unique = ratings['title'].unique()\n",
    "\n",
    "user_to_idx = {v:k for k,v in enumerate(user_unique)}\n",
    "movie_to_idx = {v:k for k,v in enumerate(movie_unique)}"
   ]
  },
  {
   "cell_type": "code",
   "execution_count": 411,
   "id": "8477a33a",
   "metadata": {},
   "outputs": [
    {
     "name": "stdout",
     "output_type": "stream",
     "text": [
      "user_id column indexing OK!!\n",
      "title column indexing OK!!\n"
     ]
    },
    {
     "data": {
      "text/html": [
       "<div>\n",
       "<style scoped>\n",
       "    .dataframe tbody tr th:only-of-type {\n",
       "        vertical-align: middle;\n",
       "    }\n",
       "\n",
       "    .dataframe tbody tr th {\n",
       "        vertical-align: top;\n",
       "    }\n",
       "\n",
       "    .dataframe thead th {\n",
       "        text-align: right;\n",
       "    }\n",
       "</style>\n",
       "<table border=\"1\" class=\"dataframe\">\n",
       "  <thead>\n",
       "    <tr style=\"text-align: right;\">\n",
       "      <th></th>\n",
       "      <th>user_id</th>\n",
       "      <th>movie_id</th>\n",
       "      <th>counts</th>\n",
       "      <th>title</th>\n",
       "      <th>genre</th>\n",
       "    </tr>\n",
       "  </thead>\n",
       "  <tbody>\n",
       "    <tr>\n",
       "      <th>0</th>\n",
       "      <td>0</td>\n",
       "      <td>1193</td>\n",
       "      <td>5.0</td>\n",
       "      <td>0</td>\n",
       "      <td>Drama</td>\n",
       "    </tr>\n",
       "    <tr>\n",
       "      <th>1</th>\n",
       "      <td>1</td>\n",
       "      <td>1193</td>\n",
       "      <td>5.0</td>\n",
       "      <td>0</td>\n",
       "      <td>Drama</td>\n",
       "    </tr>\n",
       "    <tr>\n",
       "      <th>2</th>\n",
       "      <td>2</td>\n",
       "      <td>1193</td>\n",
       "      <td>4.0</td>\n",
       "      <td>0</td>\n",
       "      <td>Drama</td>\n",
       "    </tr>\n",
       "    <tr>\n",
       "      <th>3</th>\n",
       "      <td>3</td>\n",
       "      <td>1193</td>\n",
       "      <td>4.0</td>\n",
       "      <td>0</td>\n",
       "      <td>Drama</td>\n",
       "    </tr>\n",
       "    <tr>\n",
       "      <th>4</th>\n",
       "      <td>4</td>\n",
       "      <td>1193</td>\n",
       "      <td>5.0</td>\n",
       "      <td>0</td>\n",
       "      <td>Drama</td>\n",
       "    </tr>\n",
       "    <tr>\n",
       "      <th>...</th>\n",
       "      <td>...</td>\n",
       "      <td>...</td>\n",
       "      <td>...</td>\n",
       "      <td>...</td>\n",
       "      <td>...</td>\n",
       "    </tr>\n",
       "    <tr>\n",
       "      <th>836478</th>\n",
       "      <td>1621</td>\n",
       "      <td>3607</td>\n",
       "      <td>5.0</td>\n",
       "      <td>3623</td>\n",
       "      <td>Comedy|Drama|Western</td>\n",
       "    </tr>\n",
       "    <tr>\n",
       "      <th>836479</th>\n",
       "      <td>3481</td>\n",
       "      <td>3026</td>\n",
       "      <td>4.0</td>\n",
       "      <td>3624</td>\n",
       "      <td>Horror</td>\n",
       "    </tr>\n",
       "    <tr>\n",
       "      <th>836480</th>\n",
       "      <td>3481</td>\n",
       "      <td>690</td>\n",
       "      <td>3.0</td>\n",
       "      <td>3625</td>\n",
       "      <td>Romance</td>\n",
       "    </tr>\n",
       "    <tr>\n",
       "      <th>836481</th>\n",
       "      <td>4159</td>\n",
       "      <td>2909</td>\n",
       "      <td>4.0</td>\n",
       "      <td>3626</td>\n",
       "      <td>Documentary</td>\n",
       "    </tr>\n",
       "    <tr>\n",
       "      <th>836482</th>\n",
       "      <td>1648</td>\n",
       "      <td>1360</td>\n",
       "      <td>5.0</td>\n",
       "      <td>3627</td>\n",
       "      <td>Drama</td>\n",
       "    </tr>\n",
       "  </tbody>\n",
       "</table>\n",
       "<p>836483 rows × 5 columns</p>\n",
       "</div>"
      ],
      "text/plain": [
       "        user_id  movie_id  counts  title                 genre\n",
       "0             0      1193     5.0      0                 Drama\n",
       "1             1      1193     5.0      0                 Drama\n",
       "2             2      1193     4.0      0                 Drama\n",
       "3             3      1193     4.0      0                 Drama\n",
       "4             4      1193     5.0      0                 Drama\n",
       "...         ...       ...     ...    ...                   ...\n",
       "836478     1621      3607     5.0   3623  Comedy|Drama|Western\n",
       "836479     3481      3026     4.0   3624                Horror\n",
       "836480     3481       690     3.0   3625               Romance\n",
       "836481     4159      2909     4.0   3626           Documentary\n",
       "836482     1648      1360     5.0   3627                 Drama\n",
       "\n",
       "[836483 rows x 5 columns]"
      ]
     },
     "execution_count": 411,
     "metadata": {},
     "output_type": "execute_result"
    }
   ],
   "source": [
    "# indexing을 통해 데이터 컬럼 내 값을 바꾸는 코드입니다. \n",
    "# user_to_idx.get을 통해 user_id 컬럼의 모든 값을 인덱싱한 Series를 구해 봅시다. \n",
    "# 혹시 정상적으로 인덱싱되지 않은 row가 있다면 인덱스가 NaN이 될 테니 dropna()로 제거합니다. \n",
    "\n",
    "temp_user_data = ratings['user_id'].map(user_to_idx.get).dropna()\n",
    "if len(temp_user_data) == len(ratings):\n",
    "    print('user_id column indexing OK!!')\n",
    "    ratings['user_id'] = temp_user_data\n",
    "else:\n",
    "    print('user_id column indexing Fail!!')\n",
    "\n",
    "temp_movie_data = ratings['title'].map(movie_to_idx.get).dropna()\n",
    "if len(temp_movie_data) == len(ratings):\n",
    "    print('title column indexing OK!!')\n",
    "    ratings['title'] = temp_movie_data\n",
    "else:\n",
    "    print('title column indexing Fail!!')\n",
    "\n",
    "ratings"
   ]
  },
  {
   "cell_type": "markdown",
   "id": "2aebdfc2",
   "metadata": {},
   "source": [
    "\n",
    "\n"
   ]
  },
  {
   "cell_type": "markdown",
   "id": "2d40c191",
   "metadata": {},
   "source": [
    "* 이렇게 전처리 과정이 끝났습니다. 데이터셋을 분석 해 보고, 본격적으로 모델 생성, 학습에 들어가겠습니다."
   ]
  },
  {
   "cell_type": "markdown",
   "id": "df4e72fa",
   "metadata": {},
   "source": [
    "\n",
    "\n"
   ]
  },
  {
   "cell_type": "markdown",
   "id": "17f67703",
   "metadata": {},
   "source": [
    "## &nbsp;&nbsp; 3-3 분석해 봅시다!\n",
    "\n",
    "\n",
    "* 가져온 데이터를 한번 분석 해 봅시다! \n",
    "* `pandas.DataFrame.nunique()` 를 이용해 특정 컬럼에 포함된 유니크한 데이터의 개수를 알아봅니다! \n",
    "    - 유일한 값의 개수를 확인할 수 있는 기능을 갖고있습니다. "
   ]
  },
  {
   "cell_type": "markdown",
   "id": "0281b8d3",
   "metadata": {},
   "source": [
    "### &nbsp;&nbsp;&nbsp;&nbsp; 3-3-1 ratings에 있는 유니크한 영화 개수\n"
   ]
  },
  {
   "cell_type": "code",
   "execution_count": 412,
   "id": "4670a9d6",
   "metadata": {},
   "outputs": [
    {
     "data": {
      "text/plain": [
       "3628"
      ]
     },
     "execution_count": 412,
     "metadata": {},
     "output_type": "execute_result"
    }
   ],
   "source": [
    "# 영화 개수! movie_id  \n",
    "ratings['movie_id'].nunique()"
   ]
  },
  {
   "cell_type": "markdown",
   "id": "f71453df",
   "metadata": {},
   "source": [
    "\n",
    "\n"
   ]
  },
  {
   "cell_type": "markdown",
   "id": "82093798",
   "metadata": {},
   "source": [
    "### &nbsp;&nbsp;&nbsp;&nbsp; 3-3-2 ratings에 있는 유니크한 사용자 수"
   ]
  },
  {
   "cell_type": "code",
   "execution_count": 413,
   "id": "8efee02c",
   "metadata": {},
   "outputs": [
    {
     "data": {
      "text/plain": [
       "6040"
      ]
     },
     "execution_count": 413,
     "metadata": {},
     "output_type": "execute_result"
    }
   ],
   "source": [
    "# 유저 수\n",
    "ratings['user_id'].nunique()"
   ]
  },
  {
   "cell_type": "markdown",
   "id": "f76e96e3",
   "metadata": {},
   "source": [
    "\n",
    "\n"
   ]
  },
  {
   "cell_type": "markdown",
   "id": "a107b1b6",
   "metadata": {},
   "source": [
    "### &nbsp;&nbsp;&nbsp;&nbsp; 3-3-3 가장 인기 있는 영화 30개(인기순)\n",
    "\n",
    "* 인기 있는 영화를 별점이 제일 높은 영화로 설정해서 가장 인기 있는 영화를 30개 출력 해보겠습니다.\n",
    "* 제일 인기 있는 영화는 `American Beauty (1999)` 인가 봅니다:)    "
   ]
  },
  {
   "cell_type": "code",
   "execution_count": 414,
   "id": "6f4ce814",
   "metadata": {},
   "outputs": [
    {
     "data": {
      "text/plain": [
       "title\n",
       "99     3211\n",
       "44     2910\n",
       "117    2885\n",
       "64     2716\n",
       "48     2561\n",
       "92     2509\n",
       "121    2498\n",
       "120    2473\n",
       "22     2460\n",
       "124    2434\n",
       "107    2413\n",
       "38     2385\n",
       "51     2371\n",
       "87     2314\n",
       "175    2297\n",
       "23     2257\n",
       "5      2252\n",
       "126    2213\n",
       "224    2210\n",
       "157    2194\n",
       "607    2167\n",
       "110    2121\n",
       "26     2102\n",
       "170    2066\n",
       "243    2051\n",
       "222    2030\n",
       "160    2022\n",
       "200    2019\n",
       "40     2000\n",
       "141    1941\n",
       "Name: counts, dtype: int64"
      ]
     },
     "execution_count": 414,
     "metadata": {},
     "output_type": "execute_result"
    }
   ],
   "source": [
    "famous_movie = ratings.groupby('title')['counts'].count()\n",
    "famous_movie.sort_values(ascending=False).head(30)"
   ]
  },
  {
   "cell_type": "markdown",
   "id": "c6bd38e2",
   "metadata": {},
   "source": [
    "\n",
    "\n",
    "\n",
    "---\n",
    "\n",
    "\n"
   ]
  },
  {
   "cell_type": "markdown",
   "id": "c859bab3",
   "metadata": {},
   "source": [
    "# 4. CSR matrix 만들기\n",
    "\n",
    "\n",
    "## CSR matrix?\n",
    "> 부족(Sparse) 한 Matrix에서 0이 아닌 유효한 데이터로 채워지는 데이터의 값과 좌표 정보만으로 구성하여 \n",
    "  메모리 사용량을 최소화 하면서도 부족(Sparse)한 Matrix와 동일한 행렬을 표현할 수 있도록 하는 데이터 구조.\n",
    "> data, indices, indptr 로 행렬을 압축하여 표현함.\n",
    "\n",
    "\n",
    "* indexing 값으로 교체했으니, csr_matrix를 생성해 봅시다. \n",
    "* 사용자와 아이템 개수(영화 개수)를 바탕으로 만들어 봅시다. "
   ]
  },
  {
   "cell_type": "code",
   "execution_count": 415,
   "id": "cc948cab",
   "metadata": {},
   "outputs": [
    {
     "data": {
      "text/plain": [
       "<6040x3628 sparse matrix of type '<class 'numpy.float64'>'\n",
       "\twith 836483 stored elements in Compressed Sparse Row format>"
      ]
     },
     "execution_count": 415,
     "metadata": {},
     "output_type": "execute_result"
    }
   ],
   "source": [
    "num_user = ratings['user_id'].nunique()\n",
    "num_movie = ratings['title'].nunique()\n",
    "\n",
    "csr_data = csr_matrix((ratings['counts'], (ratings.user_id, ratings.title)), shape= (num_user, num_movie))\n",
    "csr_data\n"
   ]
  },
  {
   "cell_type": "markdown",
   "id": "1a8b0212",
   "metadata": {},
   "source": [
    "\n",
    "\n"
   ]
  },
  {
   "cell_type": "markdown",
   "id": "4364adf0",
   "metadata": {},
   "source": [
    "\n",
    "\n",
    "\n",
    "---\n",
    "\n",
    "\n"
   ]
  },
  {
   "cell_type": "markdown",
   "id": "1438c977",
   "metadata": {},
   "source": [
    "# 5. 모델 구성 및 학습\n",
    "\n",
    "### `implicit` 패키지\n",
    "\n",
    "- 암묵적 (implicit) dataset을 사용하는 다양한 모델을 옴청 빠르게 학습 할 수 있는 패키지\n",
    "- `implicit` 패키지에 구현된 `als(AlternatingLeastSquares) 모델` 을 사용합니다.\n",
    "    - AlternatingLeastSquares 방식\n",
    "        - `Matrix Factorization` 에서 쪼개진 두 Feature Matrix를 한꺼번에 훈련하는 것은 잘 수렴하지 않기 때문에, 한쪽을 고정시키고 다른 쪽을 학습하는 방식을 번갈아 수행하는 방식.\n",
    "        \n",
    "* als(AlternatingLeastSquares) 모델 을 사용합니다. "
   ]
  },
  {
   "cell_type": "code",
   "execution_count": 436,
   "id": "72f6e764",
   "metadata": {},
   "outputs": [],
   "source": [
    "# implicit 라이브러리에서 권장하고 있는 부분입니다. 학습 내용과는 무관합니다.\n",
    "os.environ['OPENBLAS_NUM_THREADS']='1'\n",
    "os.environ['KMP_DUPLICATE_LIB_OK']='True'\n",
    "os.environ['MKL_NUM_THREADS']='1'"
   ]
  },
  {
   "cell_type": "markdown",
   "id": "40b65d17",
   "metadata": {},
   "source": [
    "\n",
    "\n"
   ]
  },
  {
   "cell_type": "markdown",
   "id": "2a99bf39",
   "metadata": {},
   "source": [
    "### AlternatingLeastSquares 클래스\n",
    "\n",
    "__init__ 파라미터를 살펴봅시다.\n",
    "\n",
    "1. factors :\n",
    "    1. 유저와 아이템의 벡터를 몇 차원으로 할 것인지\n",
    "2. regularization : \n",
    "    1. 과적합을 방지하기 위해 정규화 값을 얼마나 사용할 것인지\n",
    "3. use_gpu : \n",
    "    1. GPU를 사용할 것인지\n",
    "4. iterations : \n",
    "    1. epochs와 같은 의미입니다. 데이터를 몇 번 반복해서 학습할 것인지\n",
    "\n",
    "- **1, 4를 늘릴 수록 학습 데이터를 잘 학습하게 되지만, 과적합의 우려가 있으므로,\n",
    "적절한 값을 찾는것이 중요!**"
   ]
  },
  {
   "cell_type": "code",
   "execution_count": 445,
   "id": "ab1bf013",
   "metadata": {},
   "outputs": [],
   "source": [
    "# Implicit AlternatingLeastSquares 모델의 선언\n",
    "als_model = AlternatingLeastSquares(\n",
    "    factors=300, regularization=0.01, use_gpu=False, iterations=150, dtype=np.float32)"
   ]
  },
  {
   "cell_type": "markdown",
   "id": "b967b4f7",
   "metadata": {},
   "source": [
    "\n",
    "\n"
   ]
  },
  {
   "cell_type": "code",
   "execution_count": 446,
   "id": "87ba776b",
   "metadata": {},
   "outputs": [
    {
     "data": {
      "text/plain": [
       "<3628x6040 sparse matrix of type '<class 'numpy.float64'>'\n",
       "\twith 836483 stored elements in Compressed Sparse Column format>"
      ]
     },
     "execution_count": 446,
     "metadata": {},
     "output_type": "execute_result"
    }
   ],
   "source": [
    "# als 모델은 input으로 (item X user 꼴의 matrix를 받기 때문에 Transpose해줍니다.)\n",
    "csr_data_transpose = csr_data.T\n",
    "csr_data_transpose"
   ]
  },
  {
   "cell_type": "markdown",
   "id": "56049e0b",
   "metadata": {},
   "source": [
    "\n",
    "\n",
    "\n",
    "* 모델을 학습시켜봅시다:D "
   ]
  },
  {
   "cell_type": "code",
   "execution_count": 447,
   "id": "a710850d",
   "metadata": {},
   "outputs": [
    {
     "data": {
      "application/vnd.jupyter.widget-view+json": {
       "model_id": "bb380d2fe40044b395968d523cb5aa0b",
       "version_major": 2,
       "version_minor": 0
      },
      "text/plain": [
       "  0%|          | 0/150 [00:00<?, ?it/s]"
      ]
     },
     "metadata": {},
     "output_type": "display_data"
    }
   ],
   "source": [
    "als_model.fit(csr_data_transpose)"
   ]
  },
  {
   "cell_type": "markdown",
   "id": "5335c0df",
   "metadata": {},
   "source": [
    "\n",
    "\n",
    "\n",
    "---\n",
    "\n",
    "\n"
   ]
  },
  {
   "cell_type": "markdown",
   "id": "28f69c56",
   "metadata": {},
   "source": [
    "# 6. 모델 검증 \n",
    "\n",
    "\n",
    "* 만든 모델을 가지고 성능을 검증 해 봅시다! \n",
    "    1. 내가 선호하는 5가지 영화 중 하나와 그 외의 영화 하나를 골라 훈련된 모델이 예측한 나의 선호도를 파악해 보세요.\n",
    "    2. 내가 좋아하는 영화와 비슷한 영화를 추천받아 봅시다\n",
    "    3. 내가 가장 좋아할 만한 영화들을 추천받아 봅시다\n"
   ]
  },
  {
   "cell_type": "markdown",
   "id": "450748ee",
   "metadata": {},
   "source": [
    "\n",
    "\n"
   ]
  },
  {
   "cell_type": "markdown",
   "id": "97d9bf8b",
   "metadata": {},
   "source": [
    "## &nbsp;&nbsp; 6-1 내가 선호하는 5가지 영화 중 하나와 그 외의 영화 하나를 골라 훈련된 모델이 예측한 나의 선호도를 파악해보기 \n",
    "\n",
    "\n",
    "* 위에서 보이는 모르는 영화 하나를 집어 선호도를 파악 해 보겠습니다. \n",
    "* 평가는 영화에 대해 찾아보고 확인해보는걸로 하겠습니다"
   ]
  },
  {
   "cell_type": "code",
   "execution_count": 448,
   "id": "262fe325",
   "metadata": {},
   "outputs": [],
   "source": [
    "# 내가 선호하는 영화 한가지와 내적 해보기 \n",
    "gy, jungle_book = user_to_idx['gy_jeong'], movie_to_idx['jungle book, the (1967)']\n",
    "gy_vector, jungle_book_vector = als_model.user_factors[gy], als_model.item_factors[jungle_book]\n"
   ]
  },
  {
   "cell_type": "code",
   "execution_count": 449,
   "id": "67dc2688",
   "metadata": {
    "scrolled": false
   },
   "outputs": [
    {
     "data": {
      "text/plain": [
       "array([ 0.14722638, -0.24570213, -0.07866495, -0.12751125, -0.19549654,\n",
       "        0.13190983, -0.05442884,  0.30591834,  0.011851  ,  0.02310646,\n",
       "       -0.17184754,  0.2251586 , -0.01663817, -0.11934382, -0.11962415,\n",
       "        0.18274668,  0.04676963, -0.00827839,  0.1984364 ,  0.02501489,\n",
       "        0.13777472,  0.06094452, -0.01006429,  0.12517653,  0.12803252,\n",
       "       -0.08055892,  0.139148  ,  0.10855879,  0.00521027,  0.10897371,\n",
       "       -0.3085412 , -0.03432093,  0.0422457 , -0.06293011,  0.02782735,\n",
       "       -0.14065778, -0.05348889, -0.01105624, -0.00891766,  0.01159161,\n",
       "       -0.28551763,  0.13356824,  0.14397898, -0.09687748,  0.12668204,\n",
       "       -0.14563747,  0.10233687,  0.03374001,  0.12367135,  0.00333457,\n",
       "        0.14570151, -0.02454893, -0.11635266,  0.04768481,  0.05579459,\n",
       "        0.01625567,  0.10091281,  0.12758535, -0.00653743,  0.14032261,\n",
       "       -0.03192196,  0.06666174, -0.14816119,  0.19319873, -0.21293761,\n",
       "       -0.17688203,  0.01969503, -0.02479747,  0.01819756,  0.11663   ,\n",
       "        0.14271383,  0.17083474, -0.13254836, -0.03941081,  0.03164491,\n",
       "        0.17541826,  0.11402827, -0.11056085, -0.17841446,  0.33120963,\n",
       "        0.05009776, -0.17816198,  0.06848285, -0.12826933,  0.18222398,\n",
       "        0.01798073,  0.06032902, -0.1745259 , -0.19980243, -0.04790618,\n",
       "        0.01995191, -0.08431088, -0.02961441, -0.21042942,  0.16419779,\n",
       "       -0.02913261,  0.30141187, -0.07681523, -0.2901136 , -0.04849213,\n",
       "        0.20839672, -0.14635266, -0.05435653,  0.04479423, -0.02267449,\n",
       "        0.01498645,  0.11978018,  0.07478638, -0.09924968,  0.23410697,\n",
       "        0.07491191, -0.07546896, -0.09299454, -0.02047341,  0.00470628,\n",
       "        0.07889968,  0.20413384,  0.04354041,  0.19296776,  0.13833147,\n",
       "        0.28108144, -0.18744037,  0.24631616, -0.13751431, -0.03410709,\n",
       "       -0.01322024, -0.15589881, -0.38801435,  0.03325027,  0.07238982,\n",
       "       -0.15189482,  0.05755968, -0.0145822 ,  0.05873995,  0.06010446,\n",
       "       -0.18509053,  0.06059365,  0.09239575,  0.3900959 ,  0.05255324,\n",
       "        0.02361202,  0.33485729, -0.19151765, -0.20366645, -0.26295963,\n",
       "        0.2971633 , -0.11955245, -0.10495324, -0.1574069 , -0.35953468,\n",
       "        0.03721068, -0.03826821, -0.267885  ,  0.22030087,  0.02743312,\n",
       "        0.0902898 ,  0.09037466, -0.1703132 ,  0.02760459,  0.10047208,\n",
       "       -0.09607681,  0.03105687, -0.01213023, -0.0253132 ,  0.10388564,\n",
       "        0.29367572, -0.22371808,  0.03213645,  0.02361652,  0.15968663,\n",
       "        0.03165081,  0.14314787,  0.13843837, -0.05060137, -0.15577532,\n",
       "       -0.07622533, -0.04486477,  0.02458622, -0.06120548, -0.00674865,\n",
       "        0.16687909, -0.25821725,  0.15849492,  0.05672536,  0.18769296,\n",
       "        0.20642135,  0.03417679,  0.3153335 ,  0.12412181,  0.3411084 ,\n",
       "        0.00562439,  0.0405858 ,  0.05965351, -0.10423855, -0.05149087,\n",
       "        0.41334346, -0.18267101, -0.32760844, -0.11225195,  0.17984924,\n",
       "       -0.18710412, -0.16783144,  0.19589429,  0.08920079, -0.05703197,\n",
       "       -0.1531788 , -0.195192  ,  0.00291367, -0.14111014, -0.02671397,\n",
       "       -0.09324124, -0.18854566,  0.11831965, -0.09148999,  0.09135204,\n",
       "       -0.20247795,  0.0633605 , -0.0813155 , -0.08098324, -0.09108663,\n",
       "       -0.12025233,  0.10776721,  0.15860017,  0.22215101,  0.20577364,\n",
       "        0.07352315,  0.12722369, -0.06547206,  0.11824514,  0.07907456,\n",
       "        0.17690305,  0.1829097 , -0.12335554, -0.14587648,  0.2989858 ,\n",
       "        0.2283183 ,  0.09563559, -0.24739859,  0.3476585 ,  0.19078577,\n",
       "       -0.1646438 , -0.28581116, -0.05202599, -0.00115361,  0.15559788,\n",
       "        0.01070303,  0.0991867 ,  0.13634777,  0.08153931, -0.05147751,\n",
       "       -0.05530399, -0.20496482,  0.00815433,  0.06149243, -0.08221664,\n",
       "       -0.33336768,  0.18173485,  0.08256963,  0.10392999, -0.01622513,\n",
       "       -0.01116501, -0.20035207,  0.17147544, -0.03708239,  0.21045505,\n",
       "       -0.29931015,  0.08417238, -0.04071035, -0.28480592, -0.09510199,\n",
       "        0.07012993, -0.34258428, -0.1843793 , -0.01021584, -0.10850408,\n",
       "        0.01385926,  0.10011733, -0.01797657,  0.11381505, -0.08782163,\n",
       "        0.20092969, -0.18606819, -0.0850033 , -0.23435552,  0.21247077,\n",
       "       -0.05153733, -0.15752202,  0.06234368, -0.01479575,  0.05856558,\n",
       "       -0.01364172,  0.11418138,  0.42712498, -0.08513863, -0.2378954 ,\n",
       "       -0.30830258,  0.0481816 ,  0.1517778 ,  0.00426476,  0.08055806],\n",
       "      dtype=float32)"
      ]
     },
     "execution_count": 449,
     "metadata": {},
     "output_type": "execute_result"
    }
   ],
   "source": [
    "# 나의 벡터 \n",
    "gy_vector"
   ]
  },
  {
   "cell_type": "code",
   "execution_count": 450,
   "id": "aad0a6f8",
   "metadata": {},
   "outputs": [
    {
     "data": {
      "text/plain": [
       "array([ 3.30669545e-02, -2.41552806e-03,  2.54542530e-02, -1.88218653e-02,\n",
       "       -1.47979669e-02,  2.02633496e-02, -7.25517329e-03,  4.32146639e-02,\n",
       "        1.22118024e-02,  2.14847121e-02, -4.77378443e-02,  1.15783559e-02,\n",
       "        5.68861747e-03, -2.36041527e-02,  6.74767047e-03,  1.51684452e-02,\n",
       "        1.15444446e-02, -2.09888611e-02,  1.98147539e-02,  4.74844500e-03,\n",
       "        3.45641524e-02,  3.72144468e-02,  2.36755181e-02,  2.70333663e-02,\n",
       "        2.53690183e-02, -6.32988149e-03,  1.10258861e-02, -1.31847020e-02,\n",
       "       -1.06652416e-02,  9.81053431e-03, -2.18859259e-02, -2.28695280e-04,\n",
       "        1.03612170e-02, -2.94445101e-02,  9.98601463e-05, -4.07592393e-02,\n",
       "       -2.31833644e-02, -3.71985622e-02, -2.08266173e-02,  1.25996703e-02,\n",
       "       -1.21325930e-03,  1.06641799e-02, -2.43953038e-02, -1.35873454e-02,\n",
       "        6.85957447e-02,  2.77085211e-02,  1.56778842e-02,  5.78492060e-02,\n",
       "        3.11995111e-03,  1.10507139e-03,  1.49867134e-02,  1.01578366e-02,\n",
       "        2.59919148e-02,  2.55554002e-02, -3.11230291e-02,  2.66281497e-02,\n",
       "        3.38802636e-02,  1.01438416e-02, -3.86165008e-02, -1.83512755e-02,\n",
       "       -3.35829500e-05,  2.06610803e-02, -7.19352206e-03, -1.10098561e-02,\n",
       "       -1.42305614e-02,  7.50240684e-03, -7.18619023e-03, -1.96635257e-02,\n",
       "        1.12285893e-02, -1.75346825e-02,  3.52199897e-02, -4.32239566e-03,\n",
       "       -1.61361042e-02, -1.87123939e-02,  3.76513265e-02,  3.80757973e-02,\n",
       "        2.10305545e-02, -6.33110385e-03,  1.83989678e-03,  3.71702909e-02,\n",
       "        1.51238851e-02, -7.58996280e-03,  9.46757849e-03, -8.83252360e-03,\n",
       "        3.71877626e-02, -8.92800745e-03,  7.60732451e-03, -3.52802575e-02,\n",
       "       -7.31882732e-03,  5.75486850e-03,  1.98517051e-02, -8.05143826e-03,\n",
       "       -4.41787168e-02, -2.67929659e-04,  8.44398979e-03, -1.54350547e-03,\n",
       "        4.80537601e-02,  2.99506318e-02, -3.91256362e-02, -2.67561059e-02,\n",
       "        6.02467265e-03,  4.88822907e-03,  4.12838124e-02,  3.41418758e-02,\n",
       "        6.98289881e-03,  6.87447935e-03,  3.40123810e-02, -1.80350784e-02,\n",
       "       -4.19751480e-02,  2.62003876e-02,  4.45934348e-02, -9.58225690e-03,\n",
       "        1.49996411e-02, -1.48425130e-02, -1.26844058e-02, -3.10638308e-04,\n",
       "        3.47995386e-02,  3.49039249e-02,  3.45354564e-02, -1.69461768e-03,\n",
       "        1.89851187e-02, -6.66517345e-03, -2.76541226e-02, -1.35690290e-02,\n",
       "        7.97397550e-03,  1.78545620e-02,  5.80746680e-03,  1.67364907e-02,\n",
       "        3.39407893e-03,  2.84737349e-03, -2.99062300e-02,  2.74137221e-02,\n",
       "        2.09537614e-02, -1.47941448e-02,  8.30176193e-03, -1.94567367e-02,\n",
       "        4.10359800e-02,  1.45132393e-02,  2.44443770e-02, -9.16796830e-03,\n",
       "        2.00985018e-02,  5.01091294e-02, -1.15985759e-02, -7.00166002e-02,\n",
       "        3.02187260e-02,  6.90815374e-02, -3.08876224e-02, -5.00517571e-03,\n",
       "       -3.97326499e-02, -5.86212277e-02,  5.58762299e-03, -2.59170979e-02,\n",
       "       -1.46025503e-02,  2.97017433e-02,  1.77611951e-02,  6.35811873e-03,\n",
       "       -2.56985109e-02, -1.02762263e-02,  3.21720801e-02, -1.84537028e-03,\n",
       "        3.78353347e-04,  6.45326357e-03,  2.09487844e-02, -1.60725657e-02,\n",
       "       -5.82405459e-03,  4.23853919e-02, -1.98376346e-02,  4.23708968e-02,\n",
       "        1.51431626e-02,  1.30964909e-02, -1.84988957e-02, -2.96761934e-03,\n",
       "        4.66262139e-02,  1.40002901e-02, -1.65320747e-02, -1.49006080e-02,\n",
       "       -3.80074256e-03,  3.11077964e-02, -1.33654587e-02,  1.38234738e-02,\n",
       "        1.86700486e-02, -1.56781375e-02,  2.00490840e-02, -9.14843194e-03,\n",
       "        2.48296075e-02,  2.02754792e-03, -1.74804572e-02,  2.22256016e-02,\n",
       "        1.15072094e-02,  5.43406755e-02,  2.31375359e-02, -3.45033710e-03,\n",
       "        2.86621973e-03, -6.73174113e-03,  9.97905433e-03,  1.83941070e-02,\n",
       "        3.44175776e-03, -1.31327650e-02,  1.14025334e-02,  3.94015498e-02,\n",
       "        5.97574888e-03,  1.60851632e-04,  4.43564206e-02,  2.89091822e-02,\n",
       "        1.03461901e-02, -2.13046372e-02, -4.58671860e-02, -4.72627804e-02,\n",
       "        9.90767032e-03,  4.82312869e-03,  7.60217244e-03, -4.62319143e-02,\n",
       "        9.51723568e-03, -2.29557813e-03,  1.98687706e-02, -1.61809626e-03,\n",
       "        3.98087278e-02, -4.84948866e-02, -2.55555995e-02,  3.49794105e-02,\n",
       "        1.24491770e-02, -3.03408131e-02, -4.42156190e-04, -5.46146603e-03,\n",
       "       -1.16356425e-02, -3.42334919e-02,  2.02413555e-02, -9.29105841e-03,\n",
       "        1.82929803e-02,  1.15846936e-02,  5.41619677e-03, -1.26412576e-02,\n",
       "       -1.16976090e-02, -1.70912649e-02,  1.95342884e-03,  3.14703546e-02,\n",
       "        1.65404603e-02, -2.23616529e-02, -8.20166548e-04,  2.64395699e-02,\n",
       "       -3.30937952e-02, -9.95460432e-03, -1.41041111e-02,  1.64411645e-02,\n",
       "       -8.70760810e-03,  5.61190620e-02, -8.16306379e-03,  3.70795168e-02,\n",
       "        3.27868201e-02, -1.12855546e-02, -1.62520166e-02, -3.24172177e-03,\n",
       "        1.50923198e-02, -2.86354288e-03,  1.67712031e-04, -1.65762976e-02,\n",
       "        2.43142676e-02,  5.71735203e-03, -1.78267318e-03,  3.36752087e-03,\n",
       "        2.24684682e-02, -3.21703702e-02,  2.14087423e-02, -7.04179192e-03,\n",
       "        2.56180186e-02, -2.57404335e-03,  3.38634960e-02, -1.13948835e-02,\n",
       "       -3.10183614e-02,  7.56271929e-03, -1.11387931e-02, -2.96963397e-02,\n",
       "       -4.56491970e-02, -1.94892045e-02, -3.55050340e-02,  5.51210530e-02,\n",
       "       -2.12964602e-03, -2.56073126e-03,  2.81393901e-02, -2.13613212e-02,\n",
       "       -2.67891604e-02, -6.68338442e-04, -1.27176922e-02,  9.11919307e-03,\n",
       "        1.68594737e-02,  5.09397984e-02, -1.70496758e-02,  2.59294584e-02,\n",
       "        6.15793001e-03,  2.40768865e-03,  3.31372879e-02,  2.39813142e-03,\n",
       "        4.74896878e-02, -1.92090701e-02, -1.80332467e-03, -2.37151589e-02,\n",
       "        2.87583210e-02, -2.15186663e-02,  1.44148050e-02,  4.21755482e-04],\n",
       "      dtype=float32)"
      ]
     },
     "execution_count": 450,
     "metadata": {},
     "output_type": "execute_result"
    }
   ],
   "source": [
    "#영화 jungle_book 의 벡터 \n",
    "jungle_book_vector"
   ]
  },
  {
   "cell_type": "markdown",
   "id": "706010b3",
   "metadata": {},
   "source": [
    "\n",
    "\n"
   ]
  },
  {
   "cell_type": "markdown",
   "id": "f76fc351",
   "metadata": {},
   "source": [
    "* 내 선호 영화들과 sister_act 의 벡터를 내적해서 수치를 확인 해 봅시다:) "
   ]
  },
  {
   "cell_type": "code",
   "execution_count": 451,
   "id": "d59cb2db",
   "metadata": {},
   "outputs": [
    {
     "data": {
      "text/plain": [
       "0.5552812"
      ]
     },
     "execution_count": 451,
     "metadata": {},
     "output_type": "execute_result"
    }
   ],
   "source": [
    "np.dot(gy_vector, jungle_book_vector)"
   ]
  },
  {
   "cell_type": "code",
   "execution_count": 452,
   "id": "748f06d1",
   "metadata": {},
   "outputs": [
    {
     "data": {
      "text/plain": [
       "0.026179649"
      ]
     },
     "execution_count": 452,
     "metadata": {},
     "output_type": "execute_result"
    }
   ],
   "source": [
    "varsity_blues = movie_to_idx['varsity blues (1999)']\n",
    "varsity_blues_vector = als_model.item_factors[varsity_blues]\n",
    "np.dot(gy_vector, varsity_blues_vector)"
   ]
  },
  {
   "attachments": {
    "image.png": {
     "image/png": "[encoded data removed]"
    }
   },
   "cell_type": "markdown",
   "id": "e60e1e20",
   "metadata": {},
   "source": [
    "\n",
    "* 선택한 다른 영화는 검색하기 전 까지 정말 몰랐던 영화이고, 검색해보니..  \n",
    "![image.png](attachment:image.png) \n",
    "(출처 : https://movie.daum.net/moviedb/main?movieId=3415)\n",
    "* 내가 선호한다고 골랐던 영화와는 완전 다른 느낌의 영화였다. \n",
    "* 그런고로, 선호 영화들과의 수치가 올라갈 수록, varsity blues 와의 수치가 점점 낮아지는건 당연하다 볼 수 있겠다. "
   ]
  },
  {
   "cell_type": "markdown",
   "id": "dbc9648e",
   "metadata": {},
   "source": [
    "================================== 첫번째 경우 (기본값) ============================================"
   ]
  },
  {
   "attachments": {
    "image.png": {
     "image/png": "[encoded data removed]"
    }
   },
   "cell_type": "markdown",
   "id": "0c49580d",
   "metadata": {},
   "source": [
    "![image.png](attachment:image.png)\n",
    "* 선호 목록에 있는 영화도 수치가 그리 좋지 못하게 나오는걸 보면, 무언가 부족한것같다. \n",
    "* AlternatingLeastSquares 의 파라미터 값을 변경해서 다시 시도해보자.   \n",
    "    이대로 진행해도, 추천 영화가 만족스럽게 나오지 않을 것 같다.   \n",
    "  기본값 : `factors=100, regularization=0.01, use_gpu=False, iterations=15, dtype=np.float32)`"
   ]
  },
  {
   "cell_type": "markdown",
   "id": "51e18b90",
   "metadata": {},
   "source": [
    "\n",
    "\n"
   ]
  },
  {
   "cell_type": "markdown",
   "id": "2ec2990c",
   "metadata": {},
   "source": [
    "============================ 두번째 경우 (파라미터 변경)==========================================="
   ]
  },
  {
   "attachments": {
    "image.png": {
     "image/png": "[encoded data removed]"
    }
   },
   "cell_type": "markdown",
   "id": "46e0887d",
   "metadata": {},
   "source": [
    "![image.png](attachment:image.png)  \n",
    "\n",
    "2번째 경우 `factors=200, regularization=0.01, use_gpu=False, iterations=50, dtype=np.float32`  \n",
    "* 내 선호 영화들과의 수치가 상승된것을 확인 할 수 있었지만, 목표치를 0.5 이상으로 잡고있기에, 파라미터값을 한번 더 수정해서 학습시켜 보기로 한다. \n"
   ]
  },
  {
   "cell_type": "markdown",
   "id": "f8e742e6",
   "metadata": {},
   "source": [
    "============================ 세번째 경우 (파라미터 변경)==========================================="
   ]
  },
  {
   "attachments": {
    "image.png": {
     "image/png": "[encoded data removed]"
    }
   },
   "cell_type": "markdown",
   "id": "a5e33b5c",
   "metadata": {},
   "source": [
    "![image.png](attachment:image.png)  \n",
    "\n",
    "\n",
    "세번째 경우 : `factors=300, regularization=0.01, use_gpu=False, iterations=150, dtype=np.float32`\n",
    "* 벡터값, epoch 값을 대폭 늘려 학습을 진행해보았다. \n",
    "* 확실히 기본 값 보다 많은 학습이 진행 된 만큼, 만족스럽게 나온것 같다. \n",
    "* 이렇게 만들어진 모델로 영화를 추천 받아보자!"
   ]
  },
  {
   "cell_type": "markdown",
   "id": "e555cde5",
   "metadata": {},
   "source": [
    "\n",
    "\n"
   ]
  },
  {
   "cell_type": "markdown",
   "id": "0a56198f",
   "metadata": {},
   "source": [
    "## &nbsp;&nbsp; 6-2 내가 좋아하는 영화와 비슷한 영화를 추천받기! \n",
    "\n",
    "\n",
    "* 학습시킨 모델에게 선호 영화와 비슷한 영화를 추천 받아보겠습니다. "
   ]
  },
  {
   "cell_type": "code",
   "execution_count": 459,
   "id": "af3a08e8",
   "metadata": {},
   "outputs": [
    {
     "data": {
      "text/plain": [
       "[(668, 1.0),\n",
       " (1586, 0.35753053),\n",
       " (567, 0.32607287),\n",
       " (3591, 0.31739777),\n",
       " (821, 0.3062695),\n",
       " (892, 0.27428102),\n",
       " (635, 0.25624824),\n",
       " (712, 0.25256157),\n",
       " (507, 0.24283238),\n",
       " (931, 0.2345308),\n",
       " (545, 0.23447458),\n",
       " (605, 0.22950806),\n",
       " (2833, 0.22709979),\n",
       " (341, 0.21662548),\n",
       " (555, 0.2104395)]"
      ]
     },
     "execution_count": 459,
     "metadata": {},
     "output_type": "execute_result"
    }
   ],
   "source": [
    "favorite_movie = 'sister act (1992)'\n",
    "movie_id = movie_to_idx[favorite_movie]\n",
    "similar_movie = als_model.similar_items(movie_id, N=15)\n",
    "similar_movie\n"
   ]
  },
  {
   "cell_type": "markdown",
   "id": "c1410361",
   "metadata": {},
   "source": [
    "* (아티스트의 id, 유사도) 순.  Tuple 로 반환 되었습니다. \n",
    "* tuple을 다시 id, text 이름으로 매핑 시켜줍니다. "
   ]
  },
  {
   "cell_type": "code",
   "execution_count": 460,
   "id": "1aad1a8a",
   "metadata": {},
   "outputs": [
    {
     "data": {
      "text/plain": [
       "['sister act (1992)',\n",
       " 'sister act 2: back in the habit (1993)',\n",
       " 'first wives club, the (1996)',\n",
       " \"heaven's burning (1997)\",\n",
       " 'mrs. doubtfire (1993)',\n",
       " 'in & out (1997)',\n",
       " 'robin hood: men in tights (1993)',\n",
       " 'to wong foo, thanks for everything! julie newmar (1995)',\n",
       " 'home alone (1990)',\n",
       " 'hocus pocus (1993)',\n",
       " 'santa clause, the (1994)',\n",
       " 'cool runnings (1993)',\n",
       " 'shaggy d.a., the (1976)',\n",
       " 'mighty ducks, the (1992)',\n",
       " 'heart and souls (1993)']"
      ]
     },
     "execution_count": 460,
     "metadata": {},
     "output_type": "execute_result"
    }
   ],
   "source": [
    "#movie_to_idx 를 뒤집어, index로부터 artist 이름을 얻는 dict를 생성합니다. \n",
    "idx_to_movie = {v:k for k,v in movie_to_idx.items()}\n",
    "[idx_to_movie[i[0]] for i in similar_artist]\n"
   ]
  },
  {
   "cell_type": "markdown",
   "id": "3e4415eb",
   "metadata": {},
   "source": [
    "\n",
    "\n"
   ]
  },
  {
   "cell_type": "markdown",
   "id": "e4da41c6",
   "metadata": {},
   "source": [
    "* 위 과정을 몇번 더 반복 해 주기 위해 함수화 해봅니다. "
   ]
  },
  {
   "cell_type": "code",
   "execution_count": 462,
   "id": "ad6b85d7",
   "metadata": {},
   "outputs": [],
   "source": [
    "def get_similar_movie(movie_name: str):\n",
    "    movie_id = movie_to_idx[movie_name]\n",
    "    similar_movie = als_model.similar_items(movie_id)\n",
    "    similar_movie = [idx_to_movie[i[0]] for i in similar_movie]\n",
    "    return similar_movie"
   ]
  },
  {
   "cell_type": "markdown",
   "id": "3aac2de9",
   "metadata": {},
   "source": [
    "\n",
    "\n"
   ]
  },
  {
   "cell_type": "code",
   "execution_count": 464,
   "id": "89c44d66",
   "metadata": {},
   "outputs": [
    {
     "data": {
      "text/plain": [
       "['toy story (1995)',\n",
       " 'toy story 2 (1999)',\n",
       " \"bug's life, a (1998)\",\n",
       " 'aladdin (1992)',\n",
       " 'lion king, the (1994)',\n",
       " 'soft toilet seats (1999)',\n",
       " 'babe (1995)',\n",
       " 'groundhog day (1993)',\n",
       " 'wrong trousers, the (1993)',\n",
       " 'beauty and the beast (1991)']"
      ]
     },
     "execution_count": 464,
     "metadata": {},
     "output_type": "execute_result"
    }
   ],
   "source": [
    "get_similar_movie('toy story (1995)')"
   ]
  },
  {
   "cell_type": "markdown",
   "id": "540a9845",
   "metadata": {},
   "source": [
    "\n",
    "\n"
   ]
  },
  {
   "cell_type": "markdown",
   "id": "5ea9ef2f",
   "metadata": {},
   "source": [
    "## &nbsp;&nbsp; 6-3 내가 좋아할만한 영화 추천 받기 \n",
    "\n",
    "\n",
    "- `AlternatingLeastSquares` 클래스에 구현되어 있는 `recommend` 메서드를 통하여 제가 좋아할 만한 영화를 추천받습니다.\n",
    "- `filter_already_liked_items`\n",
    "    - 유저가 이미 평가한 아이템은 제외하는 Argument입니다."
   ]
  },
  {
   "cell_type": "code",
   "execution_count": 465,
   "id": "05f62aab",
   "metadata": {},
   "outputs": [
    {
     "data": {
      "text/plain": [
       "[(547, 0.2665736),\n",
       " (23, 0.26131552),\n",
       " (45, 0.24125896),\n",
       " (191, 0.23419997),\n",
       " (821, 0.22799787),\n",
       " (46, 0.21076073),\n",
       " (572, 0.20831487),\n",
       " (8, 0.20385072),\n",
       " (551, 0.20217027),\n",
       " (567, 0.20080262),\n",
       " (1369, 0.19972497),\n",
       " (67, 0.19621497),\n",
       " (33, 0.19370946),\n",
       " (37, 0.18457665),\n",
       " (475, 0.18391974),\n",
       " (904, 0.181761),\n",
       " (520, 0.18006265),\n",
       " (626, 0.17923963),\n",
       " (559, 0.1767573),\n",
       " (341, 0.17527154)]"
      ]
     },
     "execution_count": 465,
     "metadata": {},
     "output_type": "execute_result"
    }
   ],
   "source": [
    "user = user_to_idx['gy_jeong']\n",
    "# recommend에서는 user*item CSR Matrix를 받습니다.\n",
    "movie_recommended = als_model.recommend(user, csr_data, N=20, filter_already_liked_items=True)\n",
    "movie_recommended"
   ]
  },
  {
   "cell_type": "code",
   "execution_count": 467,
   "id": "7fff1743",
   "metadata": {},
   "outputs": [
    {
     "data": {
      "text/plain": [
       "['lady and the tramp (1955)',\n",
       " \"schindler's list (1993)\",\n",
       " 'mary poppins (1964)',\n",
       " 'little mermaid, the (1989)',\n",
       " 'mrs. doubtfire (1993)',\n",
       " 'dumbo (1941)',\n",
       " 'sleeping beauty (1959)',\n",
       " 'snow white and the seven dwarfs (1937)',\n",
       " 'peter pan (1953)',\n",
       " 'first wives club, the (1996)',\n",
       " '101 dalmatians (1996)',\n",
       " 'gladiator (2000)',\n",
       " 'aladdin (1992)',\n",
       " 'cinderella (1950)',\n",
       " 'my cousin vinny (1992)',\n",
       " 'clockwork orange, a (1971)',\n",
       " \"charlotte's web (1973)\",\n",
       " \"you've got mail (1998)\",\n",
       " 'robin hood (1973)',\n",
       " 'mighty ducks, the (1992)']"
      ]
     },
     "execution_count": 467,
     "metadata": {},
     "output_type": "execute_result"
    }
   ],
   "source": [
    "[idx_to_movie[i[0]] for i in movie_recommended]"
   ]
  },
  {
   "cell_type": "markdown",
   "id": "7fdbd08f",
   "metadata": {},
   "source": [
    "* 디즈니 애니메이션을 기입했던 만큼, 101한마리 달마시안, 덤보와 같은 애니메이션 추천이 많다. 선호하는 영화와 비슷한영화, 좋아할만한 영화를 잘 추천해 준 것 같다. \n",
    "* 과제를 끝내놓고 신데렐라를 한번 봐야겠다ㅎㅎ:) "
   ]
  },
  {
   "cell_type": "markdown",
   "id": "39dfb0eb",
   "metadata": {},
   "source": [
    "\n",
    "\n",
    "\n",
    "---\n",
    "\n",
    "\n"
   ]
  },
  {
   "cell_type": "markdown",
   "id": "7b5a7bac",
   "metadata": {},
   "source": [
    "# 후기!"
   ]
  },
  {
   "cell_type": "markdown",
   "id": "3754ddba",
   "metadata": {},
   "source": [
    "* 이번 프로젝트로 인해, 넷플릭스나 디즈니 플러스 등의 스트리밍 사이트에서 어떤 식으로 우리에게 영상을 추천하는지 알 수 있었다.\n",
    "\n",
    "\n",
    "* 진행 하고 나서 생각이 들었지만, 영화 제목(title)란에는 개봉년도가 함께 기재되어있는데, 이 부분을 컬럼을 만들어 분리시킨다거나, 전처리 과정에서 없애줬더라면, 영문 영화 제목만 기재해주면 되니, 일일이 영화 제목을 데이터셋 안에서 검색하거나, 이미 출력 된 영화 제목을 찾으러 가지 않아도 됬을것이다. 데이터 처리 할 때 한번 더 생각했었으면 좋았을걸.. \n",
    "\n",
    "\n",
    "* dataframe 다루기, 연습이 무지많이 필요하다.. 검색하고, 반복해서 하다보면 손에 익지않을..까..? 그러니 열심히 연습해보자구? "
   ]
  },
  {
   "cell_type": "markdown",
   "id": "d133d868",
   "metadata": {},
   "source": [
    "\n",
    "\n",
    "\n",
    "---\n",
    "\n",
    "\n"
   ]
  },
  {
   "cell_type": "markdown",
   "id": "5b563961",
   "metadata": {},
   "source": [
    "# 🖇️참고페이지"
   ]
  },
  {
   "cell_type": "markdown",
   "id": "e581c412",
   "metadata": {},
   "source": [
    "* [프로젝트 전반 참고 자료](https://wikidocs.net/120609)\n",
    "\n",
    "\n",
    "### dataframe 다루기 관련 \n",
    "\n",
    "\n",
    "* [데이터 프레임 합치기](https://yganalyst.github.io/data_handling/Pd_12/)\n",
    "* [데이터 프레임 행 추가](https://blog.naver.com/PostView.nhn?blogId=rising_n_falling&logNo=221629326893)"
   ]
  }
 ],
 "metadata": {
  "kernelspec": {
   "display_name": "Python 3 (ipykernel)",
   "language": "python",
   "name": "python3"
  },
  "language_info": {
   "codemirror_mode": {
    "name": "ipython",
    "version": 3
   },
   "file_extension": ".py",
   "mimetype": "text/x-python",
   "name": "python",
   "nbconvert_exporter": "python",
   "pygments_lexer": "ipython3",
   "version": "3.9.7"
  }
 },
 "nbformat": 4,
 "nbformat_minor": 5
}
