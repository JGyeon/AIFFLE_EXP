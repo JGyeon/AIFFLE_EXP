{
 "cells": [
  {
   "cell_type": "markdown",
   "id": "cce123b6",
   "metadata": {},
   "source": [
    "# EXP 16 다음에 볼 영화 예측하기 \n",
    "\n",
    "\n",
    "* 이번 시간에는 전자상거래에서 많이 쓰이는 Session based Recommendation 시스템 에 대해 배워보았고, E-Commerce 데이터셋을 가져와 모델을 구축하고, 학습하여 MRR과 Recall@k 지표를 이용해 모델의 성능을 평가 해 봤습니다. \n",
    "\n",
    "\n",
    "* 이번 프로젝트에선 `Movielens 1M Dataset` 을 기반으로, `Session based Recommendation` 시스템을 제작해 보겠습니다.  "
   ]
  },
  {
   "cell_type": "markdown",
   "id": "b77e3cda",
   "metadata": {},
   "source": [
    "\n",
    "\n",
    "----\n",
    "\n"
   ]
  },
  {
   "cell_type": "markdown",
   "id": "643f0774",
   "metadata": {},
   "source": [
    "# 루브릭 평가 기준\n",
    "\n",
    "\n",
    "| 평가문항 | 상세기준 |\n",
    "| :---: | :---: |\n",
    "| 1. Movielens 데이터셋을 session based recommendation 관점으로 전처리하는 과정이 체계적으로 진행되었다. | 데이터셋의 면밀한 분석을 토대로 세션단위 정의 과정(길이분석, 시간분석)을 합리적으로 수행한 과정이 기술되었다. |\n",
    "| 2. RNN 기반의 예측 모델이 정상적으로 구성되어 안정적으로 훈련이 진행되었다. | 적절한 epoch만큼의 학습이 진행되는 과정에서 train loss가 안정적으로 감소하고, validation 단계에서의 Recall, MRR이 개선되는 것이 확인된다. |\n",
    "| 3. 세션정의, 모델구조, 하이퍼파라미터 등을 변경해서 실험하여 Recall, MRR 등의 변화추이를 관찰하였다. | 3가지 이상의 변화를 시도하고 그 실험결과를 체계적으로 분석하였다. |"
   ]
  },
  {
   "cell_type": "markdown",
   "id": "51abdabb",
   "metadata": {},
   "source": [
    "\n",
    "\n",
    "----\n",
    "\n",
    "\n"
   ]
  },
  {
   "cell_type": "markdown",
   "id": "4d5fbe50",
   "metadata": {},
   "source": [
    "# 목차 \n",
    "\n",
    "## 1. 데이터셋, 라이브러리 불러오기\n",
    "\n",
    "\n",
    "## 2. 데이터의 전처리\n",
    "\n",
    "\n",
    "## 3. 데이터셋 분리 & 미니 배치의 구성\n",
    "\n",
    "\n",
    "## 4. 모델 구성\n",
    "\n",
    "\n",
    "## 5. 모델 학습\n",
    "\n",
    "\n",
    "## 6. 모델 테스트 \n",
    "\n",
    "\n",
    "## 회고!\n",
    "\n",
    "\n",
    "## 🖇️참고 페이지 "
   ]
  },
  {
   "cell_type": "markdown",
   "id": "53da44e4",
   "metadata": {},
   "source": [
    "\n",
    "\n",
    "\n",
    "-----\n",
    "\n",
    "\n"
   ]
  },
  {
   "cell_type": "markdown",
   "id": "545dc991",
   "metadata": {},
   "source": [
    "# 1. 데이터셋, 라이브러리 불러오기\n",
    "\n",
    "\n",
    "* 이번 프로젝트에 필요한 라이브러리와 데이터셋을 불러옵니다. \n",
    "* 데이터셋은 클라우드에 있기 때문에 경로로 불러와 주겠습니다. "
   ]
  },
  {
   "cell_type": "markdown",
   "id": "bc5e06b3",
   "metadata": {},
   "source": [
    "## &nbsp;&nbsp; 1-1 라이브러리 불러오기 "
   ]
  },
  {
   "cell_type": "code",
   "execution_count": 1,
   "id": "caa5f9bf",
   "metadata": {},
   "outputs": [],
   "source": [
    "import datetime as dt\n",
    "from pathlib import Path\n",
    "import os\n",
    "import tensorflow as tf\n",
    "import numpy as np\n",
    "import pandas as pd\n",
    "import warnings\n",
    "warnings.filterwarnings('ignore')\n",
    "import matplotlib.pyplot as plt\n",
    "import time, datetime\n",
    "\n",
    "from tensorflow.keras.layers import Input, Dense, Dropout, GRU\n",
    "from tensorflow.keras.losses import categorical_crossentropy\n",
    "from tensorflow.keras.models import Model\n",
    "from tensorflow.keras.optimizers import Adam\n",
    "from tensorflow.keras.utils import to_categorical\n",
    "from tqdm import tqdm"
   ]
  },
  {
   "cell_type": "code",
   "execution_count": 2,
   "id": "320c76c5",
   "metadata": {},
   "outputs": [
    {
     "name": "stdout",
     "output_type": "stream",
     "text": [
      "1.3.3\n",
      "2.6.0\n"
     ]
    }
   ],
   "source": [
    "# 주요 라이브러리 버전을 확인 합니다. \n",
    "print(pd.__version__)\n",
    "print(tf.__version__)"
   ]
  },
  {
   "cell_type": "markdown",
   "id": "3c2c17e1",
   "metadata": {},
   "source": [
    "\n",
    "\n"
   ]
  },
  {
   "cell_type": "markdown",
   "id": "5e34f403",
   "metadata": {},
   "source": [
    "## &nbsp;&nbsp; 1-2 디렉토리 생성하기 \n",
    "\n",
    "\n",
    "* 디렉토리는 LMS 진행중 해 주었으므로 추가로 해 주진 않습니다. "
   ]
  },
  {
   "cell_type": "code",
   "execution_count": 3,
   "id": "808bc631",
   "metadata": {},
   "outputs": [],
   "source": [
    "# 1) 데이터 확인\n",
    "# $ ls -l ~/data\n",
    "\n",
    "# 2) 프로젝트 폴더 생성\n",
    "# $ mkdir -p ~/aiffel/yoochoose\n",
    "\n",
    "# 3) 프로젝트 폴더로 데이터 폴더 링크 연결\n",
    "# $ ln -s ~/data/* ~/aiffel/yoochoose/data"
   ]
  },
  {
   "cell_type": "markdown",
   "id": "d79c4ad1",
   "metadata": {},
   "source": [
    "\n",
    "\n"
   ]
  },
  {
   "cell_type": "markdown",
   "id": "e04197ac",
   "metadata": {},
   "source": [
    "## &nbsp;&nbsp; 1-3 데이터 불러오기 및 확인하기 \n",
    "\n",
    "\n",
    "* 필요한 데이터셋을 불러옵니다. \n",
    "* 추천 시스템을 구축할 때 가장 먼저 유저 수(세션수) 와 아이템 수를 먼저 확인 해 봐야 합니다. \n",
    "* 각 세션이 대략 몇 개의 클릭 데이터를 갖는 지도 살펴봅시다. "
   ]
  },
  {
   "cell_type": "markdown",
   "id": "24d9feac",
   "metadata": {},
   "source": [
    "### 이전 실습 내역과 다른 부분이 있습니다! 주의하면서 노드를 진행 해 주세요:D \n",
    "\n",
    "\n",
    "1. **SessionID 대신 UserID 항목이 들어갔다.**  \n",
    "    명확한 1회 세션의 Session ID를 포함하고 있지 않기 때문에, 그 역할을 UserID가 합니다. \n",
    "    \n",
    "    \n",
    "2. **Rating 정보가 포함되어 있습니다.**  \n",
    "    별점 정보! 직전에 봤던 영화의 선호도에 따라 비슷한 영화를 더 고르게 하는것과 상관이 있을 수도 있다. \n",
    "    Rating이 낮은 데이터는 어떻게 처리할까요? (이거 이전 노드에 있었지 rating 3 미만은 지우는거)\n",
    "\n",
    "\n",
    "3. **Time 항목에는 UCT time이 포함되어 1970년 1월 1일부터 경과된 초 단위 시간(timestamp)이 기재되어 있습니다.**"
   ]
  },
  {
   "cell_type": "markdown",
   "id": "c3b8162f",
   "metadata": {},
   "source": [
    "###  &nbsp;&nbsp;&nbsp;&nbsp; 1-3-1 데이터 불러오기 "
   ]
  },
  {
   "cell_type": "code",
   "execution_count": 4,
   "id": "77faa5d1",
   "metadata": {},
   "outputs": [
    {
     "data": {
      "text/html": [
       "<div>\n",
       "<style scoped>\n",
       "    .dataframe tbody tr th:only-of-type {\n",
       "        vertical-align: middle;\n",
       "    }\n",
       "\n",
       "    .dataframe tbody tr th {\n",
       "        vertical-align: top;\n",
       "    }\n",
       "\n",
       "    .dataframe thead th {\n",
       "        text-align: right;\n",
       "    }\n",
       "</style>\n",
       "<table border=\"1\" class=\"dataframe\">\n",
       "  <thead>\n",
       "    <tr style=\"text-align: right;\">\n",
       "      <th></th>\n",
       "      <th>UserId</th>\n",
       "      <th>ItemId</th>\n",
       "      <th>Rating</th>\n",
       "      <th>timestamp</th>\n",
       "    </tr>\n",
       "  </thead>\n",
       "  <tbody>\n",
       "    <tr>\n",
       "      <th>31</th>\n",
       "      <td>1</td>\n",
       "      <td>3186</td>\n",
       "      <td>4</td>\n",
       "      <td>978300019</td>\n",
       "    </tr>\n",
       "    <tr>\n",
       "      <th>22</th>\n",
       "      <td>1</td>\n",
       "      <td>1270</td>\n",
       "      <td>5</td>\n",
       "      <td>978300055</td>\n",
       "    </tr>\n",
       "    <tr>\n",
       "      <th>27</th>\n",
       "      <td>1</td>\n",
       "      <td>1721</td>\n",
       "      <td>4</td>\n",
       "      <td>978300055</td>\n",
       "    </tr>\n",
       "    <tr>\n",
       "      <th>37</th>\n",
       "      <td>1</td>\n",
       "      <td>1022</td>\n",
       "      <td>5</td>\n",
       "      <td>978300055</td>\n",
       "    </tr>\n",
       "    <tr>\n",
       "      <th>24</th>\n",
       "      <td>1</td>\n",
       "      <td>2340</td>\n",
       "      <td>3</td>\n",
       "      <td>978300103</td>\n",
       "    </tr>\n",
       "    <tr>\n",
       "      <th>...</th>\n",
       "      <td>...</td>\n",
       "      <td>...</td>\n",
       "      <td>...</td>\n",
       "      <td>...</td>\n",
       "    </tr>\n",
       "    <tr>\n",
       "      <th>1000019</th>\n",
       "      <td>6040</td>\n",
       "      <td>2917</td>\n",
       "      <td>4</td>\n",
       "      <td>997454429</td>\n",
       "    </tr>\n",
       "    <tr>\n",
       "      <th>999988</th>\n",
       "      <td>6040</td>\n",
       "      <td>1921</td>\n",
       "      <td>4</td>\n",
       "      <td>997454464</td>\n",
       "    </tr>\n",
       "    <tr>\n",
       "      <th>1000172</th>\n",
       "      <td>6040</td>\n",
       "      <td>1784</td>\n",
       "      <td>3</td>\n",
       "      <td>997454464</td>\n",
       "    </tr>\n",
       "    <tr>\n",
       "      <th>1000167</th>\n",
       "      <td>6040</td>\n",
       "      <td>161</td>\n",
       "      <td>3</td>\n",
       "      <td>997454486</td>\n",
       "    </tr>\n",
       "    <tr>\n",
       "      <th>1000042</th>\n",
       "      <td>6040</td>\n",
       "      <td>1221</td>\n",
       "      <td>4</td>\n",
       "      <td>998315055</td>\n",
       "    </tr>\n",
       "  </tbody>\n",
       "</table>\n",
       "<p>1000209 rows × 4 columns</p>\n",
       "</div>"
      ],
      "text/plain": [
       "         UserId  ItemId  Rating  timestamp\n",
       "31            1    3186       4  978300019\n",
       "22            1    1270       5  978300055\n",
       "27            1    1721       4  978300055\n",
       "37            1    1022       5  978300055\n",
       "24            1    2340       3  978300103\n",
       "...         ...     ...     ...        ...\n",
       "1000019    6040    2917       4  997454429\n",
       "999988     6040    1921       4  997454464\n",
       "1000172    6040    1784       3  997454464\n",
       "1000167    6040     161       3  997454486\n",
       "1000042    6040    1221       4  998315055\n",
       "\n",
       "[1000209 rows x 4 columns]"
      ]
     },
     "execution_count": 4,
     "metadata": {},
     "output_type": "execute_result"
    }
   ],
   "source": [
    "data_path = Path(os.getenv('HOME')+'/aiffel/yoochoose/data/') \n",
    "train_path = data_path / 'ratings.dat'\n",
    "\n",
    "def load_data(data_path: Path, nrows=None):\n",
    "    data = pd.read_csv(data_path, sep='::', header=None, usecols=[0, 1, 2, 3], dtype={0: np.int32, 1: np.int32, 2: np.int32}, nrows=nrows)\n",
    "    data.columns = ['UserId', 'ItemId', 'Rating', 'timestamp']\n",
    "    return data\n",
    "\n",
    "data = load_data(train_path, None)\n",
    "data.sort_values(['UserId', 'timestamp'], inplace=True)  # data를 id와 시간 순서로 정렬해줍니다.\n",
    "data"
   ]
  },
  {
   "cell_type": "markdown",
   "id": "03e4a53a",
   "metadata": {},
   "source": [
    "\n",
    "\n"
   ]
  },
  {
   "cell_type": "markdown",
   "id": "10b51e2a",
   "metadata": {},
   "source": [
    "###  &nbsp;&nbsp;&nbsp;&nbsp; 1-3-2 유저 수(세션수) 와 아이템 수 확인하기 "
   ]
  },
  {
   "cell_type": "code",
   "execution_count": 5,
   "id": "cb781d41",
   "metadata": {},
   "outputs": [
    {
     "data": {
      "text/plain": [
       "(6040, 3706)"
      ]
     },
     "execution_count": 5,
     "metadata": {},
     "output_type": "execute_result"
    }
   ],
   "source": [
    "data['UserId'].nunique(), data['ItemId'].nunique()"
   ]
  },
  {
   "cell_type": "markdown",
   "id": "35aba0e6",
   "metadata": {},
   "source": [
    "* 세션(User ID)의 개수 : 6040개 \n",
    "    * 같은 유저가 여러 개의 세션을 만들었기 때문에 세션의 개수가 아이템의 개수에 비해 많은 것. \n",
    "\n",
    "\n",
    "* 아이템 개수 : 3706개 "
   ]
  },
  {
   "cell_type": "code",
   "execution_count": 6,
   "id": "96344bb0",
   "metadata": {},
   "outputs": [
    {
     "name": "stdout",
     "output_type": "stream",
     "text": [
      "    UserId  ItemId  Rating  timestamp\n",
      "31       1    3186       4  978300019\n",
      "22       1    1270       5  978300055\n",
      "27       1    1721       4  978300055\n",
      "37       1    1022       5  978300055\n",
      "24       1    2340       3  978300103\n",
      "36       1    1836       5  978300172\n",
      "3        1    3408       4  978300275\n",
      "7        1    2804       5  978300719\n",
      "47       1    1207       4  978300719\n",
      "0        1    1193       5  978300760\n",
      "21       1     720       3  978300760\n",
      "44       1     260       4  978300760\n",
      "9        1     919       4  978301368\n",
      "51       1     608       4  978301398\n",
      "43       1    2692       4  978301570\n",
      "41       1    1961       5  978301590\n",
      "48       1    2028       5  978301619\n",
      "18       1    3105       5  978301713\n",
      "11       1     938       4  978301752\n",
      "14       1    1035       5  978301753\n",
      "42       1    1962       4  978301753\n",
      "17       1    2018       4  978301777\n",
      "39       1     150       5  978301777\n",
      "45       1    1028       5  978301777\n",
      "26       1    1097       4  978301953\n",
      "2        1     914       3  978301968\n",
      "6        1    1287       5  978302039\n",
      "19       1    2797       4  978302039\n",
      "38       1    2762       4  978302091\n",
      "52       1    1246       4  978302091\n",
      "1        1     661       3  978302109\n",
      "13       1    2918       4  978302124\n",
      "49       1     531       4  978302149\n",
      "50       1    3114       4  978302174\n",
      "15       1    2791       4  978302188\n",
      "20       1    2321       3  978302205\n",
      "46       1    1029       5  978302205\n",
      "5        1    1197       3  978302268\n",
      "8        1     594       4  978302268\n",
      "12       1    2398       4  978302281\n",
      "28       1    1545       4  978824139\n",
      "23       1     527       5  978824195\n",
      "10       1     595       5  978824268\n",
      "16       1    2687       3  978824268\n",
      "29       1     745       3  978824268\n",
      "33       1     588       4  978824268\n",
      "40       1       1       5  978824268\n",
      "4        1    2355       5  978824291\n",
      "30       1    2294       4  978824291\n",
      "35       1     783       4  978824291\n",
      "32       1    1566       4  978824330\n",
      "34       1    1907       4  978824330\n",
      "25       1      48       5  978824351\n"
     ]
    }
   ],
   "source": [
    "print(data.loc[data['UserId'] == 1])"
   ]
  },
  {
   "cell_type": "markdown",
   "id": "93d06f2d",
   "metadata": {},
   "source": [
    "* 실제로 user id가 1이란 사람은 53편의 영화를 보고 별점을 매겼다고 확인할 수 있습니다."
   ]
  },
  {
   "cell_type": "markdown",
   "id": "0e363939",
   "metadata": {},
   "source": [
    "\n",
    "\n"
   ]
  },
  {
   "cell_type": "markdown",
   "id": "18ece122",
   "metadata": {},
   "source": [
    "\n",
    "\n",
    "\n",
    "----\n",
    "\n",
    "\n"
   ]
  },
  {
   "cell_type": "markdown",
   "id": "b093d12f",
   "metadata": {},
   "source": [
    "# 2. 데이터의 전처리"
   ]
  },
  {
   "cell_type": "markdown",
   "id": "b61701a5",
   "metadata": {},
   "source": [
    "## &nbsp;&nbsp; 2-1 timestamp 변환하기 \n",
    "\n",
    "\n",
    "* Session Time 에서 활용해 주기 위해 timestamp 형식으로 되어있는 날짜 및 시간 값을 년/월/일/시간 으로 변환해 줍니다. \n",
    "\n",
    "\n",
    "### &nbsp;&nbsp;&nbsp;&nbsp;타임스탬프 시간\n",
    "&nbsp;&nbsp;&nbsp;&nbsp;-> 시간을 밀리세컨드(1/1000초)로 나타낸 값 "
   ]
  },
  {
   "cell_type": "code",
   "execution_count": 7,
   "id": "b18e8d91",
   "metadata": {},
   "outputs": [
    {
     "data": {
      "text/plain": [
       "31         978300019\n",
       "22         978300055\n",
       "27         978300055\n",
       "37         978300055\n",
       "24         978300103\n",
       "             ...    \n",
       "1000019    997454429\n",
       "999988     997454464\n",
       "1000172    997454464\n",
       "1000167    997454486\n",
       "1000042    998315055\n",
       "Name: timestamp, Length: 1000209, dtype: int64"
      ]
     },
     "execution_count": 7,
     "metadata": {},
     "output_type": "execute_result"
    }
   ],
   "source": [
    "data['timestamp']"
   ]
  },
  {
   "cell_type": "code",
   "execution_count": 8,
   "id": "22ced19d",
   "metadata": {},
   "outputs": [],
   "source": [
    "#pandas의 to_datetime 을 이용해 timestamp를 년/월/일 시간이 표기된 데이터로 바꿔줍니다. \n",
    "data['Time'] = pd.to_datetime(data['timestamp'], unit='s')"
   ]
  },
  {
   "cell_type": "code",
   "execution_count": 9,
   "id": "6fee0a4f",
   "metadata": {},
   "outputs": [
    {
     "data": {
      "text/html": [
       "<div>\n",
       "<style scoped>\n",
       "    .dataframe tbody tr th:only-of-type {\n",
       "        vertical-align: middle;\n",
       "    }\n",
       "\n",
       "    .dataframe tbody tr th {\n",
       "        vertical-align: top;\n",
       "    }\n",
       "\n",
       "    .dataframe thead th {\n",
       "        text-align: right;\n",
       "    }\n",
       "</style>\n",
       "<table border=\"1\" class=\"dataframe\">\n",
       "  <thead>\n",
       "    <tr style=\"text-align: right;\">\n",
       "      <th></th>\n",
       "      <th>UserId</th>\n",
       "      <th>ItemId</th>\n",
       "      <th>Rating</th>\n",
       "      <th>timestamp</th>\n",
       "      <th>Time</th>\n",
       "    </tr>\n",
       "  </thead>\n",
       "  <tbody>\n",
       "    <tr>\n",
       "      <th>1000019</th>\n",
       "      <td>6040</td>\n",
       "      <td>2917</td>\n",
       "      <td>4</td>\n",
       "      <td>997454429</td>\n",
       "      <td>2001-08-10 14:40:29</td>\n",
       "    </tr>\n",
       "    <tr>\n",
       "      <th>999988</th>\n",
       "      <td>6040</td>\n",
       "      <td>1921</td>\n",
       "      <td>4</td>\n",
       "      <td>997454464</td>\n",
       "      <td>2001-08-10 14:41:04</td>\n",
       "    </tr>\n",
       "    <tr>\n",
       "      <th>1000172</th>\n",
       "      <td>6040</td>\n",
       "      <td>1784</td>\n",
       "      <td>3</td>\n",
       "      <td>997454464</td>\n",
       "      <td>2001-08-10 14:41:04</td>\n",
       "    </tr>\n",
       "    <tr>\n",
       "      <th>1000167</th>\n",
       "      <td>6040</td>\n",
       "      <td>161</td>\n",
       "      <td>3</td>\n",
       "      <td>997454486</td>\n",
       "      <td>2001-08-10 14:41:26</td>\n",
       "    </tr>\n",
       "    <tr>\n",
       "      <th>1000042</th>\n",
       "      <td>6040</td>\n",
       "      <td>1221</td>\n",
       "      <td>4</td>\n",
       "      <td>998315055</td>\n",
       "      <td>2001-08-20 13:44:15</td>\n",
       "    </tr>\n",
       "  </tbody>\n",
       "</table>\n",
       "</div>"
      ],
      "text/plain": [
       "         UserId  ItemId  Rating  timestamp                Time\n",
       "1000019    6040    2917       4  997454429 2001-08-10 14:40:29\n",
       "999988     6040    1921       4  997454464 2001-08-10 14:41:04\n",
       "1000172    6040    1784       3  997454464 2001-08-10 14:41:04\n",
       "1000167    6040     161       3  997454486 2001-08-10 14:41:26\n",
       "1000042    6040    1221       4  998315055 2001-08-20 13:44:15"
      ]
     },
     "execution_count": 9,
     "metadata": {},
     "output_type": "execute_result"
    }
   ],
   "source": [
    "data.tail(5)"
   ]
  },
  {
   "cell_type": "markdown",
   "id": "916a08dc",
   "metadata": {},
   "source": [
    "\n",
    "\n"
   ]
  },
  {
   "cell_type": "markdown",
   "id": "41334b82",
   "metadata": {},
   "source": [
    "##  &nbsp;&nbsp; 2-2 Session Length \n",
    "\n",
    "- 여기서의 세션 길이란건 user 1명이 별점을 매긴 영화들의 개수 라고 생각할 수 있겠다. \n",
    "    - 설명하기 쉽게 영화에 평점을 매김 = 영화를 시청함 으로 이해하고 넘어가겠습니다. \n",
    "    \n",
    "    \n",
    "- 각 세션이 대략 몇 개의 클릭 데이터를 갖는 지도 살펴봅니다.\n",
    "\n",
    "\n",
    "- `session_length`\n",
    "    - 같은 `SessionId`를 공유하는 데이터 row의 개수를 의미함.\n",
    "    - 해당 세션의 사용자가 그 세션동안 몇번의 액션을 취했는지( 몇 개의 상품정보를 클릭했는지)의 의미가 됨.\n",
    "    \n",
    "    \n",
    "- `User ID`\n",
    "    - 브라우저에서 웹서버로 접속할 때 항상 포함하게 되는 유저 구분자\n",
    "    - 영화 스트리밍 사이트이기 때문에, 반드시 로그인 해야 시청 및 별점을 남길 수 있을 것이므로   \n",
    "      사용자들의 행동을 모아서 분류 해 낼 수 있습니다. "
   ]
  },
  {
   "cell_type": "code",
   "execution_count": 10,
   "id": "d50b8de3",
   "metadata": {},
   "outputs": [
    {
     "data": {
      "text/plain": [
       "UserId\n",
       "1        53\n",
       "2       129\n",
       "3        51\n",
       "4        21\n",
       "5       198\n",
       "       ... \n",
       "6036    888\n",
       "6037    202\n",
       "6038     20\n",
       "6039    123\n",
       "6040    341\n",
       "Length: 6040, dtype: int64"
      ]
     },
     "execution_count": 10,
     "metadata": {},
     "output_type": "execute_result"
    }
   ],
   "source": [
    "# user들이 본 영화 수량.\n",
    "# ex) userid 1 이란 사람이 본 영화 수량은 53개 입니다. \n",
    "session_length = data.groupby('UserId').size()\n",
    "session_length"
   ]
  },
  {
   "cell_type": "markdown",
   "id": "b7b11730",
   "metadata": {},
   "source": [
    "\n",
    "\n"
   ]
  },
  {
   "cell_type": "code",
   "execution_count": 11,
   "id": "3d0c436b",
   "metadata": {},
   "outputs": [
    {
     "data": {
      "text/plain": [
       "(96.0, 165.5975165562914)"
      ]
     },
     "execution_count": 11,
     "metadata": {},
     "output_type": "execute_result"
    }
   ],
   "source": [
    "# 세션 길이의 중간값과 평균 \n",
    "session_length.median(), session_length.mean()"
   ]
  },
  {
   "cell_type": "markdown",
   "id": "1b3a954c",
   "metadata": {},
   "source": [
    "* user들은 평균적으로 약 165편의 영화를 봤습니다. "
   ]
  },
  {
   "cell_type": "markdown",
   "id": "0e1fee7e",
   "metadata": {},
   "source": [
    "\n",
    "\n"
   ]
  },
  {
   "cell_type": "code",
   "execution_count": 12,
   "id": "804aad6a",
   "metadata": {},
   "outputs": [
    {
     "data": {
      "text/plain": [
       "(20, 2314)"
      ]
     },
     "execution_count": 12,
     "metadata": {},
     "output_type": "execute_result"
    }
   ],
   "source": [
    "# 세션 길이의 최솟값과 최댓값 \n",
    "session_length.min(), session_length.max()"
   ]
  },
  {
   "cell_type": "markdown",
   "id": "c691b351",
   "metadata": {},
   "source": [
    "* 영화를 가장 많이 본 유저는 2314편의 영화를 봤고, 적게 본 유저는 20편의 영화를 재생했습니다. "
   ]
  },
  {
   "cell_type": "code",
   "execution_count": 13,
   "id": "e5c9cb75",
   "metadata": {},
   "outputs": [
    {
     "data": {
      "text/plain": [
       "1343.181000000005"
      ]
     },
     "execution_count": 13,
     "metadata": {},
     "output_type": "execute_result"
    }
   ],
   "source": [
    "# 세션 길이의 변위 수?\n",
    "\n",
    "session_length.quantile(0.999)"
   ]
  },
  {
   "cell_type": "markdown",
   "id": "e3d3018f",
   "metadata": {},
   "source": [
    "* 변위 수\n",
    " \n",
    " -> 오름차순 or 내림차순 정렬 되어 있는 전체 자료를 특정 개수로 나눌때, **그 기준이 되는 수**를 변위수 라 합니다.\n",
    "\n",
    " \n",
    "    * 2분위수 = median\n",
    "    * 4분위수 = 자료 전체를 4등분 하는 수들이란 의미 = quartiles\n"
   ]
  },
  {
   "cell_type": "markdown",
   "id": "8bbf0080",
   "metadata": {},
   "source": [
    "* 99.9% 인 세션의 길이는 1343.1 \n",
    "* 최대 길이인 2314의 세션을 확인해 봅시다. "
   ]
  },
  {
   "cell_type": "code",
   "execution_count": 14,
   "id": "27f09a70",
   "metadata": {},
   "outputs": [
    {
     "data": {
      "text/html": [
       "<div>\n",
       "<style scoped>\n",
       "    .dataframe tbody tr th:only-of-type {\n",
       "        vertical-align: middle;\n",
       "    }\n",
       "\n",
       "    .dataframe tbody tr th {\n",
       "        vertical-align: top;\n",
       "    }\n",
       "\n",
       "    .dataframe thead th {\n",
       "        text-align: right;\n",
       "    }\n",
       "</style>\n",
       "<table border=\"1\" class=\"dataframe\">\n",
       "  <thead>\n",
       "    <tr style=\"text-align: right;\">\n",
       "      <th></th>\n",
       "      <th>UserId</th>\n",
       "      <th>ItemId</th>\n",
       "      <th>Rating</th>\n",
       "      <th>timestamp</th>\n",
       "      <th>Time</th>\n",
       "    </tr>\n",
       "  </thead>\n",
       "  <tbody>\n",
       "    <tr>\n",
       "      <th>696969</th>\n",
       "      <td>4169</td>\n",
       "      <td>1268</td>\n",
       "      <td>5</td>\n",
       "      <td>965333392</td>\n",
       "      <td>2000-08-03 20:09:52</td>\n",
       "    </tr>\n",
       "    <tr>\n",
       "      <th>697168</th>\n",
       "      <td>4169</td>\n",
       "      <td>2617</td>\n",
       "      <td>4</td>\n",
       "      <td>965333392</td>\n",
       "      <td>2000-08-03 20:09:52</td>\n",
       "    </tr>\n",
       "    <tr>\n",
       "      <th>697185</th>\n",
       "      <td>4169</td>\n",
       "      <td>2628</td>\n",
       "      <td>4</td>\n",
       "      <td>965333392</td>\n",
       "      <td>2000-08-03 20:09:52</td>\n",
       "    </tr>\n",
       "    <tr>\n",
       "      <th>697219</th>\n",
       "      <td>4169</td>\n",
       "      <td>2653</td>\n",
       "      <td>4</td>\n",
       "      <td>965333392</td>\n",
       "      <td>2000-08-03 20:09:52</td>\n",
       "    </tr>\n",
       "    <tr>\n",
       "      <th>697275</th>\n",
       "      <td>4169</td>\n",
       "      <td>423</td>\n",
       "      <td>3</td>\n",
       "      <td>965333392</td>\n",
       "      <td>2000-08-03 20:09:52</td>\n",
       "    </tr>\n",
       "    <tr>\n",
       "      <th>...</th>\n",
       "      <td>...</td>\n",
       "      <td>...</td>\n",
       "      <td>...</td>\n",
       "      <td>...</td>\n",
       "      <td>...</td>\n",
       "    </tr>\n",
       "    <tr>\n",
       "      <th>697882</th>\n",
       "      <td>4169</td>\n",
       "      <td>3754</td>\n",
       "      <td>2</td>\n",
       "      <td>1024174347</td>\n",
       "      <td>2002-06-15 20:52:27</td>\n",
       "    </tr>\n",
       "    <tr>\n",
       "      <th>695702</th>\n",
       "      <td>4169</td>\n",
       "      <td>1413</td>\n",
       "      <td>3</td>\n",
       "      <td>1024175031</td>\n",
       "      <td>2002-06-15 21:03:51</td>\n",
       "    </tr>\n",
       "    <tr>\n",
       "      <th>697358</th>\n",
       "      <td>4169</td>\n",
       "      <td>494</td>\n",
       "      <td>4</td>\n",
       "      <td>1024175760</td>\n",
       "      <td>2002-06-15 21:16:00</td>\n",
       "    </tr>\n",
       "    <tr>\n",
       "      <th>695945</th>\n",
       "      <td>4169</td>\n",
       "      <td>1804</td>\n",
       "      <td>2</td>\n",
       "      <td>1024175783</td>\n",
       "      <td>2002-06-15 21:16:23</td>\n",
       "    </tr>\n",
       "    <tr>\n",
       "      <th>696446</th>\n",
       "      <td>4169</td>\n",
       "      <td>1548</td>\n",
       "      <td>3</td>\n",
       "      <td>1024176337</td>\n",
       "      <td>2002-06-15 21:25:37</td>\n",
       "    </tr>\n",
       "  </tbody>\n",
       "</table>\n",
       "<p>2314 rows × 5 columns</p>\n",
       "</div>"
      ],
      "text/plain": [
       "        UserId  ItemId  Rating   timestamp                Time\n",
       "696969    4169    1268       5   965333392 2000-08-03 20:09:52\n",
       "697168    4169    2617       4   965333392 2000-08-03 20:09:52\n",
       "697185    4169    2628       4   965333392 2000-08-03 20:09:52\n",
       "697219    4169    2653       4   965333392 2000-08-03 20:09:52\n",
       "697275    4169     423       3   965333392 2000-08-03 20:09:52\n",
       "...        ...     ...     ...         ...                 ...\n",
       "697882    4169    3754       2  1024174347 2002-06-15 20:52:27\n",
       "695702    4169    1413       3  1024175031 2002-06-15 21:03:51\n",
       "697358    4169     494       4  1024175760 2002-06-15 21:16:00\n",
       "695945    4169    1804       2  1024175783 2002-06-15 21:16:23\n",
       "696446    4169    1548       3  1024176337 2002-06-15 21:25:37\n",
       "\n",
       "[2314 rows x 5 columns]"
      ]
     },
     "execution_count": 14,
     "metadata": {},
     "output_type": "execute_result"
    }
   ],
   "source": [
    "long_session = session_length[session_length==2314].index[0]\n",
    "data[data['UserId']==long_session]"
   ]
  },
  {
   "cell_type": "markdown",
   "id": "c05d79b0",
   "metadata": {},
   "source": [
    "* 영화 평가를 매우 짧은시간에 많이 한 것을 알 수 있는데, 서비스하는 영화를 이전에 본 적이 있어, 영화에 대한 평점을 바로바로 매겼기 때문에 저런 결과가 나온 것이 아닐까 추측해본다. \n",
    "\n",
    "\n",
    "* 세선 길이 기준 하위 99.9% 까지의 분포 누적합을 시각화 해 보겠습니다."
   ]
  },
  {
   "cell_type": "code",
   "execution_count": 15,
   "id": "31368376",
   "metadata": {},
   "outputs": [
    {
     "data": {
      "text/plain": [
       "20      0.014238\n",
       "21      0.029305\n",
       "22      0.042053\n",
       "23      0.055464\n",
       "24      0.068874\n",
       "          ...   \n",
       "1271    0.998179\n",
       "1277    0.998344\n",
       "1286    0.998510\n",
       "1302    0.998675\n",
       "1323    0.998841\n",
       "Length: 736, dtype: float64"
      ]
     },
     "execution_count": 15,
     "metadata": {},
     "output_type": "execute_result"
    }
   ],
   "source": [
    "length_count = session_length.groupby(session_length).size()\n",
    "length_percent_cumsum = length_count.cumsum() / length_count.sum()\n",
    "length_percent_cumsum_999 = length_percent_cumsum[length_percent_cumsum < 0.999]\n",
    "\n",
    "length_percent_cumsum_999"
   ]
  },
  {
   "cell_type": "code",
   "execution_count": 16,
   "id": "d4b8d466",
   "metadata": {},
   "outputs": [
    {
     "data": {
      "image/png": "[encoded data removed]",
      "text/plain": [
       "<Figure size 864x720 with 1 Axes>"
      ]
     },
     "metadata": {
      "needs_background": "light"
     },
     "output_type": "display_data"
    }
   ],
   "source": [
    "plt.figure(figsize=(12, 10))\n",
    "plt.bar(x=length_percent_cumsum_999.index,\n",
    "        height=length_percent_cumsum_999, color='red')\n",
    "plt.xticks(length_percent_cumsum_999.index)\n",
    "plt.yticks(np.arange(0, 1.01, 0.05))\n",
    "plt.title('Cumsum Percentage Until 0.999', size=20)\n",
    "plt.show()"
   ]
  },
  {
   "cell_type": "markdown",
   "id": "92337562",
   "metadata": {},
   "source": [
    "(lms 노드 처럼 큰 뭉터기로 해서 나눠서 보여주면 좋을텐데.. ) 이럼 확인 하기도 어렵자너.. "
   ]
  },
  {
   "cell_type": "markdown",
   "id": "477ab3d1",
   "metadata": {},
   "source": [
    "- User * Item Matrix의 빈칸이 너무 많아서(data sparsity) 모델이 제대로 학습되지 않을 가능성이 있다. lms의 세션정보는 유저를 ID 기반으로 정리할 수 없기 때문에 세션 하나를 유저 하나로 본다면 기존의 유저-상품정보 Matrix보다 훨씬 sparse한 형태가 된다.\n",
    "- 하지만 우리데이터는 id 기반으로 정리 할 수 있기 때문에  Matrix Factorization 모델을 사용 해줄 수 있지 않을까? \n"
   ]
  },
  {
   "cell_type": "markdown",
   "id": "9699ea52",
   "metadata": {},
   "source": [
    "\n",
    "\n"
   ]
  },
  {
   "cell_type": "markdown",
   "id": "79e2dbff",
   "metadata": {},
   "source": [
    "##  &nbsp;&nbsp; 2-3 Session Time\n",
    "\n",
    "\n",
    "* 유저들의 소비 패턴은 금방금방 변하기 때문에, 추천 시스템을 구축할 때에는 최근 소비 트렌드를 학습하는 것이 중요합니다. 데이터가 발생한 시간에 대해 알아봅니다. \n",
    "\n",
    "\n",
    "* 추천 시스템에서 다루는 시간 관련 데이터는 데이터 생성 날짜 말고도 접속하는 시간대, 접속 해 있는 시간, 접속 요일, 계절, 마지막 접속 시간, 장바구니에 넣고 지난 시간 등등 의 요소가 있습니다. \n",
    "\n",
    "\n",
    "- 우리가 다루려는 데이터의 시간 관련 정보를 확인 해봅시다."
   ]
  },
  {
   "cell_type": "code",
   "execution_count": 17,
   "id": "c25ba1f0",
   "metadata": {},
   "outputs": [
    {
     "name": "stdout",
     "output_type": "stream",
     "text": [
      "2000-04-25 23:05:32\n",
      "2003-02-28 17:49:50\n"
     ]
    }
   ],
   "source": [
    "oldest, latest = data['Time'].min(), data['Time'].max()\n",
    "print(oldest) \n",
    "print(latest)"
   ]
  },
  {
   "cell_type": "markdown",
   "id": "892587d2",
   "metadata": {},
   "source": [
    "* 약 3년치의 데이터가 있는 것을 확인 할 수 있었습니다. "
   ]
  },
  {
   "cell_type": "code",
   "execution_count": 18,
   "id": "df418b0a",
   "metadata": {},
   "outputs": [
    {
     "data": {
      "text/plain": [
       "pandas._libs.tslibs.timestamps.Timestamp"
      ]
     },
     "execution_count": 18,
     "metadata": {},
     "output_type": "execute_result"
    }
   ],
   "source": [
    "# latest 의 data type \n",
    "type(latest)"
   ]
  },
  {
   "cell_type": "markdown",
   "id": "d9c4ee22",
   "metadata": {},
   "source": [
    "* 날짜끼리의 차이를 구하고 싶을땐 datatime 라이브러리의 timedelta 객체를 사용합니다."
   ]
  },
  {
   "cell_type": "code",
   "execution_count": 19,
   "id": "1562f7af",
   "metadata": {},
   "outputs": [
    {
     "data": {
      "text/html": [
       "<div>\n",
       "<style scoped>\n",
       "    .dataframe tbody tr th:only-of-type {\n",
       "        vertical-align: middle;\n",
       "    }\n",
       "\n",
       "    .dataframe tbody tr th {\n",
       "        vertical-align: top;\n",
       "    }\n",
       "\n",
       "    .dataframe thead th {\n",
       "        text-align: right;\n",
       "    }\n",
       "</style>\n",
       "<table border=\"1\" class=\"dataframe\">\n",
       "  <thead>\n",
       "    <tr style=\"text-align: right;\">\n",
       "      <th></th>\n",
       "      <th>UserId</th>\n",
       "      <th>ItemId</th>\n",
       "      <th>Rating</th>\n",
       "      <th>timestamp</th>\n",
       "      <th>Time</th>\n",
       "    </tr>\n",
       "  </thead>\n",
       "  <tbody>\n",
       "    <tr>\n",
       "      <th>31</th>\n",
       "      <td>1</td>\n",
       "      <td>3186</td>\n",
       "      <td>4</td>\n",
       "      <td>978300019</td>\n",
       "      <td>2000-12-31 22:00:19</td>\n",
       "    </tr>\n",
       "    <tr>\n",
       "      <th>22</th>\n",
       "      <td>1</td>\n",
       "      <td>1270</td>\n",
       "      <td>5</td>\n",
       "      <td>978300055</td>\n",
       "      <td>2000-12-31 22:00:55</td>\n",
       "    </tr>\n",
       "    <tr>\n",
       "      <th>27</th>\n",
       "      <td>1</td>\n",
       "      <td>1721</td>\n",
       "      <td>4</td>\n",
       "      <td>978300055</td>\n",
       "      <td>2000-12-31 22:00:55</td>\n",
       "    </tr>\n",
       "    <tr>\n",
       "      <th>37</th>\n",
       "      <td>1</td>\n",
       "      <td>1022</td>\n",
       "      <td>5</td>\n",
       "      <td>978300055</td>\n",
       "      <td>2000-12-31 22:00:55</td>\n",
       "    </tr>\n",
       "    <tr>\n",
       "      <th>24</th>\n",
       "      <td>1</td>\n",
       "      <td>2340</td>\n",
       "      <td>3</td>\n",
       "      <td>978300103</td>\n",
       "      <td>2000-12-31 22:01:43</td>\n",
       "    </tr>\n",
       "    <tr>\n",
       "      <th>...</th>\n",
       "      <td>...</td>\n",
       "      <td>...</td>\n",
       "      <td>...</td>\n",
       "      <td>...</td>\n",
       "      <td>...</td>\n",
       "    </tr>\n",
       "    <tr>\n",
       "      <th>1000019</th>\n",
       "      <td>6040</td>\n",
       "      <td>2917</td>\n",
       "      <td>4</td>\n",
       "      <td>997454429</td>\n",
       "      <td>2001-08-10 14:40:29</td>\n",
       "    </tr>\n",
       "    <tr>\n",
       "      <th>999988</th>\n",
       "      <td>6040</td>\n",
       "      <td>1921</td>\n",
       "      <td>4</td>\n",
       "      <td>997454464</td>\n",
       "      <td>2001-08-10 14:41:04</td>\n",
       "    </tr>\n",
       "    <tr>\n",
       "      <th>1000172</th>\n",
       "      <td>6040</td>\n",
       "      <td>1784</td>\n",
       "      <td>3</td>\n",
       "      <td>997454464</td>\n",
       "      <td>2001-08-10 14:41:04</td>\n",
       "    </tr>\n",
       "    <tr>\n",
       "      <th>1000167</th>\n",
       "      <td>6040</td>\n",
       "      <td>161</td>\n",
       "      <td>3</td>\n",
       "      <td>997454486</td>\n",
       "      <td>2001-08-10 14:41:26</td>\n",
       "    </tr>\n",
       "    <tr>\n",
       "      <th>1000042</th>\n",
       "      <td>6040</td>\n",
       "      <td>1221</td>\n",
       "      <td>4</td>\n",
       "      <td>998315055</td>\n",
       "      <td>2001-08-20 13:44:15</td>\n",
       "    </tr>\n",
       "  </tbody>\n",
       "</table>\n",
       "<p>1000209 rows × 5 columns</p>\n",
       "</div>"
      ],
      "text/plain": [
       "         UserId  ItemId  Rating  timestamp                Time\n",
       "31            1    3186       4  978300019 2000-12-31 22:00:19\n",
       "22            1    1270       5  978300055 2000-12-31 22:00:55\n",
       "27            1    1721       4  978300055 2000-12-31 22:00:55\n",
       "37            1    1022       5  978300055 2000-12-31 22:00:55\n",
       "24            1    2340       3  978300103 2000-12-31 22:01:43\n",
       "...         ...     ...     ...        ...                 ...\n",
       "1000019    6040    2917       4  997454429 2001-08-10 14:40:29\n",
       "999988     6040    1921       4  997454464 2001-08-10 14:41:04\n",
       "1000172    6040    1784       3  997454464 2001-08-10 14:41:04\n",
       "1000167    6040     161       3  997454486 2001-08-10 14:41:26\n",
       "1000042    6040    1221       4  998315055 2001-08-20 13:44:15\n",
       "\n",
       "[1000209 rows x 5 columns]"
      ]
     },
     "execution_count": 19,
     "metadata": {},
     "output_type": "execute_result"
    }
   ],
   "source": [
    "data"
   ]
  },
  {
   "cell_type": "code",
   "execution_count": 20,
   "id": "cfe43f20",
   "metadata": {},
   "outputs": [],
   "source": [
    "# 1달치 데이터만 사용하기 위해서 썼던 처리 방법. \n",
    "# 3년치 데이터를 전부 사용해 보기 위해 주석처리 해 주었습니다. \n",
    "# month_ago = latest - dt.timedelta(30)     # 최종 날짜로부터 30일 이전 날짜를 구한다.  \n",
    "# data = data[data['Time'] > month_ago]   # 방금 구한 날짜 이후의 데이터만 모은다. \n",
    "# data"
   ]
  },
  {
   "cell_type": "markdown",
   "id": "17457175",
   "metadata": {},
   "source": [
    "\n",
    "\n"
   ]
  },
  {
   "cell_type": "markdown",
   "id": "d8c2d33a",
   "metadata": {},
   "source": [
    "##  &nbsp;&nbsp; 2-4  Data Cleansing\n",
    "\n",
    "\n",
    "* 예제에선 클릭 수가 적은것을 없애줬다면, 우린 별점이 3점 이하 인 항목을 날려주도록 해 보겠습니다. \n",
    "- 별 3개 이상의 평가가 들어간 작품을 다음 영화로 추천 해 준다면, 사용자의 취향과 좀 더 잘 맞는 영화를 추천 해 줄 수 있을것 같다고 생각합니다. \n",
    "* 우선, 'rating' 마다 몇개의 데이터가 들어가 있는지 확인 해 보고, \n",
    "* 'rating'이 3 미만인 평가가 들어간 항목은 제외하겠습니다. "
   ]
  },
  {
   "cell_type": "markdown",
   "id": "e89bceea",
   "metadata": {},
   "source": [
    "* `cleanse_short_session` : 이번 예제에선 유저가 최소 1개 이상 클릭 했는지를 알아보고, 1개 이상이 아니라면 제거 해 주는 역할을 했던 함수. \n",
    "\n",
    "\n",
    "* `cleanse_unpopular_Rating` : (노드에선 `cleanse_unpopular_item` 으로, 적게 클릭된 아이템을 삭제해 가는 함수였다.) 여기선 rating의 별점이 3점 이하인 리뷰를 삭제할 때 사용하였다.  \n",
    "\n",
    "* 였지만, 우린 유저의 수를 날리는 것이 아니라, 별점이 낮은 평가를 날리는 것이 목표이기 때문에 예제에 있던 함수는 사용하지 않았습니다. "
   ]
  },
  {
   "cell_type": "markdown",
   "id": "1544c17e",
   "metadata": {},
   "source": [
    "\n",
    "\n"
   ]
  },
  {
   "cell_type": "code",
   "execution_count": 21,
   "id": "f98c7b79",
   "metadata": {},
   "outputs": [
    {
     "data": {
      "text/plain": [
       "Rating\n",
       "1     56174\n",
       "2    107557\n",
       "3    261197\n",
       "4    348971\n",
       "5    226310\n",
       "dtype: int64"
      ]
     },
     "execution_count": 21,
     "metadata": {},
     "output_type": "execute_result"
    }
   ],
   "source": [
    "# 'Rating' 을 그룹화 해서 각 rating 별로 몇개의 평가가 있는지 알아봅니다. \n",
    "movie_popular = data.groupby('Rating').size()\n",
    "movie_popular"
   ]
  },
  {
   "cell_type": "code",
   "execution_count": 22,
   "id": "0cd29200",
   "metadata": {},
   "outputs": [
    {
     "data": {
      "text/html": [
       "<div>\n",
       "<style scoped>\n",
       "    .dataframe tbody tr th:only-of-type {\n",
       "        vertical-align: middle;\n",
       "    }\n",
       "\n",
       "    .dataframe tbody tr th {\n",
       "        vertical-align: top;\n",
       "    }\n",
       "\n",
       "    .dataframe thead th {\n",
       "        text-align: right;\n",
       "    }\n",
       "</style>\n",
       "<table border=\"1\" class=\"dataframe\">\n",
       "  <thead>\n",
       "    <tr style=\"text-align: right;\">\n",
       "      <th></th>\n",
       "      <th>UserId</th>\n",
       "      <th>ItemId</th>\n",
       "      <th>Rating</th>\n",
       "      <th>timestamp</th>\n",
       "      <th>Time</th>\n",
       "    </tr>\n",
       "  </thead>\n",
       "  <tbody>\n",
       "    <tr>\n",
       "      <th>31</th>\n",
       "      <td>1</td>\n",
       "      <td>3186</td>\n",
       "      <td>4</td>\n",
       "      <td>978300019</td>\n",
       "      <td>2000-12-31 22:00:19</td>\n",
       "    </tr>\n",
       "    <tr>\n",
       "      <th>22</th>\n",
       "      <td>1</td>\n",
       "      <td>1270</td>\n",
       "      <td>5</td>\n",
       "      <td>978300055</td>\n",
       "      <td>2000-12-31 22:00:55</td>\n",
       "    </tr>\n",
       "    <tr>\n",
       "      <th>27</th>\n",
       "      <td>1</td>\n",
       "      <td>1721</td>\n",
       "      <td>4</td>\n",
       "      <td>978300055</td>\n",
       "      <td>2000-12-31 22:00:55</td>\n",
       "    </tr>\n",
       "    <tr>\n",
       "      <th>37</th>\n",
       "      <td>1</td>\n",
       "      <td>1022</td>\n",
       "      <td>5</td>\n",
       "      <td>978300055</td>\n",
       "      <td>2000-12-31 22:00:55</td>\n",
       "    </tr>\n",
       "    <tr>\n",
       "      <th>24</th>\n",
       "      <td>1</td>\n",
       "      <td>2340</td>\n",
       "      <td>3</td>\n",
       "      <td>978300103</td>\n",
       "      <td>2000-12-31 22:01:43</td>\n",
       "    </tr>\n",
       "    <tr>\n",
       "      <th>...</th>\n",
       "      <td>...</td>\n",
       "      <td>...</td>\n",
       "      <td>...</td>\n",
       "      <td>...</td>\n",
       "      <td>...</td>\n",
       "    </tr>\n",
       "    <tr>\n",
       "      <th>1000019</th>\n",
       "      <td>6040</td>\n",
       "      <td>2917</td>\n",
       "      <td>4</td>\n",
       "      <td>997454429</td>\n",
       "      <td>2001-08-10 14:40:29</td>\n",
       "    </tr>\n",
       "    <tr>\n",
       "      <th>999988</th>\n",
       "      <td>6040</td>\n",
       "      <td>1921</td>\n",
       "      <td>4</td>\n",
       "      <td>997454464</td>\n",
       "      <td>2001-08-10 14:41:04</td>\n",
       "    </tr>\n",
       "    <tr>\n",
       "      <th>1000172</th>\n",
       "      <td>6040</td>\n",
       "      <td>1784</td>\n",
       "      <td>3</td>\n",
       "      <td>997454464</td>\n",
       "      <td>2001-08-10 14:41:04</td>\n",
       "    </tr>\n",
       "    <tr>\n",
       "      <th>1000167</th>\n",
       "      <td>6040</td>\n",
       "      <td>161</td>\n",
       "      <td>3</td>\n",
       "      <td>997454486</td>\n",
       "      <td>2001-08-10 14:41:26</td>\n",
       "    </tr>\n",
       "    <tr>\n",
       "      <th>1000042</th>\n",
       "      <td>6040</td>\n",
       "      <td>1221</td>\n",
       "      <td>4</td>\n",
       "      <td>998315055</td>\n",
       "      <td>2001-08-20 13:44:15</td>\n",
       "    </tr>\n",
       "  </tbody>\n",
       "</table>\n",
       "<p>836478 rows × 5 columns</p>\n",
       "</div>"
      ],
      "text/plain": [
       "         UserId  ItemId  Rating  timestamp                Time\n",
       "31            1    3186       4  978300019 2000-12-31 22:00:19\n",
       "22            1    1270       5  978300055 2000-12-31 22:00:55\n",
       "27            1    1721       4  978300055 2000-12-31 22:00:55\n",
       "37            1    1022       5  978300055 2000-12-31 22:00:55\n",
       "24            1    2340       3  978300103 2000-12-31 22:01:43\n",
       "...         ...     ...     ...        ...                 ...\n",
       "1000019    6040    2917       4  997454429 2001-08-10 14:40:29\n",
       "999988     6040    1921       4  997454464 2001-08-10 14:41:04\n",
       "1000172    6040    1784       3  997454464 2001-08-10 14:41:04\n",
       "1000167    6040     161       3  997454486 2001-08-10 14:41:26\n",
       "1000042    6040    1221       4  998315055 2001-08-20 13:44:15\n",
       "\n",
       "[836478 rows x 5 columns]"
      ]
     },
     "execution_count": 22,
     "metadata": {},
     "output_type": "execute_result"
    }
   ],
   "source": [
    "# data의 rating이 3보다 크거나 같은것만 남겨줍니다. \n",
    "data = data[data['Rating'] >= 3]\n",
    "data"
   ]
  },
  {
   "cell_type": "markdown",
   "id": "c508348e",
   "metadata": {},
   "source": [
    "\n",
    "\n"
   ]
  },
  {
   "cell_type": "code",
   "execution_count": 23,
   "id": "8d61381a",
   "metadata": {},
   "outputs": [
    {
     "data": {
      "text/plain": [
       "Rating\n",
       "3    261197\n",
       "4    348971\n",
       "5    226310\n",
       "dtype: int64"
      ]
     },
     "execution_count": 23,
     "metadata": {},
     "output_type": "execute_result"
    }
   ],
   "source": [
    "# 잘 처리 됬나 확인 해보면? \n",
    "movie_popular = data.groupby('Rating').size()\n",
    "movie_popular"
   ]
  },
  {
   "cell_type": "code",
   "execution_count": 24,
   "id": "78c855e0",
   "metadata": {},
   "outputs": [
    {
     "data": {
      "text/html": [
       "<div>\n",
       "<style scoped>\n",
       "    .dataframe tbody tr th:only-of-type {\n",
       "        vertical-align: middle;\n",
       "    }\n",
       "\n",
       "    .dataframe tbody tr th {\n",
       "        vertical-align: top;\n",
       "    }\n",
       "\n",
       "    .dataframe thead th {\n",
       "        text-align: right;\n",
       "    }\n",
       "</style>\n",
       "<table border=\"1\" class=\"dataframe\">\n",
       "  <thead>\n",
       "    <tr style=\"text-align: right;\">\n",
       "      <th></th>\n",
       "      <th>UserId</th>\n",
       "      <th>ItemId</th>\n",
       "      <th>Rating</th>\n",
       "      <th>timestamp</th>\n",
       "      <th>Time</th>\n",
       "    </tr>\n",
       "  </thead>\n",
       "  <tbody>\n",
       "  </tbody>\n",
       "</table>\n",
       "</div>"
      ],
      "text/plain": [
       "Empty DataFrame\n",
       "Columns: [UserId, ItemId, Rating, timestamp, Time]\n",
       "Index: []"
      ]
     },
     "execution_count": 24,
     "metadata": {},
     "output_type": "execute_result"
    }
   ],
   "source": [
    "data[data['Rating'] == 1]"
   ]
  },
  {
   "cell_type": "markdown",
   "id": "f9b2feda",
   "metadata": {},
   "source": [
    "\n",
    "\n"
   ]
  },
  {
   "cell_type": "code",
   "execution_count": 25,
   "id": "ddcdf59d",
   "metadata": {},
   "outputs": [
    {
     "data": {
      "text/html": [
       "<div>\n",
       "<style scoped>\n",
       "    .dataframe tbody tr th:only-of-type {\n",
       "        vertical-align: middle;\n",
       "    }\n",
       "\n",
       "    .dataframe tbody tr th {\n",
       "        vertical-align: top;\n",
       "    }\n",
       "\n",
       "    .dataframe thead th {\n",
       "        text-align: right;\n",
       "    }\n",
       "</style>\n",
       "<table border=\"1\" class=\"dataframe\">\n",
       "  <thead>\n",
       "    <tr style=\"text-align: right;\">\n",
       "      <th></th>\n",
       "      <th>UserId</th>\n",
       "      <th>ItemId</th>\n",
       "      <th>Rating</th>\n",
       "      <th>timestamp</th>\n",
       "      <th>Time</th>\n",
       "    </tr>\n",
       "  </thead>\n",
       "  <tbody>\n",
       "    <tr>\n",
       "      <th>22</th>\n",
       "      <td>1</td>\n",
       "      <td>1270</td>\n",
       "      <td>5</td>\n",
       "      <td>978300055</td>\n",
       "      <td>2000-12-31 22:00:55</td>\n",
       "    </tr>\n",
       "    <tr>\n",
       "      <th>37</th>\n",
       "      <td>1</td>\n",
       "      <td>1022</td>\n",
       "      <td>5</td>\n",
       "      <td>978300055</td>\n",
       "      <td>2000-12-31 22:00:55</td>\n",
       "    </tr>\n",
       "    <tr>\n",
       "      <th>36</th>\n",
       "      <td>1</td>\n",
       "      <td>1836</td>\n",
       "      <td>5</td>\n",
       "      <td>978300172</td>\n",
       "      <td>2000-12-31 22:02:52</td>\n",
       "    </tr>\n",
       "    <tr>\n",
       "      <th>7</th>\n",
       "      <td>1</td>\n",
       "      <td>2804</td>\n",
       "      <td>5</td>\n",
       "      <td>978300719</td>\n",
       "      <td>2000-12-31 22:11:59</td>\n",
       "    </tr>\n",
       "    <tr>\n",
       "      <th>0</th>\n",
       "      <td>1</td>\n",
       "      <td>1193</td>\n",
       "      <td>5</td>\n",
       "      <td>978300760</td>\n",
       "      <td>2000-12-31 22:12:40</td>\n",
       "    </tr>\n",
       "    <tr>\n",
       "      <th>...</th>\n",
       "      <td>...</td>\n",
       "      <td>...</td>\n",
       "      <td>...</td>\n",
       "      <td>...</td>\n",
       "      <td>...</td>\n",
       "    </tr>\n",
       "    <tr>\n",
       "      <th>999975</th>\n",
       "      <td>6040</td>\n",
       "      <td>3182</td>\n",
       "      <td>5</td>\n",
       "      <td>984195682</td>\n",
       "      <td>2001-03-10 03:41:22</td>\n",
       "    </tr>\n",
       "    <tr>\n",
       "      <th>1000035</th>\n",
       "      <td>6040</td>\n",
       "      <td>1212</td>\n",
       "      <td>5</td>\n",
       "      <td>997453796</td>\n",
       "      <td>2001-08-10 14:29:56</td>\n",
       "    </tr>\n",
       "    <tr>\n",
       "      <th>1000034</th>\n",
       "      <td>6040</td>\n",
       "      <td>1211</td>\n",
       "      <td>5</td>\n",
       "      <td>997454080</td>\n",
       "      <td>2001-08-10 14:34:40</td>\n",
       "    </tr>\n",
       "    <tr>\n",
       "      <th>999905</th>\n",
       "      <td>6040</td>\n",
       "      <td>953</td>\n",
       "      <td>5</td>\n",
       "      <td>997454160</td>\n",
       "      <td>2001-08-10 14:36:00</td>\n",
       "    </tr>\n",
       "    <tr>\n",
       "      <th>999923</th>\n",
       "      <td>6040</td>\n",
       "      <td>232</td>\n",
       "      <td>5</td>\n",
       "      <td>997454398</td>\n",
       "      <td>2001-08-10 14:39:58</td>\n",
       "    </tr>\n",
       "  </tbody>\n",
       "</table>\n",
       "<p>226310 rows × 5 columns</p>\n",
       "</div>"
      ],
      "text/plain": [
       "         UserId  ItemId  Rating  timestamp                Time\n",
       "22            1    1270       5  978300055 2000-12-31 22:00:55\n",
       "37            1    1022       5  978300055 2000-12-31 22:00:55\n",
       "36            1    1836       5  978300172 2000-12-31 22:02:52\n",
       "7             1    2804       5  978300719 2000-12-31 22:11:59\n",
       "0             1    1193       5  978300760 2000-12-31 22:12:40\n",
       "...         ...     ...     ...        ...                 ...\n",
       "999975     6040    3182       5  984195682 2001-03-10 03:41:22\n",
       "1000035    6040    1212       5  997453796 2001-08-10 14:29:56\n",
       "1000034    6040    1211       5  997454080 2001-08-10 14:34:40\n",
       "999905     6040     953       5  997454160 2001-08-10 14:36:00\n",
       "999923     6040     232       5  997454398 2001-08-10 14:39:58\n",
       "\n",
       "[226310 rows x 5 columns]"
      ]
     },
     "execution_count": 25,
     "metadata": {},
     "output_type": "execute_result"
    }
   ],
   "source": [
    "data.loc[data['Rating'] == 5]"
   ]
  },
  {
   "cell_type": "markdown",
   "id": "59a1e663",
   "metadata": {},
   "source": [
    "\n",
    "\n"
   ]
  },
  {
   "cell_type": "markdown",
   "id": "f6c23d4b",
   "metadata": {},
   "source": [
    "* 이것으로 전처리가 모두 끝났다. "
   ]
  },
  {
   "cell_type": "markdown",
   "id": "9f0bd189",
   "metadata": {},
   "source": [
    "\n",
    "\n",
    "\n",
    "-----\n",
    "\n",
    "\n"
   ]
  },
  {
   "cell_type": "markdown",
   "id": "e4d09206",
   "metadata": {},
   "source": [
    "# 3. 데이터셋 분리 & 미니 배치의 구성\n",
    "\n",
    "\n",
    "* 위에서 전처리 한 데이터를 가져와, train, validation, test 로 나눠줍니다. \n",
    "* 가장 마지막 1일 기간 동안을 Test로, 2일 전부터 1일 전 까지를 valid set으로 나누겠습니다."
   ]
  },
  {
   "cell_type": "markdown",
   "id": "fdb557ad",
   "metadata": {},
   "source": [
    "##  &nbsp;&nbsp; 3-1 데이터셋 분리 \n",
    "\n",
    "\n",
    "* train, test, validation 으로 데이터셋을 분리합니다. \n",
    "* 데이터를 나누는 기준은 총 3년치의 데이터 중, train은 마지막 날짜로부터 120일 이전까지의 데이터, val은 그 120일 이전 부터 120일, train 으론 나머지 데이터를 사용하고 싶었지만,   \n",
    "* 자꾸 나눴을 때의 일자가 원하는데로 나오지 않았습니다. 어떤 점이 문제가 됬는지를 찾지 못해 우선은 기준 일수를 나타내는 것 같은 `n_days`에 120을 넣고 진행하겠습니다. "
   ]
  },
  {
   "cell_type": "code",
   "execution_count": 26,
   "id": "8d2504ed",
   "metadata": {},
   "outputs": [],
   "source": [
    "def split_by_date(data: pd.DataFrame, n_days: int):\n",
    "    final_time = data['Time'].max()\n",
    "    session_last_time = data.groupby('UserId')['Time'].max()\n",
    "    session_in_train = session_last_time[session_last_time < final_time - dt.timedelta(n_days)].index\n",
    "    session_in_test = session_last_time[session_last_time >= final_time - dt.timedelta(n_days)].index\n",
    "\n",
    "    before_date = data[data['UserId'].isin(session_in_train)]\n",
    "    after_date = data[data['UserId'].isin(session_in_test)]\n",
    "    after_date = after_date[after_date['ItemId'].isin(before_date['ItemId'])]\n",
    "    return before_date, after_date"
   ]
  },
  {
   "cell_type": "code",
   "execution_count": 27,
   "id": "3047098c",
   "metadata": {},
   "outputs": [],
   "source": [
    "# Train test data 분리\n",
    "tr, test = split_by_date(data, n_days=120)\n",
    "\n",
    "# 나눈 Train 에서 Train, validation 으로 나눠줍니다.\n",
    "tr, val = split_by_date(tr, n_days=120)"
   ]
  },
  {
   "cell_type": "code",
   "execution_count": 28,
   "id": "0ee4fa4e",
   "metadata": {},
   "outputs": [
    {
     "data": {
      "text/plain": [
       "UserId\n",
       "1      2001-01-06 23:39:11\n",
       "2      2000-12-31 22:02:54\n",
       "3      2000-12-31 21:35:04\n",
       "4      2000-12-31 20:24:42\n",
       "5      2000-12-31 07:09:36\n",
       "               ...        \n",
       "6036   2000-04-26 13:18:11\n",
       "6037   2000-04-27 02:17:20\n",
       "6038   2000-04-26 02:46:44\n",
       "6039   2000-04-26 14:07:09\n",
       "6040   2001-08-20 13:44:15\n",
       "Name: Time, Length: 6039, dtype: datetime64[ns]"
      ]
     },
     "execution_count": 28,
     "metadata": {},
     "output_type": "execute_result"
    }
   ],
   "source": [
    "session_last_time = data.groupby('UserId')['Time'].max()\n",
    "session_last_time"
   ]
  },
  {
   "cell_type": "code",
   "execution_count": 29,
   "id": "c9ad1f4e",
   "metadata": {},
   "outputs": [],
   "source": [
    "# data에 대한 정보를 살펴봅니다.\n",
    "def stats_info(data: pd.DataFrame, status: str):\n",
    "    print(f'* {status} Set Stats Info\\n'\n",
    "          f'\\t Events: {len(data)}\\n'\n",
    "          f'\\t Sessions: {data[\"UserId\"].nunique()}\\n'\n",
    "          f'\\t Items: {data[\"ItemId\"].nunique()}\\n'\n",
    "          f'\\t First Time : {data[\"Time\"].min()}\\n'\n",
    "          f'\\t Last Time : {data[\"Time\"].max()}\\n')"
   ]
  },
  {
   "cell_type": "code",
   "execution_count": 30,
   "id": "ebf266ad",
   "metadata": {},
   "outputs": [
    {
     "name": "stdout",
     "output_type": "stream",
     "text": [
      "* train Set Stats Info\n",
      "\t Events: 710256\n",
      "\t Sessions: 5661\n",
      "\t Items: 3600\n",
      "\t First Time : 2000-04-25 23:05:32\n",
      "\t Last Time : 2002-07-02 15:40:10\n",
      "\n",
      "* valid Set Stats Info\n",
      "\t Events: 31758\n",
      "\t Sessions: 106\n",
      "\t Items: 2835\n",
      "\t First Time : 2000-04-30 06:37:43\n",
      "\t Last Time : 2002-10-31 16:33:08\n",
      "\n",
      "* test Set Stats Info\n",
      "\t Events: 94429\n",
      "\t Sessions: 272\n",
      "\t Items: 3250\n",
      "\t First Time : 2000-04-27 16:38:08\n",
      "\t Last Time : 2003-02-28 17:49:50\n",
      "\n"
     ]
    }
   ],
   "source": [
    "stats_info(tr, 'train')\n",
    "stats_info(val, 'valid')\n",
    "stats_info(test, 'test')\n"
   ]
  },
  {
   "cell_type": "markdown",
   "id": "7a52d45b",
   "metadata": {},
   "source": [
    "\n",
    "\n"
   ]
  },
  {
   "cell_type": "code",
   "execution_count": 31,
   "id": "00e0e4b6",
   "metadata": {},
   "outputs": [],
   "source": [
    "# train set에 없는 아이템이 val, test기간에 생길 수 있으므로 train data를 기준으로 인덱싱합니다.\n",
    "id2idx = {item_id : index for index, item_id in enumerate(tr['ItemId'].unique())}\n",
    "\n",
    "def indexing(df, id2idx):\n",
    "    # id2idx에 없는 아이템은 모르는 값(-1) 처리 해줍니다.\n",
    "    df['item_idx'] = df['ItemId'].map(lambda x: id2idx.get(x, -1))  \n",
    "    return df\n",
    "\n",
    "tr = indexing(tr, id2idx)\n",
    "val = indexing(val, id2idx)\n",
    "test = indexing(test, id2idx)"
   ]
  },
  {
   "cell_type": "markdown",
   "id": "d7e37294",
   "metadata": {},
   "source": [
    "\n",
    "\n"
   ]
  },
  {
   "cell_type": "markdown",
   "id": "e048d2f6",
   "metadata": {},
   "source": [
    "* 데이터 준비가 완료되었습니다. 데이터를 저장한 다음, data pipeline을 구축하는 단계로 넘어갑니다. "
   ]
  },
  {
   "cell_type": "code",
   "execution_count": 32,
   "id": "1911be84",
   "metadata": {},
   "outputs": [],
   "source": [
    "save_path = data_path / 'processed'\n",
    "save_path.mkdir(parents=True, exist_ok=True)\n",
    "\n",
    "tr.to_pickle(save_path / 'train.pkl')\n",
    "val.to_pickle(save_path / 'valid.pkl')\n",
    "test.to_pickle(save_path / 'test.pkl')"
   ]
  },
  {
   "cell_type": "markdown",
   "id": "8e5dfb6a",
   "metadata": {},
   "source": [
    "\n",
    "\n"
   ]
  },
  {
   "cell_type": "markdown",
   "id": "7b8f80a2",
   "metadata": {},
   "source": [
    "##  &nbsp;&nbsp; 3-2 Data Pipeline\n",
    "\n",
    "\n",
    "* Session-Parallel Mini-Batch 를 구현 해 봅시다. "
   ]
  },
  {
   "cell_type": "markdown",
   "id": "1d68ec9f",
   "metadata": {},
   "source": [
    "* 우선, 데이터가 주어지면 세션이 시작되는 인덱스를 담는 값과 세션을 새로 인덱싱한 값을 갖는 클래스를 만듭니다."
   ]
  },
  {
   "cell_type": "code",
   "execution_count": 33,
   "id": "0f81e5e0",
   "metadata": {},
   "outputs": [],
   "source": [
    "class SessionDataset:\n",
    "    \"\"\"Credit to yhs-968/pyGRU4REC.\"\"\"\n",
    "\n",
    "    def __init__(self, data):\n",
    "        self.df = data\n",
    "        self.click_offsets = self.get_click_offsets()\n",
    "        self.session_idx = np.arange(self.df['UserId'].nunique())  # indexing to SessionId\n",
    "\n",
    "    def get_click_offsets(self):\n",
    "        \"\"\"\n",
    "        Return the indexes of the first click of each session IDs,\n",
    "        \"\"\"\n",
    "        offsets = np.zeros(self.df['UserId'].nunique() + 1, dtype=np.int32)\n",
    "        offsets[1:] = self.df.groupby('UserId').size().cumsum()\n",
    "        return offsets"
   ]
  },
  {
   "cell_type": "markdown",
   "id": "a54bb626",
   "metadata": {},
   "source": [
    "- train데이터로 `SessionDataset` 객체를 만들고 인스턴스 변수들을 살펴보겠습니다.\n",
    "- `click_offsets`\n",
    "    - 각 세션이 시작된 인덱스를 담고 있습니다.\n",
    "- `session_idx`\n",
    "    - 각 세션을 인덱싱한 `np.array` 입니다."
   ]
  },
  {
   "cell_type": "markdown",
   "id": "dd049461",
   "metadata": {},
   "source": [
    "\n",
    "\n"
   ]
  },
  {
   "cell_type": "code",
   "execution_count": 34,
   "id": "3242832a",
   "metadata": {},
   "outputs": [
    {
     "data": {
      "text/html": [
       "<div>\n",
       "<style scoped>\n",
       "    .dataframe tbody tr th:only-of-type {\n",
       "        vertical-align: middle;\n",
       "    }\n",
       "\n",
       "    .dataframe tbody tr th {\n",
       "        vertical-align: top;\n",
       "    }\n",
       "\n",
       "    .dataframe thead th {\n",
       "        text-align: right;\n",
       "    }\n",
       "</style>\n",
       "<table border=\"1\" class=\"dataframe\">\n",
       "  <thead>\n",
       "    <tr style=\"text-align: right;\">\n",
       "      <th></th>\n",
       "      <th>UserId</th>\n",
       "      <th>ItemId</th>\n",
       "      <th>Rating</th>\n",
       "      <th>timestamp</th>\n",
       "      <th>Time</th>\n",
       "      <th>item_idx</th>\n",
       "    </tr>\n",
       "  </thead>\n",
       "  <tbody>\n",
       "    <tr>\n",
       "      <th>31</th>\n",
       "      <td>1</td>\n",
       "      <td>3186</td>\n",
       "      <td>4</td>\n",
       "      <td>978300019</td>\n",
       "      <td>2000-12-31 22:00:19</td>\n",
       "      <td>0</td>\n",
       "    </tr>\n",
       "    <tr>\n",
       "      <th>22</th>\n",
       "      <td>1</td>\n",
       "      <td>1270</td>\n",
       "      <td>5</td>\n",
       "      <td>978300055</td>\n",
       "      <td>2000-12-31 22:00:55</td>\n",
       "      <td>1</td>\n",
       "    </tr>\n",
       "    <tr>\n",
       "      <th>27</th>\n",
       "      <td>1</td>\n",
       "      <td>1721</td>\n",
       "      <td>4</td>\n",
       "      <td>978300055</td>\n",
       "      <td>2000-12-31 22:00:55</td>\n",
       "      <td>2</td>\n",
       "    </tr>\n",
       "    <tr>\n",
       "      <th>37</th>\n",
       "      <td>1</td>\n",
       "      <td>1022</td>\n",
       "      <td>5</td>\n",
       "      <td>978300055</td>\n",
       "      <td>2000-12-31 22:00:55</td>\n",
       "      <td>3</td>\n",
       "    </tr>\n",
       "    <tr>\n",
       "      <th>24</th>\n",
       "      <td>1</td>\n",
       "      <td>2340</td>\n",
       "      <td>3</td>\n",
       "      <td>978300103</td>\n",
       "      <td>2000-12-31 22:01:43</td>\n",
       "      <td>4</td>\n",
       "    </tr>\n",
       "    <tr>\n",
       "      <th>36</th>\n",
       "      <td>1</td>\n",
       "      <td>1836</td>\n",
       "      <td>5</td>\n",
       "      <td>978300172</td>\n",
       "      <td>2000-12-31 22:02:52</td>\n",
       "      <td>5</td>\n",
       "    </tr>\n",
       "    <tr>\n",
       "      <th>3</th>\n",
       "      <td>1</td>\n",
       "      <td>3408</td>\n",
       "      <td>4</td>\n",
       "      <td>978300275</td>\n",
       "      <td>2000-12-31 22:04:35</td>\n",
       "      <td>6</td>\n",
       "    </tr>\n",
       "    <tr>\n",
       "      <th>7</th>\n",
       "      <td>1</td>\n",
       "      <td>2804</td>\n",
       "      <td>5</td>\n",
       "      <td>978300719</td>\n",
       "      <td>2000-12-31 22:11:59</td>\n",
       "      <td>7</td>\n",
       "    </tr>\n",
       "    <tr>\n",
       "      <th>47</th>\n",
       "      <td>1</td>\n",
       "      <td>1207</td>\n",
       "      <td>4</td>\n",
       "      <td>978300719</td>\n",
       "      <td>2000-12-31 22:11:59</td>\n",
       "      <td>8</td>\n",
       "    </tr>\n",
       "    <tr>\n",
       "      <th>0</th>\n",
       "      <td>1</td>\n",
       "      <td>1193</td>\n",
       "      <td>5</td>\n",
       "      <td>978300760</td>\n",
       "      <td>2000-12-31 22:12:40</td>\n",
       "      <td>9</td>\n",
       "    </tr>\n",
       "  </tbody>\n",
       "</table>\n",
       "</div>"
      ],
      "text/plain": [
       "    UserId  ItemId  Rating  timestamp                Time  item_idx\n",
       "31       1    3186       4  978300019 2000-12-31 22:00:19         0\n",
       "22       1    1270       5  978300055 2000-12-31 22:00:55         1\n",
       "27       1    1721       4  978300055 2000-12-31 22:00:55         2\n",
       "37       1    1022       5  978300055 2000-12-31 22:00:55         3\n",
       "24       1    2340       3  978300103 2000-12-31 22:01:43         4\n",
       "36       1    1836       5  978300172 2000-12-31 22:02:52         5\n",
       "3        1    3408       4  978300275 2000-12-31 22:04:35         6\n",
       "7        1    2804       5  978300719 2000-12-31 22:11:59         7\n",
       "47       1    1207       4  978300719 2000-12-31 22:11:59         8\n",
       "0        1    1193       5  978300760 2000-12-31 22:12:40         9"
      ]
     },
     "execution_count": 34,
     "metadata": {},
     "output_type": "execute_result"
    }
   ],
   "source": [
    "tr_dataset = SessionDataset(tr)\n",
    "tr_dataset.df.head(10)\n"
   ]
  },
  {
   "cell_type": "markdown",
   "id": "f2b5e335",
   "metadata": {},
   "source": [
    "\n",
    "\n"
   ]
  },
  {
   "cell_type": "code",
   "execution_count": 35,
   "id": "393b7174",
   "metadata": {},
   "outputs": [
    {
     "data": {
      "text/plain": [
       "array([     0,     53,    169, ..., 709861, 709980, 710256], dtype=int32)"
      ]
     },
     "execution_count": 35,
     "metadata": {},
     "output_type": "execute_result"
    }
   ],
   "source": [
    "tr_dataset.click_offsets"
   ]
  },
  {
   "cell_type": "code",
   "execution_count": 36,
   "id": "f0591a75",
   "metadata": {},
   "outputs": [
    {
     "data": {
      "text/plain": [
       "array([   0,    1,    2, ..., 5658, 5659, 5660])"
      ]
     },
     "execution_count": 36,
     "metadata": {},
     "output_type": "execute_result"
    }
   ],
   "source": [
    "tr_dataset.session_idx"
   ]
  },
  {
   "cell_type": "markdown",
   "id": "43c3f00c",
   "metadata": {},
   "source": [
    "\n",
    "\n",
    "\n"
   ]
  },
  {
   "cell_type": "markdown",
   "id": "1474ccad",
   "metadata": {},
   "source": [
    "- `SessionDataset`객체를 받아서 Session-Parallel mini-batch를 만드는 클래스를 만듭니다.\n",
    "- `__iter__` 메서드는 모델 인풋, 라벨, 세션이 끝나는 곳의 위치를 `yield` 합니다.  \n",
    "  mask는 후에 RNN Cell State를 초기화하는데 사용할 것입니다."
   ]
  },
  {
   "cell_type": "code",
   "execution_count": 37,
   "id": "8c4be984",
   "metadata": {},
   "outputs": [],
   "source": [
    "class SessionDataLoader:\n",
    "    \"\"\"Credit to yhs-968/pyGRU4REC.\"\"\"\n",
    "\n",
    "    def __init__(self, dataset: SessionDataset, batch_size=50):\n",
    "        self.dataset = dataset\n",
    "        self.batch_size = batch_size\n",
    "\n",
    "    def __iter__(self):\n",
    "        \"\"\" Returns the iterator for producing session-parallel training mini-batches.\n",
    "        Yields:\n",
    "            input (B,):  Item indices that will be encoded as one-hot vectors later.\n",
    "            target (B,): a Variable that stores the target item indices\n",
    "            masks: Numpy array indicating the positions of the sessions to be terminated\n",
    "        \"\"\"\n",
    "\n",
    "        start, end, mask, last_session, finished = self.initialize()  # initialize 메소드에서 확인해주세요.\n",
    "        \"\"\"\n",
    "        start : Index Where Session Start\n",
    "        end : Index Where Session End\n",
    "        mask : indicator for the sessions to be terminated\n",
    "        \"\"\"\n",
    "\n",
    "        while not finished:\n",
    "            min_len = (end - start).min() - 1  # Shortest Length Among Sessions\n",
    "            for i in range(min_len):\n",
    "                # Build inputs & targets\n",
    "                inp = self.dataset.df['item_idx'].values[start + i]\n",
    "                target = self.dataset.df['item_idx'].values[start + i + 1]\n",
    "                yield inp, target, mask\n",
    "\n",
    "            start, end, mask, last_session, finished = self.update_status(start, end, min_len, last_session, finished)\n",
    "\n",
    "    def initialize(self):\n",
    "        first_iters = np.arange(self.batch_size)    # 첫 배치에 사용할 세션 Index를 가져옵니다.\n",
    "        last_session = self.batch_size - 1    # 마지막으로 다루고 있는 세션 Index를 저장해둡니다.\n",
    "        start = self.dataset.click_offsets[self.dataset.session_idx[first_iters]]       # data 상에서 session이 시작된 위치를 가져옵니다.\n",
    "        end = self.dataset.click_offsets[self.dataset.session_idx[first_iters] + 1]  # session이 끝난 위치 바로 다음 위치를 가져옵니다.\n",
    "        mask = np.array([])   # session의 모든 아이템을 다 돌은 경우 mask에 추가해줄 것입니다.\n",
    "        finished = False         # data를 전부 돌았는지 기록하기 위한 변수입니다.\n",
    "        return start, end, mask, last_session, finished\n",
    "\n",
    "    def update_status(self, start: np.ndarray, end: np.ndarray, min_len: int, last_session: int, finished: bool):  \n",
    "        # 다음 배치 데이터를 생성하기 위해 상태를 update합니다.\n",
    "        \n",
    "        start += min_len   # __iter__에서 min_len 만큼 for문을 돌았으므로 start를 min_len 만큼 더해줍니다.\n",
    "        mask = np.arange(self.batch_size)[(end - start) == 1]  \n",
    "        # end는 다음 세션이 시작되는 위치인데 start와 한 칸 차이난다는 것은 session이 끝났다는 뜻입니다. mask에 기록해줍니다.\n",
    "\n",
    "        for i, idx in enumerate(mask, start=1):  # mask에 추가된 세션 개수만큼 새로운 세션을 돌것입니다.\n",
    "            new_session = last_session + i  \n",
    "            if new_session > self.dataset.session_idx[-1]:  # 만약 새로운 세션이 마지막 세션 index보다 크다면 모든 학습데이터를 돈 것입니다.\n",
    "                finished = True\n",
    "                break\n",
    "            # update the next starting/ending point\n",
    "            start[idx] = self.dataset.click_offsets[self.dataset.session_idx[new_session]]     # 종료된 세션 대신 새로운 세션의 시작점을 기록합니다.\n",
    "            end[idx] = self.dataset.click_offsets[self.dataset.session_idx[new_session] + 1]\n",
    "\n",
    "        last_session += len(mask)  # 마지막 세션의 위치를 기록해둡니다.\n",
    "        return start, end, mask, last_session, finished"
   ]
  },
  {
   "cell_type": "code",
   "execution_count": 38,
   "id": "a9f62dab",
   "metadata": {},
   "outputs": [
    {
     "data": {
      "text/html": [
       "<div>\n",
       "<style scoped>\n",
       "    .dataframe tbody tr th:only-of-type {\n",
       "        vertical-align: middle;\n",
       "    }\n",
       "\n",
       "    .dataframe tbody tr th {\n",
       "        vertical-align: top;\n",
       "    }\n",
       "\n",
       "    .dataframe thead th {\n",
       "        text-align: right;\n",
       "    }\n",
       "</style>\n",
       "<table border=\"1\" class=\"dataframe\">\n",
       "  <thead>\n",
       "    <tr style=\"text-align: right;\">\n",
       "      <th></th>\n",
       "      <th>UserId</th>\n",
       "      <th>ItemId</th>\n",
       "      <th>Rating</th>\n",
       "      <th>timestamp</th>\n",
       "      <th>Time</th>\n",
       "      <th>item_idx</th>\n",
       "    </tr>\n",
       "  </thead>\n",
       "  <tbody>\n",
       "    <tr>\n",
       "      <th>31</th>\n",
       "      <td>1</td>\n",
       "      <td>3186</td>\n",
       "      <td>4</td>\n",
       "      <td>978300019</td>\n",
       "      <td>2000-12-31 22:00:19</td>\n",
       "      <td>0</td>\n",
       "    </tr>\n",
       "    <tr>\n",
       "      <th>22</th>\n",
       "      <td>1</td>\n",
       "      <td>1270</td>\n",
       "      <td>5</td>\n",
       "      <td>978300055</td>\n",
       "      <td>2000-12-31 22:00:55</td>\n",
       "      <td>1</td>\n",
       "    </tr>\n",
       "    <tr>\n",
       "      <th>27</th>\n",
       "      <td>1</td>\n",
       "      <td>1721</td>\n",
       "      <td>4</td>\n",
       "      <td>978300055</td>\n",
       "      <td>2000-12-31 22:00:55</td>\n",
       "      <td>2</td>\n",
       "    </tr>\n",
       "    <tr>\n",
       "      <th>37</th>\n",
       "      <td>1</td>\n",
       "      <td>1022</td>\n",
       "      <td>5</td>\n",
       "      <td>978300055</td>\n",
       "      <td>2000-12-31 22:00:55</td>\n",
       "      <td>3</td>\n",
       "    </tr>\n",
       "    <tr>\n",
       "      <th>24</th>\n",
       "      <td>1</td>\n",
       "      <td>2340</td>\n",
       "      <td>3</td>\n",
       "      <td>978300103</td>\n",
       "      <td>2000-12-31 22:01:43</td>\n",
       "      <td>4</td>\n",
       "    </tr>\n",
       "    <tr>\n",
       "      <th>36</th>\n",
       "      <td>1</td>\n",
       "      <td>1836</td>\n",
       "      <td>5</td>\n",
       "      <td>978300172</td>\n",
       "      <td>2000-12-31 22:02:52</td>\n",
       "      <td>5</td>\n",
       "    </tr>\n",
       "    <tr>\n",
       "      <th>3</th>\n",
       "      <td>1</td>\n",
       "      <td>3408</td>\n",
       "      <td>4</td>\n",
       "      <td>978300275</td>\n",
       "      <td>2000-12-31 22:04:35</td>\n",
       "      <td>6</td>\n",
       "    </tr>\n",
       "    <tr>\n",
       "      <th>7</th>\n",
       "      <td>1</td>\n",
       "      <td>2804</td>\n",
       "      <td>5</td>\n",
       "      <td>978300719</td>\n",
       "      <td>2000-12-31 22:11:59</td>\n",
       "      <td>7</td>\n",
       "    </tr>\n",
       "    <tr>\n",
       "      <th>47</th>\n",
       "      <td>1</td>\n",
       "      <td>1207</td>\n",
       "      <td>4</td>\n",
       "      <td>978300719</td>\n",
       "      <td>2000-12-31 22:11:59</td>\n",
       "      <td>8</td>\n",
       "    </tr>\n",
       "    <tr>\n",
       "      <th>0</th>\n",
       "      <td>1</td>\n",
       "      <td>1193</td>\n",
       "      <td>5</td>\n",
       "      <td>978300760</td>\n",
       "      <td>2000-12-31 22:12:40</td>\n",
       "      <td>9</td>\n",
       "    </tr>\n",
       "    <tr>\n",
       "      <th>21</th>\n",
       "      <td>1</td>\n",
       "      <td>720</td>\n",
       "      <td>3</td>\n",
       "      <td>978300760</td>\n",
       "      <td>2000-12-31 22:12:40</td>\n",
       "      <td>10</td>\n",
       "    </tr>\n",
       "    <tr>\n",
       "      <th>44</th>\n",
       "      <td>1</td>\n",
       "      <td>260</td>\n",
       "      <td>4</td>\n",
       "      <td>978300760</td>\n",
       "      <td>2000-12-31 22:12:40</td>\n",
       "      <td>11</td>\n",
       "    </tr>\n",
       "    <tr>\n",
       "      <th>9</th>\n",
       "      <td>1</td>\n",
       "      <td>919</td>\n",
       "      <td>4</td>\n",
       "      <td>978301368</td>\n",
       "      <td>2000-12-31 22:22:48</td>\n",
       "      <td>12</td>\n",
       "    </tr>\n",
       "    <tr>\n",
       "      <th>51</th>\n",
       "      <td>1</td>\n",
       "      <td>608</td>\n",
       "      <td>4</td>\n",
       "      <td>978301398</td>\n",
       "      <td>2000-12-31 22:23:18</td>\n",
       "      <td>13</td>\n",
       "    </tr>\n",
       "    <tr>\n",
       "      <th>43</th>\n",
       "      <td>1</td>\n",
       "      <td>2692</td>\n",
       "      <td>4</td>\n",
       "      <td>978301570</td>\n",
       "      <td>2000-12-31 22:26:10</td>\n",
       "      <td>14</td>\n",
       "    </tr>\n",
       "  </tbody>\n",
       "</table>\n",
       "</div>"
      ],
      "text/plain": [
       "    UserId  ItemId  Rating  timestamp                Time  item_idx\n",
       "31       1    3186       4  978300019 2000-12-31 22:00:19         0\n",
       "22       1    1270       5  978300055 2000-12-31 22:00:55         1\n",
       "27       1    1721       4  978300055 2000-12-31 22:00:55         2\n",
       "37       1    1022       5  978300055 2000-12-31 22:00:55         3\n",
       "24       1    2340       3  978300103 2000-12-31 22:01:43         4\n",
       "36       1    1836       5  978300172 2000-12-31 22:02:52         5\n",
       "3        1    3408       4  978300275 2000-12-31 22:04:35         6\n",
       "7        1    2804       5  978300719 2000-12-31 22:11:59         7\n",
       "47       1    1207       4  978300719 2000-12-31 22:11:59         8\n",
       "0        1    1193       5  978300760 2000-12-31 22:12:40         9\n",
       "21       1     720       3  978300760 2000-12-31 22:12:40        10\n",
       "44       1     260       4  978300760 2000-12-31 22:12:40        11\n",
       "9        1     919       4  978301368 2000-12-31 22:22:48        12\n",
       "51       1     608       4  978301398 2000-12-31 22:23:18        13\n",
       "43       1    2692       4  978301570 2000-12-31 22:26:10        14"
      ]
     },
     "execution_count": 38,
     "metadata": {},
     "output_type": "execute_result"
    }
   ],
   "source": [
    "tr_data_loader = SessionDataLoader(tr_dataset, batch_size=4)\n",
    "tr_dataset.df.head(15)"
   ]
  },
  {
   "cell_type": "markdown",
   "id": "246faa27",
   "metadata": {},
   "source": [
    "\n",
    "\n"
   ]
  },
  {
   "cell_type": "code",
   "execution_count": 39,
   "id": "965e5750",
   "metadata": {},
   "outputs": [],
   "source": [
    "iter_ex = iter(tr_data_loader)"
   ]
  },
  {
   "cell_type": "code",
   "execution_count": 40,
   "id": "10c3085c",
   "metadata": {},
   "outputs": [
    {
     "name": "stdout",
     "output_type": "stream",
     "text": [
      "Model Input Item Idx are : [ 0 53 64 54]\n",
      "Label Item Idx are :       [ 1 54 62 24]\n",
      "Previous Masked Input Idx are []\n"
     ]
    }
   ],
   "source": [
    "inputs, labels, mask =  next(iter_ex)\n",
    "print(f'Model Input Item Idx are : {inputs}')\n",
    "print(f'Label Item Idx are : {\"\":5} {labels}')\n",
    "print(f'Previous Masked Input Idx are {mask}')"
   ]
  },
  {
   "cell_type": "markdown",
   "id": "04742d0e",
   "metadata": {},
   "source": [
    "\n",
    "\n",
    "\n",
    "-----\n",
    "\n",
    "\n"
   ]
  },
  {
   "cell_type": "markdown",
   "id": "31955f2c",
   "metadata": {},
   "source": [
    "# 4. 모델 구성\n",
    "\n",
    "\n",
    "* Session-Based Recommendation Task에서는 모델이 k개의 아이템을 제시했을 때, 유저가 클릭/ 구매한 n개의 아이템이 많아야 좋습니다.\n",
    "- 이번 자료에선 `MRR`과 `Recall@k`를 사용하겠습니다.\n",
    "    - `MRR`은 정답 아이템이 나온 순번의 역수 값"
   ]
  },
  {
   "cell_type": "code",
   "execution_count": 41,
   "id": "47e8eb50",
   "metadata": {},
   "outputs": [],
   "source": [
    "def mrr_k(pred, truth: int, k: int):\n",
    "    indexing = np.where(pred[:k] == truth)[0]\n",
    "    if len(indexing) > 0:\n",
    "        return 1 / (indexing[0] + 1)\n",
    "    else:\n",
    "        return 0\n",
    "\n",
    "\n",
    "def recall_k(pred, truth: int, k: int) -> int:\n",
    "    answer = truth in pred[:k]\n",
    "    return int(answer)"
   ]
  },
  {
   "cell_type": "markdown",
   "id": "b55121ad",
   "metadata": {},
   "source": [
    "\n",
    "\n"
   ]
  },
  {
   "cell_type": "code",
   "execution_count": 42,
   "id": "3e9d3b47",
   "metadata": {},
   "outputs": [],
   "source": [
    "def create_model(args):\n",
    "    inputs = Input(batch_shape=(args.batch_size, 1, args.num_items))\n",
    "    gru, _ = GRU(args.hsz, stateful=True, return_state=True, name='GRU')(inputs)\n",
    "    dropout = Dropout(args.drop_rate)(gru)\n",
    "    predictions = Dense(args.num_items, activation='softmax')(dropout)\n",
    "    model = Model(inputs=inputs, outputs=[predictions])\n",
    "    model.compile(loss=categorical_crossentropy, optimizer=Adam(args.lr), metrics=['accuracy'])\n",
    "    model.summary()\n",
    "    return model"
   ]
  },
  {
   "cell_type": "markdown",
   "id": "fbb8a556",
   "metadata": {},
   "source": [
    "\n",
    "\n"
   ]
  },
  {
   "cell_type": "markdown",
   "id": "dbaeac43",
   "metadata": {},
   "source": [
    "- 모델에 사용할 hyper-parameter를 class형식으로 관리하겠습니다."
   ]
  },
  {
   "cell_type": "code",
   "execution_count": 43,
   "id": "8b2ab2ad",
   "metadata": {},
   "outputs": [],
   "source": [
    "class Args:\n",
    "    def __init__(self, tr, val, test, batch_size, hsz, drop_rate, lr, epochs, k):\n",
    "        self.tr = tr\n",
    "        self.val = val\n",
    "        self.test = test\n",
    "        self.num_items = tr['ItemId'].nunique()\n",
    "        self.num_sessions = tr['UserId'].nunique()\n",
    "        self.batch_size = batch_size\n",
    "        self.hsz = hsz\n",
    "        self.drop_rate = drop_rate\n",
    "        self.lr = lr\n",
    "        self.epochs = epochs\n",
    "        self.k = k\n",
    "\n",
    "args = Args(tr, val, test, batch_size=64, hsz=50, drop_rate=0.1, lr=0.0001, epochs=3, k=20)\n"
   ]
  },
  {
   "cell_type": "markdown",
   "id": "e1c44f1e",
   "metadata": {},
   "source": [
    "\n",
    "\n"
   ]
  },
  {
   "cell_type": "code",
   "execution_count": 44,
   "id": "9a74fd85",
   "metadata": {},
   "outputs": [
    {
     "name": "stdout",
     "output_type": "stream",
     "text": [
      "Model: \"model\"\n",
      "_________________________________________________________________\n",
      "Layer (type)                 Output Shape              Param #   \n",
      "=================================================================\n",
      "input_1 (InputLayer)         [(64, 1, 3600)]           0         \n",
      "_________________________________________________________________\n",
      "GRU (GRU)                    [(64, 50), (64, 50)]      547800    \n",
      "_________________________________________________________________\n",
      "dropout (Dropout)            (64, 50)                  0         \n",
      "_________________________________________________________________\n",
      "dense (Dense)                (64, 3600)                183600    \n",
      "=================================================================\n",
      "Total params: 731,400\n",
      "Trainable params: 731,400\n",
      "Non-trainable params: 0\n",
      "_________________________________________________________________\n"
     ]
    }
   ],
   "source": [
    "model = create_model(args)"
   ]
  },
  {
   "cell_type": "markdown",
   "id": "ef5d47a5",
   "metadata": {},
   "source": [
    "\n",
    "\n",
    "\n",
    "-----\n",
    "\n",
    "\n"
   ]
  },
  {
   "cell_type": "markdown",
   "id": "39e94907",
   "metadata": {},
   "source": [
    "# 5. 모델 학습"
   ]
  },
  {
   "cell_type": "code",
   "execution_count": 45,
   "id": "e3d13833",
   "metadata": {},
   "outputs": [],
   "source": [
    "# train 셋으로 학습하면서 valid 셋으로 검증합니다.\n",
    "def train_model(model, args):\n",
    "    train_dataset = SessionDataset(args.tr)\n",
    "    train_loader = SessionDataLoader(train_dataset, batch_size=args.batch_size)\n",
    "\n",
    "    for epoch in range(1, args.epochs + 1):\n",
    "        total_step = len(args.tr) - args.tr['UserId'].nunique()\n",
    "        tr_loader = tqdm(train_loader, total=total_step // args.batch_size, desc='Train', mininterval=1)\n",
    "        for feat, target, mask in tr_loader:\n",
    "            reset_hidden_states(model, mask)  # 종료된 session은 hidden_state를 초기화합니다. 아래 메서드에서 확인해주세요.\n",
    "\n",
    "            input_ohe = to_categorical(feat, num_classes=args.num_items)\n",
    "            input_ohe = np.expand_dims(input_ohe, axis=1)\n",
    "            target_ohe = to_categorical(target, num_classes=args.num_items)\n",
    "\n",
    "            result = model.train_on_batch(input_ohe, target_ohe)\n",
    "            tr_loader.set_postfix(train_loss=result[0], accuracy = result[1])\n",
    "\n",
    "        val_recall, val_mrr = get_metrics(args.val, model, args, args.k)  # valid set에 대해 검증합니다.\n",
    "\n",
    "        print(f\"\\t - Recall@{args.k} epoch {epoch}: {val_recall:3f}\")\n",
    "        print(f\"\\t - MRR@{args.k}    epoch {epoch}: {val_mrr:3f}\\n\")\n",
    "\n",
    "\n",
    "def reset_hidden_states(model, mask):\n",
    "    gru_layer = model.get_layer(name='GRU')  # model에서 gru layer를 가져옵니다.\n",
    "    hidden_states = gru_layer.states[0].numpy()  # gru_layer의 parameter를 가져옵니다.\n",
    "    for elt in mask:  # mask된 인덱스 즉, 종료된 세션의 인덱스를 돌면서\n",
    "        hidden_states[elt, :] = 0  # parameter를 초기화 합니다.\n",
    "    gru_layer.reset_states(states=hidden_states)\n",
    "\n",
    "\n",
    "def get_metrics(data, model, args, k: int):  # valid셋과 test셋을 평가하는 코드입니다. \n",
    "                                             # train과 거의 같지만 mrr, recall을 구하는 라인이 있습니다.\n",
    "    dataset = SessionDataset(data)\n",
    "    loader = SessionDataLoader(dataset, batch_size=args.batch_size)\n",
    "    recall_list, mrr_list = [], []\n",
    "\n",
    "    total_step = len(data) - data['UserId'].nunique()\n",
    "    for inputs, label, mask in tqdm(loader, total=total_step // args.batch_size, desc='Evaluation', mininterval=1):\n",
    "        reset_hidden_states(model, mask)\n",
    "        input_ohe = to_categorical(inputs, num_classes=args.num_items)\n",
    "        input_ohe = np.expand_dims(input_ohe, axis=1)\n",
    "\n",
    "        pred = model.predict(input_ohe, batch_size=args.batch_size)\n",
    "        pred_arg = tf.argsort(pred, direction='DESCENDING')  # softmax 값이 큰 순서대로 sorting 합니다.\n",
    "\n",
    "        length = len(inputs)\n",
    "        recall_list.extend([recall_k(pred_arg[i], label[i], k) for i in range(length)])\n",
    "        mrr_list.extend([mrr_k(pred_arg[i], label[i], k) for i in range(length)])\n",
    "\n",
    "    recall, mrr = np.mean(recall_list), np.mean(mrr_list)\n",
    "    return recall, mrr"
   ]
  },
  {
   "cell_type": "code",
   "execution_count": 46,
   "id": "2088d667",
   "metadata": {},
   "outputs": [
    {
     "name": "stderr",
     "output_type": "stream",
     "text": [
      "Train:  99%|█████████▉| 10874/11009 [04:27<00:03, 40.67it/s, accuracy=0, train_loss=7.23]     \n",
      "Evaluation:  61%|██████    | 301/494 [01:49<01:10,  2.75it/s]\n"
     ]
    },
    {
     "name": "stdout",
     "output_type": "stream",
     "text": [
      "\t - Recall@20 epoch 1: 0.057101\n",
      "\t - MRR@20    epoch 1: 0.010972\n",
      "\n"
     ]
    },
    {
     "name": "stderr",
     "output_type": "stream",
     "text": [
      "Train:  99%|█████████▉| 10874/11009 [04:31<00:03, 40.02it/s, accuracy=0.0156, train_loss=7.09]\n",
      "Evaluation:  61%|██████    | 301/494 [01:48<01:09,  2.78it/s]\n"
     ]
    },
    {
     "name": "stdout",
     "output_type": "stream",
     "text": [
      "\t - Recall@20 epoch 2: 0.072934\n",
      "\t - MRR@20    epoch 2: 0.014789\n",
      "\n"
     ]
    },
    {
     "name": "stderr",
     "output_type": "stream",
     "text": [
      "Train:  99%|█████████▉| 10874/11009 [04:28<00:03, 40.44it/s, accuracy=0.0312, train_loss=6.95]\n",
      "Evaluation:  61%|██████    | 301/494 [01:47<01:08,  2.80it/s]"
     ]
    },
    {
     "name": "stdout",
     "output_type": "stream",
     "text": [
      "\t - Recall@20 epoch 3: 0.082070\n",
      "\t - MRR@20    epoch 3: 0.016491\n",
      "\n"
     ]
    },
    {
     "name": "stderr",
     "output_type": "stream",
     "text": [
      "\n"
     ]
    }
   ],
   "source": [
    "train_model(model, args)\n"
   ]
  },
  {
   "cell_type": "markdown",
   "id": "b06b480b",
   "metadata": {},
   "source": [
    "\n",
    "\n",
    "\n",
    "-----\n",
    "\n",
    "\n"
   ]
  },
  {
   "cell_type": "markdown",
   "id": "76331b78",
   "metadata": {},
   "source": [
    "# 6. 모델 테스트 \n",
    "\n",
    "\n",
    "- 지금까지 작성한 모델이 테스트셋에 대해서 어느 정도 성능을 내는지 검증해 봅시다.\n"
   ]
  },
  {
   "cell_type": "code",
   "execution_count": 47,
   "id": "ae720028",
   "metadata": {},
   "outputs": [
    {
     "name": "stderr",
     "output_type": "stream",
     "text": [
      "Evaluation:  82%|████████▏ | 1206/1471 [07:14<01:35,  2.77it/s]"
     ]
    },
    {
     "name": "stdout",
     "output_type": "stream",
     "text": [
      "\t - Recall@20: 0.063277\n",
      "\t - MRR@20: 0.012902\n",
      "\n"
     ]
    },
    {
     "name": "stderr",
     "output_type": "stream",
     "text": [
      "\n"
     ]
    }
   ],
   "source": [
    "def test_model(model, args, test):\n",
    "    test_recall, test_mrr = get_metrics(test, model, args, 20)\n",
    "    print(f\"\\t - Recall@{args.k}: {test_recall:3f}\")\n",
    "    print(f\"\\t - MRR@{args.k}: {test_mrr:3f}\\n\")\n",
    "\n",
    "test_model(model, args, test)"
   ]
  },
  {
   "cell_type": "markdown",
   "id": "bc6948b6",
   "metadata": {},
   "source": [
    "\n",
    "\n",
    "\n",
    "-----\n",
    "\n",
    "\n"
   ]
  },
  {
   "cell_type": "markdown",
   "id": "e3a4ac58",
   "metadata": {},
   "source": [
    "#### 7. 모델 개선! \n",
    "\n",
    "\n",
    "* 하이퍼 파라미터를 조금 씩 조정해, 모델을 개선 해 봅니다. \n",
    "* batch size는 64이상을 주게 되면 오류가 발생하기 때문에 그 외의 값만 수정해서 개선 해 보겠습니다.\n",
    "- 기본값 ` batch_size=64, hsz=50, drop_rate=0.1, lr=0.0001, epochs=3, k=20` "
   ]
  },
  {
   "cell_type": "markdown",
   "id": "ad846d8c",
   "metadata": {},
   "source": [
    "##  &nbsp;&nbsp; 7-1 `lr=0.01`\n",
    "\n",
    "\n",
    "* 학습률을 0.0001 에서 0.01 로 변경. "
   ]
  },
  {
   "cell_type": "code",
   "execution_count": 53,
   "id": "e67baee5",
   "metadata": {},
   "outputs": [
    {
     "name": "stderr",
     "output_type": "stream",
     "text": [
      "Train:  99%|█████████▉| 10874/11009 [04:29<00:03, 40.42it/s, accuracy=0.0469, train_loss=5.58]\n",
      "Evaluation:  61%|██████    | 301/494 [01:38<01:02,  3.07it/s]\n"
     ]
    },
    {
     "name": "stdout",
     "output_type": "stream",
     "text": [
      "\t - Recall@20 epoch 1: 0.261109\n",
      "\t - MRR@20    epoch 1: 0.066758\n",
      "\n"
     ]
    },
    {
     "name": "stderr",
     "output_type": "stream",
     "text": [
      "Train:  99%|█████████▉| 10874/11009 [04:29<00:03, 40.39it/s, accuracy=0.0156, train_loss=5.6] \n",
      "Evaluation:  61%|██████    | 301/494 [01:38<01:03,  3.05it/s]\n"
     ]
    },
    {
     "name": "stdout",
     "output_type": "stream",
     "text": [
      "\t - Recall@20 epoch 2: 0.266144\n",
      "\t - MRR@20    epoch 2: 0.068495\n",
      "\n"
     ]
    },
    {
     "name": "stderr",
     "output_type": "stream",
     "text": [
      "Train:  99%|█████████▉| 10874/11009 [04:30<00:03, 40.15it/s, accuracy=0.0312, train_loss=5.58]\n",
      "Evaluation:  61%|██████    | 301/494 [01:37<01:02,  3.08it/s]"
     ]
    },
    {
     "name": "stdout",
     "output_type": "stream",
     "text": [
      "\t - Recall@20 epoch 3: 0.271076\n",
      "\t - MRR@20    epoch 3: 0.069754\n",
      "\n"
     ]
    },
    {
     "name": "stderr",
     "output_type": "stream",
     "text": [
      "\n"
     ]
    }
   ],
   "source": [
    "args = Args(tr, val, test, batch_size=64, hsz=50, drop_rate=0.1, lr=0.01, epochs=3, k=20)\n",
    "train_model(model, args)"
   ]
  },
  {
   "cell_type": "code",
   "execution_count": 54,
   "id": "25ce11fa",
   "metadata": {},
   "outputs": [
    {
     "name": "stderr",
     "output_type": "stream",
     "text": [
      "Evaluation:  82%|████████▏ | 1206/1471 [06:42<01:28,  3.00it/s]"
     ]
    },
    {
     "name": "stdout",
     "output_type": "stream",
     "text": [
      "\t - Recall@20: 0.223816\n",
      "\t - MRR@20: 0.055935\n",
      "\n"
     ]
    },
    {
     "name": "stderr",
     "output_type": "stream",
     "text": [
      "\n"
     ]
    }
   ],
   "source": [
    "# 모델 검증!\n",
    "test_model(model, args, test)"
   ]
  },
  {
   "cell_type": "markdown",
   "id": "211734ac",
   "metadata": {},
   "source": [
    "\n",
    "\n"
   ]
  },
  {
   "cell_type": "markdown",
   "id": "c6d20969",
   "metadata": {},
   "source": [
    "##  &nbsp;&nbsp; 7-2 `lr=0.01`, `epochs=5`\n",
    "\n"
   ]
  },
  {
   "cell_type": "code",
   "execution_count": 55,
   "id": "69cfc80a",
   "metadata": {},
   "outputs": [
    {
     "name": "stderr",
     "output_type": "stream",
     "text": [
      "Train:  99%|█████████▉| 10874/11009 [04:28<00:03, 40.54it/s, accuracy=0.0625, train_loss=5.52]\n",
      "Evaluation:  61%|██████    | 301/494 [01:38<01:03,  3.05it/s]\n"
     ]
    },
    {
     "name": "stdout",
     "output_type": "stream",
     "text": [
      "\t - Recall@20 epoch 1: 0.274865\n",
      "\t - MRR@20    epoch 1: 0.071132\n",
      "\n"
     ]
    },
    {
     "name": "stderr",
     "output_type": "stream",
     "text": [
      "Train:  99%|█████████▉| 10874/11009 [04:26<00:03, 40.87it/s, accuracy=0.0312, train_loss=5.45]\n",
      "Evaluation:  61%|██████    | 301/494 [01:38<01:02,  3.06it/s]\n"
     ]
    },
    {
     "name": "stdout",
     "output_type": "stream",
     "text": [
      "\t - Recall@20 epoch 2: 0.278187\n",
      "\t - MRR@20    epoch 2: 0.072791\n",
      "\n"
     ]
    },
    {
     "name": "stderr",
     "output_type": "stream",
     "text": [
      "Train:  99%|█████████▉| 10874/11009 [04:28<00:03, 40.56it/s, accuracy=0.0156, train_loss=5.48]\n",
      "Evaluation:  61%|██████    | 301/494 [01:37<01:02,  3.07it/s]\n"
     ]
    },
    {
     "name": "stdout",
     "output_type": "stream",
     "text": [
      "\t - Recall@20 epoch 3: 0.281665\n",
      "\t - MRR@20    epoch 3: 0.073731\n",
      "\n"
     ]
    },
    {
     "name": "stderr",
     "output_type": "stream",
     "text": [
      "Train:  99%|█████████▉| 10874/11009 [04:31<00:03, 40.12it/s, accuracy=0.0469, train_loss=5.55]\n",
      "Evaluation:  61%|██████    | 301/494 [01:38<01:02,  3.07it/s]\n"
     ]
    },
    {
     "name": "stdout",
     "output_type": "stream",
     "text": [
      "\t - Recall@20 epoch 4: 0.283586\n",
      "\t - MRR@20    epoch 4: 0.074501\n",
      "\n"
     ]
    },
    {
     "name": "stderr",
     "output_type": "stream",
     "text": [
      "Train:  99%|█████████▉| 10874/11009 [04:27<00:03, 40.64it/s, accuracy=0.0625, train_loss=5.51]\n",
      "Evaluation:  61%|██████    | 301/494 [01:37<01:02,  3.10it/s]"
     ]
    },
    {
     "name": "stdout",
     "output_type": "stream",
     "text": [
      "\t - Recall@20 epoch 5: 0.285974\n",
      "\t - MRR@20    epoch 5: 0.075425\n",
      "\n"
     ]
    },
    {
     "name": "stderr",
     "output_type": "stream",
     "text": [
      "\n"
     ]
    }
   ],
   "source": [
    "args = Args(tr, val, test, batch_size=64, hsz=50, drop_rate=0.1, lr=0.01, epochs=5, k=20)\n",
    "train_model(model, args)"
   ]
  },
  {
   "cell_type": "code",
   "execution_count": 56,
   "id": "322bc96b",
   "metadata": {},
   "outputs": [
    {
     "name": "stderr",
     "output_type": "stream",
     "text": [
      "Evaluation:  82%|████████▏ | 1206/1471 [06:39<01:27,  3.02it/s]"
     ]
    },
    {
     "name": "stdout",
     "output_type": "stream",
     "text": [
      "\t - Recall@20: 0.238754\n",
      "\t - MRR@20: 0.061319\n",
      "\n"
     ]
    },
    {
     "name": "stderr",
     "output_type": "stream",
     "text": [
      "\n"
     ]
    }
   ],
   "source": [
    "# 모델 검증!\n",
    "test_model(model, args, test)"
   ]
  },
  {
   "cell_type": "markdown",
   "id": "e83c9cd6",
   "metadata": {},
   "source": [
    "\n",
    "\n"
   ]
  },
  {
   "cell_type": "markdown",
   "id": "be0ef2a4",
   "metadata": {},
   "source": [
    "##  &nbsp;&nbsp; 7-3 `lr=0.001`, `epochs=5`, `drop_rate=0.4`\n"
   ]
  },
  {
   "cell_type": "code",
   "execution_count": 50,
   "id": "bca2e320",
   "metadata": {},
   "outputs": [
    {
     "name": "stderr",
     "output_type": "stream",
     "text": [
      "Train:  99%|█████████▉| 10874/11009 [04:27<00:03, 40.65it/s, accuracy=0.0312, train_loss=5.89]\n",
      "Evaluation:  61%|██████    | 301/494 [01:40<01:04,  3.00it/s]\n"
     ]
    },
    {
     "name": "stdout",
     "output_type": "stream",
     "text": [
      "\t - Recall@20 epoch 1: 0.227159\n",
      "\t - MRR@20    epoch 1: 0.055772\n",
      "\n"
     ]
    },
    {
     "name": "stderr",
     "output_type": "stream",
     "text": [
      "Train:  99%|█████████▉| 10874/11009 [04:27<00:03, 40.59it/s, accuracy=0.0156, train_loss=5.84]\n",
      "Evaluation:  61%|██████    | 301/494 [01:39<01:03,  3.02it/s]\n"
     ]
    },
    {
     "name": "stdout",
     "output_type": "stream",
     "text": [
      "\t - Recall@20 epoch 2: 0.235050\n",
      "\t - MRR@20    epoch 2: 0.058583\n",
      "\n"
     ]
    },
    {
     "name": "stderr",
     "output_type": "stream",
     "text": [
      "Train:  99%|█████████▉| 10874/11009 [04:29<00:03, 40.39it/s, accuracy=0.0156, train_loss=5.74]\n",
      "Evaluation:  61%|██████    | 301/494 [01:39<01:03,  3.03it/s]\n"
     ]
    },
    {
     "name": "stdout",
     "output_type": "stream",
     "text": [
      "\t - Recall@20 epoch 3: 0.241591\n",
      "\t - MRR@20    epoch 3: 0.060547\n",
      "\n"
     ]
    },
    {
     "name": "stderr",
     "output_type": "stream",
     "text": [
      "Train:  99%|█████████▉| 10874/11009 [04:29<00:03, 40.36it/s, accuracy=0, train_loss=5.75]     \n",
      "Evaluation:  61%|██████    | 301/494 [01:39<01:03,  3.04it/s]\n"
     ]
    },
    {
     "name": "stdout",
     "output_type": "stream",
     "text": [
      "\t - Recall@20 epoch 4: 0.248339\n",
      "\t - MRR@20    epoch 4: 0.063237\n",
      "\n"
     ]
    },
    {
     "name": "stderr",
     "output_type": "stream",
     "text": [
      "Train:  99%|█████████▉| 10874/11009 [04:29<00:03, 40.41it/s, accuracy=0.0469, train_loss=5.63]\n",
      "Evaluation:  61%|██████    | 301/494 [01:39<01:03,  3.04it/s]"
     ]
    },
    {
     "name": "stdout",
     "output_type": "stream",
     "text": [
      "\t - Recall@20 epoch 5: 0.254620\n",
      "\t - MRR@20    epoch 5: 0.065074\n",
      "\n"
     ]
    },
    {
     "name": "stderr",
     "output_type": "stream",
     "text": [
      "\n"
     ]
    }
   ],
   "source": [
    "args = Args(tr, val, test, batch_size=64, hsz=50, drop_rate=0.4, lr=0.001, epochs=5, k=20)\n",
    "train_model(model, args)"
   ]
  },
  {
   "cell_type": "code",
   "execution_count": 52,
   "id": "2de169fe",
   "metadata": {},
   "outputs": [
    {
     "name": "stderr",
     "output_type": "stream",
     "text": [
      "Evaluation:  82%|████████▏ | 1206/1471 [06:48<01:29,  2.95it/s]"
     ]
    },
    {
     "name": "stdout",
     "output_type": "stream",
     "text": [
      "\t - Recall@20: 0.211831\n",
      "\t - MRR@20: 0.051877\n",
      "\n"
     ]
    },
    {
     "name": "stderr",
     "output_type": "stream",
     "text": [
      "\n"
     ]
    }
   ],
   "source": [
    "# 모델 검증!\n",
    "test_model(model, args, test)"
   ]
  },
  {
   "cell_type": "markdown",
   "id": "89369f73",
   "metadata": {},
   "source": [
    "# 회고!"
   ]
  },
  {
   "attachments": {
    "image-2.png": {
     "image/png": "[encoded data removed]"
    },
    "image.png": {
     "image/png": "[encoded data removed]"
    }
   },
   "cell_type": "markdown",
   "id": "a3d0bf96",
   "metadata": {},
   "source": [
    "* 모델 검증에 대한 해석이 부족해서 제대로 학습이 되었는지도 분석 해 볼 수 없었다. 시간을 조금 더 투자해서 출력 값에 대한 해석을 해봤더라면 개선 사항을 시도 했을 때 방향을 잡기 쉬웠을 것이다. 무작정 값을 찾아가는 과정도 좋긴 하지만, 좀 더 배운걸 응용해서 값을 찾아나간다면 더 의미있는 프로젝트가 될 것이다. \n",
    "\n",
    "\n",
    "\n",
    "![image.png](attachment:image.png)  \n",
    "* 과감한 시도가 필요하다. 이 위에 있는 이미지↑를 하나하나 뜯어보고 이해 해 보면, 프로젝트에선 필요 없는 코드고, 다르게 처리 해 줄 수 있는 방법이 있었는데 솔직히 잘 못될  까봐 무서워서 뜯어고치지 못 했다. 결국 우수노드 보고 아 없어도 되는구나 라는 확신을 가졌는데, 코드 공부 해 가면서 하면서 없어도 되는부분은 과감하게 빼는 시도를 해 봐도 좋을것 같다. 일단 해 보고 안되면 다시 돌아오면 되니깐! 너무 겁 먹지 말기.. \n",
    "\n",
    "---\n",
    "\n",
    "![image-2.png](attachment:image-2.png)  \n",
    "* 또한 해결되지 못 하구 그대로 넘어갔던 부분이 한가지 더 있는데, 데이터셋을 train, test, val 로 나눠주는 과정이다. First time과 last time의 날짜 간격이 일정하지 않다. test set의 경우, 제일 늦은 날짜가 적어도 2002년어야 하지만, 출력된값은 2000년이다. `sort` 를 이용해 정렬해 주면 될 줄 알구 시도 했지만 출력 값에는 변경이 없었다.  시도하다하다 안되서 일단 넘어갔는데, test data가 최신이 아닐 경우, (데이터셋 기준)최신 트렌드에 맞는 영화 추천을 해 줄 수 없을것이다. 좀 더 공부하면서 수정해봐야지.. "
   ]
  },
  {
   "cell_type": "markdown",
   "id": "18c8d26d",
   "metadata": {},
   "source": [
    "\n",
    "\n",
    "\n",
    "-----\n",
    "\n",
    "\n"
   ]
  },
  {
   "cell_type": "markdown",
   "id": "2a9eed95",
   "metadata": {},
   "source": [
    "# 🖇️참고 페이지 \n",
    "\n",
    "\n"
   ]
  },
  {
   "cell_type": "markdown",
   "id": "04fe749c",
   "metadata": {},
   "source": [
    "### 데이터 처리 관련 \n",
    "\n",
    "* [특정 값과 일치하는 행 인덱스 가져오기 ](https://www.delftstack.com/ko/howto/python-pandas/pandas-get-index-of-row/)\n",
    "\n",
    "\n",
    "* [timestamp_to_datetime](https://blog.doosikbae.com/89)"
   ]
  },
  {
   "cell_type": "markdown",
   "id": "d381be7b",
   "metadata": {},
   "source": [
    "### 변위수\n",
    "* [변위수가 뭔지 몰라 찾아봤더래요](https://hsm-edu.tistory.com/533)"
   ]
  },
  {
   "cell_type": "markdown",
   "id": "71791d2b",
   "metadata": {},
   "source": [
    "### cleanse_recursive \n",
    "\n",
    "* [강양인 권승민님 프로젝트](https://github.com/Kwon-Seung-Min/AIFFEL-Exp-KSM/blob/master/Exp12_final_ksm.ipynb)"
   ]
  }
 ],
 "metadata": {
  "kernelspec": {
   "display_name": "Python 3 (ipykernel)",
   "language": "python",
   "name": "python3"
  },
  "language_info": {
   "codemirror_mode": {
    "name": "ipython",
    "version": 3
   },
   "file_extension": ".py",
   "mimetype": "text/x-python",
   "name": "python",
   "nbconvert_exporter": "python",
   "pygments_lexer": "ipython3",
   "version": "3.9.7"
  }
 },
 "nbformat": 4,
 "nbformat_minor": 5
}
